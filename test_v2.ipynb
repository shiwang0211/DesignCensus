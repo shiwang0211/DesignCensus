{
 "cells": [
  {
   "cell_type": "markdown",
   "metadata": {},
   "source": [
    "Data Source: https://designcensus.org/"
   ]
  },
  {
   "cell_type": "markdown",
   "metadata": {},
   "source": [
    "# Table of Content\n",
    "1. [Data Preprocessing](#1.0)<br/><br/>\n",
    "2. [Barplots](#2.0)\n",
    "    - [Distribution Table for each column](#2.1)\n",
    "    - [All/AIGA Count Plot for each column](#2.2)\n",
    "    - [Salary vs. Column plots](#2.3)\n",
    "<br/><br/>\n",
    "3. [Heatmaps](#3.0)\n",
    "4. [Zipcode Analysis](#4.0)\n",
    "5. [Comparison for AIGA/Non-AIGA](#5.0)"
   ]
  },
  {
   "cell_type": "markdown",
   "metadata": {},
   "source": [
    "<br>\n",
    "<br>\n",
    "<br>\n",
    "# Import libraries"
   ]
  },
  {
   "cell_type": "code",
   "execution_count": 1,
   "metadata": {
    "collapsed": true
   },
   "outputs": [],
   "source": [
    "import numpy as np\n",
    "import pandas as pd\n",
    "import math\n",
    "from IPython.display import display\n",
    "import seaborn as sns\n",
    "import matplotlib.pyplot as plt\n",
    "import locale\n",
    "from sklearn.preprocessing import LabelEncoder\n",
    "from sklearn.preprocessing import OneHotEncoder\n",
    "locale.setlocale(locale.LC_ALL, '')\n",
    "%matplotlib inline\n",
    "import pickle"
   ]
  },
  {
   "cell_type": "markdown",
   "metadata": {},
   "source": [
    "<a id='1.0'></a>\n",
    "# Part I, Pre-processing"
   ]
  },
  {
   "cell_type": "code",
   "execution_count": 2,
   "metadata": {},
   "outputs": [
    {
     "name": "stdout",
     "output_type": "stream",
     "text": [
      "There a a total of 43 columns.\n"
     ]
    }
   ],
   "source": [
    "df = pd.read_csv('DesignCensus2017_Data.csv', encoding = 'utf8')\n",
    "print('There a a total of ' + str(len(df.columns)) + ' columns.')"
   ]
  },
  {
   "cell_type": "markdown",
   "metadata": {},
   "source": [
    "### Column name dictionary"
   ]
  },
  {
   "cell_type": "code",
   "execution_count": 3,
   "metadata": {
    "collapsed": true
   },
   "outputs": [],
   "source": [
    "col_dict = {}\n",
    "for col in df.columns:\n",
    "    index, desc = col.split(' --')\n",
    "    col_dict['V_' + str(index)] = desc"
   ]
  },
  {
   "cell_type": "code",
   "execution_count": 4,
   "metadata": {
    "collapsed": true
   },
   "outputs": [],
   "source": [
    "# function to export df with column names\n",
    "def df_with_column_names(df, col_dict):\n",
    "    df_v2 = df.copy()\n",
    "    df_v2.columns = [col_dict[col] for col in df_v2.columns]\n",
    "    return df_v2"
   ]
  },
  {
   "cell_type": "code",
   "execution_count": 5,
   "metadata": {},
   "outputs": [
    {
     "data": {
      "text/plain": [
       "{'V_1': \" I've worked in design for:\",\n",
       " 'V_10': 'My immediate team is:',\n",
       " 'V_11': 'My work touches these industries or sectors:',\n",
       " 'V_12': 'I’ve been at my current place of work for:',\n",
       " 'V_13': 'My role is:',\n",
       " 'V_14': 'My role is:',\n",
       " 'V_15': 'My role is:',\n",
       " 'V_16': \"I've been in my current role for:\",\n",
       " 'V_17': 'I typically work:',\n",
       " 'V_18': 'My annual salary is:',\n",
       " 'V_19': 'My job provides:',\n",
       " 'V_2': 'I primarily work in:',\n",
       " 'V_20': 'In my current role, there is:',\n",
       " 'V_21': 'In my current role, I am:',\n",
       " 'V_22': 'My job is:',\n",
       " 'V_23': 'My job stability is:',\n",
       " 'V_24': 'In addition to my job, I also:',\n",
       " 'V_25': 'I fuel my daily creativity with coffee:',\n",
       " 'V_26': \"Highest level of education I've completed:\",\n",
       " 'V_27': 'I learned design:',\n",
       " 'V_28': 'My major focus of study was:',\n",
       " 'V_29': \"Over my career, I've had:\",\n",
       " 'V_3': \"I'm also good at:\",\n",
       " 'V_30': \"I've shifted my specialty or focus area:\",\n",
       " 'V_31': 'I stay current with design by:',\n",
       " 'V_32': \"I'm a member of:\",\n",
       " 'V_33': \"I'd like to get better at:\",\n",
       " 'V_34': 'I am:',\n",
       " 'V_35': \"Right now, I can't stop listening to:\",\n",
       " 'V_36': 'I live in:',\n",
       " 'V_37': 'My age is:',\n",
       " 'V_38': 'I am:',\n",
       " 'V_39': 'I consider myself:',\n",
       " 'V_4': 'I am currently:',\n",
       " 'V_40': 'My ethnicity is:',\n",
       " 'V_41': 'The most critical issues and challenges currently facing design are (answer optional):',\n",
       " 'V_42': 'The emerging trends and technologies that will have the biggest impact on design are (answer optional):',\n",
       " 'V_43': 'The most valuable design skills for the future will be (answer optional):',\n",
       " 'V_5': 'My company specializes in:',\n",
       " 'V_6': 'My company is:',\n",
       " 'V_7': 'I teach:',\n",
       " 'V_8': \"I'm not working because:\",\n",
       " 'V_9': 'My organization has:'}"
      ]
     },
     "execution_count": 5,
     "metadata": {},
     "output_type": "execute_result"
    }
   ],
   "source": [
    "col_dict"
   ]
  },
  {
   "cell_type": "markdown",
   "metadata": {},
   "source": [
    "### Classify columns (continuous, categorical, multiple pipe)"
   ]
  },
  {
   "cell_type": "code",
   "execution_count": 6,
   "metadata": {
    "collapsed": true
   },
   "outputs": [],
   "source": [
    "df.columns = map(lambda x : 'V_' + str(x+1), list(range(len(df.columns)))) \n",
    "df['V_36'] = df['V_36'].astype(np.object) # Zipcode --> Convert from numeric to string"
   ]
  },
  {
   "cell_type": "code",
   "execution_count": 7,
   "metadata": {
    "collapsed": true
   },
   "outputs": [],
   "source": [
    "continous_cols = ['V_18', 'V_37'] # age and salary\n",
    "pipe_col = ['V_2', 'V_3','V_5','V_7','V_11','V_19',\\\n",
    "            'V_24', 'V_27', 'V_28', 'V_31', 'V_32',\\\n",
    "            'V_33', 'V_40', 'V_41', 'V_42', 'V_43']"
   ]
  },
  {
   "cell_type": "code",
   "execution_count": 8,
   "metadata": {
    "collapsed": true
   },
   "outputs": [],
   "source": [
    "cate_cols = list(set(df.columns) - set(continous_cols))\n",
    "cate_cols.sort(key = lambda x : int(x.split('_')[1]))"
   ]
  },
  {
   "cell_type": "code",
   "execution_count": 9,
   "metadata": {
    "collapsed": true
   },
   "outputs": [],
   "source": [
    "# cate_cols_v2 contains columns without pipes and 3 bad columns\n",
    "cate_cols_v2 = list(set(cate_cols) - set(pipe_col))\n",
    "cate_cols_v2.remove('V_35') # \"Right now, I can't stop listening to:\" - No fixed options\n",
    "cate_cols_v2.remove('V_36') # \"I live in:\" - Zipcode\n",
    "cate_cols_v2.remove('V_8') # \"I'm not working because:\" - null\n",
    "cate_cols_v2.sort(key = lambda x : int(x.split('_')[1]))"
   ]
  },
  {
   "cell_type": "markdown",
   "metadata": {},
   "source": [
    "### Summary of null value for each column"
   ]
  },
  {
   "cell_type": "code",
   "execution_count": 11,
   "metadata": {},
   "outputs": [
    {
     "data": {
      "text/html": [
       "<div>\n",
       "<style>\n",
       "    .dataframe thead tr:only-child th {\n",
       "        text-align: right;\n",
       "    }\n",
       "\n",
       "    .dataframe thead th {\n",
       "        text-align: left;\n",
       "    }\n",
       "\n",
       "    .dataframe tbody tr th {\n",
       "        vertical-align: top;\n",
       "    }\n",
       "</style>\n",
       "<table border=\"1\" class=\"dataframe\">\n",
       "  <thead>\n",
       "    <tr style=\"text-align: right;\">\n",
       "      <th></th>\n",
       "      <th>Column</th>\n",
       "      <th>Desc</th>\n",
       "      <th>Null</th>\n",
       "    </tr>\n",
       "  </thead>\n",
       "  <tbody>\n",
       "    <tr>\n",
       "      <th>7</th>\n",
       "      <td>V_8</td>\n",
       "      <td>I'm not working because:</td>\n",
       "      <td>12831</td>\n",
       "    </tr>\n",
       "    <tr>\n",
       "      <th>6</th>\n",
       "      <td>V_7</td>\n",
       "      <td>I teach:</td>\n",
       "      <td>12800</td>\n",
       "    </tr>\n",
       "    <tr>\n",
       "      <th>14</th>\n",
       "      <td>V_15</td>\n",
       "      <td>My role is:</td>\n",
       "      <td>12769</td>\n",
       "    </tr>\n",
       "    <tr>\n",
       "      <th>5</th>\n",
       "      <td>V_6</td>\n",
       "      <td>My company is:</td>\n",
       "      <td>7317</td>\n",
       "    </tr>\n",
       "    <tr>\n",
       "      <th>13</th>\n",
       "      <td>V_14</td>\n",
       "      <td>My role is:</td>\n",
       "      <td>7217</td>\n",
       "    </tr>\n",
       "    <tr>\n",
       "      <th>4</th>\n",
       "      <td>V_5</td>\n",
       "      <td>My company specializes in:</td>\n",
       "      <td>7198</td>\n",
       "    </tr>\n",
       "    <tr>\n",
       "      <th>12</th>\n",
       "      <td>V_13</td>\n",
       "      <td>My role is:</td>\n",
       "      <td>7090</td>\n",
       "    </tr>\n",
       "    <tr>\n",
       "      <th>35</th>\n",
       "      <td>V_36</td>\n",
       "      <td>I live in:</td>\n",
       "      <td>2382</td>\n",
       "    </tr>\n",
       "    <tr>\n",
       "      <th>41</th>\n",
       "      <td>V_42</td>\n",
       "      <td>The emerging trends and technologies that will...</td>\n",
       "      <td>655</td>\n",
       "    </tr>\n",
       "    <tr>\n",
       "      <th>40</th>\n",
       "      <td>V_41</td>\n",
       "      <td>The most critical issues and challenges curren...</td>\n",
       "      <td>439</td>\n",
       "    </tr>\n",
       "  </tbody>\n",
       "</table>\n",
       "</div>"
      ],
      "text/plain": [
       "   Column                                               Desc   Null\n",
       "7     V_8                           I'm not working because:  12831\n",
       "6     V_7                                           I teach:  12800\n",
       "14   V_15                                        My role is:  12769\n",
       "5     V_6                                     My company is:   7317\n",
       "13   V_14                                        My role is:   7217\n",
       "4     V_5                         My company specializes in:   7198\n",
       "12   V_13                                        My role is:   7090\n",
       "35   V_36                                         I live in:   2382\n",
       "41   V_42  The emerging trends and technologies that will...    655\n",
       "40   V_41  The most critical issues and challenges curren...    439"
      ]
     },
     "execution_count": 11,
     "metadata": {},
     "output_type": "execute_result"
    }
   ],
   "source": [
    "dff = pd.DataFrame(columns=['Column','Desc', 'Null'])\n",
    "for col in df.columns:\n",
    "    num_null = df[col].isnull().sum()\n",
    "    dff = dff.append({'Column': col, 'Desc' : col_dict[col], 'Null' : num_null }, ignore_index=True)\n",
    "dff.sort_values(by = \"Null\", ascending= False).head(10) # show top 10 columns with null"
   ]
  },
  {
   "cell_type": "markdown",
   "metadata": {},
   "source": [
    "### Take a look at Salary Outliers"
   ]
  },
  {
   "cell_type": "code",
   "execution_count": 12,
   "metadata": {},
   "outputs": [
    {
     "name": "stdout",
     "output_type": "stream",
     "text": [
      "The 99% percentile of salary is: 210799\n",
      "The 90% percentile of salary is: 120000\n",
      "The 85% percentile of salary is: 103000\n"
     ]
    }
   ],
   "source": [
    "print('The 99% percentile of salary is: ' + \\\n",
    "      str(int(np.percentile(df.V_18.dropna(), 99))))\n",
    "\n",
    "print('The 90% percentile of salary is: ' + \\\n",
    "      str(int(np.percentile(df.V_18.dropna(), 90))))\n",
    "\n",
    "print('The 85% percentile of salary is: ' + \\\n",
    "      str(int(np.percentile(df.V_18.dropna(), 85))))"
   ]
  },
  {
   "cell_type": "code",
   "execution_count": null,
   "metadata": {},
   "outputs": [],
   "source": [
    "# take a quick look at salary vs. age\n",
    "dff = pd.DataFrame()\n",
    "dff['salary'] = df['V_18'] / 1000\n",
    "dff['age'] = df['V_37']\n",
    "dff['salary over million'] = dff['salary'] > 1000\n",
    "sns.lmplot(data = dff, x = 'salary', y = 'age', fit_reg = False, hue = 'salary over million')\n",
    "plt.xlabel('Salary (thousand)')\n",
    "plt.ylabel('Age')"
   ]
  },
  {
   "cell_type": "code",
   "execution_count": 14,
   "metadata": {
    "collapsed": true
   },
   "outputs": [],
   "source": [
    "# export a separate file with salary over million record\n",
    "# df_with_column_names(df[df.V_18 > 1000000], col_dict).to_csv('output_salary_over_million.csv', index = False)"
   ]
  },
  {
   "cell_type": "markdown",
   "metadata": {},
   "source": [
    "### Break \"Age\" into groups"
   ]
  },
  {
   "cell_type": "code",
   "execution_count": 15,
   "metadata": {
    "collapsed": true
   },
   "outputs": [],
   "source": [
    "def age_break(x):\n",
    "    if (x < 20): return ('Younger than 20')\n",
    "    elif (x <= 25): return ('20 to 25')\n",
    "    elif (x <= 30): return ('25 to 30')\n",
    "    elif (x <= 35): return ('30 to 35')\n",
    "    elif (x <= 40): return ('35 to 40')\n",
    "    elif (x <= 45): return ('40 to 45')\n",
    "    elif (x <= 50): return ('45 to 50')\n",
    "    else: return ('Older than 50')\n",
    "\n",
    "df['V_37'] = df['V_37'].apply(lambda x : age_break(x))\n",
    "cate_cols.append('V_37') # add Age to categorical variable\n",
    "continous_cols.remove('V_37') # remove Age from continuous variable"
   ]
  },
  {
   "cell_type": "markdown",
   "metadata": {},
   "source": [
    "### Exclude outliers for salary"
   ]
  },
  {
   "cell_type": "code",
   "execution_count": null,
   "metadata": {
    "collapsed": true
   },
   "outputs": [],
   "source": [
    "## Remove outliers for salary\n",
    "# 1. Null values \n",
    "# 2. zero salary\n",
    "# 3. Top 1% salary\n",
    "\n",
    "df = df[~((df.V_18.isnull()) |  #remove null \n",
    "          (df.V_18 == 0) |  # remove 0\n",
    "          (df.V_18 > 210000))] # remove extremely high salary\n",
    "\n",
    "df = df.reset_index()\n",
    "df = df.drop('index', axis = 1)"
   ]
  },
  {
   "cell_type": "markdown",
   "metadata": {},
   "source": [
    "### Export raw data with and without salary outliers"
   ]
  },
  {
   "cell_type": "code",
   "execution_count": null,
   "metadata": {
    "collapsed": true
   },
   "outputs": [],
   "source": [
    "'''\n",
    "raw_df = pd.read_csv('DesignCensus2017_Data.csv')\n",
    "salary = raw_df['18 --My annual salary is:']\n",
    "raw_df_salary_outliers  = raw_df [((salary.isnull()) | (salary == 0) | (salary > 210000))]\n",
    "raw_df_excluding_outliers  = raw_df [~((salary.isnull()) | (salary == 0) | (salary > 210000))]\n",
    "raw_df_salary_outliers.to_csv('./export_csv/raw_data_salary_outliers.csv', index = False, encoding = 'utf8')\n",
    "raw_df_excluding_outliers.to_csv('./export_csv/raw_data_excluding_salary_outliers.csv', index = False, encoding = 'utf8')\n",
    "del raw_df, raw_df_salary_outliers, raw_df_excluding_outliers\n",
    "'''"
   ]
  },
  {
   "cell_type": "markdown",
   "metadata": {},
   "source": [
    "### Script to deal with columns with pipe"
   ]
  },
  {
   "cell_type": "code",
   "execution_count": null,
   "metadata": {
    "collapsed": true
   },
   "outputs": [],
   "source": [
    "df = df.replace(np.nan,'', regex=True)\n",
    "pipe_col_dict = {}\n",
    "\n",
    "for col in pipe_col:\n",
    "    options = set()\n",
    "    for row in df[col]:\n",
    "        arrs = row.split('|') \n",
    "        for arr in arrs:\n",
    "            if arr != '':\n",
    "                options.add(arr)\n",
    "    \n",
    "    pipe_col_dict[col] = {}\n",
    "    \n",
    "    index = 1\n",
    "    for option in options:\n",
    "        sub_col = col + '_' + str(index)\n",
    "        df.loc[:,sub_col] = 0\n",
    "        pipe_col_dict[col][option] = sub_col\n",
    "        col_dict[sub_col] = col_dict[col] + '-' + option\n",
    "        index += 1"
   ]
  },
  {
   "cell_type": "code",
   "execution_count": null,
   "metadata": {
    "collapsed": true
   },
   "outputs": [],
   "source": [
    "# this part takes a few minutes to run\n",
    "for col in pipe_col:\n",
    "    row_num = 0;\n",
    "    for row in df[col]:\n",
    "        arrs = row.split('|') \n",
    "        for arr in arrs:\n",
    "            if arr != '':\n",
    "                sub_col = pipe_col_dict[col][arr]\n",
    "                df.loc[row_num, sub_col] += 1\n",
    "        row_num += 1"
   ]
  },
  {
   "cell_type": "markdown",
   "metadata": {},
   "source": [
    "### Output csv w/ and w/o column names"
   ]
  },
  {
   "cell_type": "code",
   "execution_count": null,
   "metadata": {
    "collapsed": true
   },
   "outputs": [],
   "source": [
    "df.to_csv('./export_csv/processed_output_without_column_names.csv', index = False, encoding = 'utf8')\n",
    "df_with_column_names(df, col_dict).to_csv(\\\n",
    "    './export_csv/processed_output_with_column_names.csv', index = False, encoding = 'utf8')    "
   ]
  },
  {
   "cell_type": "markdown",
   "metadata": {},
   "source": [
    "### Export some important variables"
   ]
  },
  {
   "cell_type": "code",
   "execution_count": null,
   "metadata": {
    "collapsed": true
   },
   "outputs": [],
   "source": [
    "with open('SavedVariables.pckl', 'wb') as f:\n",
    "    pickle.dump([continous_cols, cate_cols, cate_cols_v2, pipe_col, col_dict, pipe_col_dict], f)"
   ]
  },
  {
   "cell_type": "markdown",
   "metadata": {},
   "source": [
    "<br>\n",
    "<br>\n",
    "<br>\n",
    "<br>\n",
    "<a id='2.0'></a>\n",
    "# Part II, Barplots"
   ]
  },
  {
   "cell_type": "markdown",
   "metadata": {},
   "source": [
    "<a id='2.1'></a>\n",
    "### Read in processed data"
   ]
  },
  {
   "cell_type": "code",
   "execution_count": 161,
   "metadata": {
    "collapsed": true
   },
   "outputs": [],
   "source": [
    "df = pd.read_csv('./export_csv/processed_output_without_column_names.csv', encoding = 'utf8')\n",
    "with open('SavedVariables.pckl', 'rb') as f:\n",
    "    continous_cols, cate_cols, cate_cols_v2, pipe_col, col_dict, pipe_col_dict = pickle.load(f)"
   ]
  },
  {
   "cell_type": "markdown",
   "metadata": {},
   "source": [
    "<a id='summary_f'></a>\n",
    "### Basic Summary of each column (only show `top k`)"
   ]
  },
  {
   "cell_type": "code",
   "execution_count": 162,
   "metadata": {
    "collapsed": true
   },
   "outputs": [],
   "source": [
    "def summary_cate_col(col, top_k, AllorAIGA = 'All'): #default is for all records\n",
    "    \n",
    "    AIGA_col = pipe_col_dict['V_32']['AIGA']\n",
    "    if AllorAIGA == 'All':\n",
    "        df_filtered = df\n",
    "    elif AllorAIGA ==\"NotAIGA\":\n",
    "        df_filtered = df[df[AIGA_col] == 0]\n",
    "    else:\n",
    "        df_filtered = df[df[AIGA_col] == 1]\n",
    "        \n",
    "    if col in continous_cols:\n",
    "        return\n",
    "    \n",
    "    elif col in pipe_col:\n",
    "        dff = pd.DataFrame(columns=['Options','Count','Percent'])\n",
    "        for key, value in pipe_col_dict[col].items():\n",
    "            count = df_filtered[value].sum()\n",
    "            dff = dff.append({'Options': key, 'Count' : count}, ignore_index=True)\n",
    "    else:\n",
    "        dff = pd.DataFrame(df_filtered[col].value_counts())\n",
    "        dff.reset_index(inplace=True)\n",
    "        dff.columns = ['Options','Count']\n",
    "    \n",
    "    dff['Percent'] = dff.Count / len(df_filtered)\n",
    "    dff = dff.sort_values(by = 'Percent', ascending = False).head(top_k)\n",
    "    return dff\n"
   ]
  },
  {
   "cell_type": "markdown",
   "metadata": {},
   "source": [
    "### Distribution (%) for each column"
   ]
  },
  {
   "cell_type": "code",
   "execution_count": 4,
   "metadata": {},
   "outputs": [
    {
     "data": {
      "text/plain": [
       "\"V_1 :  I've worked in design for:\""
      ]
     },
     "metadata": {},
     "output_type": "display_data"
    },
    {
     "data": {
      "text/html": [
       "<style  type=\"text/css\" >\n",
       "</style>  \n",
       "<table id=\"T_bc8cf2d0_522a_11e8_9822_8c85905f408e\" > \n",
       "<thead>    <tr> \n",
       "        <th class=\"blank level0\" ></th> \n",
       "        <th class=\"col_heading level0 col0\" >Options</th> \n",
       "        <th class=\"col_heading level0 col1\" >Count</th> \n",
       "        <th class=\"col_heading level0 col2\" >Percent</th> \n",
       "    </tr></thead> \n",
       "<tbody>    <tr> \n",
       "        <th id=\"T_bc8cf2d0_522a_11e8_9822_8c85905f408elevel0_row0\" class=\"row_heading level0 row0\" >0</th> \n",
       "        <td id=\"T_bc8cf2d0_522a_11e8_9822_8c85905f408erow0_col0\" class=\"data row0 col0\" >1-4 years</td> \n",
       "        <td id=\"T_bc8cf2d0_522a_11e8_9822_8c85905f408erow0_col1\" class=\"data row0 col1\" >3954</td> \n",
       "        <td id=\"T_bc8cf2d0_522a_11e8_9822_8c85905f408erow0_col2\" class=\"data row0 col2\" >31.69%</td> \n",
       "    </tr>    <tr> \n",
       "        <th id=\"T_bc8cf2d0_522a_11e8_9822_8c85905f408elevel0_row1\" class=\"row_heading level0 row1\" >1</th> \n",
       "        <td id=\"T_bc8cf2d0_522a_11e8_9822_8c85905f408erow1_col0\" class=\"data row1 col0\" >5-9 years</td> \n",
       "        <td id=\"T_bc8cf2d0_522a_11e8_9822_8c85905f408erow1_col1\" class=\"data row1 col1\" >3597</td> \n",
       "        <td id=\"T_bc8cf2d0_522a_11e8_9822_8c85905f408erow1_col2\" class=\"data row1 col2\" >28.83%</td> \n",
       "    </tr>    <tr> \n",
       "        <th id=\"T_bc8cf2d0_522a_11e8_9822_8c85905f408elevel0_row2\" class=\"row_heading level0 row2\" >2</th> \n",
       "        <td id=\"T_bc8cf2d0_522a_11e8_9822_8c85905f408erow2_col0\" class=\"data row2 col0\" >10-14 years</td> \n",
       "        <td id=\"T_bc8cf2d0_522a_11e8_9822_8c85905f408erow2_col1\" class=\"data row2 col1\" >1986</td> \n",
       "        <td id=\"T_bc8cf2d0_522a_11e8_9822_8c85905f408erow2_col2\" class=\"data row2 col2\" >15.92%</td> \n",
       "    </tr>    <tr> \n",
       "        <th id=\"T_bc8cf2d0_522a_11e8_9822_8c85905f408elevel0_row3\" class=\"row_heading level0 row3\" >3</th> \n",
       "        <td id=\"T_bc8cf2d0_522a_11e8_9822_8c85905f408erow3_col0\" class=\"data row3 col0\" >15-20 years</td> \n",
       "        <td id=\"T_bc8cf2d0_522a_11e8_9822_8c85905f408erow3_col1\" class=\"data row3 col1\" >1234</td> \n",
       "        <td id=\"T_bc8cf2d0_522a_11e8_9822_8c85905f408erow3_col2\" class=\"data row3 col2\" >9.89%</td> \n",
       "    </tr>    <tr> \n",
       "        <th id=\"T_bc8cf2d0_522a_11e8_9822_8c85905f408elevel0_row4\" class=\"row_heading level0 row4\" >4</th> \n",
       "        <td id=\"T_bc8cf2d0_522a_11e8_9822_8c85905f408erow4_col0\" class=\"data row4 col0\" >20+ years</td> \n",
       "        <td id=\"T_bc8cf2d0_522a_11e8_9822_8c85905f408erow4_col1\" class=\"data row4 col1\" >1148</td> \n",
       "        <td id=\"T_bc8cf2d0_522a_11e8_9822_8c85905f408erow4_col2\" class=\"data row4 col2\" >9.20%</td> \n",
       "    </tr>    <tr> \n",
       "        <th id=\"T_bc8cf2d0_522a_11e8_9822_8c85905f408elevel0_row5\" class=\"row_heading level0 row5\" >5</th> \n",
       "        <td id=\"T_bc8cf2d0_522a_11e8_9822_8c85905f408erow5_col0\" class=\"data row5 col0\" >Less than 1 year</td> \n",
       "        <td id=\"T_bc8cf2d0_522a_11e8_9822_8c85905f408erow5_col1\" class=\"data row5 col1\" >558</td> \n",
       "        <td id=\"T_bc8cf2d0_522a_11e8_9822_8c85905f408erow5_col2\" class=\"data row5 col2\" >4.47%</td> \n",
       "    </tr></tbody> \n",
       "</table> "
      ],
      "text/plain": [
       "<pandas.io.formats.style.Styler at 0x1a176ac748>"
      ]
     },
     "metadata": {},
     "output_type": "display_data"
    },
    {
     "data": {
      "text/plain": [
       "'V_2 : I primarily work in:'"
      ]
     },
     "metadata": {},
     "output_type": "display_data"
    },
    {
     "data": {
      "text/html": [
       "<style  type=\"text/css\" >\n",
       "</style>  \n",
       "<table id=\"T_bc9bc56c_522a_11e8_a4b3_8c85905f408e\" > \n",
       "<thead>    <tr> \n",
       "        <th class=\"blank level0\" ></th> \n",
       "        <th class=\"col_heading level0 col0\" >Options</th> \n",
       "        <th class=\"col_heading level0 col1\" >Count</th> \n",
       "        <th class=\"col_heading level0 col2\" >Percent</th> \n",
       "    </tr></thead> \n",
       "<tbody>    <tr> \n",
       "        <th id=\"T_bc9bc56c_522a_11e8_a4b3_8c85905f408elevel0_row0\" class=\"row_heading level0 row0\" >9</th> \n",
       "        <td id=\"T_bc9bc56c_522a_11e8_a4b3_8c85905f408erow0_col0\" class=\"data row0 col0\" >Graphic Design</td> \n",
       "        <td id=\"T_bc9bc56c_522a_11e8_a4b3_8c85905f408erow0_col1\" class=\"data row0 col1\" >8537</td> \n",
       "        <td id=\"T_bc9bc56c_522a_11e8_a4b3_8c85905f408erow0_col2\" class=\"data row0 col2\" >68.42%</td> \n",
       "    </tr>    <tr> \n",
       "        <th id=\"T_bc9bc56c_522a_11e8_a4b3_8c85905f408elevel0_row1\" class=\"row_heading level0 row1\" >15</th> \n",
       "        <td id=\"T_bc9bc56c_522a_11e8_a4b3_8c85905f408erow1_col0\" class=\"data row1 col0\" >Web Design</td> \n",
       "        <td id=\"T_bc9bc56c_522a_11e8_a4b3_8c85905f408erow1_col1\" class=\"data row1 col1\" >4709</td> \n",
       "        <td id=\"T_bc9bc56c_522a_11e8_a4b3_8c85905f408erow1_col2\" class=\"data row1 col2\" >37.74%</td> \n",
       "    </tr>    <tr> \n",
       "        <th id=\"T_bc9bc56c_522a_11e8_a4b3_8c85905f408elevel0_row2\" class=\"row_heading level0 row2\" >27</th> \n",
       "        <td id=\"T_bc9bc56c_522a_11e8_a4b3_8c85905f408erow2_col0\" class=\"data row2 col0\" >UX Design</td> \n",
       "        <td id=\"T_bc9bc56c_522a_11e8_a4b3_8c85905f408erow2_col1\" class=\"data row2 col1\" >4097</td> \n",
       "        <td id=\"T_bc9bc56c_522a_11e8_a4b3_8c85905f408erow2_col2\" class=\"data row2 col2\" >32.84%</td> \n",
       "    </tr>    <tr> \n",
       "        <th id=\"T_bc9bc56c_522a_11e8_a4b3_8c85905f408elevel0_row3\" class=\"row_heading level0 row3\" >0</th> \n",
       "        <td id=\"T_bc9bc56c_522a_11e8_a4b3_8c85905f408erow3_col0\" class=\"data row3 col0\" >UI Design</td> \n",
       "        <td id=\"T_bc9bc56c_522a_11e8_a4b3_8c85905f408erow3_col1\" class=\"data row3 col1\" >3801</td> \n",
       "        <td id=\"T_bc9bc56c_522a_11e8_a4b3_8c85905f408erow3_col2\" class=\"data row3 col2\" >30.46%</td> \n",
       "    </tr>    <tr> \n",
       "        <th id=\"T_bc9bc56c_522a_11e8_a4b3_8c85905f408elevel0_row4\" class=\"row_heading level0 row4\" >18</th> \n",
       "        <td id=\"T_bc9bc56c_522a_11e8_a4b3_8c85905f408erow4_col0\" class=\"data row4 col0\" >Marketing</td> \n",
       "        <td id=\"T_bc9bc56c_522a_11e8_a4b3_8c85905f408erow4_col1\" class=\"data row4 col1\" >3793</td> \n",
       "        <td id=\"T_bc9bc56c_522a_11e8_a4b3_8c85905f408erow4_col2\" class=\"data row4 col2\" >30.40%</td> \n",
       "    </tr>    <tr> \n",
       "        <th id=\"T_bc9bc56c_522a_11e8_a4b3_8c85905f408elevel0_row5\" class=\"row_heading level0 row5\" >16</th> \n",
       "        <td id=\"T_bc9bc56c_522a_11e8_a4b3_8c85905f408erow5_col0\" class=\"data row5 col0\" >Communication Design</td> \n",
       "        <td id=\"T_bc9bc56c_522a_11e8_a4b3_8c85905f408erow5_col1\" class=\"data row5 col1\" >3425</td> \n",
       "        <td id=\"T_bc9bc56c_522a_11e8_a4b3_8c85905f408erow5_col2\" class=\"data row5 col2\" >27.45%</td> \n",
       "    </tr>    <tr> \n",
       "        <th id=\"T_bc9bc56c_522a_11e8_a4b3_8c85905f408elevel0_row6\" class=\"row_heading level0 row6\" >6</th> \n",
       "        <td id=\"T_bc9bc56c_522a_11e8_a4b3_8c85905f408erow6_col0\" class=\"data row6 col0\" >Interaction Design</td> \n",
       "        <td id=\"T_bc9bc56c_522a_11e8_a4b3_8c85905f408erow6_col1\" class=\"data row6 col1\" >2476</td> \n",
       "        <td id=\"T_bc9bc56c_522a_11e8_a4b3_8c85905f408erow6_col2\" class=\"data row6 col2\" >19.84%</td> \n",
       "    </tr>    <tr> \n",
       "        <th id=\"T_bc9bc56c_522a_11e8_a4b3_8c85905f408elevel0_row7\" class=\"row_heading level0 row7\" >19</th> \n",
       "        <td id=\"T_bc9bc56c_522a_11e8_a4b3_8c85905f408erow7_col0\" class=\"data row7 col0\" >Product Design</td> \n",
       "        <td id=\"T_bc9bc56c_522a_11e8_a4b3_8c85905f408erow7_col1\" class=\"data row7 col1\" >2356</td> \n",
       "        <td id=\"T_bc9bc56c_522a_11e8_a4b3_8c85905f408erow7_col2\" class=\"data row7 col2\" >18.88%</td> \n",
       "    </tr>    <tr> \n",
       "        <th id=\"T_bc9bc56c_522a_11e8_a4b3_8c85905f408elevel0_row8\" class=\"row_heading level0 row8\" >17</th> \n",
       "        <td id=\"T_bc9bc56c_522a_11e8_a4b3_8c85905f408erow8_col0\" class=\"data row8 col0\" >Illustration</td> \n",
       "        <td id=\"T_bc9bc56c_522a_11e8_a4b3_8c85905f408erow8_col1\" class=\"data row8 col1\" >2348</td> \n",
       "        <td id=\"T_bc9bc56c_522a_11e8_a4b3_8c85905f408erow8_col2\" class=\"data row8 col2\" >18.82%</td> \n",
       "    </tr>    <tr> \n",
       "        <th id=\"T_bc9bc56c_522a_11e8_a4b3_8c85905f408elevel0_row9\" class=\"row_heading level0 row9\" >20</th> \n",
       "        <td id=\"T_bc9bc56c_522a_11e8_a4b3_8c85905f408erow9_col0\" class=\"data row9 col0\" >Experience Design</td> \n",
       "        <td id=\"T_bc9bc56c_522a_11e8_a4b3_8c85905f408erow9_col1\" class=\"data row9 col1\" >2103</td> \n",
       "        <td id=\"T_bc9bc56c_522a_11e8_a4b3_8c85905f408erow9_col2\" class=\"data row9 col2\" >16.86%</td> \n",
       "    </tr>    <tr> \n",
       "        <th id=\"T_bc9bc56c_522a_11e8_a4b3_8c85905f408elevel0_row10\" class=\"row_heading level0 row10\" >8</th> \n",
       "        <td id=\"T_bc9bc56c_522a_11e8_a4b3_8c85905f408erow10_col0\" class=\"data row10 col0\" >Strategy</td> \n",
       "        <td id=\"T_bc9bc56c_522a_11e8_a4b3_8c85905f408erow10_col1\" class=\"data row10 col1\" >1802</td> \n",
       "        <td id=\"T_bc9bc56c_522a_11e8_a4b3_8c85905f408erow10_col2\" class=\"data row10 col2\" >14.44%</td> \n",
       "    </tr>    <tr> \n",
       "        <th id=\"T_bc9bc56c_522a_11e8_a4b3_8c85905f408elevel0_row11\" class=\"row_heading level0 row11\" >12</th> \n",
       "        <td id=\"T_bc9bc56c_522a_11e8_a4b3_8c85905f408erow11_col0\" class=\"data row11 col0\" >Photography</td> \n",
       "        <td id=\"T_bc9bc56c_522a_11e8_a4b3_8c85905f408erow11_col1\" class=\"data row11 col1\" >1385</td> \n",
       "        <td id=\"T_bc9bc56c_522a_11e8_a4b3_8c85905f408erow11_col2\" class=\"data row11 col2\" >11.10%</td> \n",
       "    </tr>    <tr> \n",
       "        <th id=\"T_bc9bc56c_522a_11e8_a4b3_8c85905f408elevel0_row12\" class=\"row_heading level0 row12\" >29</th> \n",
       "        <td id=\"T_bc9bc56c_522a_11e8_a4b3_8c85905f408erow12_col0\" class=\"data row12 col0\" >Packaging Design</td> \n",
       "        <td id=\"T_bc9bc56c_522a_11e8_a4b3_8c85905f408erow12_col1\" class=\"data row12 col1\" >1366</td> \n",
       "        <td id=\"T_bc9bc56c_522a_11e8_a4b3_8c85905f408erow12_col2\" class=\"data row12 col2\" >10.95%</td> \n",
       "    </tr>    <tr> \n",
       "        <th id=\"T_bc9bc56c_522a_11e8_a4b3_8c85905f408elevel0_row13\" class=\"row_heading level0 row13\" >28</th> \n",
       "        <td id=\"T_bc9bc56c_522a_11e8_a4b3_8c85905f408erow13_col0\" class=\"data row13 col0\" >Research</td> \n",
       "        <td id=\"T_bc9bc56c_522a_11e8_a4b3_8c85905f408erow13_col1\" class=\"data row13 col1\" >1184</td> \n",
       "        <td id=\"T_bc9bc56c_522a_11e8_a4b3_8c85905f408erow13_col2\" class=\"data row13 col2\" >9.49%</td> \n",
       "    </tr>    <tr> \n",
       "        <th id=\"T_bc9bc56c_522a_11e8_a4b3_8c85905f408elevel0_row14\" class=\"row_heading level0 row14\" >25</th> \n",
       "        <td id=\"T_bc9bc56c_522a_11e8_a4b3_8c85905f408erow14_col0\" class=\"data row14 col0\" >Front-end Development</td> \n",
       "        <td id=\"T_bc9bc56c_522a_11e8_a4b3_8c85905f408erow14_col1\" class=\"data row14 col1\" >1120</td> \n",
       "        <td id=\"T_bc9bc56c_522a_11e8_a4b3_8c85905f408erow14_col2\" class=\"data row14 col2\" >8.98%</td> \n",
       "    </tr>    <tr> \n",
       "        <th id=\"T_bc9bc56c_522a_11e8_a4b3_8c85905f408elevel0_row15\" class=\"row_heading level0 row15\" >4</th> \n",
       "        <td id=\"T_bc9bc56c_522a_11e8_a4b3_8c85905f408erow15_col0\" class=\"data row15 col0\" >Motion Graphics</td> \n",
       "        <td id=\"T_bc9bc56c_522a_11e8_a4b3_8c85905f408erow15_col1\" class=\"data row15 col1\" >1060</td> \n",
       "        <td id=\"T_bc9bc56c_522a_11e8_a4b3_8c85905f408erow15_col2\" class=\"data row15 col2\" >8.50%</td> \n",
       "    </tr>    <tr> \n",
       "        <th id=\"T_bc9bc56c_522a_11e8_a4b3_8c85905f408elevel0_row16\" class=\"row_heading level0 row16\" >1</th> \n",
       "        <td id=\"T_bc9bc56c_522a_11e8_a4b3_8c85905f408erow16_col0\" class=\"data row16 col0\" >Production</td> \n",
       "        <td id=\"T_bc9bc56c_522a_11e8_a4b3_8c85905f408erow16_col1\" class=\"data row16 col1\" >1019</td> \n",
       "        <td id=\"T_bc9bc56c_522a_11e8_a4b3_8c85905f408erow16_col2\" class=\"data row16 col2\" >8.17%</td> \n",
       "    </tr>    <tr> \n",
       "        <th id=\"T_bc9bc56c_522a_11e8_a4b3_8c85905f408elevel0_row17\" class=\"row_heading level0 row17\" >30</th> \n",
       "        <td id=\"T_bc9bc56c_522a_11e8_a4b3_8c85905f408erow17_col0\" class=\"data row17 col0\" >Education</td> \n",
       "        <td id=\"T_bc9bc56c_522a_11e8_a4b3_8c85905f408erow17_col1\" class=\"data row17 col1\" >956</td> \n",
       "        <td id=\"T_bc9bc56c_522a_11e8_a4b3_8c85905f408erow17_col2\" class=\"data row17 col2\" >7.66%</td> \n",
       "    </tr>    <tr> \n",
       "        <th id=\"T_bc9bc56c_522a_11e8_a4b3_8c85905f408elevel0_row18\" class=\"row_heading level0 row18\" >31</th> \n",
       "        <td id=\"T_bc9bc56c_522a_11e8_a4b3_8c85905f408erow18_col0\" class=\"data row18 col0\" >Environmental Design</td> \n",
       "        <td id=\"T_bc9bc56c_522a_11e8_a4b3_8c85905f408erow18_col1\" class=\"data row18 col1\" >776</td> \n",
       "        <td id=\"T_bc9bc56c_522a_11e8_a4b3_8c85905f408erow18_col2\" class=\"data row18 col2\" >6.22%</td> \n",
       "    </tr>    <tr> \n",
       "        <th id=\"T_bc9bc56c_522a_11e8_a4b3_8c85905f408elevel0_row19\" class=\"row_heading level0 row19\" >32</th> \n",
       "        <td id=\"T_bc9bc56c_522a_11e8_a4b3_8c85905f408erow19_col0\" class=\"data row19 col0\" >Service Design</td> \n",
       "        <td id=\"T_bc9bc56c_522a_11e8_a4b3_8c85905f408erow19_col1\" class=\"data row19 col1\" >740</td> \n",
       "        <td id=\"T_bc9bc56c_522a_11e8_a4b3_8c85905f408erow19_col2\" class=\"data row19 col2\" >5.93%</td> \n",
       "    </tr>    <tr> \n",
       "        <th id=\"T_bc9bc56c_522a_11e8_a4b3_8c85905f408elevel0_row20\" class=\"row_heading level0 row20\" >24</th> \n",
       "        <td id=\"T_bc9bc56c_522a_11e8_a4b3_8c85905f408erow20_col0\" class=\"data row20 col0\" >Film and Video</td> \n",
       "        <td id=\"T_bc9bc56c_522a_11e8_a4b3_8c85905f408erow20_col1\" class=\"data row20 col1\" >663</td> \n",
       "        <td id=\"T_bc9bc56c_522a_11e8_a4b3_8c85905f408erow20_col2\" class=\"data row20 col2\" >5.31%</td> \n",
       "    </tr>    <tr> \n",
       "        <th id=\"T_bc9bc56c_522a_11e8_a4b3_8c85905f408elevel0_row21\" class=\"row_heading level0 row21\" >26</th> \n",
       "        <td id=\"T_bc9bc56c_522a_11e8_a4b3_8c85905f408erow21_col0\" class=\"data row21 col0\" >Animation</td> \n",
       "        <td id=\"T_bc9bc56c_522a_11e8_a4b3_8c85905f408erow21_col1\" class=\"data row21 col1\" >632</td> \n",
       "        <td id=\"T_bc9bc56c_522a_11e8_a4b3_8c85905f408erow21_col2\" class=\"data row21 col2\" >5.07%</td> \n",
       "    </tr>    <tr> \n",
       "        <th id=\"T_bc9bc56c_522a_11e8_a4b3_8c85905f408elevel0_row22\" class=\"row_heading level0 row22\" >3</th> \n",
       "        <td id=\"T_bc9bc56c_522a_11e8_a4b3_8c85905f408erow22_col0\" class=\"data row22 col0\" >Social Impact Design</td> \n",
       "        <td id=\"T_bc9bc56c_522a_11e8_a4b3_8c85905f408erow22_col1\" class=\"data row22 col1\" >564</td> \n",
       "        <td id=\"T_bc9bc56c_522a_11e8_a4b3_8c85905f408erow22_col2\" class=\"data row22 col2\" >4.52%</td> \n",
       "    </tr>    <tr> \n",
       "        <th id=\"T_bc9bc56c_522a_11e8_a4b3_8c85905f408elevel0_row23\" class=\"row_heading level0 row23\" >23</th> \n",
       "        <td id=\"T_bc9bc56c_522a_11e8_a4b3_8c85905f408erow23_col0\" class=\"data row23 col0\" >Industrial Design</td> \n",
       "        <td id=\"T_bc9bc56c_522a_11e8_a4b3_8c85905f408erow23_col1\" class=\"data row23 col1\" >290</td> \n",
       "        <td id=\"T_bc9bc56c_522a_11e8_a4b3_8c85905f408erow23_col2\" class=\"data row23 col2\" >2.32%</td> \n",
       "    </tr>    <tr> \n",
       "        <th id=\"T_bc9bc56c_522a_11e8_a4b3_8c85905f408elevel0_row24\" class=\"row_heading level0 row24\" >33</th> \n",
       "        <td id=\"T_bc9bc56c_522a_11e8_a4b3_8c85905f408erow24_col0\" class=\"data row24 col0\" >Instructional Design</td> \n",
       "        <td id=\"T_bc9bc56c_522a_11e8_a4b3_8c85905f408erow24_col1\" class=\"data row24 col1\" >256</td> \n",
       "        <td id=\"T_bc9bc56c_522a_11e8_a4b3_8c85905f408erow24_col2\" class=\"data row24 col2\" >2.05%</td> \n",
       "    </tr>    <tr> \n",
       "        <th id=\"T_bc9bc56c_522a_11e8_a4b3_8c85905f408elevel0_row25\" class=\"row_heading level0 row25\" >21</th> \n",
       "        <td id=\"T_bc9bc56c_522a_11e8_a4b3_8c85905f408erow25_col0\" class=\"data row25 col0\" >Interior Design</td> \n",
       "        <td id=\"T_bc9bc56c_522a_11e8_a4b3_8c85905f408erow25_col1\" class=\"data row25 col1\" >248</td> \n",
       "        <td id=\"T_bc9bc56c_522a_11e8_a4b3_8c85905f408erow25_col2\" class=\"data row25 col2\" >1.99%</td> \n",
       "    </tr>    <tr> \n",
       "        <th id=\"T_bc9bc56c_522a_11e8_a4b3_8c85905f408elevel0_row26\" class=\"row_heading level0 row26\" >22</th> \n",
       "        <td id=\"T_bc9bc56c_522a_11e8_a4b3_8c85905f408erow26_col0\" class=\"data row26 col0\" >VR or AR Design</td> \n",
       "        <td id=\"T_bc9bc56c_522a_11e8_a4b3_8c85905f408erow26_col1\" class=\"data row26 col1\" >208</td> \n",
       "        <td id=\"T_bc9bc56c_522a_11e8_a4b3_8c85905f408erow26_col2\" class=\"data row26 col2\" >1.67%</td> \n",
       "    </tr>    <tr> \n",
       "        <th id=\"T_bc9bc56c_522a_11e8_a4b3_8c85905f408elevel0_row27\" class=\"row_heading level0 row27\" >13</th> \n",
       "        <td id=\"T_bc9bc56c_522a_11e8_a4b3_8c85905f408erow27_col0\" class=\"data row27 col0\" >Data Science</td> \n",
       "        <td id=\"T_bc9bc56c_522a_11e8_a4b3_8c85905f408erow27_col1\" class=\"data row27 col1\" >144</td> \n",
       "        <td id=\"T_bc9bc56c_522a_11e8_a4b3_8c85905f408erow27_col2\" class=\"data row27 col2\" >1.15%</td> \n",
       "    </tr>    <tr> \n",
       "        <th id=\"T_bc9bc56c_522a_11e8_a4b3_8c85905f408elevel0_row28\" class=\"row_heading level0 row28\" >7</th> \n",
       "        <td id=\"T_bc9bc56c_522a_11e8_a4b3_8c85905f408erow28_col0\" class=\"data row28 col0\" >Game Design</td> \n",
       "        <td id=\"T_bc9bc56c_522a_11e8_a4b3_8c85905f408erow28_col1\" class=\"data row28 col1\" >141</td> \n",
       "        <td id=\"T_bc9bc56c_522a_11e8_a4b3_8c85905f408erow28_col2\" class=\"data row28 col2\" >1.13%</td> \n",
       "    </tr>    <tr> \n",
       "        <th id=\"T_bc9bc56c_522a_11e8_a4b3_8c85905f408elevel0_row29\" class=\"row_heading level0 row29\" >5</th> \n",
       "        <td id=\"T_bc9bc56c_522a_11e8_a4b3_8c85905f408erow29_col0\" class=\"data row29 col0\" >Civic Design</td> \n",
       "        <td id=\"T_bc9bc56c_522a_11e8_a4b3_8c85905f408erow29_col1\" class=\"data row29 col1\" >135</td> \n",
       "        <td id=\"T_bc9bc56c_522a_11e8_a4b3_8c85905f408erow29_col2\" class=\"data row29 col2\" >1.08%</td> \n",
       "    </tr>    <tr> \n",
       "        <th id=\"T_bc9bc56c_522a_11e8_a4b3_8c85905f408elevel0_row30\" class=\"row_heading level0 row30\" >14</th> \n",
       "        <td id=\"T_bc9bc56c_522a_11e8_a4b3_8c85905f408erow30_col0\" class=\"data row30 col0\" >Fashion Design</td> \n",
       "        <td id=\"T_bc9bc56c_522a_11e8_a4b3_8c85905f408erow30_col1\" class=\"data row30 col1\" >135</td> \n",
       "        <td id=\"T_bc9bc56c_522a_11e8_a4b3_8c85905f408erow30_col2\" class=\"data row30 col2\" >1.08%</td> \n",
       "    </tr>    <tr> \n",
       "        <th id=\"T_bc9bc56c_522a_11e8_a4b3_8c85905f408elevel0_row31\" class=\"row_heading level0 row31\" >2</th> \n",
       "        <td id=\"T_bc9bc56c_522a_11e8_a4b3_8c85905f408erow31_col0\" class=\"data row31 col0\" >AI or Algorithm Design</td> \n",
       "        <td id=\"T_bc9bc56c_522a_11e8_a4b3_8c85905f408erow31_col1\" class=\"data row31 col1\" >122</td> \n",
       "        <td id=\"T_bc9bc56c_522a_11e8_a4b3_8c85905f408erow31_col2\" class=\"data row31 col2\" >0.98%</td> \n",
       "    </tr>    <tr> \n",
       "        <th id=\"T_bc9bc56c_522a_11e8_a4b3_8c85905f408elevel0_row32\" class=\"row_heading level0 row32\" >10</th> \n",
       "        <td id=\"T_bc9bc56c_522a_11e8_a4b3_8c85905f408erow32_col0\" class=\"data row32 col0\" >Urban Design</td> \n",
       "        <td id=\"T_bc9bc56c_522a_11e8_a4b3_8c85905f408erow32_col1\" class=\"data row32 col1\" >77</td> \n",
       "        <td id=\"T_bc9bc56c_522a_11e8_a4b3_8c85905f408erow32_col2\" class=\"data row32 col2\" >0.62%</td> \n",
       "    </tr>    <tr> \n",
       "        <th id=\"T_bc9bc56c_522a_11e8_a4b3_8c85905f408elevel0_row33\" class=\"row_heading level0 row33\" >11</th> \n",
       "        <td id=\"T_bc9bc56c_522a_11e8_a4b3_8c85905f408erow33_col0\" class=\"data row33 col0\" >Automotive Design</td> \n",
       "        <td id=\"T_bc9bc56c_522a_11e8_a4b3_8c85905f408erow33_col1\" class=\"data row33 col1\" >50</td> \n",
       "        <td id=\"T_bc9bc56c_522a_11e8_a4b3_8c85905f408erow33_col2\" class=\"data row33 col2\" >0.40%</td> \n",
       "    </tr></tbody> \n",
       "</table> "
      ],
      "text/plain": [
       "<pandas.io.formats.style.Styler at 0x1a176ce438>"
      ]
     },
     "metadata": {},
     "output_type": "display_data"
    },
    {
     "data": {
      "text/plain": [
       "\"V_3 : I'm also good at:\""
      ]
     },
     "metadata": {},
     "output_type": "display_data"
    },
    {
     "data": {
      "text/html": [
       "<style  type=\"text/css\" >\n",
       "</style>  \n",
       "<table id=\"T_bca29194_522a_11e8_b468_8c85905f408e\" > \n",
       "<thead>    <tr> \n",
       "        <th class=\"blank level0\" ></th> \n",
       "        <th class=\"col_heading level0 col0\" >Options</th> \n",
       "        <th class=\"col_heading level0 col1\" >Count</th> \n",
       "        <th class=\"col_heading level0 col2\" >Percent</th> \n",
       "    </tr></thead> \n",
       "<tbody>    <tr> \n",
       "        <th id=\"T_bca29194_522a_11e8_b468_8c85905f408elevel0_row0\" class=\"row_heading level0 row0\" >11</th> \n",
       "        <td id=\"T_bca29194_522a_11e8_b468_8c85905f408erow0_col0\" class=\"data row0 col0\" >Brainstorming and Ideation</td> \n",
       "        <td id=\"T_bca29194_522a_11e8_b468_8c85905f408erow0_col1\" class=\"data row0 col1\" >9710</td> \n",
       "        <td id=\"T_bca29194_522a_11e8_b468_8c85905f408erow0_col2\" class=\"data row0 col2\" >77.82%</td> \n",
       "    </tr>    <tr> \n",
       "        <th id=\"T_bca29194_522a_11e8_b468_8c85905f408elevel0_row1\" class=\"row_heading level0 row1\" >4</th> \n",
       "        <td id=\"T_bca29194_522a_11e8_b468_8c85905f408erow1_col0\" class=\"data row1 col0\" >Project Management</td> \n",
       "        <td id=\"T_bca29194_522a_11e8_b468_8c85905f408erow1_col1\" class=\"data row1 col1\" >5441</td> \n",
       "        <td id=\"T_bca29194_522a_11e8_b468_8c85905f408erow1_col2\" class=\"data row1 col2\" >43.61%</td> \n",
       "    </tr>    <tr> \n",
       "        <th id=\"T_bca29194_522a_11e8_b468_8c85905f408elevel0_row2\" class=\"row_heading level0 row2\" >13</th> \n",
       "        <td id=\"T_bca29194_522a_11e8_b468_8c85905f408erow2_col0\" class=\"data row2 col0\" >Drawing or Painting</td> \n",
       "        <td id=\"T_bca29194_522a_11e8_b468_8c85905f408erow2_col1\" class=\"data row2 col1\" >4969</td> \n",
       "        <td id=\"T_bca29194_522a_11e8_b468_8c85905f408erow2_col2\" class=\"data row2 col2\" >39.83%</td> \n",
       "    </tr>    <tr> \n",
       "        <th id=\"T_bca29194_522a_11e8_b468_8c85905f408elevel0_row3\" class=\"row_heading level0 row3\" >17</th> \n",
       "        <td id=\"T_bca29194_522a_11e8_b468_8c85905f408erow3_col0\" class=\"data row3 col0\" >Leadership</td> \n",
       "        <td id=\"T_bca29194_522a_11e8_b468_8c85905f408erow3_col1\" class=\"data row3 col1\" >4960</td> \n",
       "        <td id=\"T_bca29194_522a_11e8_b468_8c85905f408erow3_col2\" class=\"data row3 col2\" >39.75%</td> \n",
       "    </tr>    <tr> \n",
       "        <th id=\"T_bca29194_522a_11e8_b468_8c85905f408elevel0_row4\" class=\"row_heading level0 row4\" >6</th> \n",
       "        <td id=\"T_bca29194_522a_11e8_b468_8c85905f408erow4_col0\" class=\"data row4 col0\" >Writing</td> \n",
       "        <td id=\"T_bca29194_522a_11e8_b468_8c85905f408erow4_col1\" class=\"data row4 col1\" >4570</td> \n",
       "        <td id=\"T_bca29194_522a_11e8_b468_8c85905f408erow4_col2\" class=\"data row4 col2\" >36.63%</td> \n",
       "    </tr>    <tr> \n",
       "        <th id=\"T_bca29194_522a_11e8_b468_8c85905f408elevel0_row5\" class=\"row_heading level0 row5\" >0</th> \n",
       "        <td id=\"T_bca29194_522a_11e8_b468_8c85905f408erow5_col0\" class=\"data row5 col0\" >Mentoring</td> \n",
       "        <td id=\"T_bca29194_522a_11e8_b468_8c85905f408erow5_col1\" class=\"data row5 col1\" >4395</td> \n",
       "        <td id=\"T_bca29194_522a_11e8_b468_8c85905f408erow5_col2\" class=\"data row5 col2\" >35.22%</td> \n",
       "    </tr>    <tr> \n",
       "        <th id=\"T_bca29194_522a_11e8_b468_8c85905f408elevel0_row6\" class=\"row_heading level0 row6\" >14</th> \n",
       "        <td id=\"T_bca29194_522a_11e8_b468_8c85905f408erow6_col0\" class=\"data row6 col0\" >Social Media</td> \n",
       "        <td id=\"T_bca29194_522a_11e8_b468_8c85905f408erow6_col1\" class=\"data row6 col1\" >3963</td> \n",
       "        <td id=\"T_bca29194_522a_11e8_b468_8c85905f408erow6_col2\" class=\"data row6 col2\" >31.76%</td> \n",
       "    </tr>    <tr> \n",
       "        <th id=\"T_bca29194_522a_11e8_b468_8c85905f408elevel0_row7\" class=\"row_heading level0 row7\" >16</th> \n",
       "        <td id=\"T_bca29194_522a_11e8_b468_8c85905f408erow7_col0\" class=\"data row7 col0\" >Business</td> \n",
       "        <td id=\"T_bca29194_522a_11e8_b468_8c85905f408erow7_col1\" class=\"data row7 col1\" >2995</td> \n",
       "        <td id=\"T_bca29194_522a_11e8_b468_8c85905f408erow7_col2\" class=\"data row7 col2\" >24.00%</td> \n",
       "    </tr>    <tr> \n",
       "        <th id=\"T_bca29194_522a_11e8_b468_8c85905f408elevel0_row8\" class=\"row_heading level0 row8\" >9</th> \n",
       "        <td id=\"T_bca29194_522a_11e8_b468_8c85905f408erow8_col0\" class=\"data row8 col0\" >Public Speaking</td> \n",
       "        <td id=\"T_bca29194_522a_11e8_b468_8c85905f408erow8_col1\" class=\"data row8 col1\" >2690</td> \n",
       "        <td id=\"T_bca29194_522a_11e8_b468_8c85905f408erow8_col2\" class=\"data row8 col2\" >21.56%</td> \n",
       "    </tr>    <tr> \n",
       "        <th id=\"T_bca29194_522a_11e8_b468_8c85905f408elevel0_row9\" class=\"row_heading level0 row9\" >5</th> \n",
       "        <td id=\"T_bca29194_522a_11e8_b468_8c85905f408erow9_col0\" class=\"data row9 col0\" >Diversity and Inclusion</td> \n",
       "        <td id=\"T_bca29194_522a_11e8_b468_8c85905f408erow9_col1\" class=\"data row9 col1\" >2466</td> \n",
       "        <td id=\"T_bca29194_522a_11e8_b468_8c85905f408erow9_col2\" class=\"data row9 col2\" >19.76%</td> \n",
       "    </tr>    <tr> \n",
       "        <th id=\"T_bca29194_522a_11e8_b468_8c85905f408elevel0_row10\" class=\"row_heading level0 row10\" >7</th> \n",
       "        <td id=\"T_bca29194_522a_11e8_b468_8c85905f408erow10_col0\" class=\"data row10 col0\" >Coding</td> \n",
       "        <td id=\"T_bca29194_522a_11e8_b468_8c85905f408erow10_col1\" class=\"data row10 col1\" >2441</td> \n",
       "        <td id=\"T_bca29194_522a_11e8_b468_8c85905f408erow10_col2\" class=\"data row10 col2\" >19.56%</td> \n",
       "    </tr>    <tr> \n",
       "        <th id=\"T_bca29194_522a_11e8_b468_8c85905f408elevel0_row11\" class=\"row_heading level0 row11\" >12</th> \n",
       "        <td id=\"T_bca29194_522a_11e8_b468_8c85905f408erow11_col0\" class=\"data row11 col0\" >Facilitation</td> \n",
       "        <td id=\"T_bca29194_522a_11e8_b468_8c85905f408erow11_col1\" class=\"data row11 col1\" >2309</td> \n",
       "        <td id=\"T_bca29194_522a_11e8_b468_8c85905f408erow11_col2\" class=\"data row11 col2\" >18.51%</td> \n",
       "    </tr>    <tr> \n",
       "        <th id=\"T_bca29194_522a_11e8_b468_8c85905f408elevel0_row12\" class=\"row_heading level0 row12\" >1</th> \n",
       "        <td id=\"T_bca29194_522a_11e8_b468_8c85905f408erow12_col0\" class=\"data row12 col0\" >Relationship Management</td> \n",
       "        <td id=\"T_bca29194_522a_11e8_b468_8c85905f408erow12_col1\" class=\"data row12 col1\" >1942</td> \n",
       "        <td id=\"T_bca29194_522a_11e8_b468_8c85905f408erow12_col2\" class=\"data row12 col2\" >15.56%</td> \n",
       "    </tr>    <tr> \n",
       "        <th id=\"T_bca29194_522a_11e8_b468_8c85905f408elevel0_row13\" class=\"row_heading level0 row13\" >8</th> \n",
       "        <td id=\"T_bca29194_522a_11e8_b468_8c85905f408erow13_col0\" class=\"data row13 col0\" >Data Analysis</td> \n",
       "        <td id=\"T_bca29194_522a_11e8_b468_8c85905f408erow13_col1\" class=\"data row13 col1\" >1317</td> \n",
       "        <td id=\"T_bca29194_522a_11e8_b468_8c85905f408erow13_col2\" class=\"data row13 col2\" >10.56%</td> \n",
       "    </tr>    <tr> \n",
       "        <th id=\"T_bca29194_522a_11e8_b468_8c85905f408elevel0_row14\" class=\"row_heading level0 row14\" >15</th> \n",
       "        <td id=\"T_bca29194_522a_11e8_b468_8c85905f408erow14_col0\" class=\"data row14 col0\" >SEO/SEM</td> \n",
       "        <td id=\"T_bca29194_522a_11e8_b468_8c85905f408erow14_col1\" class=\"data row14 col1\" >680</td> \n",
       "        <td id=\"T_bca29194_522a_11e8_b468_8c85905f408erow14_col2\" class=\"data row14 col2\" >5.45%</td> \n",
       "    </tr>    <tr> \n",
       "        <th id=\"T_bca29194_522a_11e8_b468_8c85905f408elevel0_row15\" class=\"row_heading level0 row15\" >10</th> \n",
       "        <td id=\"T_bca29194_522a_11e8_b468_8c85905f408erow15_col0\" class=\"data row15 col0\" >Sales</td> \n",
       "        <td id=\"T_bca29194_522a_11e8_b468_8c85905f408erow15_col1\" class=\"data row15 col1\" >671</td> \n",
       "        <td id=\"T_bca29194_522a_11e8_b468_8c85905f408erow15_col2\" class=\"data row15 col2\" >5.38%</td> \n",
       "    </tr>    <tr> \n",
       "        <th id=\"T_bca29194_522a_11e8_b468_8c85905f408elevel0_row16\" class=\"row_heading level0 row16\" >2</th> \n",
       "        <td id=\"T_bca29194_522a_11e8_b468_8c85905f408erow16_col0\" class=\"data row16 col0\" >Engineering</td> \n",
       "        <td id=\"T_bca29194_522a_11e8_b468_8c85905f408erow16_col1\" class=\"data row16 col1\" >501</td> \n",
       "        <td id=\"T_bca29194_522a_11e8_b468_8c85905f408erow16_col2\" class=\"data row16 col2\" >4.02%</td> \n",
       "    </tr>    <tr> \n",
       "        <th id=\"T_bca29194_522a_11e8_b468_8c85905f408elevel0_row17\" class=\"row_heading level0 row17\" >3</th> \n",
       "        <td id=\"T_bca29194_522a_11e8_b468_8c85905f408erow17_col0\" class=\"data row17 col0\" >None of these</td> \n",
       "        <td id=\"T_bca29194_522a_11e8_b468_8c85905f408erow17_col1\" class=\"data row17 col1\" >207</td> \n",
       "        <td id=\"T_bca29194_522a_11e8_b468_8c85905f408erow17_col2\" class=\"data row17 col2\" >1.66%</td> \n",
       "    </tr></tbody> \n",
       "</table> "
      ],
      "text/plain": [
       "<pandas.io.formats.style.Styler at 0x1a176beac8>"
      ]
     },
     "metadata": {},
     "output_type": "display_data"
    },
    {
     "data": {
      "text/plain": [
       "'V_4 : I am currently:'"
      ]
     },
     "metadata": {},
     "output_type": "display_data"
    },
    {
     "data": {
      "text/html": [
       "<style  type=\"text/css\" >\n",
       "</style>  \n",
       "<table id=\"T_bca4199c_522a_11e8_966c_8c85905f408e\" > \n",
       "<thead>    <tr> \n",
       "        <th class=\"blank level0\" ></th> \n",
       "        <th class=\"col_heading level0 col0\" >Options</th> \n",
       "        <th class=\"col_heading level0 col1\" >Count</th> \n",
       "        <th class=\"col_heading level0 col2\" >Percent</th> \n",
       "    </tr></thead> \n",
       "<tbody>    <tr> \n",
       "        <th id=\"T_bca4199c_522a_11e8_966c_8c85905f408elevel0_row0\" class=\"row_heading level0 row0\" >0</th> \n",
       "        <td id=\"T_bca4199c_522a_11e8_966c_8c85905f408erow0_col0\" class=\"data row0 col0\" >A full-time employee in-house</td> \n",
       "        <td id=\"T_bca4199c_522a_11e8_966c_8c85905f408erow0_col1\" class=\"data row0 col1\" >5453</td> \n",
       "        <td id=\"T_bca4199c_522a_11e8_966c_8c85905f408erow0_col2\" class=\"data row0 col2\" >43.70%</td> \n",
       "    </tr>    <tr> \n",
       "        <th id=\"T_bca4199c_522a_11e8_966c_8c85905f408elevel0_row1\" class=\"row_heading level0 row1\" >1</th> \n",
       "        <td id=\"T_bca4199c_522a_11e8_966c_8c85905f408erow1_col0\" class=\"data row1 col0\" >A full-time employee at an agency or consultancy</td> \n",
       "        <td id=\"T_bca4199c_522a_11e8_966c_8c85905f408erow1_col1\" class=\"data row1 col1\" >3690</td> \n",
       "        <td id=\"T_bca4199c_522a_11e8_966c_8c85905f408erow1_col2\" class=\"data row1 col2\" >29.57%</td> \n",
       "    </tr>    <tr> \n",
       "        <th id=\"T_bca4199c_522a_11e8_966c_8c85905f408elevel0_row2\" class=\"row_heading level0 row2\" >2</th> \n",
       "        <td id=\"T_bca4199c_522a_11e8_966c_8c85905f408erow2_col0\" class=\"data row2 col0\" >Self-employed or freelancing</td> \n",
       "        <td id=\"T_bca4199c_522a_11e8_966c_8c85905f408erow2_col1\" class=\"data row2 col1\" >1932</td> \n",
       "        <td id=\"T_bca4199c_522a_11e8_966c_8c85905f408erow2_col2\" class=\"data row2 col2\" >15.48%</td> \n",
       "    </tr>    <tr> \n",
       "        <th id=\"T_bca4199c_522a_11e8_966c_8c85905f408elevel0_row3\" class=\"row_heading level0 row3\" >3</th> \n",
       "        <td id=\"T_bca4199c_522a_11e8_966c_8c85905f408erow3_col0\" class=\"data row3 col0\" >A contract employee in-house</td> \n",
       "        <td id=\"T_bca4199c_522a_11e8_966c_8c85905f408erow3_col1\" class=\"data row3 col1\" >395</td> \n",
       "        <td id=\"T_bca4199c_522a_11e8_966c_8c85905f408erow3_col2\" class=\"data row3 col2\" >3.17%</td> \n",
       "    </tr>    <tr> \n",
       "        <th id=\"T_bca4199c_522a_11e8_966c_8c85905f408elevel0_row4\" class=\"row_heading level0 row4\" >4</th> \n",
       "        <td id=\"T_bca4199c_522a_11e8_966c_8c85905f408erow4_col0\" class=\"data row4 col0\" >An educator</td> \n",
       "        <td id=\"T_bca4199c_522a_11e8_966c_8c85905f408erow4_col1\" class=\"data row4 col1\" >382</td> \n",
       "        <td id=\"T_bca4199c_522a_11e8_966c_8c85905f408erow4_col2\" class=\"data row4 col2\" >3.06%</td> \n",
       "    </tr>    <tr> \n",
       "        <th id=\"T_bca4199c_522a_11e8_966c_8c85905f408elevel0_row5\" class=\"row_heading level0 row5\" >5</th> \n",
       "        <td id=\"T_bca4199c_522a_11e8_966c_8c85905f408erow5_col0\" class=\"data row5 col0\" >Other</td> \n",
       "        <td id=\"T_bca4199c_522a_11e8_966c_8c85905f408erow5_col1\" class=\"data row5 col1\" >324</td> \n",
       "        <td id=\"T_bca4199c_522a_11e8_966c_8c85905f408erow5_col2\" class=\"data row5 col2\" >2.60%</td> \n",
       "    </tr>    <tr> \n",
       "        <th id=\"T_bca4199c_522a_11e8_966c_8c85905f408elevel0_row6\" class=\"row_heading level0 row6\" >6</th> \n",
       "        <td id=\"T_bca4199c_522a_11e8_966c_8c85905f408erow6_col0\" class=\"data row6 col0\" >A contract employee at an agency or consultancy</td> \n",
       "        <td id=\"T_bca4199c_522a_11e8_966c_8c85905f408erow6_col1\" class=\"data row6 col1\" >301</td> \n",
       "        <td id=\"T_bca4199c_522a_11e8_966c_8c85905f408erow6_col2\" class=\"data row6 col2\" >2.41%</td> \n",
       "    </tr></tbody> \n",
       "</table> "
      ],
      "text/plain": [
       "<pandas.io.formats.style.Styler at 0x1a176b6c50>"
      ]
     },
     "metadata": {},
     "output_type": "display_data"
    },
    {
     "data": {
      "text/plain": [
       "'V_5 : My company specializes in:'"
      ]
     },
     "metadata": {},
     "output_type": "display_data"
    },
    {
     "data": {
      "text/html": [
       "<style  type=\"text/css\" >\n",
       "</style>  \n",
       "<table id=\"T_bca8e030_522a_11e8_a69d_8c85905f408e\" > \n",
       "<thead>    <tr> \n",
       "        <th class=\"blank level0\" ></th> \n",
       "        <th class=\"col_heading level0 col0\" >Options</th> \n",
       "        <th class=\"col_heading level0 col1\" >Count</th> \n",
       "        <th class=\"col_heading level0 col2\" >Percent</th> \n",
       "    </tr></thead> \n",
       "<tbody>    <tr> \n",
       "        <th id=\"T_bca8e030_522a_11e8_a69d_8c85905f408elevel0_row0\" class=\"row_heading level0 row0\" >9</th> \n",
       "        <td id=\"T_bca8e030_522a_11e8_a69d_8c85905f408erow0_col0\" class=\"data row0 col0\" >Digital</td> \n",
       "        <td id=\"T_bca8e030_522a_11e8_a69d_8c85905f408erow0_col1\" class=\"data row0 col1\" >3337</td> \n",
       "        <td id=\"T_bca8e030_522a_11e8_a69d_8c85905f408erow0_col2\" class=\"data row0 col2\" >26.75%</td> \n",
       "    </tr>    <tr> \n",
       "        <th id=\"T_bca8e030_522a_11e8_a69d_8c85905f408elevel0_row1\" class=\"row_heading level0 row1\" >10</th> \n",
       "        <td id=\"T_bca8e030_522a_11e8_a69d_8c85905f408erow1_col0\" class=\"data row1 col0\" >Branding</td> \n",
       "        <td id=\"T_bca8e030_522a_11e8_a69d_8c85905f408erow1_col1\" class=\"data row1 col1\" >2928</td> \n",
       "        <td id=\"T_bca8e030_522a_11e8_a69d_8c85905f408erow1_col2\" class=\"data row1 col2\" >23.47%</td> \n",
       "    </tr>    <tr> \n",
       "        <th id=\"T_bca8e030_522a_11e8_a69d_8c85905f408elevel0_row2\" class=\"row_heading level0 row2\" >1</th> \n",
       "        <td id=\"T_bca8e030_522a_11e8_a69d_8c85905f408erow2_col0\" class=\"data row2 col0\" >Print</td> \n",
       "        <td id=\"T_bca8e030_522a_11e8_a69d_8c85905f408erow2_col1\" class=\"data row2 col1\" >2330</td> \n",
       "        <td id=\"T_bca8e030_522a_11e8_a69d_8c85905f408erow2_col2\" class=\"data row2 col2\" >18.67%</td> \n",
       "    </tr>    <tr> \n",
       "        <th id=\"T_bca8e030_522a_11e8_a69d_8c85905f408elevel0_row3\" class=\"row_heading level0 row3\" >5</th> \n",
       "        <td id=\"T_bca8e030_522a_11e8_a69d_8c85905f408erow3_col0\" class=\"data row3 col0\" >Advertising</td> \n",
       "        <td id=\"T_bca8e030_522a_11e8_a69d_8c85905f408erow3_col1\" class=\"data row3 col1\" >2046</td> \n",
       "        <td id=\"T_bca8e030_522a_11e8_a69d_8c85905f408erow3_col2\" class=\"data row3 col2\" >16.40%</td> \n",
       "    </tr>    <tr> \n",
       "        <th id=\"T_bca8e030_522a_11e8_a69d_8c85905f408elevel0_row4\" class=\"row_heading level0 row4\" >6</th> \n",
       "        <td id=\"T_bca8e030_522a_11e8_a69d_8c85905f408erow4_col0\" class=\"data row4 col0\" >Strategy</td> \n",
       "        <td id=\"T_bca8e030_522a_11e8_a69d_8c85905f408erow4_col1\" class=\"data row4 col1\" >2039</td> \n",
       "        <td id=\"T_bca8e030_522a_11e8_a69d_8c85905f408erow4_col2\" class=\"data row4 col2\" >16.34%</td> \n",
       "    </tr>    <tr> \n",
       "        <th id=\"T_bca8e030_522a_11e8_a69d_8c85905f408elevel0_row5\" class=\"row_heading level0 row5\" >0</th> \n",
       "        <td id=\"T_bca8e030_522a_11e8_a69d_8c85905f408erow5_col0\" class=\"data row5 col0\" >Product Design</td> \n",
       "        <td id=\"T_bca8e030_522a_11e8_a69d_8c85905f408erow5_col1\" class=\"data row5 col1\" >1315</td> \n",
       "        <td id=\"T_bca8e030_522a_11e8_a69d_8c85905f408erow5_col2\" class=\"data row5 col2\" >10.54%</td> \n",
       "    </tr>    <tr> \n",
       "        <th id=\"T_bca8e030_522a_11e8_a69d_8c85905f408elevel0_row6\" class=\"row_heading level0 row6\" >4</th> \n",
       "        <td id=\"T_bca8e030_522a_11e8_a69d_8c85905f408erow6_col0\" class=\"data row6 col0\" >Innovation</td> \n",
       "        <td id=\"T_bca8e030_522a_11e8_a69d_8c85905f408erow6_col1\" class=\"data row6 col1\" >1067</td> \n",
       "        <td id=\"T_bca8e030_522a_11e8_a69d_8c85905f408erow6_col2\" class=\"data row6 col2\" >8.55%</td> \n",
       "    </tr>    <tr> \n",
       "        <th id=\"T_bca8e030_522a_11e8_a69d_8c85905f408elevel0_row7\" class=\"row_heading level0 row7\" >7</th> \n",
       "        <td id=\"T_bca8e030_522a_11e8_a69d_8c85905f408erow7_col0\" class=\"data row7 col0\" >Service Design</td> \n",
       "        <td id=\"T_bca8e030_522a_11e8_a69d_8c85905f408erow7_col1\" class=\"data row7 col1\" >860</td> \n",
       "        <td id=\"T_bca8e030_522a_11e8_a69d_8c85905f408erow7_col2\" class=\"data row7 col2\" >6.89%</td> \n",
       "    </tr>    <tr> \n",
       "        <th id=\"T_bca8e030_522a_11e8_a69d_8c85905f408elevel0_row8\" class=\"row_heading level0 row8\" >8</th> \n",
       "        <td id=\"T_bca8e030_522a_11e8_a69d_8c85905f408erow8_col0\" class=\"data row8 col0\" >Social Impact</td> \n",
       "        <td id=\"T_bca8e030_522a_11e8_a69d_8c85905f408erow8_col1\" class=\"data row8 col1\" >718</td> \n",
       "        <td id=\"T_bca8e030_522a_11e8_a69d_8c85905f408erow8_col2\" class=\"data row8 col2\" >5.75%</td> \n",
       "    </tr>    <tr> \n",
       "        <th id=\"T_bca8e030_522a_11e8_a69d_8c85905f408elevel0_row9\" class=\"row_heading level0 row9\" >2</th> \n",
       "        <td id=\"T_bca8e030_522a_11e8_a69d_8c85905f408erow9_col0\" class=\"data row9 col0\" >None of these</td> \n",
       "        <td id=\"T_bca8e030_522a_11e8_a69d_8c85905f408erow9_col1\" class=\"data row9 col1\" >413</td> \n",
       "        <td id=\"T_bca8e030_522a_11e8_a69d_8c85905f408erow9_col2\" class=\"data row9 col2\" >3.31%</td> \n",
       "    </tr>    <tr> \n",
       "        <th id=\"T_bca8e030_522a_11e8_a69d_8c85905f408elevel0_row10\" class=\"row_heading level0 row10\" >3</th> \n",
       "        <td id=\"T_bca8e030_522a_11e8_a69d_8c85905f408erow10_col0\" class=\"data row10 col0\" >Broadcast</td> \n",
       "        <td id=\"T_bca8e030_522a_11e8_a69d_8c85905f408erow10_col1\" class=\"data row10 col1\" >297</td> \n",
       "        <td id=\"T_bca8e030_522a_11e8_a69d_8c85905f408erow10_col2\" class=\"data row10 col2\" >2.38%</td> \n",
       "    </tr></tbody> \n",
       "</table> "
      ],
      "text/plain": [
       "<pandas.io.formats.style.Styler at 0x1a176d55f8>"
      ]
     },
     "metadata": {},
     "output_type": "display_data"
    },
    {
     "data": {
      "text/plain": [
       "'V_6 : My company is:'"
      ]
     },
     "metadata": {},
     "output_type": "display_data"
    },
    {
     "data": {
      "text/html": [
       "<style  type=\"text/css\" >\n",
       "</style>  \n",
       "<table id=\"T_bcaa4448_522a_11e8_b680_8c85905f408e\" > \n",
       "<thead>    <tr> \n",
       "        <th class=\"blank level0\" ></th> \n",
       "        <th class=\"col_heading level0 col0\" >Options</th> \n",
       "        <th class=\"col_heading level0 col1\" >Count</th> \n",
       "        <th class=\"col_heading level0 col2\" >Percent</th> \n",
       "    </tr></thead> \n",
       "<tbody>    <tr> \n",
       "        <th id=\"T_bcaa4448_522a_11e8_b680_8c85905f408elevel0_row0\" class=\"row_heading level0 row0\" >0</th> \n",
       "        <td id=\"T_bcaa4448_522a_11e8_b680_8c85905f408erow0_col0\" class=\"data row0 col0\" >For-Profit/Corporate</td> \n",
       "        <td id=\"T_bcaa4448_522a_11e8_b680_8c85905f408erow0_col1\" class=\"data row0 col1\" >3662</td> \n",
       "        <td id=\"T_bcaa4448_522a_11e8_b680_8c85905f408erow0_col2\" class=\"data row0 col2\" >29.35%</td> \n",
       "    </tr>    <tr> \n",
       "        <th id=\"T_bcaa4448_522a_11e8_b680_8c85905f408elevel0_row1\" class=\"row_heading level0 row1\" >1</th> \n",
       "        <td id=\"T_bcaa4448_522a_11e8_b680_8c85905f408erow1_col0\" class=\"data row1 col0\" >Startup</td> \n",
       "        <td id=\"T_bcaa4448_522a_11e8_b680_8c85905f408erow1_col1\" class=\"data row1 col1\" >676</td> \n",
       "        <td id=\"T_bcaa4448_522a_11e8_b680_8c85905f408erow1_col2\" class=\"data row1 col2\" >5.42%</td> \n",
       "    </tr>    <tr> \n",
       "        <th id=\"T_bcaa4448_522a_11e8_b680_8c85905f408elevel0_row2\" class=\"row_heading level0 row2\" >2</th> \n",
       "        <td id=\"T_bcaa4448_522a_11e8_b680_8c85905f408erow2_col0\" class=\"data row2 col0\" >Non-Profit</td> \n",
       "        <td id=\"T_bcaa4448_522a_11e8_b680_8c85905f408erow2_col1\" class=\"data row2 col1\" >600</td> \n",
       "        <td id=\"T_bcaa4448_522a_11e8_b680_8c85905f408erow2_col2\" class=\"data row2 col2\" >4.81%</td> \n",
       "    </tr>    <tr> \n",
       "        <th id=\"T_bcaa4448_522a_11e8_b680_8c85905f408elevel0_row3\" class=\"row_heading level0 row3\" >3</th> \n",
       "        <td id=\"T_bcaa4448_522a_11e8_b680_8c85905f408erow3_col0\" class=\"data row3 col0\" >Education</td> \n",
       "        <td id=\"T_bcaa4448_522a_11e8_b680_8c85905f408erow3_col1\" class=\"data row3 col1\" >447</td> \n",
       "        <td id=\"T_bcaa4448_522a_11e8_b680_8c85905f408erow3_col2\" class=\"data row3 col2\" >3.58%</td> \n",
       "    </tr>    <tr> \n",
       "        <th id=\"T_bcaa4448_522a_11e8_b680_8c85905f408elevel0_row4\" class=\"row_heading level0 row4\" >4</th> \n",
       "        <td id=\"T_bcaa4448_522a_11e8_b680_8c85905f408erow4_col0\" class=\"data row4 col0\" >Other</td> \n",
       "        <td id=\"T_bcaa4448_522a_11e8_b680_8c85905f408erow4_col1\" class=\"data row4 col1\" >214</td> \n",
       "        <td id=\"T_bcaa4448_522a_11e8_b680_8c85905f408erow4_col2\" class=\"data row4 col2\" >1.72%</td> \n",
       "    </tr>    <tr> \n",
       "        <th id=\"T_bcaa4448_522a_11e8_b680_8c85905f408elevel0_row5\" class=\"row_heading level0 row5\" >5</th> \n",
       "        <td id=\"T_bcaa4448_522a_11e8_b680_8c85905f408erow5_col0\" class=\"data row5 col0\" >Government</td> \n",
       "        <td id=\"T_bcaa4448_522a_11e8_b680_8c85905f408erow5_col1\" class=\"data row5 col1\" >151</td> \n",
       "        <td id=\"T_bcaa4448_522a_11e8_b680_8c85905f408erow5_col2\" class=\"data row5 col2\" >1.21%</td> \n",
       "    </tr></tbody> \n",
       "</table> "
      ],
      "text/plain": [
       "<pandas.io.formats.style.Styler at 0x1a176d54e0>"
      ]
     },
     "metadata": {},
     "output_type": "display_data"
    },
    {
     "data": {
      "text/plain": [
       "'V_7 : I teach:'"
      ]
     },
     "metadata": {},
     "output_type": "display_data"
    },
    {
     "data": {
      "text/html": [
       "<style  type=\"text/css\" >\n",
       "</style>  \n",
       "<table id=\"T_bcae074a_522a_11e8_ba4d_8c85905f408e\" > \n",
       "<thead>    <tr> \n",
       "        <th class=\"blank level0\" ></th> \n",
       "        <th class=\"col_heading level0 col0\" >Options</th> \n",
       "        <th class=\"col_heading level0 col1\" >Count</th> \n",
       "        <th class=\"col_heading level0 col2\" >Percent</th> \n",
       "    </tr></thead> \n",
       "<tbody>    <tr> \n",
       "        <th id=\"T_bcae074a_522a_11e8_ba4d_8c85905f408elevel0_row0\" class=\"row_heading level0 row0\" >3</th> \n",
       "        <td id=\"T_bcae074a_522a_11e8_ba4d_8c85905f408erow0_col0\" class=\"data row0 col0\" >Undergraduate school</td> \n",
       "        <td id=\"T_bcae074a_522a_11e8_ba4d_8c85905f408erow0_col1\" class=\"data row0 col1\" >261</td> \n",
       "        <td id=\"T_bcae074a_522a_11e8_ba4d_8c85905f408erow0_col2\" class=\"data row0 col2\" >2.09%</td> \n",
       "    </tr>    <tr> \n",
       "        <th id=\"T_bcae074a_522a_11e8_ba4d_8c85905f408elevel0_row1\" class=\"row_heading level0 row1\" >4</th> \n",
       "        <td id=\"T_bcae074a_522a_11e8_ba4d_8c85905f408erow1_col0\" class=\"data row1 col0\" >Graduate school</td> \n",
       "        <td id=\"T_bcae074a_522a_11e8_ba4d_8c85905f408erow1_col1\" class=\"data row1 col1\" >116</td> \n",
       "        <td id=\"T_bcae074a_522a_11e8_ba4d_8c85905f408erow1_col2\" class=\"data row1 col2\" >0.93%</td> \n",
       "    </tr>    <tr> \n",
       "        <th id=\"T_bcae074a_522a_11e8_ba4d_8c85905f408elevel0_row2\" class=\"row_heading level0 row2\" >2</th> \n",
       "        <td id=\"T_bcae074a_522a_11e8_ba4d_8c85905f408erow2_col0\" class=\"data row2 col0\" >Programs or workshops</td> \n",
       "        <td id=\"T_bcae074a_522a_11e8_ba4d_8c85905f408erow2_col1\" class=\"data row2 col1\" >82</td> \n",
       "        <td id=\"T_bcae074a_522a_11e8_ba4d_8c85905f408erow2_col2\" class=\"data row2 col2\" >0.66%</td> \n",
       "    </tr>    <tr> \n",
       "        <th id=\"T_bcae074a_522a_11e8_ba4d_8c85905f408elevel0_row3\" class=\"row_heading level0 row3\" >5</th> \n",
       "        <td id=\"T_bcae074a_522a_11e8_ba4d_8c85905f408erow3_col0\" class=\"data row3 col0\" >Art school</td> \n",
       "        <td id=\"T_bcae074a_522a_11e8_ba4d_8c85905f408erow3_col1\" class=\"data row3 col1\" >65</td> \n",
       "        <td id=\"T_bcae074a_522a_11e8_ba4d_8c85905f408erow3_col2\" class=\"data row3 col2\" >0.52%</td> \n",
       "    </tr>    <tr> \n",
       "        <th id=\"T_bcae074a_522a_11e8_ba4d_8c85905f408elevel0_row4\" class=\"row_heading level0 row4\" >1</th> \n",
       "        <td id=\"T_bcae074a_522a_11e8_ba4d_8c85905f408erow4_col0\" class=\"data row4 col0\" >Technical or Trade school</td> \n",
       "        <td id=\"T_bcae074a_522a_11e8_ba4d_8c85905f408erow4_col1\" class=\"data row4 col1\" >34</td> \n",
       "        <td id=\"T_bcae074a_522a_11e8_ba4d_8c85905f408erow4_col2\" class=\"data row4 col2\" >0.27%</td> \n",
       "    </tr>    <tr> \n",
       "        <th id=\"T_bcae074a_522a_11e8_ba4d_8c85905f408elevel0_row5\" class=\"row_heading level0 row5\" >0</th> \n",
       "        <td id=\"T_bcae074a_522a_11e8_ba4d_8c85905f408erow5_col0\" class=\"data row5 col0\" >Junior High or High school</td> \n",
       "        <td id=\"T_bcae074a_522a_11e8_ba4d_8c85905f408erow5_col1\" class=\"data row5 col1\" >28</td> \n",
       "        <td id=\"T_bcae074a_522a_11e8_ba4d_8c85905f408erow5_col2\" class=\"data row5 col2\" >0.22%</td> \n",
       "    </tr>    <tr> \n",
       "        <th id=\"T_bcae074a_522a_11e8_ba4d_8c85905f408elevel0_row6\" class=\"row_heading level0 row6\" >6</th> \n",
       "        <td id=\"T_bcae074a_522a_11e8_ba4d_8c85905f408erow6_col0\" class=\"data row6 col0\" >Elementary school</td> \n",
       "        <td id=\"T_bcae074a_522a_11e8_ba4d_8c85905f408erow6_col1\" class=\"data row6 col1\" >5</td> \n",
       "        <td id=\"T_bcae074a_522a_11e8_ba4d_8c85905f408erow6_col2\" class=\"data row6 col2\" >0.04%</td> \n",
       "    </tr></tbody> \n",
       "</table> "
      ],
      "text/plain": [
       "<pandas.io.formats.style.Styler at 0x1a176d5208>"
      ]
     },
     "metadata": {},
     "output_type": "display_data"
    },
    {
     "data": {
      "text/plain": [
       "'V_9 : My organization has:'"
      ]
     },
     "metadata": {},
     "output_type": "display_data"
    },
    {
     "data": {
      "text/html": [
       "<style  type=\"text/css\" >\n",
       "</style>  \n",
       "<table id=\"T_bcaf8840_522a_11e8_b7e0_8c85905f408e\" > \n",
       "<thead>    <tr> \n",
       "        <th class=\"blank level0\" ></th> \n",
       "        <th class=\"col_heading level0 col0\" >Options</th> \n",
       "        <th class=\"col_heading level0 col1\" >Count</th> \n",
       "        <th class=\"col_heading level0 col2\" >Percent</th> \n",
       "    </tr></thead> \n",
       "<tbody>    <tr> \n",
       "        <th id=\"T_bcaf8840_522a_11e8_b7e0_8c85905f408elevel0_row0\" class=\"row_heading level0 row0\" >0</th> \n",
       "        <td id=\"T_bcaf8840_522a_11e8_b7e0_8c85905f408erow0_col0\" class=\"data row0 col0\" >1-10 employees</td> \n",
       "        <td id=\"T_bcaf8840_522a_11e8_b7e0_8c85905f408erow0_col1\" class=\"data row0 col1\" >3144</td> \n",
       "        <td id=\"T_bcaf8840_522a_11e8_b7e0_8c85905f408erow0_col2\" class=\"data row0 col2\" >25.20%</td> \n",
       "    </tr>    <tr> \n",
       "        <th id=\"T_bcaf8840_522a_11e8_b7e0_8c85905f408elevel0_row1\" class=\"row_heading level0 row1\" >1</th> \n",
       "        <td id=\"T_bcaf8840_522a_11e8_b7e0_8c85905f408erow1_col0\" class=\"data row1 col0\" >1000+ employees</td> \n",
       "        <td id=\"T_bcaf8840_522a_11e8_b7e0_8c85905f408erow1_col1\" class=\"data row1 col1\" >2832</td> \n",
       "        <td id=\"T_bcaf8840_522a_11e8_b7e0_8c85905f408erow1_col2\" class=\"data row1 col2\" >22.70%</td> \n",
       "    </tr>    <tr> \n",
       "        <th id=\"T_bcaf8840_522a_11e8_b7e0_8c85905f408elevel0_row2\" class=\"row_heading level0 row2\" >2</th> \n",
       "        <td id=\"T_bcaf8840_522a_11e8_b7e0_8c85905f408erow2_col0\" class=\"data row2 col0\" >11-50 employees</td> \n",
       "        <td id=\"T_bcaf8840_522a_11e8_b7e0_8c85905f408erow2_col1\" class=\"data row2 col1\" >2387</td> \n",
       "        <td id=\"T_bcaf8840_522a_11e8_b7e0_8c85905f408erow2_col2\" class=\"data row2 col2\" >19.13%</td> \n",
       "    </tr>    <tr> \n",
       "        <th id=\"T_bcaf8840_522a_11e8_b7e0_8c85905f408elevel0_row3\" class=\"row_heading level0 row3\" >3</th> \n",
       "        <td id=\"T_bcaf8840_522a_11e8_b7e0_8c85905f408erow3_col0\" class=\"data row3 col0\" >101-250 employees</td> \n",
       "        <td id=\"T_bcaf8840_522a_11e8_b7e0_8c85905f408erow3_col1\" class=\"data row3 col1\" >1136</td> \n",
       "        <td id=\"T_bcaf8840_522a_11e8_b7e0_8c85905f408erow3_col2\" class=\"data row3 col2\" >9.10%</td> \n",
       "    </tr>    <tr> \n",
       "        <th id=\"T_bcaf8840_522a_11e8_b7e0_8c85905f408elevel0_row4\" class=\"row_heading level0 row4\" >4</th> \n",
       "        <td id=\"T_bcaf8840_522a_11e8_b7e0_8c85905f408erow4_col0\" class=\"data row4 col0\" >51-100 employees</td> \n",
       "        <td id=\"T_bcaf8840_522a_11e8_b7e0_8c85905f408erow4_col1\" class=\"data row4 col1\" >1125</td> \n",
       "        <td id=\"T_bcaf8840_522a_11e8_b7e0_8c85905f408erow4_col2\" class=\"data row4 col2\" >9.02%</td> \n",
       "    </tr>    <tr> \n",
       "        <th id=\"T_bcaf8840_522a_11e8_b7e0_8c85905f408elevel0_row5\" class=\"row_heading level0 row5\" >5</th> \n",
       "        <td id=\"T_bcaf8840_522a_11e8_b7e0_8c85905f408erow5_col0\" class=\"data row5 col0\" >251-500 employees</td> \n",
       "        <td id=\"T_bcaf8840_522a_11e8_b7e0_8c85905f408erow5_col1\" class=\"data row5 col1\" >862</td> \n",
       "        <td id=\"T_bcaf8840_522a_11e8_b7e0_8c85905f408erow5_col2\" class=\"data row5 col2\" >6.91%</td> \n",
       "    </tr>    <tr> \n",
       "        <th id=\"T_bcaf8840_522a_11e8_b7e0_8c85905f408elevel0_row6\" class=\"row_heading level0 row6\" >6</th> \n",
       "        <td id=\"T_bcaf8840_522a_11e8_b7e0_8c85905f408erow6_col0\" class=\"data row6 col0\" >501-1000 employees</td> \n",
       "        <td id=\"T_bcaf8840_522a_11e8_b7e0_8c85905f408erow6_col1\" class=\"data row6 col1\" >719</td> \n",
       "        <td id=\"T_bcaf8840_522a_11e8_b7e0_8c85905f408erow6_col2\" class=\"data row6 col2\" >5.76%</td> \n",
       "    </tr>    <tr> \n",
       "        <th id=\"T_bcaf8840_522a_11e8_b7e0_8c85905f408elevel0_row7\" class=\"row_heading level0 row7\" >7</th> \n",
       "        <td id=\"T_bcaf8840_522a_11e8_b7e0_8c85905f408erow7_col0\" class=\"data row7 col0\" >Not sure</td> \n",
       "        <td id=\"T_bcaf8840_522a_11e8_b7e0_8c85905f408erow7_col1\" class=\"data row7 col1\" >263</td> \n",
       "        <td id=\"T_bcaf8840_522a_11e8_b7e0_8c85905f408erow7_col2\" class=\"data row7 col2\" >2.11%</td> \n",
       "    </tr></tbody> \n",
       "</table> "
      ],
      "text/plain": [
       "<pandas.io.formats.style.Styler at 0x1a176d5ba8>"
      ]
     },
     "metadata": {},
     "output_type": "display_data"
    },
    {
     "data": {
      "text/plain": [
       "'V_10 : My immediate team is:'"
      ]
     },
     "metadata": {},
     "output_type": "display_data"
    },
    {
     "data": {
      "text/html": [
       "<style  type=\"text/css\" >\n",
       "</style>  \n",
       "<table id=\"T_bcb1f08a_522a_11e8_a31e_8c85905f408e\" > \n",
       "<thead>    <tr> \n",
       "        <th class=\"blank level0\" ></th> \n",
       "        <th class=\"col_heading level0 col0\" >Options</th> \n",
       "        <th class=\"col_heading level0 col1\" >Count</th> \n",
       "        <th class=\"col_heading level0 col2\" >Percent</th> \n",
       "    </tr></thead> \n",
       "<tbody>    <tr> \n",
       "        <th id=\"T_bcb1f08a_522a_11e8_a31e_8c85905f408elevel0_row0\" class=\"row_heading level0 row0\" >0</th> \n",
       "        <td id=\"T_bcb1f08a_522a_11e8_a31e_8c85905f408erow0_col0\" class=\"data row0 col0\" >2-4 people</td> \n",
       "        <td id=\"T_bcb1f08a_522a_11e8_a31e_8c85905f408erow0_col1\" class=\"data row0 col1\" >4842</td> \n",
       "        <td id=\"T_bcb1f08a_522a_11e8_a31e_8c85905f408erow0_col2\" class=\"data row0 col2\" >38.81%</td> \n",
       "    </tr>    <tr> \n",
       "        <th id=\"T_bcb1f08a_522a_11e8_a31e_8c85905f408elevel0_row1\" class=\"row_heading level0 row1\" >1</th> \n",
       "        <td id=\"T_bcb1f08a_522a_11e8_a31e_8c85905f408erow1_col0\" class=\"data row1 col0\" >5-10 people</td> \n",
       "        <td id=\"T_bcb1f08a_522a_11e8_a31e_8c85905f408erow1_col1\" class=\"data row1 col1\" >3747</td> \n",
       "        <td id=\"T_bcb1f08a_522a_11e8_a31e_8c85905f408erow1_col2\" class=\"data row1 col2\" >30.03%</td> \n",
       "    </tr>    <tr> \n",
       "        <th id=\"T_bcb1f08a_522a_11e8_a31e_8c85905f408elevel0_row2\" class=\"row_heading level0 row2\" >2</th> \n",
       "        <td id=\"T_bcb1f08a_522a_11e8_a31e_8c85905f408erow2_col0\" class=\"data row2 col0\" >Just me</td> \n",
       "        <td id=\"T_bcb1f08a_522a_11e8_a31e_8c85905f408erow2_col1\" class=\"data row2 col1\" >2229</td> \n",
       "        <td id=\"T_bcb1f08a_522a_11e8_a31e_8c85905f408erow2_col2\" class=\"data row2 col2\" >17.86%</td> \n",
       "    </tr>    <tr> \n",
       "        <th id=\"T_bcb1f08a_522a_11e8_a31e_8c85905f408elevel0_row3\" class=\"row_heading level0 row3\" >3</th> \n",
       "        <td id=\"T_bcb1f08a_522a_11e8_a31e_8c85905f408erow3_col0\" class=\"data row3 col0\" >11-20 people</td> \n",
       "        <td id=\"T_bcb1f08a_522a_11e8_a31e_8c85905f408erow3_col1\" class=\"data row3 col1\" >1160</td> \n",
       "        <td id=\"T_bcb1f08a_522a_11e8_a31e_8c85905f408erow3_col2\" class=\"data row3 col2\" >9.30%</td> \n",
       "    </tr>    <tr> \n",
       "        <th id=\"T_bcb1f08a_522a_11e8_a31e_8c85905f408elevel0_row4\" class=\"row_heading level0 row4\" >4</th> \n",
       "        <td id=\"T_bcb1f08a_522a_11e8_a31e_8c85905f408erow4_col0\" class=\"data row4 col0\" >20+ people</td> \n",
       "        <td id=\"T_bcb1f08a_522a_11e8_a31e_8c85905f408erow4_col1\" class=\"data row4 col1\" >494</td> \n",
       "        <td id=\"T_bcb1f08a_522a_11e8_a31e_8c85905f408erow4_col2\" class=\"data row4 col2\" >3.96%</td> \n",
       "    </tr></tbody> \n",
       "</table> "
      ],
      "text/plain": [
       "<pandas.io.formats.style.Styler at 0x1a176b6c50>"
      ]
     },
     "metadata": {},
     "output_type": "display_data"
    },
    {
     "data": {
      "text/plain": [
       "'V_11 : My work touches these industries or sectors:'"
      ]
     },
     "metadata": {},
     "output_type": "display_data"
    },
    {
     "data": {
      "text/html": [
       "<style  type=\"text/css\" >\n",
       "</style>  \n",
       "<table id=\"T_bcc42d06_522a_11e8_b894_8c85905f408e\" > \n",
       "<thead>    <tr> \n",
       "        <th class=\"blank level0\" ></th> \n",
       "        <th class=\"col_heading level0 col0\" >Options</th> \n",
       "        <th class=\"col_heading level0 col1\" >Count</th> \n",
       "        <th class=\"col_heading level0 col2\" >Percent</th> \n",
       "    </tr></thead> \n",
       "<tbody>    <tr> \n",
       "        <th id=\"T_bcc42d06_522a_11e8_b894_8c85905f408elevel0_row0\" class=\"row_heading level0 row0\" >48</th> \n",
       "        <td id=\"T_bcc42d06_522a_11e8_b894_8c85905f408erow0_col0\" class=\"data row0 col0\" >Marketing and Communications</td> \n",
       "        <td id=\"T_bcc42d06_522a_11e8_b894_8c85905f408erow0_col1\" class=\"data row0 col1\" >5301</td> \n",
       "        <td id=\"T_bcc42d06_522a_11e8_b894_8c85905f408erow0_col2\" class=\"data row0 col2\" >42.49%</td> \n",
       "    </tr>    <tr> \n",
       "        <th id=\"T_bcc42d06_522a_11e8_b894_8c85905f408elevel0_row1\" class=\"row_heading level0 row1\" >19</th> \n",
       "        <td id=\"T_bcc42d06_522a_11e8_b894_8c85905f408erow1_col0\" class=\"data row1 col0\" >Advertising</td> \n",
       "        <td id=\"T_bcc42d06_522a_11e8_b894_8c85905f408erow1_col1\" class=\"data row1 col1\" >5129</td> \n",
       "        <td id=\"T_bcc42d06_522a_11e8_b894_8c85905f408erow1_col2\" class=\"data row1 col2\" >41.11%</td> \n",
       "    </tr>    <tr> \n",
       "        <th id=\"T_bcc42d06_522a_11e8_b894_8c85905f408elevel0_row2\" class=\"row_heading level0 row2\" >16</th> \n",
       "        <td id=\"T_bcc42d06_522a_11e8_b894_8c85905f408erow2_col0\" class=\"data row2 col0\" >Technology</td> \n",
       "        <td id=\"T_bcc42d06_522a_11e8_b894_8c85905f408erow2_col1\" class=\"data row2 col1\" >4100</td> \n",
       "        <td id=\"T_bcc42d06_522a_11e8_b894_8c85905f408erow2_col2\" class=\"data row2 col2\" >32.86%</td> \n",
       "    </tr>    <tr> \n",
       "        <th id=\"T_bcc42d06_522a_11e8_b894_8c85905f408elevel0_row3\" class=\"row_heading level0 row3\" >38</th> \n",
       "        <td id=\"T_bcc42d06_522a_11e8_b894_8c85905f408erow3_col0\" class=\"data row3 col0\" >Education</td> \n",
       "        <td id=\"T_bcc42d06_522a_11e8_b894_8c85905f408erow3_col1\" class=\"data row3 col1\" >4025</td> \n",
       "        <td id=\"T_bcc42d06_522a_11e8_b894_8c85905f408erow3_col2\" class=\"data row3 col2\" >32.26%</td> \n",
       "    </tr>    <tr> \n",
       "        <th id=\"T_bcc42d06_522a_11e8_b894_8c85905f408elevel0_row4\" class=\"row_heading level0 row4\" >1</th> \n",
       "        <td id=\"T_bcc42d06_522a_11e8_b894_8c85905f408erow4_col0\" class=\"data row4 col0\" >Web Services</td> \n",
       "        <td id=\"T_bcc42d06_522a_11e8_b894_8c85905f408erow4_col1\" class=\"data row4 col1\" >3527</td> \n",
       "        <td id=\"T_bcc42d06_522a_11e8_b894_8c85905f408erow4_col2\" class=\"data row4 col2\" >28.27%</td> \n",
       "    </tr>    <tr> \n",
       "        <th id=\"T_bcc42d06_522a_11e8_b894_8c85905f408elevel0_row5\" class=\"row_heading level0 row5\" >7</th> \n",
       "        <td id=\"T_bcc42d06_522a_11e8_b894_8c85905f408erow5_col0\" class=\"data row5 col0\" >Health Care</td> \n",
       "        <td id=\"T_bcc42d06_522a_11e8_b894_8c85905f408erow5_col1\" class=\"data row5 col1\" >3409</td> \n",
       "        <td id=\"T_bcc42d06_522a_11e8_b894_8c85905f408erow5_col2\" class=\"data row5 col2\" >27.32%</td> \n",
       "    </tr>    <tr> \n",
       "        <th id=\"T_bcc42d06_522a_11e8_b894_8c85905f408elevel0_row6\" class=\"row_heading level0 row6\" >13</th> \n",
       "        <td id=\"T_bcc42d06_522a_11e8_b894_8c85905f408erow6_col0\" class=\"data row6 col0\" >Arts</td> \n",
       "        <td id=\"T_bcc42d06_522a_11e8_b894_8c85905f408erow6_col1\" class=\"data row6 col1\" >3380</td> \n",
       "        <td id=\"T_bcc42d06_522a_11e8_b894_8c85905f408erow6_col2\" class=\"data row6 col2\" >27.09%</td> \n",
       "    </tr>    <tr> \n",
       "        <th id=\"T_bcc42d06_522a_11e8_b894_8c85905f408elevel0_row7\" class=\"row_heading level0 row7\" >24</th> \n",
       "        <td id=\"T_bcc42d06_522a_11e8_b894_8c85905f408erow7_col0\" class=\"data row7 col0\" >Retail</td> \n",
       "        <td id=\"T_bcc42d06_522a_11e8_b894_8c85905f408erow7_col1\" class=\"data row7 col1\" >3348</td> \n",
       "        <td id=\"T_bcc42d06_522a_11e8_b894_8c85905f408erow7_col2\" class=\"data row7 col2\" >26.83%</td> \n",
       "    </tr>    <tr> \n",
       "        <th id=\"T_bcc42d06_522a_11e8_b894_8c85905f408elevel0_row8\" class=\"row_heading level0 row8\" >20</th> \n",
       "        <td id=\"T_bcc42d06_522a_11e8_b894_8c85905f408erow8_col0\" class=\"data row8 col0\" >Consumer Products</td> \n",
       "        <td id=\"T_bcc42d06_522a_11e8_b894_8c85905f408erow8_col1\" class=\"data row8 col1\" >2955</td> \n",
       "        <td id=\"T_bcc42d06_522a_11e8_b894_8c85905f408erow8_col2\" class=\"data row8 col2\" >23.68%</td> \n",
       "    </tr>    <tr> \n",
       "        <th id=\"T_bcc42d06_522a_11e8_b894_8c85905f408elevel0_row9\" class=\"row_heading level0 row9\" >39</th> \n",
       "        <td id=\"T_bcc42d06_522a_11e8_b894_8c85905f408erow9_col0\" class=\"data row9 col0\" >Food and Beverage</td> \n",
       "        <td id=\"T_bcc42d06_522a_11e8_b894_8c85905f408erow9_col1\" class=\"data row9 col1\" >2719</td> \n",
       "        <td id=\"T_bcc42d06_522a_11e8_b894_8c85905f408erow9_col2\" class=\"data row9 col2\" >21.79%</td> \n",
       "    </tr>    <tr> \n",
       "        <th id=\"T_bcc42d06_522a_11e8_b894_8c85905f408elevel0_row10\" class=\"row_heading level0 row10\" >35</th> \n",
       "        <td id=\"T_bcc42d06_522a_11e8_b894_8c85905f408erow10_col0\" class=\"data row10 col0\" >Entertainment</td> \n",
       "        <td id=\"T_bcc42d06_522a_11e8_b894_8c85905f408erow10_col1\" class=\"data row10 col1\" >2684</td> \n",
       "        <td id=\"T_bcc42d06_522a_11e8_b894_8c85905f408erow10_col2\" class=\"data row10 col2\" >21.51%</td> \n",
       "    </tr>    <tr> \n",
       "        <th id=\"T_bcc42d06_522a_11e8_b894_8c85905f408elevel0_row11\" class=\"row_heading level0 row11\" >23</th> \n",
       "        <td id=\"T_bcc42d06_522a_11e8_b894_8c85905f408erow11_col0\" class=\"data row11 col0\" >Financial Services</td> \n",
       "        <td id=\"T_bcc42d06_522a_11e8_b894_8c85905f408erow11_col1\" class=\"data row11 col1\" >2341</td> \n",
       "        <td id=\"T_bcc42d06_522a_11e8_b894_8c85905f408erow11_col2\" class=\"data row11 col2\" >18.76%</td> \n",
       "    </tr>    <tr> \n",
       "        <th id=\"T_bcc42d06_522a_11e8_b894_8c85905f408elevel0_row12\" class=\"row_heading level0 row12\" >15</th> \n",
       "        <td id=\"T_bcc42d06_522a_11e8_b894_8c85905f408erow12_col0\" class=\"data row12 col0\" >Information Technology</td> \n",
       "        <td id=\"T_bcc42d06_522a_11e8_b894_8c85905f408erow12_col1\" class=\"data row12 col1\" >2302</td> \n",
       "        <td id=\"T_bcc42d06_522a_11e8_b894_8c85905f408erow12_col2\" class=\"data row12 col2\" >18.45%</td> \n",
       "    </tr>    <tr> \n",
       "        <th id=\"T_bcc42d06_522a_11e8_b894_8c85905f408elevel0_row13\" class=\"row_heading level0 row13\" >12</th> \n",
       "        <td id=\"T_bcc42d06_522a_11e8_b894_8c85905f408erow13_col0\" class=\"data row13 col0\" >Media and Broadcasting</td> \n",
       "        <td id=\"T_bcc42d06_522a_11e8_b894_8c85905f408erow13_col1\" class=\"data row13 col1\" >2180</td> \n",
       "        <td id=\"T_bcc42d06_522a_11e8_b894_8c85905f408erow13_col2\" class=\"data row13 col2\" >17.47%</td> \n",
       "    </tr>    <tr> \n",
       "        <th id=\"T_bcc42d06_522a_11e8_b894_8c85905f408elevel0_row14\" class=\"row_heading level0 row14\" >33</th> \n",
       "        <td id=\"T_bcc42d06_522a_11e8_b894_8c85905f408erow14_col0\" class=\"data row14 col0\" >Government</td> \n",
       "        <td id=\"T_bcc42d06_522a_11e8_b894_8c85905f408erow14_col1\" class=\"data row14 col1\" >2179</td> \n",
       "        <td id=\"T_bcc42d06_522a_11e8_b894_8c85905f408erow14_col2\" class=\"data row14 col2\" >17.46%</td> \n",
       "    </tr>    <tr> \n",
       "        <th id=\"T_bcc42d06_522a_11e8_b894_8c85905f408elevel0_row15\" class=\"row_heading level0 row15\" >34</th> \n",
       "        <td id=\"T_bcc42d06_522a_11e8_b894_8c85905f408erow15_col0\" class=\"data row15 col0\" >Consulting</td> \n",
       "        <td id=\"T_bcc42d06_522a_11e8_b894_8c85905f408erow15_col1\" class=\"data row15 col1\" >2044</td> \n",
       "        <td id=\"T_bcc42d06_522a_11e8_b894_8c85905f408erow15_col2\" class=\"data row15 col2\" >16.38%</td> \n",
       "    </tr>    <tr> \n",
       "        <th id=\"T_bcc42d06_522a_11e8_b894_8c85905f408elevel0_row16\" class=\"row_heading level0 row16\" >30</th> \n",
       "        <td id=\"T_bcc42d06_522a_11e8_b894_8c85905f408erow16_col0\" class=\"data row16 col0\" >Apparel and Accessories</td> \n",
       "        <td id=\"T_bcc42d06_522a_11e8_b894_8c85905f408erow16_col1\" class=\"data row16 col1\" >1987</td> \n",
       "        <td id=\"T_bcc42d06_522a_11e8_b894_8c85905f408erow16_col2\" class=\"data row16 col2\" >15.93%</td> \n",
       "    </tr>    <tr> \n",
       "        <th id=\"T_bcc42d06_522a_11e8_b894_8c85905f408elevel0_row17\" class=\"row_heading level0 row17\" >25</th> \n",
       "        <td id=\"T_bcc42d06_522a_11e8_b894_8c85905f408erow17_col0\" class=\"data row17 col0\" >Computers</td> \n",
       "        <td id=\"T_bcc42d06_522a_11e8_b894_8c85905f408erow17_col1\" class=\"data row17 col1\" >1984</td> \n",
       "        <td id=\"T_bcc42d06_522a_11e8_b894_8c85905f408erow17_col2\" class=\"data row17 col2\" >15.90%</td> \n",
       "    </tr>    <tr> \n",
       "        <th id=\"T_bcc42d06_522a_11e8_b894_8c85905f408elevel0_row18\" class=\"row_heading level0 row18\" >47</th> \n",
       "        <td id=\"T_bcc42d06_522a_11e8_b894_8c85905f408erow18_col0\" class=\"data row18 col0\" >Banking</td> \n",
       "        <td id=\"T_bcc42d06_522a_11e8_b894_8c85905f408erow18_col1\" class=\"data row18 col1\" >1961</td> \n",
       "        <td id=\"T_bcc42d06_522a_11e8_b894_8c85905f408erow18_col2\" class=\"data row18 col2\" >15.72%</td> \n",
       "    </tr>    <tr> \n",
       "        <th id=\"T_bcc42d06_522a_11e8_b894_8c85905f408elevel0_row19\" class=\"row_heading level0 row19\" >43</th> \n",
       "        <td id=\"T_bcc42d06_522a_11e8_b894_8c85905f408erow19_col0\" class=\"data row19 col0\" >Hospitality</td> \n",
       "        <td id=\"T_bcc42d06_522a_11e8_b894_8c85905f408erow19_col1\" class=\"data row19 col1\" >1874</td> \n",
       "        <td id=\"T_bcc42d06_522a_11e8_b894_8c85905f408erow19_col2\" class=\"data row19 col2\" >15.02%</td> \n",
       "    </tr>    <tr> \n",
       "        <th id=\"T_bcc42d06_522a_11e8_b894_8c85905f408elevel0_row20\" class=\"row_heading level0 row20\" >6</th> \n",
       "        <td id=\"T_bcc42d06_522a_11e8_b894_8c85905f408erow20_col0\" class=\"data row20 col0\" >Travel and Tourism</td> \n",
       "        <td id=\"T_bcc42d06_522a_11e8_b894_8c85905f408erow20_col1\" class=\"data row20 col1\" >1863</td> \n",
       "        <td id=\"T_bcc42d06_522a_11e8_b894_8c85905f408erow20_col2\" class=\"data row20 col2\" >14.93%</td> \n",
       "    </tr>    <tr> \n",
       "        <th id=\"T_bcc42d06_522a_11e8_b894_8c85905f408elevel0_row21\" class=\"row_heading level0 row21\" >0</th> \n",
       "        <td id=\"T_bcc42d06_522a_11e8_b894_8c85905f408erow21_col0\" class=\"data row21 col0\" >Sports and Fitness</td> \n",
       "        <td id=\"T_bcc42d06_522a_11e8_b894_8c85905f408erow21_col1\" class=\"data row21 col1\" >1729</td> \n",
       "        <td id=\"T_bcc42d06_522a_11e8_b894_8c85905f408erow21_col2\" class=\"data row21 col2\" >13.86%</td> \n",
       "    </tr>    <tr> \n",
       "        <th id=\"T_bcc42d06_522a_11e8_b894_8c85905f408elevel0_row22\" class=\"row_heading level0 row22\" >42</th> \n",
       "        <td id=\"T_bcc42d06_522a_11e8_b894_8c85905f408erow22_col0\" class=\"data row22 col0\" >Publishing</td> \n",
       "        <td id=\"T_bcc42d06_522a_11e8_b894_8c85905f408erow22_col1\" class=\"data row22 col1\" >1678</td> \n",
       "        <td id=\"T_bcc42d06_522a_11e8_b894_8c85905f408erow22_col2\" class=\"data row22 col2\" >13.45%</td> \n",
       "    </tr>    <tr> \n",
       "        <th id=\"T_bcc42d06_522a_11e8_b894_8c85905f408elevel0_row23\" class=\"row_heading level0 row23\" >11</th> \n",
       "        <td id=\"T_bcc42d06_522a_11e8_b894_8c85905f408erow23_col0\" class=\"data row23 col0\" >Real Estate</td> \n",
       "        <td id=\"T_bcc42d06_522a_11e8_b894_8c85905f408erow23_col1\" class=\"data row23 col1\" >1667</td> \n",
       "        <td id=\"T_bcc42d06_522a_11e8_b894_8c85905f408erow23_col2\" class=\"data row23 col2\" >13.36%</td> \n",
       "    </tr>    <tr> \n",
       "        <th id=\"T_bcc42d06_522a_11e8_b894_8c85905f408elevel0_row24\" class=\"row_heading level0 row24\" >4</th> \n",
       "        <td id=\"T_bcc42d06_522a_11e8_b894_8c85905f408erow24_col0\" class=\"data row24 col0\" >Architecture</td> \n",
       "        <td id=\"T_bcc42d06_522a_11e8_b894_8c85905f408erow24_col1\" class=\"data row24 col1\" >1571</td> \n",
       "        <td id=\"T_bcc42d06_522a_11e8_b894_8c85905f408erow24_col2\" class=\"data row24 col2\" >12.59%</td> \n",
       "    </tr>    <tr> \n",
       "        <th id=\"T_bcc42d06_522a_11e8_b894_8c85905f408elevel0_row25\" class=\"row_heading level0 row25\" >9</th> \n",
       "        <td id=\"T_bcc42d06_522a_11e8_b894_8c85905f408erow25_col0\" class=\"data row25 col0\" >Construction</td> \n",
       "        <td id=\"T_bcc42d06_522a_11e8_b894_8c85905f408erow25_col1\" class=\"data row25 col1\" >1478</td> \n",
       "        <td id=\"T_bcc42d06_522a_11e8_b894_8c85905f408erow25_col2\" class=\"data row25 col2\" >11.85%</td> \n",
       "    </tr>    <tr> \n",
       "        <th id=\"T_bcc42d06_522a_11e8_b894_8c85905f408elevel0_row26\" class=\"row_heading level0 row26\" >41</th> \n",
       "        <td id=\"T_bcc42d06_522a_11e8_b894_8c85905f408erow26_col0\" class=\"data row26 col0\" >Music</td> \n",
       "        <td id=\"T_bcc42d06_522a_11e8_b894_8c85905f408erow26_col1\" class=\"data row26 col1\" >1317</td> \n",
       "        <td id=\"T_bcc42d06_522a_11e8_b894_8c85905f408erow26_col2\" class=\"data row26 col2\" >10.56%</td> \n",
       "    </tr>    <tr> \n",
       "        <th id=\"T_bcc42d06_522a_11e8_b894_8c85905f408elevel0_row27\" class=\"row_heading level0 row27\" >37</th> \n",
       "        <td id=\"T_bcc42d06_522a_11e8_b894_8c85905f408erow27_col0\" class=\"data row27 col0\" >Transportation</td> \n",
       "        <td id=\"T_bcc42d06_522a_11e8_b894_8c85905f408erow27_col1\" class=\"data row27 col1\" >1317</td> \n",
       "        <td id=\"T_bcc42d06_522a_11e8_b894_8c85905f408erow27_col2\" class=\"data row27 col2\" >10.56%</td> \n",
       "    </tr>    <tr> \n",
       "        <th id=\"T_bcc42d06_522a_11e8_b894_8c85905f408elevel0_row28\" class=\"row_heading level0 row28\" >27</th> \n",
       "        <td id=\"T_bcc42d06_522a_11e8_b894_8c85905f408erow28_col0\" class=\"data row28 col0\" >Manufacturing</td> \n",
       "        <td id=\"T_bcc42d06_522a_11e8_b894_8c85905f408erow28_col1\" class=\"data row28 col1\" >1315</td> \n",
       "        <td id=\"T_bcc42d06_522a_11e8_b894_8c85905f408erow28_col2\" class=\"data row28 col2\" >10.54%</td> \n",
       "    </tr>    <tr> \n",
       "        <th id=\"T_bcc42d06_522a_11e8_b894_8c85905f408elevel0_row29\" class=\"row_heading level0 row29\" >44</th> \n",
       "        <td id=\"T_bcc42d06_522a_11e8_b894_8c85905f408erow29_col0\" class=\"data row29 col0\" >Automotive</td> \n",
       "        <td id=\"T_bcc42d06_522a_11e8_b894_8c85905f408erow29_col1\" class=\"data row29 col1\" >1305</td> \n",
       "        <td id=\"T_bcc42d06_522a_11e8_b894_8c85905f408erow29_col2\" class=\"data row29 col2\" >10.46%</td> \n",
       "    </tr>    <tr> \n",
       "        <th id=\"T_bcc42d06_522a_11e8_b894_8c85905f408elevel0_row30\" class=\"row_heading level0 row30\" >21</th> \n",
       "        <td id=\"T_bcc42d06_522a_11e8_b894_8c85905f408erow30_col0\" class=\"data row30 col0\" >Electronics</td> \n",
       "        <td id=\"T_bcc42d06_522a_11e8_b894_8c85905f408erow30_col1\" class=\"data row30 col1\" >1292</td> \n",
       "        <td id=\"T_bcc42d06_522a_11e8_b894_8c85905f408erow30_col2\" class=\"data row30 col2\" >10.36%</td> \n",
       "    </tr>    <tr> \n",
       "        <th id=\"T_bcc42d06_522a_11e8_b894_8c85905f408elevel0_row31\" class=\"row_heading level0 row31\" >2</th> \n",
       "        <td id=\"T_bcc42d06_522a_11e8_b894_8c85905f408erow31_col0\" class=\"data row31 col0\" >Telecommunications</td> \n",
       "        <td id=\"T_bcc42d06_522a_11e8_b894_8c85905f408erow31_col1\" class=\"data row31 col1\" >1279</td> \n",
       "        <td id=\"T_bcc42d06_522a_11e8_b894_8c85905f408erow31_col2\" class=\"data row31 col2\" >10.25%</td> \n",
       "    </tr>    <tr> \n",
       "        <th id=\"T_bcc42d06_522a_11e8_b894_8c85905f408elevel0_row32\" class=\"row_heading level0 row32\" >32</th> \n",
       "        <td id=\"T_bcc42d06_522a_11e8_b894_8c85905f408erow32_col0\" class=\"data row32 col0\" >Energy</td> \n",
       "        <td id=\"T_bcc42d06_522a_11e8_b894_8c85905f408erow32_col1\" class=\"data row32 col1\" >1185</td> \n",
       "        <td id=\"T_bcc42d06_522a_11e8_b894_8c85905f408erow32_col2\" class=\"data row32 col2\" >9.50%</td> \n",
       "    </tr>    <tr> \n",
       "        <th id=\"T_bcc42d06_522a_11e8_b894_8c85905f408elevel0_row33\" class=\"row_heading level0 row33\" >17</th> \n",
       "        <td id=\"T_bcc42d06_522a_11e8_b894_8c85905f408erow33_col0\" class=\"data row33 col0\" >Insurance</td> \n",
       "        <td id=\"T_bcc42d06_522a_11e8_b894_8c85905f408erow33_col1\" class=\"data row33 col1\" >1134</td> \n",
       "        <td id=\"T_bcc42d06_522a_11e8_b894_8c85905f408erow33_col2\" class=\"data row33 col2\" >9.09%</td> \n",
       "    </tr>    <tr> \n",
       "        <th id=\"T_bcc42d06_522a_11e8_b894_8c85905f408elevel0_row34\" class=\"row_heading level0 row34\" >36</th> \n",
       "        <td id=\"T_bcc42d06_522a_11e8_b894_8c85905f408erow34_col0\" class=\"data row34 col0\" >Pharmaceutical</td> \n",
       "        <td id=\"T_bcc42d06_522a_11e8_b894_8c85905f408erow34_col1\" class=\"data row34 col1\" >1110</td> \n",
       "        <td id=\"T_bcc42d06_522a_11e8_b894_8c85905f408erow34_col2\" class=\"data row34 col2\" >8.90%</td> \n",
       "    </tr>    <tr> \n",
       "        <th id=\"T_bcc42d06_522a_11e8_b894_8c85905f408elevel0_row35\" class=\"row_heading level0 row35\" >28</th> \n",
       "        <td id=\"T_bcc42d06_522a_11e8_b894_8c85905f408erow35_col0\" class=\"data row35 col0\" >Legal</td> \n",
       "        <td id=\"T_bcc42d06_522a_11e8_b894_8c85905f408erow35_col1\" class=\"data row35 col1\" >1038</td> \n",
       "        <td id=\"T_bcc42d06_522a_11e8_b894_8c85905f408erow35_col2\" class=\"data row35 col2\" >8.32%</td> \n",
       "    </tr>    <tr> \n",
       "        <th id=\"T_bcc42d06_522a_11e8_b894_8c85905f408elevel0_row36\" class=\"row_heading level0 row36\" >45</th> \n",
       "        <td id=\"T_bcc42d06_522a_11e8_b894_8c85905f408erow36_col0\" class=\"data row36 col0\" >Agriculture</td> \n",
       "        <td id=\"T_bcc42d06_522a_11e8_b894_8c85905f408erow36_col1\" class=\"data row36 col1\" >1001</td> \n",
       "        <td id=\"T_bcc42d06_522a_11e8_b894_8c85905f408erow36_col2\" class=\"data row36 col2\" >8.02%</td> \n",
       "    </tr>    <tr> \n",
       "        <th id=\"T_bcc42d06_522a_11e8_b894_8c85905f408elevel0_row37\" class=\"row_heading level0 row37\" >8</th> \n",
       "        <td id=\"T_bcc42d06_522a_11e8_b894_8c85905f408erow37_col0\" class=\"data row37 col0\" >Accounting</td> \n",
       "        <td id=\"T_bcc42d06_522a_11e8_b894_8c85905f408erow37_col1\" class=\"data row37 col1\" >962</td> \n",
       "        <td id=\"T_bcc42d06_522a_11e8_b894_8c85905f408erow37_col2\" class=\"data row37 col2\" >7.71%</td> \n",
       "    </tr>    <tr> \n",
       "        <th id=\"T_bcc42d06_522a_11e8_b894_8c85905f408elevel0_row38\" class=\"row_heading level0 row38\" >49</th> \n",
       "        <td id=\"T_bcc42d06_522a_11e8_b894_8c85905f408erow38_col0\" class=\"data row38 col0\" >Utilities</td> \n",
       "        <td id=\"T_bcc42d06_522a_11e8_b894_8c85905f408erow38_col1\" class=\"data row38 col1\" >911</td> \n",
       "        <td id=\"T_bcc42d06_522a_11e8_b894_8c85905f408erow38_col2\" class=\"data row38 col2\" >7.30%</td> \n",
       "    </tr>    <tr> \n",
       "        <th id=\"T_bcc42d06_522a_11e8_b894_8c85905f408elevel0_row39\" class=\"row_heading level0 row39\" >29</th> \n",
       "        <td id=\"T_bcc42d06_522a_11e8_b894_8c85905f408erow39_col0\" class=\"data row39 col0\" >Medical Equipment</td> \n",
       "        <td id=\"T_bcc42d06_522a_11e8_b894_8c85905f408erow39_col1\" class=\"data row39 col1\" >879</td> \n",
       "        <td id=\"T_bcc42d06_522a_11e8_b894_8c85905f408erow39_col2\" class=\"data row39 col2\" >7.04%</td> \n",
       "    </tr>    <tr> \n",
       "        <th id=\"T_bcc42d06_522a_11e8_b894_8c85905f408elevel0_row40\" class=\"row_heading level0 row40\" >14</th> \n",
       "        <td id=\"T_bcc42d06_522a_11e8_b894_8c85905f408erow40_col0\" class=\"data row40 col0\" >Gaming</td> \n",
       "        <td id=\"T_bcc42d06_522a_11e8_b894_8c85905f408erow40_col1\" class=\"data row40 col1\" >866</td> \n",
       "        <td id=\"T_bcc42d06_522a_11e8_b894_8c85905f408erow40_col2\" class=\"data row40 col2\" >6.94%</td> \n",
       "    </tr>    <tr> \n",
       "        <th id=\"T_bcc42d06_522a_11e8_b894_8c85905f408elevel0_row41\" class=\"row_heading level0 row41\" >22</th> \n",
       "        <td id=\"T_bcc42d06_522a_11e8_b894_8c85905f408erow41_col0\" class=\"data row41 col0\" >Industrial Goods</td> \n",
       "        <td id=\"T_bcc42d06_522a_11e8_b894_8c85905f408erow41_col1\" class=\"data row41 col1\" >863</td> \n",
       "        <td id=\"T_bcc42d06_522a_11e8_b894_8c85905f408erow41_col2\" class=\"data row41 col2\" >6.92%</td> \n",
       "    </tr>    <tr> \n",
       "        <th id=\"T_bcc42d06_522a_11e8_b894_8c85905f408elevel0_row42\" class=\"row_heading level0 row42\" >5</th> \n",
       "        <td id=\"T_bcc42d06_522a_11e8_b894_8c85905f408erow42_col0\" class=\"data row42 col0\" >Information Sciences</td> \n",
       "        <td id=\"T_bcc42d06_522a_11e8_b894_8c85905f408erow42_col1\" class=\"data row42 col1\" >809</td> \n",
       "        <td id=\"T_bcc42d06_522a_11e8_b894_8c85905f408erow42_col2\" class=\"data row42 col2\" >6.48%</td> \n",
       "    </tr>    <tr> \n",
       "        <th id=\"T_bcc42d06_522a_11e8_b894_8c85905f408elevel0_row43\" class=\"row_heading level0 row43\" >31</th> \n",
       "        <td id=\"T_bcc42d06_522a_11e8_b894_8c85905f408erow43_col0\" class=\"data row43 col0\" >Biotechnology</td> \n",
       "        <td id=\"T_bcc42d06_522a_11e8_b894_8c85905f408erow43_col1\" class=\"data row43 col1\" >754</td> \n",
       "        <td id=\"T_bcc42d06_522a_11e8_b894_8c85905f408erow43_col2\" class=\"data row43 col2\" >6.04%</td> \n",
       "    </tr>    <tr> \n",
       "        <th id=\"T_bcc42d06_522a_11e8_b894_8c85905f408elevel0_row44\" class=\"row_heading level0 row44\" >26</th> \n",
       "        <td id=\"T_bcc42d06_522a_11e8_b894_8c85905f408erow44_col0\" class=\"data row44 col0\" >Alcohol or Tobacco</td> \n",
       "        <td id=\"T_bcc42d06_522a_11e8_b894_8c85905f408erow44_col1\" class=\"data row44 col1\" >688</td> \n",
       "        <td id=\"T_bcc42d06_522a_11e8_b894_8c85905f408erow44_col2\" class=\"data row44 col2\" >5.51%</td> \n",
       "    </tr>    <tr> \n",
       "        <th id=\"T_bcc42d06_522a_11e8_b894_8c85905f408elevel0_row45\" class=\"row_heading level0 row45\" >10</th> \n",
       "        <td id=\"T_bcc42d06_522a_11e8_b894_8c85905f408erow45_col0\" class=\"data row45 col0\" >Air Transportation</td> \n",
       "        <td id=\"T_bcc42d06_522a_11e8_b894_8c85905f408erow45_col1\" class=\"data row45 col1\" >675</td> \n",
       "        <td id=\"T_bcc42d06_522a_11e8_b894_8c85905f408erow45_col2\" class=\"data row45 col2\" >5.41%</td> \n",
       "    </tr>    <tr> \n",
       "        <th id=\"T_bcc42d06_522a_11e8_b894_8c85905f408elevel0_row46\" class=\"row_heading level0 row46\" >46</th> \n",
       "        <td id=\"T_bcc42d06_522a_11e8_b894_8c85905f408erow46_col0\" class=\"data row46 col0\" >Shipping</td> \n",
       "        <td id=\"T_bcc42d06_522a_11e8_b894_8c85905f408erow46_col1\" class=\"data row46 col1\" >580</td> \n",
       "        <td id=\"T_bcc42d06_522a_11e8_b894_8c85905f408erow46_col2\" class=\"data row46 col2\" >4.65%</td> \n",
       "    </tr>    <tr> \n",
       "        <th id=\"T_bcc42d06_522a_11e8_b894_8c85905f408elevel0_row47\" class=\"row_heading level0 row47\" >3</th> \n",
       "        <td id=\"T_bcc42d06_522a_11e8_b894_8c85905f408erow47_col0\" class=\"data row47 col0\" >Aerospace</td> \n",
       "        <td id=\"T_bcc42d06_522a_11e8_b894_8c85905f408erow47_col1\" class=\"data row47 col1\" >505</td> \n",
       "        <td id=\"T_bcc42d06_522a_11e8_b894_8c85905f408erow47_col2\" class=\"data row47 col2\" >4.05%</td> \n",
       "    </tr>    <tr> \n",
       "        <th id=\"T_bcc42d06_522a_11e8_b894_8c85905f408elevel0_row48\" class=\"row_heading level0 row48\" >18</th> \n",
       "        <td id=\"T_bcc42d06_522a_11e8_b894_8c85905f408erow48_col0\" class=\"data row48 col0\" >Chemical</td> \n",
       "        <td id=\"T_bcc42d06_522a_11e8_b894_8c85905f408erow48_col1\" class=\"data row48 col1\" >479</td> \n",
       "        <td id=\"T_bcc42d06_522a_11e8_b894_8c85905f408erow48_col2\" class=\"data row48 col2\" >3.84%</td> \n",
       "    </tr>    <tr> \n",
       "        <th id=\"T_bcc42d06_522a_11e8_b894_8c85905f408elevel0_row49\" class=\"row_heading level0 row49\" >40</th> \n",
       "        <td id=\"T_bcc42d06_522a_11e8_b894_8c85905f408erow49_col0\" class=\"data row49 col0\" >Mining</td> \n",
       "        <td id=\"T_bcc42d06_522a_11e8_b894_8c85905f408erow49_col1\" class=\"data row49 col1\" >215</td> \n",
       "        <td id=\"T_bcc42d06_522a_11e8_b894_8c85905f408erow49_col2\" class=\"data row49 col2\" >1.72%</td> \n",
       "    </tr></tbody> \n",
       "</table> "
      ],
      "text/plain": [
       "<pandas.io.formats.style.Styler at 0x1a14aaafd0>"
      ]
     },
     "metadata": {},
     "output_type": "display_data"
    },
    {
     "data": {
      "text/plain": [
       "'V_12 : I’ve been at my current place of work for:'"
      ]
     },
     "metadata": {},
     "output_type": "display_data"
    },
    {
     "data": {
      "text/html": [
       "<style  type=\"text/css\" >\n",
       "</style>  \n",
       "<table id=\"T_bcc60d36_522a_11e8_a779_8c85905f408e\" > \n",
       "<thead>    <tr> \n",
       "        <th class=\"blank level0\" ></th> \n",
       "        <th class=\"col_heading level0 col0\" >Options</th> \n",
       "        <th class=\"col_heading level0 col1\" >Count</th> \n",
       "        <th class=\"col_heading level0 col2\" >Percent</th> \n",
       "    </tr></thead> \n",
       "<tbody>    <tr> \n",
       "        <th id=\"T_bcc60d36_522a_11e8_a779_8c85905f408elevel0_row0\" class=\"row_heading level0 row0\" >0</th> \n",
       "        <td id=\"T_bcc60d36_522a_11e8_a779_8c85905f408erow0_col0\" class=\"data row0 col0\" >1-2 years</td> \n",
       "        <td id=\"T_bcc60d36_522a_11e8_a779_8c85905f408erow0_col1\" class=\"data row0 col1\" >3730</td> \n",
       "        <td id=\"T_bcc60d36_522a_11e8_a779_8c85905f408erow0_col2\" class=\"data row0 col2\" >29.90%</td> \n",
       "    </tr>    <tr> \n",
       "        <th id=\"T_bcc60d36_522a_11e8_a779_8c85905f408elevel0_row1\" class=\"row_heading level0 row1\" >1</th> \n",
       "        <td id=\"T_bcc60d36_522a_11e8_a779_8c85905f408erow1_col0\" class=\"data row1 col0\" >Less than 1 year</td> \n",
       "        <td id=\"T_bcc60d36_522a_11e8_a779_8c85905f408erow1_col1\" class=\"data row1 col1\" >3534</td> \n",
       "        <td id=\"T_bcc60d36_522a_11e8_a779_8c85905f408erow1_col2\" class=\"data row1 col2\" >28.32%</td> \n",
       "    </tr>    <tr> \n",
       "        <th id=\"T_bcc60d36_522a_11e8_a779_8c85905f408elevel0_row2\" class=\"row_heading level0 row2\" >2</th> \n",
       "        <td id=\"T_bcc60d36_522a_11e8_a779_8c85905f408erow2_col0\" class=\"data row2 col0\" >3-4 years</td> \n",
       "        <td id=\"T_bcc60d36_522a_11e8_a779_8c85905f408erow2_col1\" class=\"data row2 col1\" >2467</td> \n",
       "        <td id=\"T_bcc60d36_522a_11e8_a779_8c85905f408erow2_col2\" class=\"data row2 col2\" >19.77%</td> \n",
       "    </tr>    <tr> \n",
       "        <th id=\"T_bcc60d36_522a_11e8_a779_8c85905f408elevel0_row3\" class=\"row_heading level0 row3\" >3</th> \n",
       "        <td id=\"T_bcc60d36_522a_11e8_a779_8c85905f408erow3_col0\" class=\"data row3 col0\" >5-7 years</td> \n",
       "        <td id=\"T_bcc60d36_522a_11e8_a779_8c85905f408erow3_col1\" class=\"data row3 col1\" >1196</td> \n",
       "        <td id=\"T_bcc60d36_522a_11e8_a779_8c85905f408erow3_col2\" class=\"data row3 col2\" >9.59%</td> \n",
       "    </tr>    <tr> \n",
       "        <th id=\"T_bcc60d36_522a_11e8_a779_8c85905f408elevel0_row4\" class=\"row_heading level0 row4\" >4</th> \n",
       "        <td id=\"T_bcc60d36_522a_11e8_a779_8c85905f408erow4_col0\" class=\"data row4 col0\" >10+ years</td> \n",
       "        <td id=\"T_bcc60d36_522a_11e8_a779_8c85905f408erow4_col1\" class=\"data row4 col1\" >1066</td> \n",
       "        <td id=\"T_bcc60d36_522a_11e8_a779_8c85905f408erow4_col2\" class=\"data row4 col2\" >8.54%</td> \n",
       "    </tr>    <tr> \n",
       "        <th id=\"T_bcc60d36_522a_11e8_a779_8c85905f408elevel0_row5\" class=\"row_heading level0 row5\" >5</th> \n",
       "        <td id=\"T_bcc60d36_522a_11e8_a779_8c85905f408erow5_col0\" class=\"data row5 col0\" >8-10 years</td> \n",
       "        <td id=\"T_bcc60d36_522a_11e8_a779_8c85905f408erow5_col1\" class=\"data row5 col1\" >479</td> \n",
       "        <td id=\"T_bcc60d36_522a_11e8_a779_8c85905f408erow5_col2\" class=\"data row5 col2\" >3.84%</td> \n",
       "    </tr></tbody> \n",
       "</table> "
      ],
      "text/plain": [
       "<pandas.io.formats.style.Styler at 0x1a176ce0f0>"
      ]
     },
     "metadata": {},
     "output_type": "display_data"
    },
    {
     "data": {
      "text/plain": [
       "'V_13 : My role is:'"
      ]
     },
     "metadata": {},
     "output_type": "display_data"
    },
    {
     "data": {
      "text/html": [
       "<style  type=\"text/css\" >\n",
       "</style>  \n",
       "<table id=\"T_bcc74476_522a_11e8_9483_8c85905f408e\" > \n",
       "<thead>    <tr> \n",
       "        <th class=\"blank level0\" ></th> \n",
       "        <th class=\"col_heading level0 col0\" >Options</th> \n",
       "        <th class=\"col_heading level0 col1\" >Count</th> \n",
       "        <th class=\"col_heading level0 col2\" >Percent</th> \n",
       "    </tr></thead> \n",
       "<tbody>    <tr> \n",
       "        <th id=\"T_bcc74476_522a_11e8_9483_8c85905f408elevel0_row0\" class=\"row_heading level0 row0\" >0</th> \n",
       "        <td id=\"T_bcc74476_522a_11e8_9483_8c85905f408erow0_col0\" class=\"data row0 col0\" >Mid-level specialist</td> \n",
       "        <td id=\"T_bcc74476_522a_11e8_9483_8c85905f408erow0_col1\" class=\"data row0 col1\" >1416</td> \n",
       "        <td id=\"T_bcc74476_522a_11e8_9483_8c85905f408erow0_col2\" class=\"data row0 col2\" >11.35%</td> \n",
       "    </tr>    <tr> \n",
       "        <th id=\"T_bcc74476_522a_11e8_9483_8c85905f408elevel0_row1\" class=\"row_heading level0 row1\" >1</th> \n",
       "        <td id=\"T_bcc74476_522a_11e8_9483_8c85905f408erow1_col0\" class=\"data row1 col0\" >Owner/Partner</td> \n",
       "        <td id=\"T_bcc74476_522a_11e8_9483_8c85905f408erow1_col1\" class=\"data row1 col1\" >1393</td> \n",
       "        <td id=\"T_bcc74476_522a_11e8_9483_8c85905f408erow1_col2\" class=\"data row1 col2\" >11.16%</td> \n",
       "    </tr>    <tr> \n",
       "        <th id=\"T_bcc74476_522a_11e8_9483_8c85905f408elevel0_row2\" class=\"row_heading level0 row2\" >2</th> \n",
       "        <td id=\"T_bcc74476_522a_11e8_9483_8c85905f408erow2_col0\" class=\"data row2 col0\" >Art Director</td> \n",
       "        <td id=\"T_bcc74476_522a_11e8_9483_8c85905f408erow2_col1\" class=\"data row2 col1\" >751</td> \n",
       "        <td id=\"T_bcc74476_522a_11e8_9483_8c85905f408erow2_col2\" class=\"data row2 col2\" >6.02%</td> \n",
       "    </tr>    <tr> \n",
       "        <th id=\"T_bcc74476_522a_11e8_9483_8c85905f408elevel0_row3\" class=\"row_heading level0 row3\" >3</th> \n",
       "        <td id=\"T_bcc74476_522a_11e8_9483_8c85905f408erow3_col0\" class=\"data row3 col0\" >Junior contributor</td> \n",
       "        <td id=\"T_bcc74476_522a_11e8_9483_8c85905f408erow3_col1\" class=\"data row3 col1\" >618</td> \n",
       "        <td id=\"T_bcc74476_522a_11e8_9483_8c85905f408erow3_col2\" class=\"data row3 col2\" >4.95%</td> \n",
       "    </tr>    <tr> \n",
       "        <th id=\"T_bcc74476_522a_11e8_9483_8c85905f408elevel0_row4\" class=\"row_heading level0 row4\" >4</th> \n",
       "        <td id=\"T_bcc74476_522a_11e8_9483_8c85905f408erow4_col0\" class=\"data row4 col0\" >Creative Director</td> \n",
       "        <td id=\"T_bcc74476_522a_11e8_9483_8c85905f408erow4_col1\" class=\"data row4 col1\" >557</td> \n",
       "        <td id=\"T_bcc74476_522a_11e8_9483_8c85905f408erow4_col2\" class=\"data row4 col2\" >4.46%</td> \n",
       "    </tr>    <tr> \n",
       "        <th id=\"T_bcc74476_522a_11e8_9483_8c85905f408elevel0_row5\" class=\"row_heading level0 row5\" >5</th> \n",
       "        <td id=\"T_bcc74476_522a_11e8_9483_8c85905f408erow5_col0\" class=\"data row5 col0\" >Other</td> \n",
       "        <td id=\"T_bcc74476_522a_11e8_9483_8c85905f408erow5_col1\" class=\"data row5 col1\" >522</td> \n",
       "        <td id=\"T_bcc74476_522a_11e8_9483_8c85905f408erow5_col2\" class=\"data row5 col2\" >4.18%</td> \n",
       "    </tr>    <tr> \n",
       "        <th id=\"T_bcc74476_522a_11e8_9483_8c85905f408elevel0_row6\" class=\"row_heading level0 row6\" >6</th> \n",
       "        <td id=\"T_bcc74476_522a_11e8_9483_8c85905f408erow6_col0\" class=\"data row6 col0\" >Senior manager</td> \n",
       "        <td id=\"T_bcc74476_522a_11e8_9483_8c85905f408erow6_col1\" class=\"data row6 col1\" >322</td> \n",
       "        <td id=\"T_bcc74476_522a_11e8_9483_8c85905f408erow6_col2\" class=\"data row6 col2\" >2.58%</td> \n",
       "    </tr>    <tr> \n",
       "        <th id=\"T_bcc74476_522a_11e8_9483_8c85905f408elevel0_row7\" class=\"row_heading level0 row7\" >7</th> \n",
       "        <td id=\"T_bcc74476_522a_11e8_9483_8c85905f408erow7_col0\" class=\"data row7 col0\" >Director</td> \n",
       "        <td id=\"T_bcc74476_522a_11e8_9483_8c85905f408erow7_col1\" class=\"data row7 col1\" >149</td> \n",
       "        <td id=\"T_bcc74476_522a_11e8_9483_8c85905f408erow7_col2\" class=\"data row7 col2\" >1.19%</td> \n",
       "    </tr>    <tr> \n",
       "        <th id=\"T_bcc74476_522a_11e8_9483_8c85905f408elevel0_row8\" class=\"row_heading level0 row8\" >8</th> \n",
       "        <td id=\"T_bcc74476_522a_11e8_9483_8c85905f408erow8_col0\" class=\"data row8 col0\" >Intern</td> \n",
       "        <td id=\"T_bcc74476_522a_11e8_9483_8c85905f408erow8_col1\" class=\"data row8 col1\" >98</td> \n",
       "        <td id=\"T_bcc74476_522a_11e8_9483_8c85905f408erow8_col2\" class=\"data row8 col2\" >0.79%</td> \n",
       "    </tr>    <tr> \n",
       "        <th id=\"T_bcc74476_522a_11e8_9483_8c85905f408elevel0_row9\" class=\"row_heading level0 row9\" >9</th> \n",
       "        <td id=\"T_bcc74476_522a_11e8_9483_8c85905f408erow9_col0\" class=\"data row9 col0\" >Executive</td> \n",
       "        <td id=\"T_bcc74476_522a_11e8_9483_8c85905f408erow9_col1\" class=\"data row9 col1\" >88</td> \n",
       "        <td id=\"T_bcc74476_522a_11e8_9483_8c85905f408erow9_col2\" class=\"data row9 col2\" >0.71%</td> \n",
       "    </tr>    <tr> \n",
       "        <th id=\"T_bcc74476_522a_11e8_9483_8c85905f408elevel0_row10\" class=\"row_heading level0 row10\" >10</th> \n",
       "        <td id=\"T_bcc74476_522a_11e8_9483_8c85905f408erow10_col0\" class=\"data row10 col0\" >Director de arte</td> \n",
       "        <td id=\"T_bcc74476_522a_11e8_9483_8c85905f408erow10_col1\" class=\"data row10 col1\" >2</td> \n",
       "        <td id=\"T_bcc74476_522a_11e8_9483_8c85905f408erow10_col2\" class=\"data row10 col2\" >0.02%</td> \n",
       "    </tr>    <tr> \n",
       "        <th id=\"T_bcc74476_522a_11e8_9483_8c85905f408elevel0_row11\" class=\"row_heading level0 row11\" >11</th> \n",
       "        <td id=\"T_bcc74476_522a_11e8_9483_8c85905f408erow11_col0\" class=\"data row11 col0\" >Propietario / Socio</td> \n",
       "        <td id=\"T_bcc74476_522a_11e8_9483_8c85905f408erow11_col1\" class=\"data row11 col1\" >1</td> \n",
       "        <td id=\"T_bcc74476_522a_11e8_9483_8c85905f408erow11_col2\" class=\"data row11 col2\" >0.01%</td> \n",
       "    </tr>    <tr> \n",
       "        <th id=\"T_bcc74476_522a_11e8_9483_8c85905f408elevel0_row12\" class=\"row_heading level0 row12\" >12</th> \n",
       "        <td id=\"T_bcc74476_522a_11e8_9483_8c85905f408erow12_col0\" class=\"data row12 col0\" >Креативный директор</td> \n",
       "        <td id=\"T_bcc74476_522a_11e8_9483_8c85905f408erow12_col1\" class=\"data row12 col1\" >1</td> \n",
       "        <td id=\"T_bcc74476_522a_11e8_9483_8c85905f408erow12_col2\" class=\"data row12 col2\" >0.01%</td> \n",
       "    </tr>    <tr> \n",
       "        <th id=\"T_bcc74476_522a_11e8_9483_8c85905f408elevel0_row13\" class=\"row_heading level0 row13\" >13</th> \n",
       "        <td id=\"T_bcc74476_522a_11e8_9483_8c85905f408erow13_col0\" class=\"data row13 col0\" >Sócia proprietária</td> \n",
       "        <td id=\"T_bcc74476_522a_11e8_9483_8c85905f408erow13_col1\" class=\"data row13 col1\" >1</td> \n",
       "        <td id=\"T_bcc74476_522a_11e8_9483_8c85905f408erow13_col2\" class=\"data row13 col2\" >0.01%</td> \n",
       "    </tr>    <tr> \n",
       "        <th id=\"T_bcc74476_522a_11e8_9483_8c85905f408elevel0_row14\" class=\"row_heading level0 row14\" >14</th> \n",
       "        <td id=\"T_bcc74476_522a_11e8_9483_8c85905f408erow14_col0\" class=\"data row14 col0\" >Autre</td> \n",
       "        <td id=\"T_bcc74476_522a_11e8_9483_8c85905f408erow14_col1\" class=\"data row14 col1\" >1</td> \n",
       "        <td id=\"T_bcc74476_522a_11e8_9483_8c85905f408erow14_col2\" class=\"data row14 col2\" >0.01%</td> \n",
       "    </tr>    <tr> \n",
       "        <th id=\"T_bcc74476_522a_11e8_9483_8c85905f408elevel0_row15\" class=\"row_heading level0 row15\" >15</th> \n",
       "        <td id=\"T_bcc74476_522a_11e8_9483_8c85905f408erow15_col0\" class=\"data row15 col0\" >미술 감독</td> \n",
       "        <td id=\"T_bcc74476_522a_11e8_9483_8c85905f408erow15_col1\" class=\"data row15 col1\" >1</td> \n",
       "        <td id=\"T_bcc74476_522a_11e8_9483_8c85905f408erow15_col2\" class=\"data row15 col2\" >0.01%</td> \n",
       "    </tr>    <tr> \n",
       "        <th id=\"T_bcc74476_522a_11e8_9483_8c85905f408elevel0_row16\" class=\"row_heading level0 row16\" >16</th> \n",
       "        <td id=\"T_bcc74476_522a_11e8_9483_8c85905f408erow16_col0\" class=\"data row16 col0\" >藝術總監</td> \n",
       "        <td id=\"T_bcc74476_522a_11e8_9483_8c85905f408erow16_col1\" class=\"data row16 col1\" >1</td> \n",
       "        <td id=\"T_bcc74476_522a_11e8_9483_8c85905f408erow16_col2\" class=\"data row16 col2\" >0.01%</td> \n",
       "    </tr>    <tr> \n",
       "        <th id=\"T_bcc74476_522a_11e8_9483_8c85905f408elevel0_row17\" class=\"row_heading level0 row17\" >17</th> \n",
       "        <td id=\"T_bcc74476_522a_11e8_9483_8c85905f408erow17_col0\" class=\"data row17 col0\" >高级经理</td> \n",
       "        <td id=\"T_bcc74476_522a_11e8_9483_8c85905f408erow17_col1\" class=\"data row17 col1\" >1</td> \n",
       "        <td id=\"T_bcc74476_522a_11e8_9483_8c85905f408erow17_col2\" class=\"data row17 col2\" >0.01%</td> \n",
       "    </tr></tbody> \n",
       "</table> "
      ],
      "text/plain": [
       "<pandas.io.formats.style.Styler at 0x1a176d5c18>"
      ]
     },
     "metadata": {},
     "output_type": "display_data"
    },
    {
     "data": {
      "text/plain": [
       "'V_14 : My role is:'"
      ]
     },
     "metadata": {},
     "output_type": "display_data"
    },
    {
     "data": {
      "text/html": [
       "<style  type=\"text/css\" >\n",
       "</style>  \n",
       "<table id=\"T_bcc8ace4_522a_11e8_93d6_8c85905f408e\" > \n",
       "<thead>    <tr> \n",
       "        <th class=\"blank level0\" ></th> \n",
       "        <th class=\"col_heading level0 col0\" >Options</th> \n",
       "        <th class=\"col_heading level0 col1\" >Count</th> \n",
       "        <th class=\"col_heading level0 col2\" >Percent</th> \n",
       "    </tr></thead> \n",
       "<tbody>    <tr> \n",
       "        <th id=\"T_bcc8ace4_522a_11e8_93d6_8c85905f408elevel0_row0\" class=\"row_heading level0 row0\" >0</th> \n",
       "        <td id=\"T_bcc8ace4_522a_11e8_93d6_8c85905f408erow0_col0\" class=\"data row0 col0\" >Mid-level specialist</td> \n",
       "        <td id=\"T_bcc8ace4_522a_11e8_93d6_8c85905f408erow0_col1\" class=\"data row0 col1\" >2758</td> \n",
       "        <td id=\"T_bcc8ace4_522a_11e8_93d6_8c85905f408erow0_col2\" class=\"data row0 col2\" >22.10%</td> \n",
       "    </tr>    <tr> \n",
       "        <th id=\"T_bcc8ace4_522a_11e8_93d6_8c85905f408elevel0_row1\" class=\"row_heading level0 row1\" >1</th> \n",
       "        <td id=\"T_bcc8ace4_522a_11e8_93d6_8c85905f408erow1_col0\" class=\"data row1 col0\" >Junior contributor</td> \n",
       "        <td id=\"T_bcc8ace4_522a_11e8_93d6_8c85905f408erow1_col1\" class=\"data row1 col1\" >711</td> \n",
       "        <td id=\"T_bcc8ace4_522a_11e8_93d6_8c85905f408erow1_col2\" class=\"data row1 col2\" >5.70%</td> \n",
       "    </tr>    <tr> \n",
       "        <th id=\"T_bcc8ace4_522a_11e8_93d6_8c85905f408elevel0_row2\" class=\"row_heading level0 row2\" >2</th> \n",
       "        <td id=\"T_bcc8ace4_522a_11e8_93d6_8c85905f408erow2_col0\" class=\"data row2 col0\" >Director</td> \n",
       "        <td id=\"T_bcc8ace4_522a_11e8_93d6_8c85905f408erow2_col1\" class=\"data row2 col1\" >561</td> \n",
       "        <td id=\"T_bcc8ace4_522a_11e8_93d6_8c85905f408erow2_col2\" class=\"data row2 col2\" >4.50%</td> \n",
       "    </tr>    <tr> \n",
       "        <th id=\"T_bcc8ace4_522a_11e8_93d6_8c85905f408elevel0_row3\" class=\"row_heading level0 row3\" >3</th> \n",
       "        <td id=\"T_bcc8ace4_522a_11e8_93d6_8c85905f408erow3_col0\" class=\"data row3 col0\" >Senior manager</td> \n",
       "        <td id=\"T_bcc8ace4_522a_11e8_93d6_8c85905f408erow3_col1\" class=\"data row3 col1\" >559</td> \n",
       "        <td id=\"T_bcc8ace4_522a_11e8_93d6_8c85905f408erow3_col2\" class=\"data row3 col2\" >4.48%</td> \n",
       "    </tr>    <tr> \n",
       "        <th id=\"T_bcc8ace4_522a_11e8_93d6_8c85905f408elevel0_row4\" class=\"row_heading level0 row4\" >4</th> \n",
       "        <td id=\"T_bcc8ace4_522a_11e8_93d6_8c85905f408erow4_col0\" class=\"data row4 col0\" >Team Leader</td> \n",
       "        <td id=\"T_bcc8ace4_522a_11e8_93d6_8c85905f408erow4_col1\" class=\"data row4 col1\" >520</td> \n",
       "        <td id=\"T_bcc8ace4_522a_11e8_93d6_8c85905f408erow4_col2\" class=\"data row4 col2\" >4.17%</td> \n",
       "    </tr>    <tr> \n",
       "        <th id=\"T_bcc8ace4_522a_11e8_93d6_8c85905f408elevel0_row5\" class=\"row_heading level0 row5\" >5</th> \n",
       "        <td id=\"T_bcc8ace4_522a_11e8_93d6_8c85905f408erow5_col0\" class=\"data row5 col0\" >Other</td> \n",
       "        <td id=\"T_bcc8ace4_522a_11e8_93d6_8c85905f408erow5_col1\" class=\"data row5 col1\" >427</td> \n",
       "        <td id=\"T_bcc8ace4_522a_11e8_93d6_8c85905f408erow5_col2\" class=\"data row5 col2\" >3.42%</td> \n",
       "    </tr>    <tr> \n",
       "        <th id=\"T_bcc8ace4_522a_11e8_93d6_8c85905f408elevel0_row6\" class=\"row_heading level0 row6\" >6</th> \n",
       "        <td id=\"T_bcc8ace4_522a_11e8_93d6_8c85905f408erow6_col0\" class=\"data row6 col0\" >Group Leader</td> \n",
       "        <td id=\"T_bcc8ace4_522a_11e8_93d6_8c85905f408erow6_col1\" class=\"data row6 col1\" >128</td> \n",
       "        <td id=\"T_bcc8ace4_522a_11e8_93d6_8c85905f408erow6_col2\" class=\"data row6 col2\" >1.03%</td> \n",
       "    </tr>    <tr> \n",
       "        <th id=\"T_bcc8ace4_522a_11e8_93d6_8c85905f408elevel0_row7\" class=\"row_heading level0 row7\" >7</th> \n",
       "        <td id=\"T_bcc8ace4_522a_11e8_93d6_8c85905f408erow7_col0\" class=\"data row7 col0\" >Executive</td> \n",
       "        <td id=\"T_bcc8ace4_522a_11e8_93d6_8c85905f408erow7_col1\" class=\"data row7 col1\" >73</td> \n",
       "        <td id=\"T_bcc8ace4_522a_11e8_93d6_8c85905f408erow7_col2\" class=\"data row7 col2\" >0.59%</td> \n",
       "    </tr>    <tr> \n",
       "        <th id=\"T_bcc8ace4_522a_11e8_93d6_8c85905f408elevel0_row8\" class=\"row_heading level0 row8\" >8</th> \n",
       "        <td id=\"T_bcc8ace4_522a_11e8_93d6_8c85905f408erow8_col0\" class=\"data row8 col0\" >Senior Executive</td> \n",
       "        <td id=\"T_bcc8ace4_522a_11e8_93d6_8c85905f408erow8_col1\" class=\"data row8 col1\" >60</td> \n",
       "        <td id=\"T_bcc8ace4_522a_11e8_93d6_8c85905f408erow8_col2\" class=\"data row8 col2\" >0.48%</td> \n",
       "    </tr>    <tr> \n",
       "        <th id=\"T_bcc8ace4_522a_11e8_93d6_8c85905f408elevel0_row9\" class=\"row_heading level0 row9\" >9</th> \n",
       "        <td id=\"T_bcc8ace4_522a_11e8_93d6_8c85905f408erow9_col0\" class=\"data row9 col0\" >Intern</td> \n",
       "        <td id=\"T_bcc8ace4_522a_11e8_93d6_8c85905f408erow9_col1\" class=\"data row9 col1\" >45</td> \n",
       "        <td id=\"T_bcc8ace4_522a_11e8_93d6_8c85905f408erow9_col2\" class=\"data row9 col2\" >0.36%</td> \n",
       "    </tr>    <tr> \n",
       "        <th id=\"T_bcc8ace4_522a_11e8_93d6_8c85905f408elevel0_row10\" class=\"row_heading level0 row10\" >10</th> \n",
       "        <td id=\"T_bcc8ace4_522a_11e8_93d6_8c85905f408erow10_col0\" class=\"data row10 col0\" >Colaborador Junior</td> \n",
       "        <td id=\"T_bcc8ace4_522a_11e8_93d6_8c85905f408erow10_col1\" class=\"data row10 col1\" >1</td> \n",
       "        <td id=\"T_bcc8ace4_522a_11e8_93d6_8c85905f408erow10_col2\" class=\"data row10 col2\" >0.01%</td> \n",
       "    </tr>    <tr> \n",
       "        <th id=\"T_bcc8ace4_522a_11e8_93d6_8c85905f408elevel0_row11\" class=\"row_heading level0 row11\" >11</th> \n",
       "        <td id=\"T_bcc8ace4_522a_11e8_93d6_8c85905f408erow11_col0\" class=\"data row11 col0\" >Junior collaboratore</td> \n",
       "        <td id=\"T_bcc8ace4_522a_11e8_93d6_8c85905f408erow11_col1\" class=\"data row11 col1\" >1</td> \n",
       "        <td id=\"T_bcc8ace4_522a_11e8_93d6_8c85905f408erow11_col2\" class=\"data row11 col2\" >0.01%</td> \n",
       "    </tr>    <tr> \n",
       "        <th id=\"T_bcc8ace4_522a_11e8_93d6_8c85905f408elevel0_row12\" class=\"row_heading level0 row12\" >12</th> \n",
       "        <td id=\"T_bcc8ace4_522a_11e8_93d6_8c85905f408erow12_col0\" class=\"data row12 col0\" >Ejecutivo</td> \n",
       "        <td id=\"T_bcc8ace4_522a_11e8_93d6_8c85905f408erow12_col1\" class=\"data row12 col1\" >1</td> \n",
       "        <td id=\"T_bcc8ace4_522a_11e8_93d6_8c85905f408erow12_col2\" class=\"data row12 col2\" >0.01%</td> \n",
       "    </tr>    <tr> \n",
       "        <th id=\"T_bcc8ace4_522a_11e8_93d6_8c85905f408elevel0_row13\" class=\"row_heading level0 row13\" >13</th> \n",
       "        <td id=\"T_bcc8ace4_522a_11e8_93d6_8c85905f408erow13_col0\" class=\"data row13 col0\" >Especialista de nível médio</td> \n",
       "        <td id=\"T_bcc8ace4_522a_11e8_93d6_8c85905f408erow13_col1\" class=\"data row13 col1\" >1</td> \n",
       "        <td id=\"T_bcc8ace4_522a_11e8_93d6_8c85905f408erow13_col2\" class=\"data row13 col2\" >0.01%</td> \n",
       "    </tr>    <tr> \n",
       "        <th id=\"T_bcc8ace4_522a_11e8_93d6_8c85905f408elevel0_row14\" class=\"row_heading level0 row14\" >14</th> \n",
       "        <td id=\"T_bcc8ace4_522a_11e8_93d6_8c85905f408erow14_col0\" class=\"data row14 col0\" >中级专家</td> \n",
       "        <td id=\"T_bcc8ace4_522a_11e8_93d6_8c85905f408erow14_col1\" class=\"data row14 col1\" >1</td> \n",
       "        <td id=\"T_bcc8ace4_522a_11e8_93d6_8c85905f408erow14_col2\" class=\"data row14 col2\" >0.01%</td> \n",
       "    </tr>    <tr> \n",
       "        <th id=\"T_bcc8ace4_522a_11e8_93d6_8c85905f408elevel0_row15\" class=\"row_heading level0 row15\" >15</th> \n",
       "        <td id=\"T_bcc8ace4_522a_11e8_93d6_8c85905f408erow15_col0\" class=\"data row15 col0\" >初级贡献者</td> \n",
       "        <td id=\"T_bcc8ace4_522a_11e8_93d6_8c85905f408erow15_col1\" class=\"data row15 col1\" >1</td> \n",
       "        <td id=\"T_bcc8ace4_522a_11e8_93d6_8c85905f408erow15_col2\" class=\"data row15 col2\" >0.01%</td> \n",
       "    </tr></tbody> \n",
       "</table> "
      ],
      "text/plain": [
       "<pandas.io.formats.style.Styler at 0x1a176be048>"
      ]
     },
     "metadata": {},
     "output_type": "display_data"
    },
    {
     "data": {
      "text/plain": [
       "'V_15 : My role is:'"
      ]
     },
     "metadata": {},
     "output_type": "display_data"
    },
    {
     "data": {
      "text/html": [
       "<style  type=\"text/css\" >\n",
       "</style>  \n",
       "<table id=\"T_bcca024c_522a_11e8_bb50_8c85905f408e\" > \n",
       "<thead>    <tr> \n",
       "        <th class=\"blank level0\" ></th> \n",
       "        <th class=\"col_heading level0 col0\" >Options</th> \n",
       "        <th class=\"col_heading level0 col1\" >Count</th> \n",
       "        <th class=\"col_heading level0 col2\" >Percent</th> \n",
       "    </tr></thead> \n",
       "<tbody>    <tr> \n",
       "        <th id=\"T_bcca024c_522a_11e8_bb50_8c85905f408elevel0_row0\" class=\"row_heading level0 row0\" >0</th> \n",
       "        <td id=\"T_bcca024c_522a_11e8_bb50_8c85905f408erow0_col0\" class=\"data row0 col0\" >Associate Professor</td> \n",
       "        <td id=\"T_bcca024c_522a_11e8_bb50_8c85905f408erow0_col1\" class=\"data row0 col1\" >121</td> \n",
       "        <td id=\"T_bcca024c_522a_11e8_bb50_8c85905f408erow0_col2\" class=\"data row0 col2\" >0.97%</td> \n",
       "    </tr>    <tr> \n",
       "        <th id=\"T_bcca024c_522a_11e8_bb50_8c85905f408elevel0_row1\" class=\"row_heading level0 row1\" >1</th> \n",
       "        <td id=\"T_bcca024c_522a_11e8_bb50_8c85905f408erow1_col0\" class=\"data row1 col0\" >Professor</td> \n",
       "        <td id=\"T_bcca024c_522a_11e8_bb50_8c85905f408erow1_col1\" class=\"data row1 col1\" >59</td> \n",
       "        <td id=\"T_bcca024c_522a_11e8_bb50_8c85905f408erow1_col2\" class=\"data row1 col2\" >0.47%</td> \n",
       "    </tr>    <tr> \n",
       "        <th id=\"T_bcca024c_522a_11e8_bb50_8c85905f408elevel0_row2\" class=\"row_heading level0 row2\" >2</th> \n",
       "        <td id=\"T_bcca024c_522a_11e8_bb50_8c85905f408erow2_col0\" class=\"data row2 col0\" >Instructor</td> \n",
       "        <td id=\"T_bcca024c_522a_11e8_bb50_8c85905f408erow2_col1\" class=\"data row2 col1\" >56</td> \n",
       "        <td id=\"T_bcca024c_522a_11e8_bb50_8c85905f408erow2_col2\" class=\"data row2 col2\" >0.45%</td> \n",
       "    </tr>    <tr> \n",
       "        <th id=\"T_bcca024c_522a_11e8_bb50_8c85905f408elevel0_row3\" class=\"row_heading level0 row3\" >3</th> \n",
       "        <td id=\"T_bcca024c_522a_11e8_bb50_8c85905f408erow3_col0\" class=\"data row3 col0\" >Program Chair</td> \n",
       "        <td id=\"T_bcca024c_522a_11e8_bb50_8c85905f408erow3_col1\" class=\"data row3 col1\" >48</td> \n",
       "        <td id=\"T_bcca024c_522a_11e8_bb50_8c85905f408erow3_col2\" class=\"data row3 col2\" >0.38%</td> \n",
       "    </tr>    <tr> \n",
       "        <th id=\"T_bcca024c_522a_11e8_bb50_8c85905f408elevel0_row4\" class=\"row_heading level0 row4\" >4</th> \n",
       "        <td id=\"T_bcca024c_522a_11e8_bb50_8c85905f408erow4_col0\" class=\"data row4 col0\" >Other</td> \n",
       "        <td id=\"T_bcca024c_522a_11e8_bb50_8c85905f408erow4_col1\" class=\"data row4 col1\" >39</td> \n",
       "        <td id=\"T_bcca024c_522a_11e8_bb50_8c85905f408erow4_col2\" class=\"data row4 col2\" >0.31%</td> \n",
       "    </tr>    <tr> \n",
       "        <th id=\"T_bcca024c_522a_11e8_bb50_8c85905f408elevel0_row5\" class=\"row_heading level0 row5\" >5</th> \n",
       "        <td id=\"T_bcca024c_522a_11e8_bb50_8c85905f408erow5_col0\" class=\"data row5 col0\" >Lecturer</td> \n",
       "        <td id=\"T_bcca024c_522a_11e8_bb50_8c85905f408erow5_col1\" class=\"data row5 col1\" >29</td> \n",
       "        <td id=\"T_bcca024c_522a_11e8_bb50_8c85905f408erow5_col2\" class=\"data row5 col2\" >0.23%</td> \n",
       "    </tr>    <tr> \n",
       "        <th id=\"T_bcca024c_522a_11e8_bb50_8c85905f408elevel0_row6\" class=\"row_heading level0 row6\" >6</th> \n",
       "        <td id=\"T_bcca024c_522a_11e8_bb50_8c85905f408erow6_col0\" class=\"data row6 col0\" >Adjunct Professor</td> \n",
       "        <td id=\"T_bcca024c_522a_11e8_bb50_8c85905f408erow6_col1\" class=\"data row6 col1\" >24</td> \n",
       "        <td id=\"T_bcca024c_522a_11e8_bb50_8c85905f408erow6_col2\" class=\"data row6 col2\" >0.19%</td> \n",
       "    </tr>    <tr> \n",
       "        <th id=\"T_bcca024c_522a_11e8_bb50_8c85905f408elevel0_row7\" class=\"row_heading level0 row7\" >7</th> \n",
       "        <td id=\"T_bcca024c_522a_11e8_bb50_8c85905f408erow7_col0\" class=\"data row7 col0\" >Dean</td> \n",
       "        <td id=\"T_bcca024c_522a_11e8_bb50_8c85905f408erow7_col1\" class=\"data row7 col1\" >3</td> \n",
       "        <td id=\"T_bcca024c_522a_11e8_bb50_8c85905f408erow7_col2\" class=\"data row7 col2\" >0.02%</td> \n",
       "    </tr>    <tr> \n",
       "        <th id=\"T_bcca024c_522a_11e8_bb50_8c85905f408elevel0_row8\" class=\"row_heading level0 row8\" >8</th> \n",
       "        <td id=\"T_bcca024c_522a_11e8_bb50_8c85905f408erow8_col0\" class=\"data row8 col0\" >Associate Dean</td> \n",
       "        <td id=\"T_bcca024c_522a_11e8_bb50_8c85905f408erow8_col1\" class=\"data row8 col1\" >3</td> \n",
       "        <td id=\"T_bcca024c_522a_11e8_bb50_8c85905f408erow8_col2\" class=\"data row8 col2\" >0.02%</td> \n",
       "    </tr></tbody> \n",
       "</table> "
      ],
      "text/plain": [
       "<pandas.io.formats.style.Styler at 0x1a176bec18>"
      ]
     },
     "metadata": {},
     "output_type": "display_data"
    },
    {
     "data": {
      "text/plain": [
       "\"V_16 : I've been in my current role for:\""
      ]
     },
     "metadata": {},
     "output_type": "display_data"
    },
    {
     "data": {
      "text/html": [
       "<style  type=\"text/css\" >\n",
       "</style>  \n",
       "<table id=\"T_bccb4954_522a_11e8_a7d0_8c85905f408e\" > \n",
       "<thead>    <tr> \n",
       "        <th class=\"blank level0\" ></th> \n",
       "        <th class=\"col_heading level0 col0\" >Options</th> \n",
       "        <th class=\"col_heading level0 col1\" >Count</th> \n",
       "        <th class=\"col_heading level0 col2\" >Percent</th> \n",
       "    </tr></thead> \n",
       "<tbody>    <tr> \n",
       "        <th id=\"T_bccb4954_522a_11e8_a7d0_8c85905f408elevel0_row0\" class=\"row_heading level0 row0\" >0</th> \n",
       "        <td id=\"T_bccb4954_522a_11e8_a7d0_8c85905f408erow0_col0\" class=\"data row0 col0\" >1-2 years</td> \n",
       "        <td id=\"T_bccb4954_522a_11e8_a7d0_8c85905f408erow0_col1\" class=\"data row0 col1\" >4352</td> \n",
       "        <td id=\"T_bccb4954_522a_11e8_a7d0_8c85905f408erow0_col2\" class=\"data row0 col2\" >34.88%</td> \n",
       "    </tr>    <tr> \n",
       "        <th id=\"T_bccb4954_522a_11e8_a7d0_8c85905f408elevel0_row1\" class=\"row_heading level0 row1\" >1</th> \n",
       "        <td id=\"T_bccb4954_522a_11e8_a7d0_8c85905f408erow1_col0\" class=\"data row1 col0\" >Less than 1 year</td> \n",
       "        <td id=\"T_bccb4954_522a_11e8_a7d0_8c85905f408erow1_col1\" class=\"data row1 col1\" >3865</td> \n",
       "        <td id=\"T_bccb4954_522a_11e8_a7d0_8c85905f408erow1_col2\" class=\"data row1 col2\" >30.98%</td> \n",
       "    </tr>    <tr> \n",
       "        <th id=\"T_bccb4954_522a_11e8_a7d0_8c85905f408elevel0_row2\" class=\"row_heading level0 row2\" >2</th> \n",
       "        <td id=\"T_bccb4954_522a_11e8_a7d0_8c85905f408erow2_col0\" class=\"data row2 col0\" >3-4 years</td> \n",
       "        <td id=\"T_bccb4954_522a_11e8_a7d0_8c85905f408erow2_col1\" class=\"data row2 col1\" >2192</td> \n",
       "        <td id=\"T_bccb4954_522a_11e8_a7d0_8c85905f408erow2_col2\" class=\"data row2 col2\" >17.57%</td> \n",
       "    </tr>    <tr> \n",
       "        <th id=\"T_bccb4954_522a_11e8_a7d0_8c85905f408elevel0_row3\" class=\"row_heading level0 row3\" >3</th> \n",
       "        <td id=\"T_bccb4954_522a_11e8_a7d0_8c85905f408erow3_col0\" class=\"data row3 col0\" >5-7 years</td> \n",
       "        <td id=\"T_bccb4954_522a_11e8_a7d0_8c85905f408erow3_col1\" class=\"data row3 col1\" >928</td> \n",
       "        <td id=\"T_bccb4954_522a_11e8_a7d0_8c85905f408erow3_col2\" class=\"data row3 col2\" >7.44%</td> \n",
       "    </tr>    <tr> \n",
       "        <th id=\"T_bccb4954_522a_11e8_a7d0_8c85905f408elevel0_row4\" class=\"row_heading level0 row4\" >4</th> \n",
       "        <td id=\"T_bccb4954_522a_11e8_a7d0_8c85905f408erow4_col0\" class=\"data row4 col0\" >10+ years</td> \n",
       "        <td id=\"T_bccb4954_522a_11e8_a7d0_8c85905f408erow4_col1\" class=\"data row4 col1\" >769</td> \n",
       "        <td id=\"T_bccb4954_522a_11e8_a7d0_8c85905f408erow4_col2\" class=\"data row4 col2\" >6.16%</td> \n",
       "    </tr>    <tr> \n",
       "        <th id=\"T_bccb4954_522a_11e8_a7d0_8c85905f408elevel0_row5\" class=\"row_heading level0 row5\" >5</th> \n",
       "        <td id=\"T_bccb4954_522a_11e8_a7d0_8c85905f408erow5_col0\" class=\"data row5 col0\" >8-10 years</td> \n",
       "        <td id=\"T_bccb4954_522a_11e8_a7d0_8c85905f408erow5_col1\" class=\"data row5 col1\" >366</td> \n",
       "        <td id=\"T_bccb4954_522a_11e8_a7d0_8c85905f408erow5_col2\" class=\"data row5 col2\" >2.93%</td> \n",
       "    </tr></tbody> \n",
       "</table> "
      ],
      "text/plain": [
       "<pandas.io.formats.style.Styler at 0x1a176bef28>"
      ]
     },
     "metadata": {},
     "output_type": "display_data"
    },
    {
     "data": {
      "text/plain": [
       "'V_17 : I typically work:'"
      ]
     },
     "metadata": {},
     "output_type": "display_data"
    },
    {
     "data": {
      "text/html": [
       "<style  type=\"text/css\" >\n",
       "</style>  \n",
       "<table id=\"T_bccc8b28_522a_11e8_b414_8c85905f408e\" > \n",
       "<thead>    <tr> \n",
       "        <th class=\"blank level0\" ></th> \n",
       "        <th class=\"col_heading level0 col0\" >Options</th> \n",
       "        <th class=\"col_heading level0 col1\" >Count</th> \n",
       "        <th class=\"col_heading level0 col2\" >Percent</th> \n",
       "    </tr></thead> \n",
       "<tbody>    <tr> \n",
       "        <th id=\"T_bccc8b28_522a_11e8_b414_8c85905f408elevel0_row0\" class=\"row_heading level0 row0\" >0</th> \n",
       "        <td id=\"T_bccc8b28_522a_11e8_b414_8c85905f408erow0_col0\" class=\"data row0 col0\" >40 hours per week</td> \n",
       "        <td id=\"T_bccc8b28_522a_11e8_b414_8c85905f408erow0_col1\" class=\"data row0 col1\" >5553</td> \n",
       "        <td id=\"T_bccc8b28_522a_11e8_b414_8c85905f408erow0_col2\" class=\"data row0 col2\" >44.51%</td> \n",
       "    </tr>    <tr> \n",
       "        <th id=\"T_bccc8b28_522a_11e8_b414_8c85905f408elevel0_row1\" class=\"row_heading level0 row1\" >1</th> \n",
       "        <td id=\"T_bccc8b28_522a_11e8_b414_8c85905f408erow1_col0\" class=\"data row1 col0\" >41-50 hours per week</td> \n",
       "        <td id=\"T_bccc8b28_522a_11e8_b414_8c85905f408erow1_col1\" class=\"data row1 col1\" >4070</td> \n",
       "        <td id=\"T_bccc8b28_522a_11e8_b414_8c85905f408erow1_col2\" class=\"data row1 col2\" >32.62%</td> \n",
       "    </tr>    <tr> \n",
       "        <th id=\"T_bccc8b28_522a_11e8_b414_8c85905f408elevel0_row2\" class=\"row_heading level0 row2\" >2</th> \n",
       "        <td id=\"T_bccc8b28_522a_11e8_b414_8c85905f408erow2_col0\" class=\"data row2 col0\" >Less than 40 hours per week</td> \n",
       "        <td id=\"T_bccc8b28_522a_11e8_b414_8c85905f408erow2_col1\" class=\"data row2 col1\" >1913</td> \n",
       "        <td id=\"T_bccc8b28_522a_11e8_b414_8c85905f408erow2_col2\" class=\"data row2 col2\" >15.33%</td> \n",
       "    </tr>    <tr> \n",
       "        <th id=\"T_bccc8b28_522a_11e8_b414_8c85905f408elevel0_row3\" class=\"row_heading level0 row3\" >3</th> \n",
       "        <td id=\"T_bccc8b28_522a_11e8_b414_8c85905f408erow3_col0\" class=\"data row3 col0\" >51-60 hours per week</td> \n",
       "        <td id=\"T_bccc8b28_522a_11e8_b414_8c85905f408erow3_col1\" class=\"data row3 col1\" >695</td> \n",
       "        <td id=\"T_bccc8b28_522a_11e8_b414_8c85905f408erow3_col2\" class=\"data row3 col2\" >5.57%</td> \n",
       "    </tr>    <tr> \n",
       "        <th id=\"T_bccc8b28_522a_11e8_b414_8c85905f408elevel0_row4\" class=\"row_heading level0 row4\" >4</th> \n",
       "        <td id=\"T_bccc8b28_522a_11e8_b414_8c85905f408erow4_col0\" class=\"data row4 col0\" >60+ hours per week</td> \n",
       "        <td id=\"T_bccc8b28_522a_11e8_b414_8c85905f408erow4_col1\" class=\"data row4 col1\" >241</td> \n",
       "        <td id=\"T_bccc8b28_522a_11e8_b414_8c85905f408erow4_col2\" class=\"data row4 col2\" >1.93%</td> \n",
       "    </tr></tbody> \n",
       "</table> "
      ],
      "text/plain": [
       "<pandas.io.formats.style.Styler at 0x1a14aaa630>"
      ]
     },
     "metadata": {},
     "output_type": "display_data"
    },
    {
     "data": {
      "text/plain": [
       "'V_19 : My job provides:'"
      ]
     },
     "metadata": {},
     "output_type": "display_data"
    },
    {
     "data": {
      "text/html": [
       "<style  type=\"text/css\" >\n",
       "</style>  \n",
       "<table id=\"T_bcd2be34_522a_11e8_92c2_8c85905f408e\" > \n",
       "<thead>    <tr> \n",
       "        <th class=\"blank level0\" ></th> \n",
       "        <th class=\"col_heading level0 col0\" >Options</th> \n",
       "        <th class=\"col_heading level0 col1\" >Count</th> \n",
       "        <th class=\"col_heading level0 col2\" >Percent</th> \n",
       "    </tr></thead> \n",
       "<tbody>    <tr> \n",
       "        <th id=\"T_bcd2be34_522a_11e8_92c2_8c85905f408elevel0_row0\" class=\"row_heading level0 row0\" >1</th> \n",
       "        <td id=\"T_bcd2be34_522a_11e8_92c2_8c85905f408erow0_col0\" class=\"data row0 col0\" >Paid Time Off</td> \n",
       "        <td id=\"T_bcd2be34_522a_11e8_92c2_8c85905f408erow0_col1\" class=\"data row0 col1\" >8731</td> \n",
       "        <td id=\"T_bcd2be34_522a_11e8_92c2_8c85905f408erow0_col2\" class=\"data row0 col2\" >69.98%</td> \n",
       "    </tr>    <tr> \n",
       "        <th id=\"T_bcd2be34_522a_11e8_92c2_8c85905f408elevel0_row1\" class=\"row_heading level0 row1\" >4</th> \n",
       "        <td id=\"T_bcd2be34_522a_11e8_92c2_8c85905f408erow1_col0\" class=\"data row1 col0\" >Medical Insurance</td> \n",
       "        <td id=\"T_bcd2be34_522a_11e8_92c2_8c85905f408erow1_col1\" class=\"data row1 col1\" >8609</td> \n",
       "        <td id=\"T_bcd2be34_522a_11e8_92c2_8c85905f408erow1_col2\" class=\"data row1 col2\" >69.00%</td> \n",
       "    </tr>    <tr> \n",
       "        <th id=\"T_bcd2be34_522a_11e8_92c2_8c85905f408elevel0_row2\" class=\"row_heading level0 row2\" >12</th> \n",
       "        <td id=\"T_bcd2be34_522a_11e8_92c2_8c85905f408erow2_col0\" class=\"data row2 col0\" >Dental Insurance</td> \n",
       "        <td id=\"T_bcd2be34_522a_11e8_92c2_8c85905f408erow2_col1\" class=\"data row2 col1\" >7414</td> \n",
       "        <td id=\"T_bcd2be34_522a_11e8_92c2_8c85905f408erow2_col2\" class=\"data row2 col2\" >59.42%</td> \n",
       "    </tr>    <tr> \n",
       "        <th id=\"T_bcd2be34_522a_11e8_92c2_8c85905f408elevel0_row3\" class=\"row_heading level0 row3\" >11</th> \n",
       "        <td id=\"T_bcd2be34_522a_11e8_92c2_8c85905f408erow3_col0\" class=\"data row3 col0\" >Employer-matched Retirement</td> \n",
       "        <td id=\"T_bcd2be34_522a_11e8_92c2_8c85905f408erow3_col1\" class=\"data row3 col1\" >5759</td> \n",
       "        <td id=\"T_bcd2be34_522a_11e8_92c2_8c85905f408erow3_col2\" class=\"data row3 col2\" >46.16%</td> \n",
       "    </tr>    <tr> \n",
       "        <th id=\"T_bcd2be34_522a_11e8_92c2_8c85905f408elevel0_row4\" class=\"row_heading level0 row4\" >3</th> \n",
       "        <td id=\"T_bcd2be34_522a_11e8_92c2_8c85905f408erow4_col0\" class=\"data row4 col0\" >Life Insurance</td> \n",
       "        <td id=\"T_bcd2be34_522a_11e8_92c2_8c85905f408erow4_col1\" class=\"data row4 col1\" >5733</td> \n",
       "        <td id=\"T_bcd2be34_522a_11e8_92c2_8c85905f408erow4_col2\" class=\"data row4 col2\" >45.95%</td> \n",
       "    </tr>    <tr> \n",
       "        <th id=\"T_bcd2be34_522a_11e8_92c2_8c85905f408elevel0_row5\" class=\"row_heading level0 row5\" >10</th> \n",
       "        <td id=\"T_bcd2be34_522a_11e8_92c2_8c85905f408erow5_col0\" class=\"data row5 col0\" >Professional Development</td> \n",
       "        <td id=\"T_bcd2be34_522a_11e8_92c2_8c85905f408erow5_col1\" class=\"data row5 col1\" >5583</td> \n",
       "        <td id=\"T_bcd2be34_522a_11e8_92c2_8c85905f408erow5_col2\" class=\"data row5 col2\" >44.75%</td> \n",
       "    </tr>    <tr> \n",
       "        <th id=\"T_bcd2be34_522a_11e8_92c2_8c85905f408elevel0_row6\" class=\"row_heading level0 row6\" >7</th> \n",
       "        <td id=\"T_bcd2be34_522a_11e8_92c2_8c85905f408erow6_col0\" class=\"data row6 col0\" >Paid Parental Leave</td> \n",
       "        <td id=\"T_bcd2be34_522a_11e8_92c2_8c85905f408erow6_col1\" class=\"data row6 col1\" >4781</td> \n",
       "        <td id=\"T_bcd2be34_522a_11e8_92c2_8c85905f408erow6_col2\" class=\"data row6 col2\" >38.32%</td> \n",
       "    </tr>    <tr> \n",
       "        <th id=\"T_bcd2be34_522a_11e8_92c2_8c85905f408elevel0_row7\" class=\"row_heading level0 row7\" >13</th> \n",
       "        <td id=\"T_bcd2be34_522a_11e8_92c2_8c85905f408erow7_col0\" class=\"data row7 col0\" >Disability Insurance</td> \n",
       "        <td id=\"T_bcd2be34_522a_11e8_92c2_8c85905f408erow7_col1\" class=\"data row7 col1\" >4471</td> \n",
       "        <td id=\"T_bcd2be34_522a_11e8_92c2_8c85905f408erow7_col2\" class=\"data row7 col2\" >35.83%</td> \n",
       "    </tr>    <tr> \n",
       "        <th id=\"T_bcd2be34_522a_11e8_92c2_8c85905f408elevel0_row8\" class=\"row_heading level0 row8\" >15</th> \n",
       "        <td id=\"T_bcd2be34_522a_11e8_92c2_8c85905f408erow8_col0\" class=\"data row8 col0\" >Wellness Programs</td> \n",
       "        <td id=\"T_bcd2be34_522a_11e8_92c2_8c85905f408erow8_col1\" class=\"data row8 col1\" >3574</td> \n",
       "        <td id=\"T_bcd2be34_522a_11e8_92c2_8c85905f408erow8_col2\" class=\"data row8 col2\" >28.64%</td> \n",
       "    </tr>    <tr> \n",
       "        <th id=\"T_bcd2be34_522a_11e8_92c2_8c85905f408elevel0_row9\" class=\"row_heading level0 row9\" >2</th> \n",
       "        <td id=\"T_bcd2be34_522a_11e8_92c2_8c85905f408erow9_col0\" class=\"data row9 col0\" >Fitness Benefits</td> \n",
       "        <td id=\"T_bcd2be34_522a_11e8_92c2_8c85905f408erow9_col1\" class=\"data row9 col1\" >3499</td> \n",
       "        <td id=\"T_bcd2be34_522a_11e8_92c2_8c85905f408erow9_col2\" class=\"data row9 col2\" >28.04%</td> \n",
       "    </tr>    <tr> \n",
       "        <th id=\"T_bcd2be34_522a_11e8_92c2_8c85905f408elevel0_row10\" class=\"row_heading level0 row10\" >9</th> \n",
       "        <td id=\"T_bcd2be34_522a_11e8_92c2_8c85905f408erow10_col0\" class=\"data row10 col0\" >Commuting Benefits</td> \n",
       "        <td id=\"T_bcd2be34_522a_11e8_92c2_8c85905f408erow10_col1\" class=\"data row10 col1\" >3066</td> \n",
       "        <td id=\"T_bcd2be34_522a_11e8_92c2_8c85905f408erow10_col2\" class=\"data row10 col2\" >24.57%</td> \n",
       "    </tr>    <tr> \n",
       "        <th id=\"T_bcd2be34_522a_11e8_92c2_8c85905f408elevel0_row11\" class=\"row_heading level0 row11\" >6</th> \n",
       "        <td id=\"T_bcd2be34_522a_11e8_92c2_8c85905f408erow11_col0\" class=\"data row11 col0\" >Education Funding</td> \n",
       "        <td id=\"T_bcd2be34_522a_11e8_92c2_8c85905f408erow11_col1\" class=\"data row11 col1\" >3059</td> \n",
       "        <td id=\"T_bcd2be34_522a_11e8_92c2_8c85905f408erow11_col2\" class=\"data row11 col2\" >24.52%</td> \n",
       "    </tr>    <tr> \n",
       "        <th id=\"T_bcd2be34_522a_11e8_92c2_8c85905f408elevel0_row12\" class=\"row_heading level0 row12\" >0</th> \n",
       "        <td id=\"T_bcd2be34_522a_11e8_92c2_8c85905f408erow12_col0\" class=\"data row12 col0\" >Profit Sharing or Stock Options</td> \n",
       "        <td id=\"T_bcd2be34_522a_11e8_92c2_8c85905f408erow12_col1\" class=\"data row12 col1\" >2924</td> \n",
       "        <td id=\"T_bcd2be34_522a_11e8_92c2_8c85905f408erow12_col2\" class=\"data row12 col2\" >23.44%</td> \n",
       "    </tr>    <tr> \n",
       "        <th id=\"T_bcd2be34_522a_11e8_92c2_8c85905f408elevel0_row13\" class=\"row_heading level0 row13\" >8</th> \n",
       "        <td id=\"T_bcd2be34_522a_11e8_92c2_8c85905f408erow13_col0\" class=\"data row13 col0\" >Professional Memberships</td> \n",
       "        <td id=\"T_bcd2be34_522a_11e8_92c2_8c85905f408erow13_col1\" class=\"data row13 col1\" >2448</td> \n",
       "        <td id=\"T_bcd2be34_522a_11e8_92c2_8c85905f408erow13_col2\" class=\"data row13 col2\" >19.62%</td> \n",
       "    </tr>    <tr> \n",
       "        <th id=\"T_bcd2be34_522a_11e8_92c2_8c85905f408elevel0_row14\" class=\"row_heading level0 row14\" >5</th> \n",
       "        <td id=\"T_bcd2be34_522a_11e8_92c2_8c85905f408erow14_col0\" class=\"data row14 col0\" >None of these</td> \n",
       "        <td id=\"T_bcd2be34_522a_11e8_92c2_8c85905f408erow14_col1\" class=\"data row14 col1\" >2297</td> \n",
       "        <td id=\"T_bcd2be34_522a_11e8_92c2_8c85905f408erow14_col2\" class=\"data row14 col2\" >18.41%</td> \n",
       "    </tr>    <tr> \n",
       "        <th id=\"T_bcd2be34_522a_11e8_92c2_8c85905f408elevel0_row15\" class=\"row_heading level0 row15\" >14</th> \n",
       "        <td id=\"T_bcd2be34_522a_11e8_92c2_8c85905f408erow15_col0\" class=\"data row15 col0\" >Child Care</td> \n",
       "        <td id=\"T_bcd2be34_522a_11e8_92c2_8c85905f408erow15_col1\" class=\"data row15 col1\" >761</td> \n",
       "        <td id=\"T_bcd2be34_522a_11e8_92c2_8c85905f408erow15_col2\" class=\"data row15 col2\" >6.10%</td> \n",
       "    </tr></tbody> \n",
       "</table> "
      ],
      "text/plain": [
       "<pandas.io.formats.style.Styler at 0x1a14ab4390>"
      ]
     },
     "metadata": {},
     "output_type": "display_data"
    },
    {
     "data": {
      "text/plain": [
       "'V_20 : In my current role, there is:'"
      ]
     },
     "metadata": {},
     "output_type": "display_data"
    },
    {
     "data": {
      "text/html": [
       "<style  type=\"text/css\" >\n",
       "</style>  \n",
       "<table id=\"T_bcd4259c_522a_11e8_beb6_8c85905f408e\" > \n",
       "<thead>    <tr> \n",
       "        <th class=\"blank level0\" ></th> \n",
       "        <th class=\"col_heading level0 col0\" >Options</th> \n",
       "        <th class=\"col_heading level0 col1\" >Count</th> \n",
       "        <th class=\"col_heading level0 col2\" >Percent</th> \n",
       "    </tr></thead> \n",
       "<tbody>    <tr> \n",
       "        <th id=\"T_bcd4259c_522a_11e8_beb6_8c85905f408elevel0_row0\" class=\"row_heading level0 row0\" >0</th> \n",
       "        <td id=\"T_bcd4259c_522a_11e8_beb6_8c85905f408erow0_col0\" class=\"data row0 col0\" >Some opportunity for advancement</td> \n",
       "        <td id=\"T_bcd4259c_522a_11e8_beb6_8c85905f408erow0_col1\" class=\"data row0 col1\" >3880</td> \n",
       "        <td id=\"T_bcd4259c_522a_11e8_beb6_8c85905f408erow0_col2\" class=\"data row0 col2\" >31.10%</td> \n",
       "    </tr>    <tr> \n",
       "        <th id=\"T_bcd4259c_522a_11e8_beb6_8c85905f408elevel0_row1\" class=\"row_heading level0 row1\" >1</th> \n",
       "        <td id=\"T_bcd4259c_522a_11e8_beb6_8c85905f408erow1_col0\" class=\"data row1 col0\" >Promising opportunity for advancement</td> \n",
       "        <td id=\"T_bcd4259c_522a_11e8_beb6_8c85905f408erow1_col1\" class=\"data row1 col1\" >3256</td> \n",
       "        <td id=\"T_bcd4259c_522a_11e8_beb6_8c85905f408erow1_col2\" class=\"data row1 col2\" >26.10%</td> \n",
       "    </tr>    <tr> \n",
       "        <th id=\"T_bcd4259c_522a_11e8_beb6_8c85905f408elevel0_row2\" class=\"row_heading level0 row2\" >2</th> \n",
       "        <td id=\"T_bcd4259c_522a_11e8_beb6_8c85905f408erow2_col0\" class=\"data row2 col0\" >Limited opportunity for advancement</td> \n",
       "        <td id=\"T_bcd4259c_522a_11e8_beb6_8c85905f408erow2_col1\" class=\"data row2 col1\" >3093</td> \n",
       "        <td id=\"T_bcd4259c_522a_11e8_beb6_8c85905f408erow2_col2\" class=\"data row2 col2\" >24.79%</td> \n",
       "    </tr>    <tr> \n",
       "        <th id=\"T_bcd4259c_522a_11e8_beb6_8c85905f408elevel0_row3\" class=\"row_heading level0 row3\" >3</th> \n",
       "        <td id=\"T_bcd4259c_522a_11e8_beb6_8c85905f408erow3_col0\" class=\"data row3 col0\" >No opportunity for advancement</td> \n",
       "        <td id=\"T_bcd4259c_522a_11e8_beb6_8c85905f408erow3_col1\" class=\"data row3 col1\" >1478</td> \n",
       "        <td id=\"T_bcd4259c_522a_11e8_beb6_8c85905f408erow3_col2\" class=\"data row3 col2\" >11.85%</td> \n",
       "    </tr>    <tr> \n",
       "        <th id=\"T_bcd4259c_522a_11e8_beb6_8c85905f408elevel0_row4\" class=\"row_heading level0 row4\" >4</th> \n",
       "        <td id=\"T_bcd4259c_522a_11e8_beb6_8c85905f408erow4_col0\" class=\"data row4 col0\" >Not sure</td> \n",
       "        <td id=\"T_bcd4259c_522a_11e8_beb6_8c85905f408erow4_col1\" class=\"data row4 col1\" >767</td> \n",
       "        <td id=\"T_bcd4259c_522a_11e8_beb6_8c85905f408erow4_col2\" class=\"data row4 col2\" >6.15%</td> \n",
       "    </tr></tbody> \n",
       "</table> "
      ],
      "text/plain": [
       "<pandas.io.formats.style.Styler at 0x1a14ab4668>"
      ]
     },
     "metadata": {},
     "output_type": "display_data"
    },
    {
     "data": {
      "text/plain": [
       "'V_21 : In my current role, I am:'"
      ]
     },
     "metadata": {},
     "output_type": "display_data"
    },
    {
     "data": {
      "text/html": [
       "<style  type=\"text/css\" >\n",
       "</style>  \n",
       "<table id=\"T_bcd591f4_522a_11e8_bca7_8c85905f408e\" > \n",
       "<thead>    <tr> \n",
       "        <th class=\"blank level0\" ></th> \n",
       "        <th class=\"col_heading level0 col0\" >Options</th> \n",
       "        <th class=\"col_heading level0 col1\" >Count</th> \n",
       "        <th class=\"col_heading level0 col2\" >Percent</th> \n",
       "    </tr></thead> \n",
       "<tbody>    <tr> \n",
       "        <th id=\"T_bcd591f4_522a_11e8_bca7_8c85905f408elevel0_row0\" class=\"row_heading level0 row0\" >0</th> \n",
       "        <td id=\"T_bcd591f4_522a_11e8_bca7_8c85905f408erow0_col0\" class=\"data row0 col0\" >Learning some new skills</td> \n",
       "        <td id=\"T_bcd591f4_522a_11e8_bca7_8c85905f408erow0_col1\" class=\"data row0 col1\" >5439</td> \n",
       "        <td id=\"T_bcd591f4_522a_11e8_bca7_8c85905f408erow0_col2\" class=\"data row0 col2\" >43.59%</td> \n",
       "    </tr>    <tr> \n",
       "        <th id=\"T_bcd591f4_522a_11e8_bca7_8c85905f408elevel0_row1\" class=\"row_heading level0 row1\" >1</th> \n",
       "        <td id=\"T_bcd591f4_522a_11e8_bca7_8c85905f408erow1_col0\" class=\"data row1 col0\" >Learning and increasing my skill set every day</td> \n",
       "        <td id=\"T_bcd591f4_522a_11e8_bca7_8c85905f408erow1_col1\" class=\"data row1 col1\" >5018</td> \n",
       "        <td id=\"T_bcd591f4_522a_11e8_bca7_8c85905f408erow1_col2\" class=\"data row1 col2\" >40.22%</td> \n",
       "    </tr>    <tr> \n",
       "        <th id=\"T_bcd591f4_522a_11e8_bca7_8c85905f408elevel0_row2\" class=\"row_heading level0 row2\" >2</th> \n",
       "        <td id=\"T_bcd591f4_522a_11e8_bca7_8c85905f408erow2_col0\" class=\"data row2 col0\" >Learning very little</td> \n",
       "        <td id=\"T_bcd591f4_522a_11e8_bca7_8c85905f408erow2_col1\" class=\"data row2 col1\" >1699</td> \n",
       "        <td id=\"T_bcd591f4_522a_11e8_bca7_8c85905f408erow2_col2\" class=\"data row2 col2\" >13.62%</td> \n",
       "    </tr>    <tr> \n",
       "        <th id=\"T_bcd591f4_522a_11e8_bca7_8c85905f408elevel0_row3\" class=\"row_heading level0 row3\" >3</th> \n",
       "        <td id=\"T_bcd591f4_522a_11e8_bca7_8c85905f408erow3_col0\" class=\"data row3 col0\" >Learning nothing</td> \n",
       "        <td id=\"T_bcd591f4_522a_11e8_bca7_8c85905f408erow3_col1\" class=\"data row3 col1\" >249</td> \n",
       "        <td id=\"T_bcd591f4_522a_11e8_bca7_8c85905f408erow3_col2\" class=\"data row3 col2\" >2.00%</td> \n",
       "    </tr>    <tr> \n",
       "        <th id=\"T_bcd591f4_522a_11e8_bca7_8c85905f408elevel0_row4\" class=\"row_heading level0 row4\" >4</th> \n",
       "        <td id=\"T_bcd591f4_522a_11e8_bca7_8c85905f408erow4_col0\" class=\"data row4 col0\" >Not sure</td> \n",
       "        <td id=\"T_bcd591f4_522a_11e8_bca7_8c85905f408erow4_col1\" class=\"data row4 col1\" >69</td> \n",
       "        <td id=\"T_bcd591f4_522a_11e8_bca7_8c85905f408erow4_col2\" class=\"data row4 col2\" >0.55%</td> \n",
       "    </tr></tbody> \n",
       "</table> "
      ],
      "text/plain": [
       "<pandas.io.formats.style.Styler at 0x1a14ab4d68>"
      ]
     },
     "metadata": {},
     "output_type": "display_data"
    },
    {
     "data": {
      "text/plain": [
       "'V_22 : My job is:'"
      ]
     },
     "metadata": {},
     "output_type": "display_data"
    },
    {
     "data": {
      "text/html": [
       "<style  type=\"text/css\" >\n",
       "</style>  \n",
       "<table id=\"T_bcd6e926_522a_11e8_9fcf_8c85905f408e\" > \n",
       "<thead>    <tr> \n",
       "        <th class=\"blank level0\" ></th> \n",
       "        <th class=\"col_heading level0 col0\" >Options</th> \n",
       "        <th class=\"col_heading level0 col1\" >Count</th> \n",
       "        <th class=\"col_heading level0 col2\" >Percent</th> \n",
       "    </tr></thead> \n",
       "<tbody>    <tr> \n",
       "        <th id=\"T_bcd6e926_522a_11e8_9fcf_8c85905f408elevel0_row0\" class=\"row_heading level0 row0\" >0</th> \n",
       "        <td id=\"T_bcd6e926_522a_11e8_9fcf_8c85905f408erow0_col0\" class=\"data row0 col0\" >Pretty good</td> \n",
       "        <td id=\"T_bcd6e926_522a_11e8_9fcf_8c85905f408erow0_col1\" class=\"data row0 col1\" >8014</td> \n",
       "        <td id=\"T_bcd6e926_522a_11e8_9fcf_8c85905f408erow0_col2\" class=\"data row0 col2\" >64.23%</td> \n",
       "    </tr>    <tr> \n",
       "        <th id=\"T_bcd6e926_522a_11e8_9fcf_8c85905f408elevel0_row1\" class=\"row_heading level0 row1\" >1</th> \n",
       "        <td id=\"T_bcd6e926_522a_11e8_9fcf_8c85905f408erow1_col0\" class=\"data row1 col0\" >The best</td> \n",
       "        <td id=\"T_bcd6e926_522a_11e8_9fcf_8c85905f408erow1_col1\" class=\"data row1 col1\" >2161</td> \n",
       "        <td id=\"T_bcd6e926_522a_11e8_9fcf_8c85905f408erow1_col2\" class=\"data row1 col2\" >17.32%</td> \n",
       "    </tr>    <tr> \n",
       "        <th id=\"T_bcd6e926_522a_11e8_9fcf_8c85905f408elevel0_row2\" class=\"row_heading level0 row2\" >2</th> \n",
       "        <td id=\"T_bcd6e926_522a_11e8_9fcf_8c85905f408erow2_col0\" class=\"data row2 col0\" >Not great</td> \n",
       "        <td id=\"T_bcd6e926_522a_11e8_9fcf_8c85905f408erow2_col1\" class=\"data row2 col1\" >1942</td> \n",
       "        <td id=\"T_bcd6e926_522a_11e8_9fcf_8c85905f408erow2_col2\" class=\"data row2 col2\" >15.56%</td> \n",
       "    </tr>    <tr> \n",
       "        <th id=\"T_bcd6e926_522a_11e8_9fcf_8c85905f408elevel0_row3\" class=\"row_heading level0 row3\" >3</th> \n",
       "        <td id=\"T_bcd6e926_522a_11e8_9fcf_8c85905f408erow3_col0\" class=\"data row3 col0\" >Not sure</td> \n",
       "        <td id=\"T_bcd6e926_522a_11e8_9fcf_8c85905f408erow3_col1\" class=\"data row3 col1\" >194</td> \n",
       "        <td id=\"T_bcd6e926_522a_11e8_9fcf_8c85905f408erow3_col2\" class=\"data row3 col2\" >1.55%</td> \n",
       "    </tr>    <tr> \n",
       "        <th id=\"T_bcd6e926_522a_11e8_9fcf_8c85905f408elevel0_row4\" class=\"row_heading level0 row4\" >4</th> \n",
       "        <td id=\"T_bcd6e926_522a_11e8_9fcf_8c85905f408erow4_col0\" class=\"data row4 col0\" >The worst</td> \n",
       "        <td id=\"T_bcd6e926_522a_11e8_9fcf_8c85905f408erow4_col1\" class=\"data row4 col1\" >163</td> \n",
       "        <td id=\"T_bcd6e926_522a_11e8_9fcf_8c85905f408erow4_col2\" class=\"data row4 col2\" >1.31%</td> \n",
       "    </tr></tbody> \n",
       "</table> "
      ],
      "text/plain": [
       "<pandas.io.formats.style.Styler at 0x1a14ab4d30>"
      ]
     },
     "metadata": {},
     "output_type": "display_data"
    },
    {
     "data": {
      "text/plain": [
       "'V_23 : My job stability is:'"
      ]
     },
     "metadata": {},
     "output_type": "display_data"
    },
    {
     "data": {
      "text/html": [
       "<style  type=\"text/css\" >\n",
       "</style>  \n",
       "<table id=\"T_bcd85a4a_522a_11e8_b4d1_8c85905f408e\" > \n",
       "<thead>    <tr> \n",
       "        <th class=\"blank level0\" ></th> \n",
       "        <th class=\"col_heading level0 col0\" >Options</th> \n",
       "        <th class=\"col_heading level0 col1\" >Count</th> \n",
       "        <th class=\"col_heading level0 col2\" >Percent</th> \n",
       "    </tr></thead> \n",
       "<tbody>    <tr> \n",
       "        <th id=\"T_bcd85a4a_522a_11e8_b4d1_8c85905f408elevel0_row0\" class=\"row_heading level0 row0\" >0</th> \n",
       "        <td id=\"T_bcd85a4a_522a_11e8_b4d1_8c85905f408erow0_col0\" class=\"data row0 col0\" >Fairly stable</td> \n",
       "        <td id=\"T_bcd85a4a_522a_11e8_b4d1_8c85905f408erow0_col1\" class=\"data row0 col1\" >7152</td> \n",
       "        <td id=\"T_bcd85a4a_522a_11e8_b4d1_8c85905f408erow0_col2\" class=\"data row0 col2\" >57.32%</td> \n",
       "    </tr>    <tr> \n",
       "        <th id=\"T_bcd85a4a_522a_11e8_b4d1_8c85905f408elevel0_row1\" class=\"row_heading level0 row1\" >1</th> \n",
       "        <td id=\"T_bcd85a4a_522a_11e8_b4d1_8c85905f408erow1_col0\" class=\"data row1 col0\" >Rock solid</td> \n",
       "        <td id=\"T_bcd85a4a_522a_11e8_b4d1_8c85905f408erow1_col1\" class=\"data row1 col1\" >3154</td> \n",
       "        <td id=\"T_bcd85a4a_522a_11e8_b4d1_8c85905f408erow1_col2\" class=\"data row1 col2\" >25.28%</td> \n",
       "    </tr>    <tr> \n",
       "        <th id=\"T_bcd85a4a_522a_11e8_b4d1_8c85905f408elevel0_row2\" class=\"row_heading level0 row2\" >2</th> \n",
       "        <td id=\"T_bcd85a4a_522a_11e8_b4d1_8c85905f408erow2_col0\" class=\"data row2 col0\" >Somewhat shaky</td> \n",
       "        <td id=\"T_bcd85a4a_522a_11e8_b4d1_8c85905f408erow2_col1\" class=\"data row2 col1\" >1580</td> \n",
       "        <td id=\"T_bcd85a4a_522a_11e8_b4d1_8c85905f408erow2_col2\" class=\"data row2 col2\" >12.66%</td> \n",
       "    </tr>    <tr> \n",
       "        <th id=\"T_bcd85a4a_522a_11e8_b4d1_8c85905f408elevel0_row3\" class=\"row_heading level0 row3\" >3</th> \n",
       "        <td id=\"T_bcd85a4a_522a_11e8_b4d1_8c85905f408erow3_col0\" class=\"data row3 col0\" >Non-existent</td> \n",
       "        <td id=\"T_bcd85a4a_522a_11e8_b4d1_8c85905f408erow3_col1\" class=\"data row3 col1\" >408</td> \n",
       "        <td id=\"T_bcd85a4a_522a_11e8_b4d1_8c85905f408erow3_col2\" class=\"data row3 col2\" >3.27%</td> \n",
       "    </tr>    <tr> \n",
       "        <th id=\"T_bcd85a4a_522a_11e8_b4d1_8c85905f408elevel0_row4\" class=\"row_heading level0 row4\" >4</th> \n",
       "        <td id=\"T_bcd85a4a_522a_11e8_b4d1_8c85905f408erow4_col0\" class=\"data row4 col0\" >Not sure</td> \n",
       "        <td id=\"T_bcd85a4a_522a_11e8_b4d1_8c85905f408erow4_col1\" class=\"data row4 col1\" >180</td> \n",
       "        <td id=\"T_bcd85a4a_522a_11e8_b4d1_8c85905f408erow4_col2\" class=\"data row4 col2\" >1.44%</td> \n",
       "    </tr></tbody> \n",
       "</table> "
      ],
      "text/plain": [
       "<pandas.io.formats.style.Styler at 0x1a14aaa748>"
      ]
     },
     "metadata": {},
     "output_type": "display_data"
    },
    {
     "data": {
      "text/plain": [
       "'V_24 : In addition to my job, I also:'"
      ]
     },
     "metadata": {},
     "output_type": "display_data"
    },
    {
     "data": {
      "text/html": [
       "<style  type=\"text/css\" >\n",
       "</style>  \n",
       "<table id=\"T_bcdc9146_522a_11e8_b5e9_8c85905f408e\" > \n",
       "<thead>    <tr> \n",
       "        <th class=\"blank level0\" ></th> \n",
       "        <th class=\"col_heading level0 col0\" >Options</th> \n",
       "        <th class=\"col_heading level0 col1\" >Count</th> \n",
       "        <th class=\"col_heading level0 col2\" >Percent</th> \n",
       "    </tr></thead> \n",
       "<tbody>    <tr> \n",
       "        <th id=\"T_bcdc9146_522a_11e8_b5e9_8c85905f408elevel0_row0\" class=\"row_heading level0 row0\" >4</th> \n",
       "        <td id=\"T_bcdc9146_522a_11e8_b5e9_8c85905f408erow0_col0\" class=\"data row0 col0\" >Design for friends and family</td> \n",
       "        <td id=\"T_bcdc9146_522a_11e8_b5e9_8c85905f408erow0_col1\" class=\"data row0 col1\" >6966</td> \n",
       "        <td id=\"T_bcdc9146_522a_11e8_b5e9_8c85905f408erow0_col2\" class=\"data row0 col2\" >55.83%</td> \n",
       "    </tr>    <tr> \n",
       "        <th id=\"T_bcdc9146_522a_11e8_b5e9_8c85905f408elevel0_row1\" class=\"row_heading level0 row1\" >7</th> \n",
       "        <td id=\"T_bcdc9146_522a_11e8_b5e9_8c85905f408erow1_col0\" class=\"data row1 col0\" >Maintain personal projects</td> \n",
       "        <td id=\"T_bcdc9146_522a_11e8_b5e9_8c85905f408erow1_col1\" class=\"data row1 col1\" >6814</td> \n",
       "        <td id=\"T_bcdc9146_522a_11e8_b5e9_8c85905f408erow1_col2\" class=\"data row1 col2\" >54.61%</td> \n",
       "    </tr>    <tr> \n",
       "        <th id=\"T_bcdc9146_522a_11e8_b5e9_8c85905f408elevel0_row2\" class=\"row_heading level0 row2\" >3</th> \n",
       "        <td id=\"T_bcdc9146_522a_11e8_b5e9_8c85905f408erow2_col0\" class=\"data row2 col0\" >Take occasional freelance projects</td> \n",
       "        <td id=\"T_bcdc9146_522a_11e8_b5e9_8c85905f408erow2_col1\" class=\"data row2 col1\" >6177</td> \n",
       "        <td id=\"T_bcdc9146_522a_11e8_b5e9_8c85905f408erow2_col2\" class=\"data row2 col2\" >49.51%</td> \n",
       "    </tr>    <tr> \n",
       "        <th id=\"T_bcdc9146_522a_11e8_b5e9_8c85905f408elevel0_row3\" class=\"row_heading level0 row3\" >8</th> \n",
       "        <td id=\"T_bcdc9146_522a_11e8_b5e9_8c85905f408erow3_col0\" class=\"data row3 col0\" >Volunteer</td> \n",
       "        <td id=\"T_bcdc9146_522a_11e8_b5e9_8c85905f408erow3_col1\" class=\"data row3 col1\" >3986</td> \n",
       "        <td id=\"T_bcdc9146_522a_11e8_b5e9_8c85905f408erow3_col2\" class=\"data row3 col2\" >31.95%</td> \n",
       "    </tr>    <tr> \n",
       "        <th id=\"T_bcdc9146_522a_11e8_b5e9_8c85905f408elevel0_row4\" class=\"row_heading level0 row4\" >5</th> \n",
       "        <td id=\"T_bcdc9146_522a_11e8_b5e9_8c85905f408erow4_col0\" class=\"data row4 col0\" >Have regular freelance clients</td> \n",
       "        <td id=\"T_bcdc9146_522a_11e8_b5e9_8c85905f408erow4_col1\" class=\"data row4 col1\" >2154</td> \n",
       "        <td id=\"T_bcdc9146_522a_11e8_b5e9_8c85905f408erow4_col2\" class=\"data row4 col2\" >17.26%</td> \n",
       "    </tr>    <tr> \n",
       "        <th id=\"T_bcdc9146_522a_11e8_b5e9_8c85905f408elevel0_row5\" class=\"row_heading level0 row5\" >0</th> \n",
       "        <td id=\"T_bcdc9146_522a_11e8_b5e9_8c85905f408erow5_col0\" class=\"data row5 col0\" >Own my own business</td> \n",
       "        <td id=\"T_bcdc9146_522a_11e8_b5e9_8c85905f408erow5_col1\" class=\"data row5 col1\" >2011</td> \n",
       "        <td id=\"T_bcdc9146_522a_11e8_b5e9_8c85905f408erow5_col2\" class=\"data row5 col2\" >16.12%</td> \n",
       "    </tr>    <tr> \n",
       "        <th id=\"T_bcdc9146_522a_11e8_b5e9_8c85905f408elevel0_row6\" class=\"row_heading level0 row6\" >1</th> \n",
       "        <td id=\"T_bcdc9146_522a_11e8_b5e9_8c85905f408erow6_col0\" class=\"data row6 col0\" >Teach</td> \n",
       "        <td id=\"T_bcdc9146_522a_11e8_b5e9_8c85905f408erow6_col1\" class=\"data row6 col1\" >1361</td> \n",
       "        <td id=\"T_bcdc9146_522a_11e8_b5e9_8c85905f408erow6_col2\" class=\"data row6 col2\" >10.91%</td> \n",
       "    </tr>    <tr> \n",
       "        <th id=\"T_bcdc9146_522a_11e8_b5e9_8c85905f408elevel0_row7\" class=\"row_heading level0 row7\" >2</th> \n",
       "        <td id=\"T_bcdc9146_522a_11e8_b5e9_8c85905f408erow7_col0\" class=\"data row7 col0\" >None of these</td> \n",
       "        <td id=\"T_bcdc9146_522a_11e8_b5e9_8c85905f408erow7_col1\" class=\"data row7 col1\" >965</td> \n",
       "        <td id=\"T_bcdc9146_522a_11e8_b5e9_8c85905f408erow7_col2\" class=\"data row7 col2\" >7.73%</td> \n",
       "    </tr>    <tr> \n",
       "        <th id=\"T_bcdc9146_522a_11e8_b5e9_8c85905f408elevel0_row8\" class=\"row_heading level0 row8\" >6</th> \n",
       "        <td id=\"T_bcdc9146_522a_11e8_b5e9_8c85905f408erow8_col0\" class=\"data row8 col0\" >Have a part-time job</td> \n",
       "        <td id=\"T_bcdc9146_522a_11e8_b5e9_8c85905f408erow8_col1\" class=\"data row8 col1\" >690</td> \n",
       "        <td id=\"T_bcdc9146_522a_11e8_b5e9_8c85905f408erow8_col2\" class=\"data row8 col2\" >5.53%</td> \n",
       "    </tr></tbody> \n",
       "</table> "
      ],
      "text/plain": [
       "<pandas.io.formats.style.Styler at 0x1a14abe668>"
      ]
     },
     "metadata": {},
     "output_type": "display_data"
    },
    {
     "data": {
      "text/plain": [
       "'V_25 : I fuel my daily creativity with coffee:'"
      ]
     },
     "metadata": {},
     "output_type": "display_data"
    },
    {
     "data": {
      "text/html": [
       "<style  type=\"text/css\" >\n",
       "</style>  \n",
       "<table id=\"T_bcde23e4_522a_11e8_bfba_8c85905f408e\" > \n",
       "<thead>    <tr> \n",
       "        <th class=\"blank level0\" ></th> \n",
       "        <th class=\"col_heading level0 col0\" >Options</th> \n",
       "        <th class=\"col_heading level0 col1\" >Count</th> \n",
       "        <th class=\"col_heading level0 col2\" >Percent</th> \n",
       "    </tr></thead> \n",
       "<tbody>    <tr> \n",
       "        <th id=\"T_bcde23e4_522a_11e8_bfba_8c85905f408elevel0_row0\" class=\"row_heading level0 row0\" >0</th> \n",
       "        <td id=\"T_bcde23e4_522a_11e8_bfba_8c85905f408erow0_col0\" class=\"data row0 col0\" >1-2 cups</td> \n",
       "        <td id=\"T_bcde23e4_522a_11e8_bfba_8c85905f408erow0_col1\" class=\"data row0 col1\" >5982</td> \n",
       "        <td id=\"T_bcde23e4_522a_11e8_bfba_8c85905f408erow0_col2\" class=\"data row0 col2\" >47.94%</td> \n",
       "    </tr>    <tr> \n",
       "        <th id=\"T_bcde23e4_522a_11e8_bfba_8c85905f408elevel0_row1\" class=\"row_heading level0 row1\" >1</th> \n",
       "        <td id=\"T_bcde23e4_522a_11e8_bfba_8c85905f408erow1_col0\" class=\"data row1 col0\" >3-4 cups</td> \n",
       "        <td id=\"T_bcde23e4_522a_11e8_bfba_8c85905f408erow1_col1\" class=\"data row1 col1\" >2349</td> \n",
       "        <td id=\"T_bcde23e4_522a_11e8_bfba_8c85905f408erow1_col2\" class=\"data row1 col2\" >18.83%</td> \n",
       "    </tr>    <tr> \n",
       "        <th id=\"T_bcde23e4_522a_11e8_bfba_8c85905f408elevel0_row2\" class=\"row_heading level0 row2\" >2</th> \n",
       "        <td id=\"T_bcde23e4_522a_11e8_bfba_8c85905f408erow2_col0\" class=\"data row2 col0\" >No way, tea</td> \n",
       "        <td id=\"T_bcde23e4_522a_11e8_bfba_8c85905f408erow2_col1\" class=\"data row2 col1\" >2102</td> \n",
       "        <td id=\"T_bcde23e4_522a_11e8_bfba_8c85905f408erow2_col2\" class=\"data row2 col2\" >16.85%</td> \n",
       "    </tr>    <tr> \n",
       "        <th id=\"T_bcde23e4_522a_11e8_bfba_8c85905f408elevel0_row3\" class=\"row_heading level0 row3\" >3</th> \n",
       "        <td id=\"T_bcde23e4_522a_11e8_bfba_8c85905f408erow3_col0\" class=\"data row3 col0\" >Other</td> \n",
       "        <td id=\"T_bcde23e4_522a_11e8_bfba_8c85905f408erow3_col1\" class=\"data row3 col1\" >1439</td> \n",
       "        <td id=\"T_bcde23e4_522a_11e8_bfba_8c85905f408erow3_col2\" class=\"data row3 col2\" >11.53%</td> \n",
       "    </tr>    <tr> \n",
       "        <th id=\"T_bcde23e4_522a_11e8_bfba_8c85905f408elevel0_row4\" class=\"row_heading level0 row4\" >4</th> \n",
       "        <td id=\"T_bcde23e4_522a_11e8_bfba_8c85905f408erow4_col0\" class=\"data row4 col0\" >5-6 cups</td> \n",
       "        <td id=\"T_bcde23e4_522a_11e8_bfba_8c85905f408erow4_col1\" class=\"data row4 col1\" >459</td> \n",
       "        <td id=\"T_bcde23e4_522a_11e8_bfba_8c85905f408erow4_col2\" class=\"data row4 col2\" >3.68%</td> \n",
       "    </tr>    <tr> \n",
       "        <th id=\"T_bcde23e4_522a_11e8_bfba_8c85905f408elevel0_row5\" class=\"row_heading level0 row5\" >5</th> \n",
       "        <td id=\"T_bcde23e4_522a_11e8_bfba_8c85905f408erow5_col0\" class=\"data row5 col0\" >7-8 cups</td> \n",
       "        <td id=\"T_bcde23e4_522a_11e8_bfba_8c85905f408erow5_col1\" class=\"data row5 col1\" >99</td> \n",
       "        <td id=\"T_bcde23e4_522a_11e8_bfba_8c85905f408erow5_col2\" class=\"data row5 col2\" >0.79%</td> \n",
       "    </tr>    <tr> \n",
       "        <th id=\"T_bcde23e4_522a_11e8_bfba_8c85905f408elevel0_row6\" class=\"row_heading level0 row6\" >6</th> \n",
       "        <td id=\"T_bcde23e4_522a_11e8_bfba_8c85905f408erow6_col0\" class=\"data row6 col0\" >10+ cups</td> \n",
       "        <td id=\"T_bcde23e4_522a_11e8_bfba_8c85905f408erow6_col1\" class=\"data row6 col1\" >29</td> \n",
       "        <td id=\"T_bcde23e4_522a_11e8_bfba_8c85905f408erow6_col2\" class=\"data row6 col2\" >0.23%</td> \n",
       "    </tr>    <tr> \n",
       "        <th id=\"T_bcde23e4_522a_11e8_bfba_8c85905f408elevel0_row7\" class=\"row_heading level0 row7\" >7</th> \n",
       "        <td id=\"T_bcde23e4_522a_11e8_bfba_8c85905f408erow7_col0\" class=\"data row7 col0\" >9-10 cups</td> \n",
       "        <td id=\"T_bcde23e4_522a_11e8_bfba_8c85905f408erow7_col1\" class=\"data row7 col1\" >18</td> \n",
       "        <td id=\"T_bcde23e4_522a_11e8_bfba_8c85905f408erow7_col2\" class=\"data row7 col2\" >0.14%</td> \n",
       "    </tr></tbody> \n",
       "</table> "
      ],
      "text/plain": [
       "<pandas.io.formats.style.Styler at 0x1a14abe630>"
      ]
     },
     "metadata": {},
     "output_type": "display_data"
    },
    {
     "data": {
      "text/plain": [
       "\"V_26 : Highest level of education I've completed:\""
      ]
     },
     "metadata": {},
     "output_type": "display_data"
    },
    {
     "data": {
      "text/html": [
       "<style  type=\"text/css\" >\n",
       "</style>  \n",
       "<table id=\"T_bcdfa85e_522a_11e8_a4b2_8c85905f408e\" > \n",
       "<thead>    <tr> \n",
       "        <th class=\"blank level0\" ></th> \n",
       "        <th class=\"col_heading level0 col0\" >Options</th> \n",
       "        <th class=\"col_heading level0 col1\" >Count</th> \n",
       "        <th class=\"col_heading level0 col2\" >Percent</th> \n",
       "    </tr></thead> \n",
       "<tbody>    <tr> \n",
       "        <th id=\"T_bcdfa85e_522a_11e8_a4b2_8c85905f408elevel0_row0\" class=\"row_heading level0 row0\" >0</th> \n",
       "        <td id=\"T_bcdfa85e_522a_11e8_a4b2_8c85905f408erow0_col0\" class=\"data row0 col0\" >Bachelor's degree</td> \n",
       "        <td id=\"T_bcdfa85e_522a_11e8_a4b2_8c85905f408erow0_col1\" class=\"data row0 col1\" >8613</td> \n",
       "        <td id=\"T_bcdfa85e_522a_11e8_a4b2_8c85905f408erow0_col2\" class=\"data row0 col2\" >69.03%</td> \n",
       "    </tr>    <tr> \n",
       "        <th id=\"T_bcdfa85e_522a_11e8_a4b2_8c85905f408elevel0_row1\" class=\"row_heading level0 row1\" >1</th> \n",
       "        <td id=\"T_bcdfa85e_522a_11e8_a4b2_8c85905f408erow1_col0\" class=\"data row1 col0\" >Master's degree</td> \n",
       "        <td id=\"T_bcdfa85e_522a_11e8_a4b2_8c85905f408erow1_col1\" class=\"data row1 col1\" >2117</td> \n",
       "        <td id=\"T_bcdfa85e_522a_11e8_a4b2_8c85905f408erow1_col2\" class=\"data row1 col2\" >16.97%</td> \n",
       "    </tr>    <tr> \n",
       "        <th id=\"T_bcdfa85e_522a_11e8_a4b2_8c85905f408elevel0_row2\" class=\"row_heading level0 row2\" >2</th> \n",
       "        <td id=\"T_bcdfa85e_522a_11e8_a4b2_8c85905f408erow2_col0\" class=\"data row2 col0\" >Some college</td> \n",
       "        <td id=\"T_bcdfa85e_522a_11e8_a4b2_8c85905f408erow2_col1\" class=\"data row2 col1\" >628</td> \n",
       "        <td id=\"T_bcdfa85e_522a_11e8_a4b2_8c85905f408erow2_col2\" class=\"data row2 col2\" >5.03%</td> \n",
       "    </tr>    <tr> \n",
       "        <th id=\"T_bcdfa85e_522a_11e8_a4b2_8c85905f408elevel0_row3\" class=\"row_heading level0 row3\" >3</th> \n",
       "        <td id=\"T_bcdfa85e_522a_11e8_a4b2_8c85905f408erow3_col0\" class=\"data row3 col0\" >Associate's degree</td> \n",
       "        <td id=\"T_bcdfa85e_522a_11e8_a4b2_8c85905f408erow3_col1\" class=\"data row3 col1\" >545</td> \n",
       "        <td id=\"T_bcdfa85e_522a_11e8_a4b2_8c85905f408erow3_col2\" class=\"data row3 col2\" >4.37%</td> \n",
       "    </tr>    <tr> \n",
       "        <th id=\"T_bcdfa85e_522a_11e8_a4b2_8c85905f408elevel0_row4\" class=\"row_heading level0 row4\" >4</th> \n",
       "        <td id=\"T_bcdfa85e_522a_11e8_a4b2_8c85905f408erow4_col0\" class=\"data row4 col0\" >Technical degree or certificate</td> \n",
       "        <td id=\"T_bcdfa85e_522a_11e8_a4b2_8c85905f408erow4_col1\" class=\"data row4 col1\" >284</td> \n",
       "        <td id=\"T_bcdfa85e_522a_11e8_a4b2_8c85905f408erow4_col2\" class=\"data row4 col2\" >2.28%</td> \n",
       "    </tr>    <tr> \n",
       "        <th id=\"T_bcdfa85e_522a_11e8_a4b2_8c85905f408elevel0_row5\" class=\"row_heading level0 row5\" >5</th> \n",
       "        <td id=\"T_bcdfa85e_522a_11e8_a4b2_8c85905f408erow5_col0\" class=\"data row5 col0\" >High School or less</td> \n",
       "        <td id=\"T_bcdfa85e_522a_11e8_a4b2_8c85905f408erow5_col1\" class=\"data row5 col1\" >199</td> \n",
       "        <td id=\"T_bcdfa85e_522a_11e8_a4b2_8c85905f408erow5_col2\" class=\"data row5 col2\" >1.59%</td> \n",
       "    </tr>    <tr> \n",
       "        <th id=\"T_bcdfa85e_522a_11e8_a4b2_8c85905f408elevel0_row6\" class=\"row_heading level0 row6\" >6</th> \n",
       "        <td id=\"T_bcdfa85e_522a_11e8_a4b2_8c85905f408erow6_col0\" class=\"data row6 col0\" >Doctorate</td> \n",
       "        <td id=\"T_bcdfa85e_522a_11e8_a4b2_8c85905f408erow6_col1\" class=\"data row6 col1\" >91</td> \n",
       "        <td id=\"T_bcdfa85e_522a_11e8_a4b2_8c85905f408erow6_col2\" class=\"data row6 col2\" >0.73%</td> \n",
       "    </tr></tbody> \n",
       "</table> "
      ],
      "text/plain": [
       "<pandas.io.formats.style.Styler at 0x1a14abeba8>"
      ]
     },
     "metadata": {},
     "output_type": "display_data"
    },
    {
     "data": {
      "text/plain": [
       "'V_27 : I learned design:'"
      ]
     },
     "metadata": {},
     "output_type": "display_data"
    },
    {
     "data": {
      "text/html": [
       "<style  type=\"text/css\" >\n",
       "</style>  \n",
       "<table id=\"T_bce2f6ee_522a_11e8_b825_8c85905f408e\" > \n",
       "<thead>    <tr> \n",
       "        <th class=\"blank level0\" ></th> \n",
       "        <th class=\"col_heading level0 col0\" >Options</th> \n",
       "        <th class=\"col_heading level0 col1\" >Count</th> \n",
       "        <th class=\"col_heading level0 col2\" >Percent</th> \n",
       "    </tr></thead> \n",
       "<tbody>    <tr> \n",
       "        <th id=\"T_bce2f6ee_522a_11e8_b825_8c85905f408elevel0_row0\" class=\"row_heading level0 row0\" >4</th> \n",
       "        <td id=\"T_bce2f6ee_522a_11e8_b825_8c85905f408erow0_col0\" class=\"data row0 col0\" >In school</td> \n",
       "        <td id=\"T_bce2f6ee_522a_11e8_b825_8c85905f408erow0_col1\" class=\"data row0 col1\" >10055</td> \n",
       "        <td id=\"T_bce2f6ee_522a_11e8_b825_8c85905f408erow0_col2\" class=\"data row0 col2\" >80.59%</td> \n",
       "    </tr>    <tr> \n",
       "        <th id=\"T_bce2f6ee_522a_11e8_b825_8c85905f408elevel0_row1\" class=\"row_heading level0 row1\" >2</th> \n",
       "        <td id=\"T_bce2f6ee_522a_11e8_b825_8c85905f408erow1_col0\" class=\"data row1 col0\" >On the job</td> \n",
       "        <td id=\"T_bce2f6ee_522a_11e8_b825_8c85905f408erow1_col1\" class=\"data row1 col1\" >8861</td> \n",
       "        <td id=\"T_bce2f6ee_522a_11e8_b825_8c85905f408erow1_col2\" class=\"data row1 col2\" >71.02%</td> \n",
       "    </tr>    <tr> \n",
       "        <th id=\"T_bce2f6ee_522a_11e8_b825_8c85905f408elevel0_row2\" class=\"row_heading level0 row2\" >0</th> \n",
       "        <td id=\"T_bce2f6ee_522a_11e8_b825_8c85905f408erow2_col0\" class=\"data row2 col0\" >On my own</td> \n",
       "        <td id=\"T_bce2f6ee_522a_11e8_b825_8c85905f408erow2_col1\" class=\"data row2 col1\" >8014</td> \n",
       "        <td id=\"T_bce2f6ee_522a_11e8_b825_8c85905f408erow2_col2\" class=\"data row2 col2\" >64.23%</td> \n",
       "    </tr>    <tr> \n",
       "        <th id=\"T_bce2f6ee_522a_11e8_b825_8c85905f408elevel0_row3\" class=\"row_heading level0 row3\" >1</th> \n",
       "        <td id=\"T_bce2f6ee_522a_11e8_b825_8c85905f408erow3_col0\" class=\"data row3 col0\" >From programs or workshops</td> \n",
       "        <td id=\"T_bce2f6ee_522a_11e8_b825_8c85905f408erow3_col1\" class=\"data row3 col1\" >4554</td> \n",
       "        <td id=\"T_bce2f6ee_522a_11e8_b825_8c85905f408erow3_col2\" class=\"data row3 col2\" >36.50%</td> \n",
       "    </tr>    <tr> \n",
       "        <th id=\"T_bce2f6ee_522a_11e8_b825_8c85905f408elevel0_row4\" class=\"row_heading level0 row4\" >5</th> \n",
       "        <td id=\"T_bce2f6ee_522a_11e8_b825_8c85905f408erow4_col0\" class=\"data row4 col0\" >Through online training</td> \n",
       "        <td id=\"T_bce2f6ee_522a_11e8_b825_8c85905f408erow4_col1\" class=\"data row4 col1\" >3970</td> \n",
       "        <td id=\"T_bce2f6ee_522a_11e8_b825_8c85905f408erow4_col2\" class=\"data row4 col2\" >31.82%</td> \n",
       "    </tr>    <tr> \n",
       "        <th id=\"T_bce2f6ee_522a_11e8_b825_8c85905f408elevel0_row5\" class=\"row_heading level0 row5\" >3</th> \n",
       "        <td id=\"T_bce2f6ee_522a_11e8_b825_8c85905f408erow5_col0\" class=\"data row5 col0\" >From a mentor or apprenticeship</td> \n",
       "        <td id=\"T_bce2f6ee_522a_11e8_b825_8c85905f408erow5_col1\" class=\"data row5 col1\" >3810</td> \n",
       "        <td id=\"T_bce2f6ee_522a_11e8_b825_8c85905f408erow5_col2\" class=\"data row5 col2\" >30.54%</td> \n",
       "    </tr></tbody> \n",
       "</table> "
      ],
      "text/plain": [
       "<pandas.io.formats.style.Styler at 0x1a14abe898>"
      ]
     },
     "metadata": {},
     "output_type": "display_data"
    },
    {
     "data": {
      "text/plain": [
       "'V_28 : My major focus of study was:'"
      ]
     },
     "metadata": {},
     "output_type": "display_data"
    },
    {
     "data": {
      "text/html": [
       "<style  type=\"text/css\" >\n",
       "</style>  \n",
       "<table id=\"T_bceff1be_522a_11e8_8348_8c85905f408e\" > \n",
       "<thead>    <tr> \n",
       "        <th class=\"blank level0\" ></th> \n",
       "        <th class=\"col_heading level0 col0\" >Options</th> \n",
       "        <th class=\"col_heading level0 col1\" >Count</th> \n",
       "        <th class=\"col_heading level0 col2\" >Percent</th> \n",
       "    </tr></thead> \n",
       "<tbody>    <tr> \n",
       "        <th id=\"T_bceff1be_522a_11e8_8348_8c85905f408elevel0_row0\" class=\"row_heading level0 row0\" >10</th> \n",
       "        <td id=\"T_bceff1be_522a_11e8_8348_8c85905f408erow0_col0\" class=\"data row0 col0\" >Graphic Design</td> \n",
       "        <td id=\"T_bceff1be_522a_11e8_8348_8c85905f408erow0_col1\" class=\"data row0 col1\" >8470</td> \n",
       "        <td id=\"T_bceff1be_522a_11e8_8348_8c85905f408erow0_col2\" class=\"data row0 col2\" >67.88%</td> \n",
       "    </tr>    <tr> \n",
       "        <th id=\"T_bceff1be_522a_11e8_8348_8c85905f408elevel0_row1\" class=\"row_heading level0 row1\" >12</th> \n",
       "        <td id=\"T_bceff1be_522a_11e8_8348_8c85905f408erow1_col0\" class=\"data row1 col0\" >Art</td> \n",
       "        <td id=\"T_bceff1be_522a_11e8_8348_8c85905f408erow1_col1\" class=\"data row1 col1\" >2821</td> \n",
       "        <td id=\"T_bceff1be_522a_11e8_8348_8c85905f408erow1_col2\" class=\"data row1 col2\" >22.61%</td> \n",
       "    </tr>    <tr> \n",
       "        <th id=\"T_bceff1be_522a_11e8_8348_8c85905f408elevel0_row2\" class=\"row_heading level0 row2\" >24</th> \n",
       "        <td id=\"T_bceff1be_522a_11e8_8348_8c85905f408erow2_col0\" class=\"data row2 col0\" >Visual Design</td> \n",
       "        <td id=\"T_bceff1be_522a_11e8_8348_8c85905f408erow2_col1\" class=\"data row2 col1\" >2424</td> \n",
       "        <td id=\"T_bceff1be_522a_11e8_8348_8c85905f408erow2_col2\" class=\"data row2 col2\" >19.43%</td> \n",
       "    </tr>    <tr> \n",
       "        <th id=\"T_bceff1be_522a_11e8_8348_8c85905f408elevel0_row3\" class=\"row_heading level0 row3\" >21</th> \n",
       "        <td id=\"T_bceff1be_522a_11e8_8348_8c85905f408erow3_col0\" class=\"data row3 col0\" >Website Design</td> \n",
       "        <td id=\"T_bceff1be_522a_11e8_8348_8c85905f408erow3_col1\" class=\"data row3 col1\" >2080</td> \n",
       "        <td id=\"T_bceff1be_522a_11e8_8348_8c85905f408erow3_col2\" class=\"data row3 col2\" >16.67%</td> \n",
       "    </tr>    <tr> \n",
       "        <th id=\"T_bceff1be_522a_11e8_8348_8c85905f408elevel0_row4\" class=\"row_heading level0 row4\" >8</th> \n",
       "        <td id=\"T_bceff1be_522a_11e8_8348_8c85905f408erow4_col0\" class=\"data row4 col0\" >Design and Technology</td> \n",
       "        <td id=\"T_bceff1be_522a_11e8_8348_8c85905f408erow4_col1\" class=\"data row4 col1\" >2050</td> \n",
       "        <td id=\"T_bceff1be_522a_11e8_8348_8c85905f408erow4_col2\" class=\"data row4 col2\" >16.43%</td> \n",
       "    </tr>    <tr> \n",
       "        <th id=\"T_bceff1be_522a_11e8_8348_8c85905f408elevel0_row5\" class=\"row_heading level0 row5\" >7</th> \n",
       "        <td id=\"T_bceff1be_522a_11e8_8348_8c85905f408erow5_col0\" class=\"data row5 col0\" >Communication</td> \n",
       "        <td id=\"T_bceff1be_522a_11e8_8348_8c85905f408erow5_col1\" class=\"data row5 col1\" >1938</td> \n",
       "        <td id=\"T_bceff1be_522a_11e8_8348_8c85905f408erow5_col2\" class=\"data row5 col2\" >15.53%</td> \n",
       "    </tr>    <tr> \n",
       "        <th id=\"T_bceff1be_522a_11e8_8348_8c85905f408elevel0_row6\" class=\"row_heading level0 row6\" >32</th> \n",
       "        <td id=\"T_bceff1be_522a_11e8_8348_8c85905f408erow6_col0\" class=\"data row6 col0\" >UX and UI</td> \n",
       "        <td id=\"T_bceff1be_522a_11e8_8348_8c85905f408erow6_col1\" class=\"data row6 col1\" >1937</td> \n",
       "        <td id=\"T_bceff1be_522a_11e8_8348_8c85905f408erow6_col2\" class=\"data row6 col2\" >15.52%</td> \n",
       "    </tr>    <tr> \n",
       "        <th id=\"T_bceff1be_522a_11e8_8348_8c85905f408elevel0_row7\" class=\"row_heading level0 row7\" >17</th> \n",
       "        <td id=\"T_bceff1be_522a_11e8_8348_8c85905f408erow7_col0\" class=\"data row7 col0\" >Illustration</td> \n",
       "        <td id=\"T_bceff1be_522a_11e8_8348_8c85905f408erow7_col1\" class=\"data row7 col1\" >1697</td> \n",
       "        <td id=\"T_bceff1be_522a_11e8_8348_8c85905f408erow7_col2\" class=\"data row7 col2\" >13.60%</td> \n",
       "    </tr>    <tr> \n",
       "        <th id=\"T_bceff1be_522a_11e8_8348_8c85905f408elevel0_row8\" class=\"row_heading level0 row8\" >25</th> \n",
       "        <td id=\"T_bceff1be_522a_11e8_8348_8c85905f408erow8_col0\" class=\"data row8 col0\" >Digital Media</td> \n",
       "        <td id=\"T_bceff1be_522a_11e8_8348_8c85905f408erow8_col1\" class=\"data row8 col1\" >1645</td> \n",
       "        <td id=\"T_bceff1be_522a_11e8_8348_8c85905f408erow8_col2\" class=\"data row8 col2\" >13.18%</td> \n",
       "    </tr>    <tr> \n",
       "        <th id=\"T_bceff1be_522a_11e8_8348_8c85905f408elevel0_row9\" class=\"row_heading level0 row9\" >19</th> \n",
       "        <td id=\"T_bceff1be_522a_11e8_8348_8c85905f408erow9_col0\" class=\"data row9 col0\" >Advertising</td> \n",
       "        <td id=\"T_bceff1be_522a_11e8_8348_8c85905f408erow9_col1\" class=\"data row9 col1\" >1580</td> \n",
       "        <td id=\"T_bceff1be_522a_11e8_8348_8c85905f408erow9_col2\" class=\"data row9 col2\" >12.66%</td> \n",
       "    </tr>    <tr> \n",
       "        <th id=\"T_bceff1be_522a_11e8_8348_8c85905f408elevel0_row10\" class=\"row_heading level0 row10\" >14</th> \n",
       "        <td id=\"T_bceff1be_522a_11e8_8348_8c85905f408erow10_col0\" class=\"data row10 col0\" >Photography</td> \n",
       "        <td id=\"T_bceff1be_522a_11e8_8348_8c85905f408erow10_col1\" class=\"data row10 col1\" >1375</td> \n",
       "        <td id=\"T_bceff1be_522a_11e8_8348_8c85905f408erow10_col2\" class=\"data row10 col2\" >11.02%</td> \n",
       "    </tr>    <tr> \n",
       "        <th id=\"T_bceff1be_522a_11e8_8348_8c85905f408elevel0_row11\" class=\"row_heading level0 row11\" >30</th> \n",
       "        <td id=\"T_bceff1be_522a_11e8_8348_8c85905f408erow11_col0\" class=\"data row11 col0\" >Printing or Print Making</td> \n",
       "        <td id=\"T_bceff1be_522a_11e8_8348_8c85905f408erow11_col1\" class=\"data row11 col1\" >1105</td> \n",
       "        <td id=\"T_bceff1be_522a_11e8_8348_8c85905f408erow11_col2\" class=\"data row11 col2\" >8.86%</td> \n",
       "    </tr>    <tr> \n",
       "        <th id=\"T_bceff1be_522a_11e8_8348_8c85905f408elevel0_row12\" class=\"row_heading level0 row12\" >20</th> \n",
       "        <td id=\"T_bceff1be_522a_11e8_8348_8c85905f408erow12_col0\" class=\"data row12 col0\" >Marketing</td> \n",
       "        <td id=\"T_bceff1be_522a_11e8_8348_8c85905f408erow12_col1\" class=\"data row12 col1\" >1027</td> \n",
       "        <td id=\"T_bceff1be_522a_11e8_8348_8c85905f408erow12_col2\" class=\"data row12 col2\" >8.23%</td> \n",
       "    </tr>    <tr> \n",
       "        <th id=\"T_bceff1be_522a_11e8_8348_8c85905f408elevel0_row13\" class=\"row_heading level0 row13\" >3</th> \n",
       "        <td id=\"T_bceff1be_522a_11e8_8348_8c85905f408erow13_col0\" class=\"data row13 col0\" >Other</td> \n",
       "        <td id=\"T_bceff1be_522a_11e8_8348_8c85905f408erow13_col1\" class=\"data row13 col1\" >1008</td> \n",
       "        <td id=\"T_bceff1be_522a_11e8_8348_8c85905f408erow13_col2\" class=\"data row13 col2\" >8.08%</td> \n",
       "    </tr>    <tr> \n",
       "        <th id=\"T_bceff1be_522a_11e8_8348_8c85905f408elevel0_row14\" class=\"row_heading level0 row14\" >0</th> \n",
       "        <td id=\"T_bceff1be_522a_11e8_8348_8c85905f408erow14_col0\" class=\"data row14 col0\" >Package Design</td> \n",
       "        <td id=\"T_bceff1be_522a_11e8_8348_8c85905f408erow14_col1\" class=\"data row14 col1\" >880</td> \n",
       "        <td id=\"T_bceff1be_522a_11e8_8348_8c85905f408erow14_col2\" class=\"data row14 col2\" >7.05%</td> \n",
       "    </tr>    <tr> \n",
       "        <th id=\"T_bceff1be_522a_11e8_8348_8c85905f408elevel0_row15\" class=\"row_heading level0 row15\" >2</th> \n",
       "        <td id=\"T_bceff1be_522a_11e8_8348_8c85905f408erow15_col0\" class=\"data row15 col0\" >Multimedia</td> \n",
       "        <td id=\"T_bceff1be_522a_11e8_8348_8c85905f408erow15_col1\" class=\"data row15 col1\" >837</td> \n",
       "        <td id=\"T_bceff1be_522a_11e8_8348_8c85905f408erow15_col2\" class=\"data row15 col2\" >6.71%</td> \n",
       "    </tr>    <tr> \n",
       "        <th id=\"T_bceff1be_522a_11e8_8348_8c85905f408elevel0_row16\" class=\"row_heading level0 row16\" >22</th> \n",
       "        <td id=\"T_bceff1be_522a_11e8_8348_8c85905f408erow16_col0\" class=\"data row16 col0\" >Product Design</td> \n",
       "        <td id=\"T_bceff1be_522a_11e8_8348_8c85905f408erow16_col1\" class=\"data row16 col1\" >745</td> \n",
       "        <td id=\"T_bceff1be_522a_11e8_8348_8c85905f408erow16_col2\" class=\"data row16 col2\" >5.97%</td> \n",
       "    </tr>    <tr> \n",
       "        <th id=\"T_bceff1be_522a_11e8_8348_8c85905f408elevel0_row17\" class=\"row_heading level0 row17\" >4</th> \n",
       "        <td id=\"T_bceff1be_522a_11e8_8348_8c85905f408erow17_col0\" class=\"data row17 col0\" >Motion Graphics</td> \n",
       "        <td id=\"T_bceff1be_522a_11e8_8348_8c85905f408erow17_col1\" class=\"data row17 col1\" >739</td> \n",
       "        <td id=\"T_bceff1be_522a_11e8_8348_8c85905f408erow17_col2\" class=\"data row17 col2\" >5.92%</td> \n",
       "    </tr>    <tr> \n",
       "        <th id=\"T_bceff1be_522a_11e8_8348_8c85905f408elevel0_row18\" class=\"row_heading level0 row18\" >28</th> \n",
       "        <td id=\"T_bceff1be_522a_11e8_8348_8c85905f408erow18_col0\" class=\"data row18 col0\" >Painting</td> \n",
       "        <td id=\"T_bceff1be_522a_11e8_8348_8c85905f408erow18_col1\" class=\"data row18 col1\" >577</td> \n",
       "        <td id=\"T_bceff1be_522a_11e8_8348_8c85905f408erow18_col2\" class=\"data row18 col2\" >4.62%</td> \n",
       "    </tr>    <tr> \n",
       "        <th id=\"T_bceff1be_522a_11e8_8348_8c85905f408elevel0_row19\" class=\"row_heading level0 row19\" >27</th> \n",
       "        <td id=\"T_bceff1be_522a_11e8_8348_8c85905f408erow19_col0\" class=\"data row19 col0\" >Animation</td> \n",
       "        <td id=\"T_bceff1be_522a_11e8_8348_8c85905f408erow19_col1\" class=\"data row19 col1\" >549</td> \n",
       "        <td id=\"T_bceff1be_522a_11e8_8348_8c85905f408erow19_col2\" class=\"data row19 col2\" >4.40%</td> \n",
       "    </tr>    <tr> \n",
       "        <th id=\"T_bceff1be_522a_11e8_8348_8c85905f408elevel0_row20\" class=\"row_heading level0 row20\" >1</th> \n",
       "        <td id=\"T_bceff1be_522a_11e8_8348_8c85905f408erow20_col0\" class=\"data row20 col0\" >Computer Science</td> \n",
       "        <td id=\"T_bceff1be_522a_11e8_8348_8c85905f408erow20_col1\" class=\"data row20 col1\" >544</td> \n",
       "        <td id=\"T_bceff1be_522a_11e8_8348_8c85905f408erow20_col2\" class=\"data row20 col2\" >4.36%</td> \n",
       "    </tr>    <tr> \n",
       "        <th id=\"T_bceff1be_522a_11e8_8348_8c85905f408elevel0_row21\" class=\"row_heading level0 row21\" >26</th> \n",
       "        <td id=\"T_bceff1be_522a_11e8_8348_8c85905f408erow21_col0\" class=\"data row21 col0\" >Industrial Design</td> \n",
       "        <td id=\"T_bceff1be_522a_11e8_8348_8c85905f408erow21_col1\" class=\"data row21 col1\" >503</td> \n",
       "        <td id=\"T_bceff1be_522a_11e8_8348_8c85905f408erow21_col2\" class=\"data row21 col2\" >4.03%</td> \n",
       "    </tr>    <tr> \n",
       "        <th id=\"T_bceff1be_522a_11e8_8348_8c85905f408elevel0_row22\" class=\"row_heading level0 row22\" >31</th> \n",
       "        <td id=\"T_bceff1be_522a_11e8_8348_8c85905f408erow22_col0\" class=\"data row22 col0\" >Journalism</td> \n",
       "        <td id=\"T_bceff1be_522a_11e8_8348_8c85905f408erow22_col1\" class=\"data row22 col1\" >453</td> \n",
       "        <td id=\"T_bceff1be_522a_11e8_8348_8c85905f408erow22_col2\" class=\"data row22 col2\" >3.63%</td> \n",
       "    </tr>    <tr> \n",
       "        <th id=\"T_bceff1be_522a_11e8_8348_8c85905f408elevel0_row23\" class=\"row_heading level0 row23\" >6</th> \n",
       "        <td id=\"T_bceff1be_522a_11e8_8348_8c85905f408erow23_col0\" class=\"data row23 col0\" >Film and Production</td> \n",
       "        <td id=\"T_bceff1be_522a_11e8_8348_8c85905f408erow23_col1\" class=\"data row23 col1\" >436</td> \n",
       "        <td id=\"T_bceff1be_522a_11e8_8348_8c85905f408erow23_col2\" class=\"data row23 col2\" >3.49%</td> \n",
       "    </tr>    <tr> \n",
       "        <th id=\"T_bceff1be_522a_11e8_8348_8c85905f408elevel0_row24\" class=\"row_heading level0 row24\" >13</th> \n",
       "        <td id=\"T_bceff1be_522a_11e8_8348_8c85905f408erow24_col0\" class=\"data row24 col0\" >Information Technology</td> \n",
       "        <td id=\"T_bceff1be_522a_11e8_8348_8c85905f408erow24_col1\" class=\"data row24 col1\" >404</td> \n",
       "        <td id=\"T_bceff1be_522a_11e8_8348_8c85905f408erow24_col2\" class=\"data row24 col2\" >3.24%</td> \n",
       "    </tr>    <tr> \n",
       "        <th id=\"T_bceff1be_522a_11e8_8348_8c85905f408elevel0_row25\" class=\"row_heading level0 row25\" >5</th> \n",
       "        <td id=\"T_bceff1be_522a_11e8_8348_8c85905f408erow25_col0\" class=\"data row25 col0\" >Architecture</td> \n",
       "        <td id=\"T_bceff1be_522a_11e8_8348_8c85905f408erow25_col1\" class=\"data row25 col1\" >328</td> \n",
       "        <td id=\"T_bceff1be_522a_11e8_8348_8c85905f408erow25_col2\" class=\"data row25 col2\" >2.63%</td> \n",
       "    </tr>    <tr> \n",
       "        <th id=\"T_bceff1be_522a_11e8_8348_8c85905f408elevel0_row26\" class=\"row_heading level0 row26\" >29</th> \n",
       "        <td id=\"T_bceff1be_522a_11e8_8348_8c85905f408erow26_col0\" class=\"data row26 col0\" >Strategic Design Management</td> \n",
       "        <td id=\"T_bceff1be_522a_11e8_8348_8c85905f408erow26_col1\" class=\"data row26 col1\" >265</td> \n",
       "        <td id=\"T_bceff1be_522a_11e8_8348_8c85905f408erow26_col2\" class=\"data row26 col2\" >2.12%</td> \n",
       "    </tr>    <tr> \n",
       "        <th id=\"T_bceff1be_522a_11e8_8348_8c85905f408elevel0_row27\" class=\"row_heading level0 row27\" >11</th> \n",
       "        <td id=\"T_bceff1be_522a_11e8_8348_8c85905f408erow27_col0\" class=\"data row27 col0\" >Sculpture</td> \n",
       "        <td id=\"T_bceff1be_522a_11e8_8348_8c85905f408erow27_col1\" class=\"data row27 col1\" >205</td> \n",
       "        <td id=\"T_bceff1be_522a_11e8_8348_8c85905f408erow27_col2\" class=\"data row27 col2\" >1.64%</td> \n",
       "    </tr>    <tr> \n",
       "        <th id=\"T_bceff1be_522a_11e8_8348_8c85905f408elevel0_row28\" class=\"row_heading level0 row28\" >23</th> \n",
       "        <td id=\"T_bceff1be_522a_11e8_8348_8c85905f408erow28_col0\" class=\"data row28 col0\" >Interior Architecture</td> \n",
       "        <td id=\"T_bceff1be_522a_11e8_8348_8c85905f408erow28_col1\" class=\"data row28 col1\" >161</td> \n",
       "        <td id=\"T_bceff1be_522a_11e8_8348_8c85905f408erow28_col2\" class=\"data row28 col2\" >1.29%</td> \n",
       "    </tr>    <tr> \n",
       "        <th id=\"T_bceff1be_522a_11e8_8348_8c85905f408elevel0_row29\" class=\"row_heading level0 row29\" >33</th> \n",
       "        <td id=\"T_bceff1be_522a_11e8_8348_8c85905f408erow29_col0\" class=\"data row29 col0\" >Gaming</td> \n",
       "        <td id=\"T_bceff1be_522a_11e8_8348_8c85905f408erow29_col1\" class=\"data row29 col1\" >145</td> \n",
       "        <td id=\"T_bceff1be_522a_11e8_8348_8c85905f408erow29_col2\" class=\"data row29 col2\" >1.16%</td> \n",
       "    </tr>    <tr> \n",
       "        <th id=\"T_bceff1be_522a_11e8_8348_8c85905f408elevel0_row30\" class=\"row_heading level0 row30\" >15</th> \n",
       "        <td id=\"T_bceff1be_522a_11e8_8348_8c85905f408erow30_col0\" class=\"data row30 col0\" >Fashion Design</td> \n",
       "        <td id=\"T_bceff1be_522a_11e8_8348_8c85905f408erow30_col1\" class=\"data row30 col1\" >103</td> \n",
       "        <td id=\"T_bceff1be_522a_11e8_8348_8c85905f408erow30_col2\" class=\"data row30 col2\" >0.83%</td> \n",
       "    </tr>    <tr> \n",
       "        <th id=\"T_bceff1be_522a_11e8_8348_8c85905f408elevel0_row31\" class=\"row_heading level0 row31\" >16</th> \n",
       "        <td id=\"T_bceff1be_522a_11e8_8348_8c85905f408erow31_col0\" class=\"data row31 col0\" >Textiles</td> \n",
       "        <td id=\"T_bceff1be_522a_11e8_8348_8c85905f408erow31_col1\" class=\"data row31 col1\" >95</td> \n",
       "        <td id=\"T_bceff1be_522a_11e8_8348_8c85905f408erow31_col2\" class=\"data row31 col2\" >0.76%</td> \n",
       "    </tr>    <tr> \n",
       "        <th id=\"T_bceff1be_522a_11e8_8348_8c85905f408elevel0_row32\" class=\"row_heading level0 row32\" >9</th> \n",
       "        <td id=\"T_bceff1be_522a_11e8_8348_8c85905f408erow32_col0\" class=\"data row32 col0\" >Urban Design</td> \n",
       "        <td id=\"T_bceff1be_522a_11e8_8348_8c85905f408erow32_col1\" class=\"data row32 col1\" >90</td> \n",
       "        <td id=\"T_bceff1be_522a_11e8_8348_8c85905f408erow32_col2\" class=\"data row32 col2\" >0.72%</td> \n",
       "    </tr>    <tr> \n",
       "        <th id=\"T_bceff1be_522a_11e8_8348_8c85905f408elevel0_row33\" class=\"row_heading level0 row33\" >18</th> \n",
       "        <td id=\"T_bceff1be_522a_11e8_8348_8c85905f408erow33_col0\" class=\"data row33 col0\" >Landscape Architecture</td> \n",
       "        <td id=\"T_bceff1be_522a_11e8_8348_8c85905f408erow33_col1\" class=\"data row33 col1\" >49</td> \n",
       "        <td id=\"T_bceff1be_522a_11e8_8348_8c85905f408erow33_col2\" class=\"data row33 col2\" >0.39%</td> \n",
       "    </tr></tbody> \n",
       "</table> "
      ],
      "text/plain": [
       "<pandas.io.formats.style.Styler at 0x1a150ed320>"
      ]
     },
     "metadata": {},
     "output_type": "display_data"
    },
    {
     "data": {
      "text/plain": [
       "\"V_29 : Over my career, I've had:\""
      ]
     },
     "metadata": {},
     "output_type": "display_data"
    },
    {
     "data": {
      "text/html": [
       "<style  type=\"text/css\" >\n",
       "</style>  \n",
       "<table id=\"T_bcf192a8_522a_11e8_b39b_8c85905f408e\" > \n",
       "<thead>    <tr> \n",
       "        <th class=\"blank level0\" ></th> \n",
       "        <th class=\"col_heading level0 col0\" >Options</th> \n",
       "        <th class=\"col_heading level0 col1\" >Count</th> \n",
       "        <th class=\"col_heading level0 col2\" >Percent</th> \n",
       "    </tr></thead> \n",
       "<tbody>    <tr> \n",
       "        <th id=\"T_bcf192a8_522a_11e8_b39b_8c85905f408elevel0_row0\" class=\"row_heading level0 row0\" >0</th> \n",
       "        <td id=\"T_bcf192a8_522a_11e8_b39b_8c85905f408erow0_col0\" class=\"data row0 col0\" >2-3 design jobs</td> \n",
       "        <td id=\"T_bcf192a8_522a_11e8_b39b_8c85905f408erow0_col1\" class=\"data row0 col1\" >5729</td> \n",
       "        <td id=\"T_bcf192a8_522a_11e8_b39b_8c85905f408erow0_col2\" class=\"data row0 col2\" >45.92%</td> \n",
       "    </tr>    <tr> \n",
       "        <th id=\"T_bcf192a8_522a_11e8_b39b_8c85905f408elevel0_row1\" class=\"row_heading level0 row1\" >1</th> \n",
       "        <td id=\"T_bcf192a8_522a_11e8_b39b_8c85905f408erow1_col0\" class=\"data row1 col0\" >4-5 design jobs</td> \n",
       "        <td id=\"T_bcf192a8_522a_11e8_b39b_8c85905f408erow1_col1\" class=\"data row1 col1\" >3052</td> \n",
       "        <td id=\"T_bcf192a8_522a_11e8_b39b_8c85905f408erow1_col2\" class=\"data row1 col2\" >24.46%</td> \n",
       "    </tr>    <tr> \n",
       "        <th id=\"T_bcf192a8_522a_11e8_b39b_8c85905f408elevel0_row2\" class=\"row_heading level0 row2\" >2</th> \n",
       "        <td id=\"T_bcf192a8_522a_11e8_b39b_8c85905f408erow2_col0\" class=\"data row2 col0\" >1 design job</td> \n",
       "        <td id=\"T_bcf192a8_522a_11e8_b39b_8c85905f408erow2_col1\" class=\"data row2 col1\" >1736</td> \n",
       "        <td id=\"T_bcf192a8_522a_11e8_b39b_8c85905f408erow2_col2\" class=\"data row2 col2\" >13.91%</td> \n",
       "    </tr>    <tr> \n",
       "        <th id=\"T_bcf192a8_522a_11e8_b39b_8c85905f408elevel0_row3\" class=\"row_heading level0 row3\" >3</th> \n",
       "        <td id=\"T_bcf192a8_522a_11e8_b39b_8c85905f408erow3_col0\" class=\"data row3 col0\" >6-7 design jobs</td> \n",
       "        <td id=\"T_bcf192a8_522a_11e8_b39b_8c85905f408erow3_col1\" class=\"data row3 col1\" >1029</td> \n",
       "        <td id=\"T_bcf192a8_522a_11e8_b39b_8c85905f408erow3_col2\" class=\"data row3 col2\" >8.25%</td> \n",
       "    </tr>    <tr> \n",
       "        <th id=\"T_bcf192a8_522a_11e8_b39b_8c85905f408elevel0_row4\" class=\"row_heading level0 row4\" >4</th> \n",
       "        <td id=\"T_bcf192a8_522a_11e8_b39b_8c85905f408erow4_col0\" class=\"data row4 col0\" >10+ design jobs</td> \n",
       "        <td id=\"T_bcf192a8_522a_11e8_b39b_8c85905f408erow4_col1\" class=\"data row4 col1\" >545</td> \n",
       "        <td id=\"T_bcf192a8_522a_11e8_b39b_8c85905f408erow4_col2\" class=\"data row4 col2\" >4.37%</td> \n",
       "    </tr>    <tr> \n",
       "        <th id=\"T_bcf192a8_522a_11e8_b39b_8c85905f408elevel0_row5\" class=\"row_heading level0 row5\" >5</th> \n",
       "        <td id=\"T_bcf192a8_522a_11e8_b39b_8c85905f408erow5_col0\" class=\"data row5 col0\" >8-10 design jobs</td> \n",
       "        <td id=\"T_bcf192a8_522a_11e8_b39b_8c85905f408erow5_col1\" class=\"data row5 col1\" >386</td> \n",
       "        <td id=\"T_bcf192a8_522a_11e8_b39b_8c85905f408erow5_col2\" class=\"data row5 col2\" >3.09%</td> \n",
       "    </tr></tbody> \n",
       "</table> "
      ],
      "text/plain": [
       "<pandas.io.formats.style.Styler at 0x1a14aaa860>"
      ]
     },
     "metadata": {},
     "output_type": "display_data"
    },
    {
     "data": {
      "text/plain": [
       "\"V_30 : I've shifted my specialty or focus area:\""
      ]
     },
     "metadata": {},
     "output_type": "display_data"
    },
    {
     "data": {
      "text/html": [
       "<style  type=\"text/css\" >\n",
       "</style>  \n",
       "<table id=\"T_bcf2d9a6_522a_11e8_b9c5_8c85905f408e\" > \n",
       "<thead>    <tr> \n",
       "        <th class=\"blank level0\" ></th> \n",
       "        <th class=\"col_heading level0 col0\" >Options</th> \n",
       "        <th class=\"col_heading level0 col1\" >Count</th> \n",
       "        <th class=\"col_heading level0 col2\" >Percent</th> \n",
       "    </tr></thead> \n",
       "<tbody>    <tr> \n",
       "        <th id=\"T_bcf2d9a6_522a_11e8_b9c5_8c85905f408elevel0_row0\" class=\"row_heading level0 row0\" >0</th> \n",
       "        <td id=\"T_bcf2d9a6_522a_11e8_b9c5_8c85905f408erow0_col0\" class=\"data row0 col0\" >1-2 times</td> \n",
       "        <td id=\"T_bcf2d9a6_522a_11e8_b9c5_8c85905f408erow0_col1\" class=\"data row0 col1\" >6228</td> \n",
       "        <td id=\"T_bcf2d9a6_522a_11e8_b9c5_8c85905f408erow0_col2\" class=\"data row0 col2\" >49.92%</td> \n",
       "    </tr>    <tr> \n",
       "        <th id=\"T_bcf2d9a6_522a_11e8_b9c5_8c85905f408elevel0_row1\" class=\"row_heading level0 row1\" >1</th> \n",
       "        <td id=\"T_bcf2d9a6_522a_11e8_b9c5_8c85905f408erow1_col0\" class=\"data row1 col0\" >0 times</td> \n",
       "        <td id=\"T_bcf2d9a6_522a_11e8_b9c5_8c85905f408erow1_col1\" class=\"data row1 col1\" >2967</td> \n",
       "        <td id=\"T_bcf2d9a6_522a_11e8_b9c5_8c85905f408erow1_col2\" class=\"data row1 col2\" >23.78%</td> \n",
       "    </tr>    <tr> \n",
       "        <th id=\"T_bcf2d9a6_522a_11e8_b9c5_8c85905f408elevel0_row2\" class=\"row_heading level0 row2\" >2</th> \n",
       "        <td id=\"T_bcf2d9a6_522a_11e8_b9c5_8c85905f408erow2_col0\" class=\"data row2 col0\" >3-4 times</td> \n",
       "        <td id=\"T_bcf2d9a6_522a_11e8_b9c5_8c85905f408erow2_col1\" class=\"data row2 col1\" >1172</td> \n",
       "        <td id=\"T_bcf2d9a6_522a_11e8_b9c5_8c85905f408erow2_col2\" class=\"data row2 col2\" >9.39%</td> \n",
       "    </tr>    <tr> \n",
       "        <th id=\"T_bcf2d9a6_522a_11e8_b9c5_8c85905f408elevel0_row3\" class=\"row_heading level0 row3\" >3</th> \n",
       "        <td id=\"T_bcf2d9a6_522a_11e8_b9c5_8c85905f408erow3_col0\" class=\"data row3 col0\" >Slowly over time</td> \n",
       "        <td id=\"T_bcf2d9a6_522a_11e8_b9c5_8c85905f408erow3_col1\" class=\"data row3 col1\" >1095</td> \n",
       "        <td id=\"T_bcf2d9a6_522a_11e8_b9c5_8c85905f408erow3_col2\" class=\"data row3 col2\" >8.78%</td> \n",
       "    </tr>    <tr> \n",
       "        <th id=\"T_bcf2d9a6_522a_11e8_b9c5_8c85905f408elevel0_row4\" class=\"row_heading level0 row4\" >4</th> \n",
       "        <td id=\"T_bcf2d9a6_522a_11e8_b9c5_8c85905f408erow4_col0\" class=\"data row4 col0\" >Always ready for what's next</td> \n",
       "        <td id=\"T_bcf2d9a6_522a_11e8_b9c5_8c85905f408erow4_col1\" class=\"data row4 col1\" >1015</td> \n",
       "        <td id=\"T_bcf2d9a6_522a_11e8_b9c5_8c85905f408erow4_col2\" class=\"data row4 col2\" >8.13%</td> \n",
       "    </tr></tbody> \n",
       "</table> "
      ],
      "text/plain": [
       "<pandas.io.formats.style.Styler at 0x1a14ab4a58>"
      ]
     },
     "metadata": {},
     "output_type": "display_data"
    },
    {
     "data": {
      "text/plain": [
       "'V_31 : I stay current with design by:'"
      ]
     },
     "metadata": {},
     "output_type": "display_data"
    },
    {
     "data": {
      "text/html": [
       "<style  type=\"text/css\" >\n",
       "</style>  \n",
       "<table id=\"T_bcf7489c_522a_11e8_8d25_8c85905f408e\" > \n",
       "<thead>    <tr> \n",
       "        <th class=\"blank level0\" ></th> \n",
       "        <th class=\"col_heading level0 col0\" >Options</th> \n",
       "        <th class=\"col_heading level0 col1\" >Count</th> \n",
       "        <th class=\"col_heading level0 col2\" >Percent</th> \n",
       "    </tr></thead> \n",
       "<tbody>    <tr> \n",
       "        <th id=\"T_bcf7489c_522a_11e8_8d25_8c85905f408elevel0_row0\" class=\"row_heading level0 row0\" >5</th> \n",
       "        <td id=\"T_bcf7489c_522a_11e8_8d25_8c85905f408erow0_col0\" class=\"data row0 col0\" >Following design feeds</td> \n",
       "        <td id=\"T_bcf7489c_522a_11e8_8d25_8c85905f408erow0_col1\" class=\"data row0 col1\" >10127</td> \n",
       "        <td id=\"T_bcf7489c_522a_11e8_8d25_8c85905f408erow0_col2\" class=\"data row0 col2\" >81.17%</td> \n",
       "    </tr>    <tr> \n",
       "        <th id=\"T_bcf7489c_522a_11e8_8d25_8c85905f408elevel0_row1\" class=\"row_heading level0 row1\" >6</th> \n",
       "        <td id=\"T_bcf7489c_522a_11e8_8d25_8c85905f408erow1_col0\" class=\"data row1 col0\" >Reading online publications</td> \n",
       "        <td id=\"T_bcf7489c_522a_11e8_8d25_8c85905f408erow1_col1\" class=\"data row1 col1\" >9563</td> \n",
       "        <td id=\"T_bcf7489c_522a_11e8_8d25_8c85905f408erow1_col2\" class=\"data row1 col2\" >76.65%</td> \n",
       "    </tr>    <tr> \n",
       "        <th id=\"T_bcf7489c_522a_11e8_8d25_8c85905f408elevel0_row2\" class=\"row_heading level0 row2\" >2</th> \n",
       "        <td id=\"T_bcf7489c_522a_11e8_8d25_8c85905f408erow2_col0\" class=\"data row2 col0\" >Following social media</td> \n",
       "        <td id=\"T_bcf7489c_522a_11e8_8d25_8c85905f408erow2_col1\" class=\"data row2 col1\" >9151</td> \n",
       "        <td id=\"T_bcf7489c_522a_11e8_8d25_8c85905f408erow2_col2\" class=\"data row2 col2\" >73.34%</td> \n",
       "    </tr>    <tr> \n",
       "        <th id=\"T_bcf7489c_522a_11e8_8d25_8c85905f408elevel0_row3\" class=\"row_heading level0 row3\" >7</th> \n",
       "        <td id=\"T_bcf7489c_522a_11e8_8d25_8c85905f408erow3_col0\" class=\"data row3 col0\" >Discussing with peers</td> \n",
       "        <td id=\"T_bcf7489c_522a_11e8_8d25_8c85905f408erow3_col1\" class=\"data row3 col1\" >8760</td> \n",
       "        <td id=\"T_bcf7489c_522a_11e8_8d25_8c85905f408erow3_col2\" class=\"data row3 col2\" >70.21%</td> \n",
       "    </tr>    <tr> \n",
       "        <th id=\"T_bcf7489c_522a_11e8_8d25_8c85905f408elevel0_row4\" class=\"row_heading level0 row4\" >0</th> \n",
       "        <td id=\"T_bcf7489c_522a_11e8_8d25_8c85905f408erow4_col0\" class=\"data row4 col0\" >Reading books/magazines</td> \n",
       "        <td id=\"T_bcf7489c_522a_11e8_8d25_8c85905f408erow4_col1\" class=\"data row4 col1\" >7084</td> \n",
       "        <td id=\"T_bcf7489c_522a_11e8_8d25_8c85905f408erow4_col2\" class=\"data row4 col2\" >56.78%</td> \n",
       "    </tr>    <tr> \n",
       "        <th id=\"T_bcf7489c_522a_11e8_8d25_8c85905f408elevel0_row5\" class=\"row_heading level0 row5\" >8</th> \n",
       "        <td id=\"T_bcf7489c_522a_11e8_8d25_8c85905f408erow5_col0\" class=\"data row5 col0\" >Seeking online training</td> \n",
       "        <td id=\"T_bcf7489c_522a_11e8_8d25_8c85905f408erow5_col1\" class=\"data row5 col1\" >5932</td> \n",
       "        <td id=\"T_bcf7489c_522a_11e8_8d25_8c85905f408erow5_col2\" class=\"data row5 col2\" >47.54%</td> \n",
       "    </tr>    <tr> \n",
       "        <th id=\"T_bcf7489c_522a_11e8_8d25_8c85905f408elevel0_row6\" class=\"row_heading level0 row6\" >1</th> \n",
       "        <td id=\"T_bcf7489c_522a_11e8_8d25_8c85905f408erow6_col0\" class=\"data row6 col0\" >Attending conferences</td> \n",
       "        <td id=\"T_bcf7489c_522a_11e8_8d25_8c85905f408erow6_col1\" class=\"data row6 col1\" >5713</td> \n",
       "        <td id=\"T_bcf7489c_522a_11e8_8d25_8c85905f408erow6_col2\" class=\"data row6 col2\" >45.79%</td> \n",
       "    </tr>    <tr> \n",
       "        <th id=\"T_bcf7489c_522a_11e8_8d25_8c85905f408elevel0_row7\" class=\"row_heading level0 row7\" >4</th> \n",
       "        <td id=\"T_bcf7489c_522a_11e8_8d25_8c85905f408erow7_col0\" class=\"data row7 col0\" >Having a mentor</td> \n",
       "        <td id=\"T_bcf7489c_522a_11e8_8d25_8c85905f408erow7_col1\" class=\"data row7 col1\" >1910</td> \n",
       "        <td id=\"T_bcf7489c_522a_11e8_8d25_8c85905f408erow7_col2\" class=\"data row7 col2\" >15.31%</td> \n",
       "    </tr>    <tr> \n",
       "        <th id=\"T_bcf7489c_522a_11e8_8d25_8c85905f408elevel0_row8\" class=\"row_heading level0 row8\" >3</th> \n",
       "        <td id=\"T_bcf7489c_522a_11e8_8d25_8c85905f408erow8_col0\" class=\"data row8 col0\" >None of these</td> \n",
       "        <td id=\"T_bcf7489c_522a_11e8_8d25_8c85905f408erow8_col1\" class=\"data row8 col1\" >153</td> \n",
       "        <td id=\"T_bcf7489c_522a_11e8_8d25_8c85905f408erow8_col2\" class=\"data row8 col2\" >1.23%</td> \n",
       "    </tr></tbody> \n",
       "</table> "
      ],
      "text/plain": [
       "<pandas.io.formats.style.Styler at 0x1a14ab49e8>"
      ]
     },
     "metadata": {},
     "output_type": "display_data"
    },
    {
     "data": {
      "text/plain": [
       "\"V_32 : I'm a member of:\""
      ]
     },
     "metadata": {},
     "output_type": "display_data"
    },
    {
     "data": {
      "text/html": [
       "<style  type=\"text/css\" >\n",
       "</style>  \n",
       "<table id=\"T_bd01860c_522a_11e8_b64c_8c85905f408e\" > \n",
       "<thead>    <tr> \n",
       "        <th class=\"blank level0\" ></th> \n",
       "        <th class=\"col_heading level0 col0\" >Options</th> \n",
       "        <th class=\"col_heading level0 col1\" >Count</th> \n",
       "        <th class=\"col_heading level0 col2\" >Percent</th> \n",
       "    </tr></thead> \n",
       "<tbody>    <tr> \n",
       "        <th id=\"T_bd01860c_522a_11e8_b64c_8c85905f408elevel0_row0\" class=\"row_heading level0 row0\" >23</th> \n",
       "        <td id=\"T_bd01860c_522a_11e8_b64c_8c85905f408erow0_col0\" class=\"data row0 col0\" >None of these</td> \n",
       "        <td id=\"T_bd01860c_522a_11e8_b64c_8c85905f408erow0_col1\" class=\"data row0 col1\" >6371</td> \n",
       "        <td id=\"T_bd01860c_522a_11e8_b64c_8c85905f408erow0_col2\" class=\"data row0 col2\" >51.06%</td> \n",
       "    </tr>    <tr> \n",
       "        <th id=\"T_bd01860c_522a_11e8_b64c_8c85905f408elevel0_row1\" class=\"row_heading level0 row1\" >12</th> \n",
       "        <td id=\"T_bd01860c_522a_11e8_b64c_8c85905f408erow1_col0\" class=\"data row1 col0\" >AIGA</td> \n",
       "        <td id=\"T_bd01860c_522a_11e8_b64c_8c85905f408erow1_col1\" class=\"data row1 col1\" >4638</td> \n",
       "        <td id=\"T_bd01860c_522a_11e8_b64c_8c85905f408erow1_col2\" class=\"data row1 col2\" >37.17%</td> \n",
       "    </tr>    <tr> \n",
       "        <th id=\"T_bd01860c_522a_11e8_b64c_8c85905f408elevel0_row2\" class=\"row_heading level0 row2\" >28</th> \n",
       "        <td id=\"T_bd01860c_522a_11e8_b64c_8c85905f408erow2_col0\" class=\"data row2 col0\" >Creative Mornings</td> \n",
       "        <td id=\"T_bd01860c_522a_11e8_b64c_8c85905f408erow2_col1\" class=\"data row2 col1\" >1726</td> \n",
       "        <td id=\"T_bd01860c_522a_11e8_b64c_8c85905f408erow2_col2\" class=\"data row2 col2\" >13.83%</td> \n",
       "    </tr>    <tr> \n",
       "        <th id=\"T_bd01860c_522a_11e8_b64c_8c85905f408elevel0_row3\" class=\"row_heading level0 row3\" >20</th> \n",
       "        <td id=\"T_bd01860c_522a_11e8_b64c_8c85905f408erow3_col0\" class=\"data row3 col0\" >IXDA</td> \n",
       "        <td id=\"T_bd01860c_522a_11e8_b64c_8c85905f408erow3_col1\" class=\"data row3 col1\" >718</td> \n",
       "        <td id=\"T_bd01860c_522a_11e8_b64c_8c85905f408erow3_col2\" class=\"data row3 col2\" >5.75%</td> \n",
       "    </tr>    <tr> \n",
       "        <th id=\"T_bd01860c_522a_11e8_b64c_8c85905f408elevel0_row4\" class=\"row_heading level0 row4\" >1</th> \n",
       "        <td id=\"T_bd01860c_522a_11e8_b64c_8c85905f408erow4_col0\" class=\"data row4 col0\" >Freelancers Union</td> \n",
       "        <td id=\"T_bd01860c_522a_11e8_b64c_8c85905f408erow4_col1\" class=\"data row4 col1\" >395</td> \n",
       "        <td id=\"T_bd01860c_522a_11e8_b64c_8c85905f408erow4_col2\" class=\"data row4 col2\" >3.17%</td> \n",
       "    </tr>    <tr> \n",
       "        <th id=\"T_bd01860c_522a_11e8_b64c_8c85905f408elevel0_row5\" class=\"row_heading level0 row5\" >25</th> \n",
       "        <td id=\"T_bd01860c_522a_11e8_b64c_8c85905f408erow5_col0\" class=\"data row5 col0\" >AAF</td> \n",
       "        <td id=\"T_bd01860c_522a_11e8_b64c_8c85905f408erow5_col1\" class=\"data row5 col1\" >320</td> \n",
       "        <td id=\"T_bd01860c_522a_11e8_b64c_8c85905f408erow5_col2\" class=\"data row5 col2\" >2.56%</td> \n",
       "    </tr>    <tr> \n",
       "        <th id=\"T_bd01860c_522a_11e8_b64c_8c85905f408elevel0_row6\" class=\"row_heading level0 row6\" >14</th> \n",
       "        <td id=\"T_bd01860c_522a_11e8_b64c_8c85905f408erow6_col0\" class=\"data row6 col0\" >Graphic Artists Guild</td> \n",
       "        <td id=\"T_bd01860c_522a_11e8_b64c_8c85905f408erow6_col1\" class=\"data row6 col1\" >169</td> \n",
       "        <td id=\"T_bd01860c_522a_11e8_b64c_8c85905f408erow6_col2\" class=\"data row6 col2\" >1.35%</td> \n",
       "    </tr>    <tr> \n",
       "        <th id=\"T_bd01860c_522a_11e8_b64c_8c85905f408elevel0_row7\" class=\"row_heading level0 row7\" >18</th> \n",
       "        <td id=\"T_bd01860c_522a_11e8_b64c_8c85905f408erow7_col0\" class=\"data row7 col0\" >SEGD</td> \n",
       "        <td id=\"T_bd01860c_522a_11e8_b64c_8c85905f408erow7_col1\" class=\"data row7 col1\" >138</td> \n",
       "        <td id=\"T_bd01860c_522a_11e8_b64c_8c85905f408erow7_col2\" class=\"data row7 col2\" >1.11%</td> \n",
       "    </tr>    <tr> \n",
       "        <th id=\"T_bd01860c_522a_11e8_b64c_8c85905f408elevel0_row8\" class=\"row_heading level0 row8\" >26</th> \n",
       "        <td id=\"T_bd01860c_522a_11e8_b64c_8c85905f408erow8_col0\" class=\"data row8 col0\" >D&AD</td> \n",
       "        <td id=\"T_bd01860c_522a_11e8_b64c_8c85905f408erow8_col1\" class=\"data row8 col1\" >131</td> \n",
       "        <td id=\"T_bd01860c_522a_11e8_b64c_8c85905f408erow8_col2\" class=\"data row8 col2\" >1.05%</td> \n",
       "    </tr>    <tr> \n",
       "        <th id=\"T_bd01860c_522a_11e8_b64c_8c85905f408elevel0_row9\" class=\"row_heading level0 row9\" >11</th> \n",
       "        <td id=\"T_bd01860c_522a_11e8_b64c_8c85905f408erow9_col0\" class=\"data row9 col0\" >TDC</td> \n",
       "        <td id=\"T_bd01860c_522a_11e8_b64c_8c85905f408erow9_col1\" class=\"data row9 col1\" >130</td> \n",
       "        <td id=\"T_bd01860c_522a_11e8_b64c_8c85905f408erow9_col2\" class=\"data row9 col2\" >1.04%</td> \n",
       "    </tr>    <tr> \n",
       "        <th id=\"T_bd01860c_522a_11e8_b64c_8c85905f408elevel0_row10\" class=\"row_heading level0 row10\" >6</th> \n",
       "        <td id=\"T_bd01860c_522a_11e8_b64c_8c85905f408erow10_col0\" class=\"data row10 col0\" >Ad Club</td> \n",
       "        <td id=\"T_bd01860c_522a_11e8_b64c_8c85905f408erow10_col1\" class=\"data row10 col1\" >122</td> \n",
       "        <td id=\"T_bd01860c_522a_11e8_b64c_8c85905f408erow10_col2\" class=\"data row10 col2\" >0.98%</td> \n",
       "    </tr>    <tr> \n",
       "        <th id=\"T_bd01860c_522a_11e8_b64c_8c85905f408elevel0_row11\" class=\"row_heading level0 row11\" >24</th> \n",
       "        <td id=\"T_bd01860c_522a_11e8_b64c_8c85905f408erow11_col0\" class=\"data row11 col0\" >ADC</td> \n",
       "        <td id=\"T_bd01860c_522a_11e8_b64c_8c85905f408erow11_col1\" class=\"data row11 col1\" >118</td> \n",
       "        <td id=\"T_bd01860c_522a_11e8_b64c_8c85905f408erow11_col2\" class=\"data row11 col2\" >0.95%</td> \n",
       "    </tr>    <tr> \n",
       "        <th id=\"T_bd01860c_522a_11e8_b64c_8c85905f408elevel0_row12\" class=\"row_heading level0 row12\" >5</th> \n",
       "        <td id=\"T_bd01860c_522a_11e8_b64c_8c85905f408erow12_col0\" class=\"data row12 col0\" >IDSA</td> \n",
       "        <td id=\"T_bd01860c_522a_11e8_b64c_8c85905f408erow12_col1\" class=\"data row12 col1\" >112</td> \n",
       "        <td id=\"T_bd01860c_522a_11e8_b64c_8c85905f408erow12_col2\" class=\"data row12 col2\" >0.90%</td> \n",
       "    </tr>    <tr> \n",
       "        <th id=\"T_bd01860c_522a_11e8_b64c_8c85905f408elevel0_row13\" class=\"row_heading level0 row13\" >29</th> \n",
       "        <td id=\"T_bd01860c_522a_11e8_b64c_8c85905f408erow13_col0\" class=\"data row13 col0\" >UCDA</td> \n",
       "        <td id=\"T_bd01860c_522a_11e8_b64c_8c85905f408erow13_col1\" class=\"data row13 col1\" >105</td> \n",
       "        <td id=\"T_bd01860c_522a_11e8_b64c_8c85905f408erow13_col2\" class=\"data row13 col2\" >0.84%</td> \n",
       "    </tr>    <tr> \n",
       "        <th id=\"T_bd01860c_522a_11e8_b64c_8c85905f408elevel0_row14\" class=\"row_heading level0 row14\" >17</th> \n",
       "        <td id=\"T_bd01860c_522a_11e8_b64c_8c85905f408erow14_col0\" class=\"data row14 col0\" >One Club</td> \n",
       "        <td id=\"T_bd01860c_522a_11e8_b64c_8c85905f408erow14_col1\" class=\"data row14 col1\" >69</td> \n",
       "        <td id=\"T_bd01860c_522a_11e8_b64c_8c85905f408erow14_col2\" class=\"data row14 col2\" >0.55%</td> \n",
       "    </tr>    <tr> \n",
       "        <th id=\"T_bd01860c_522a_11e8_b64c_8c85905f408elevel0_row15\" class=\"row_heading level0 row15\" >27</th> \n",
       "        <td id=\"T_bd01860c_522a_11e8_b64c_8c85905f408erow15_col0\" class=\"data row15 col0\" >Society of Illustrators</td> \n",
       "        <td id=\"T_bd01860c_522a_11e8_b64c_8c85905f408erow15_col1\" class=\"data row15 col1\" >64</td> \n",
       "        <td id=\"T_bd01860c_522a_11e8_b64c_8c85905f408erow15_col2\" class=\"data row15 col2\" >0.51%</td> \n",
       "    </tr>    <tr> \n",
       "        <th id=\"T_bd01860c_522a_11e8_b64c_8c85905f408elevel0_row16\" class=\"row_heading level0 row16\" >0</th> \n",
       "        <td id=\"T_bd01860c_522a_11e8_b64c_8c85905f408erow16_col0\" class=\"data row16 col0\" >DMI</td> \n",
       "        <td id=\"T_bd01860c_522a_11e8_b64c_8c85905f408erow16_col1\" class=\"data row16 col1\" >53</td> \n",
       "        <td id=\"T_bd01860c_522a_11e8_b64c_8c85905f408erow16_col2\" class=\"data row16 col2\" >0.42%</td> \n",
       "    </tr>    <tr> \n",
       "        <th id=\"T_bd01860c_522a_11e8_b64c_8c85905f408elevel0_row17\" class=\"row_heading level0 row17\" >10</th> \n",
       "        <td id=\"T_bd01860c_522a_11e8_b64c_8c85905f408erow17_col0\" class=\"data row17 col0\" >SPARK</td> \n",
       "        <td id=\"T_bd01860c_522a_11e8_b64c_8c85905f408erow17_col1\" class=\"data row17 col1\" >46</td> \n",
       "        <td id=\"T_bd01860c_522a_11e8_b64c_8c85905f408erow17_col2\" class=\"data row17 col2\" >0.37%</td> \n",
       "    </tr>    <tr> \n",
       "        <th id=\"T_bd01860c_522a_11e8_b64c_8c85905f408elevel0_row18\" class=\"row_heading level0 row18\" >16</th> \n",
       "        <td id=\"T_bd01860c_522a_11e8_b64c_8c85905f408erow18_col0\" class=\"data row18 col0\" >RGD</td> \n",
       "        <td id=\"T_bd01860c_522a_11e8_b64c_8c85905f408erow18_col1\" class=\"data row18 col1\" >44</td> \n",
       "        <td id=\"T_bd01860c_522a_11e8_b64c_8c85905f408erow18_col2\" class=\"data row18 col2\" >0.35%</td> \n",
       "    </tr>    <tr> \n",
       "        <th id=\"T_bd01860c_522a_11e8_b64c_8c85905f408elevel0_row19\" class=\"row_heading level0 row19\" >22</th> \n",
       "        <td id=\"T_bd01860c_522a_11e8_b64c_8c85905f408erow19_col0\" class=\"data row19 col0\" >ico-D (Icograda)</td> \n",
       "        <td id=\"T_bd01860c_522a_11e8_b64c_8c85905f408erow19_col1\" class=\"data row19 col1\" >39</td> \n",
       "        <td id=\"T_bd01860c_522a_11e8_b64c_8c85905f408erow19_col2\" class=\"data row19 col2\" >0.31%</td> \n",
       "    </tr>    <tr> \n",
       "        <th id=\"T_bd01860c_522a_11e8_b64c_8c85905f408elevel0_row20\" class=\"row_heading level0 row20\" >13</th> \n",
       "        <td id=\"T_bd01860c_522a_11e8_b64c_8c85905f408erow20_col0\" class=\"data row20 col0\" >SPD</td> \n",
       "        <td id=\"T_bd01860c_522a_11e8_b64c_8c85905f408erow20_col1\" class=\"data row20 col1\" >36</td> \n",
       "        <td id=\"T_bd01860c_522a_11e8_b64c_8c85905f408erow20_col2\" class=\"data row20 col2\" >0.29%</td> \n",
       "    </tr>    <tr> \n",
       "        <th id=\"T_bd01860c_522a_11e8_b64c_8c85905f408elevel0_row21\" class=\"row_heading level0 row21\" >19</th> \n",
       "        <td id=\"T_bd01860c_522a_11e8_b64c_8c85905f408erow21_col0\" class=\"data row21 col0\" >GDC</td> \n",
       "        <td id=\"T_bd01860c_522a_11e8_b64c_8c85905f408erow21_col1\" class=\"data row21 col1\" >36</td> \n",
       "        <td id=\"T_bd01860c_522a_11e8_b64c_8c85905f408erow21_col2\" class=\"data row21 col2\" >0.29%</td> \n",
       "    </tr>    <tr> \n",
       "        <th id=\"T_bd01860c_522a_11e8_b64c_8c85905f408elevel0_row22\" class=\"row_heading level0 row22\" >3</th> \n",
       "        <td id=\"T_bd01860c_522a_11e8_b64c_8c85905f408erow22_col0\" class=\"data row22 col0\" >In-Source</td> \n",
       "        <td id=\"T_bd01860c_522a_11e8_b64c_8c85905f408erow22_col1\" class=\"data row22 col1\" >36</td> \n",
       "        <td id=\"T_bd01860c_522a_11e8_b64c_8c85905f408erow22_col2\" class=\"data row22 col2\" >0.29%</td> \n",
       "    </tr>    <tr> \n",
       "        <th id=\"T_bd01860c_522a_11e8_b64c_8c85905f408elevel0_row23\" class=\"row_heading level0 row23\" >15</th> \n",
       "        <td id=\"T_bd01860c_522a_11e8_b64c_8c85905f408erow23_col0\" class=\"data row23 col0\" >IHAF</td> \n",
       "        <td id=\"T_bd01860c_522a_11e8_b64c_8c85905f408erow23_col1\" class=\"data row23 col1\" >15</td> \n",
       "        <td id=\"T_bd01860c_522a_11e8_b64c_8c85905f408erow23_col2\" class=\"data row23 col2\" >0.12%</td> \n",
       "    </tr>    <tr> \n",
       "        <th id=\"T_bd01860c_522a_11e8_b64c_8c85905f408elevel0_row24\" class=\"row_heading level0 row24\" >8</th> \n",
       "        <td id=\"T_bd01860c_522a_11e8_b64c_8c85905f408erow24_col0\" class=\"data row24 col0\" >ADCE</td> \n",
       "        <td id=\"T_bd01860c_522a_11e8_b64c_8c85905f408erow24_col1\" class=\"data row24 col1\" >12</td> \n",
       "        <td id=\"T_bd01860c_522a_11e8_b64c_8c85905f408erow24_col2\" class=\"data row24 col2\" >0.10%</td> \n",
       "    </tr>    <tr> \n",
       "        <th id=\"T_bd01860c_522a_11e8_b64c_8c85905f408elevel0_row25\" class=\"row_heading level0 row25\" >4</th> \n",
       "        <td id=\"T_bd01860c_522a_11e8_b64c_8c85905f408erow25_col0\" class=\"data row25 col0\" >ADG-FAD</td> \n",
       "        <td id=\"T_bd01860c_522a_11e8_b64c_8c85905f408erow25_col1\" class=\"data row25 col1\" >10</td> \n",
       "        <td id=\"T_bd01860c_522a_11e8_b64c_8c85905f408erow25_col2\" class=\"data row25 col2\" >0.08%</td> \n",
       "    </tr>    <tr> \n",
       "        <th id=\"T_bd01860c_522a_11e8_b64c_8c85905f408elevel0_row26\" class=\"row_heading level0 row26\" >7</th> \n",
       "        <td id=\"T_bd01860c_522a_11e8_b64c_8c85905f408erow26_col0\" class=\"data row26 col0\" >GAA</td> \n",
       "        <td id=\"T_bd01860c_522a_11e8_b64c_8c85905f408erow26_col1\" class=\"data row26 col1\" >5</td> \n",
       "        <td id=\"T_bd01860c_522a_11e8_b64c_8c85905f408erow26_col2\" class=\"data row26 col2\" >0.04%</td> \n",
       "    </tr>    <tr> \n",
       "        <th id=\"T_bd01860c_522a_11e8_b64c_8c85905f408elevel0_row27\" class=\"row_heading level0 row27\" >21</th> \n",
       "        <td id=\"T_bd01860c_522a_11e8_b64c_8c85905f408erow27_col0\" class=\"data row27 col0\" >SOD</td> \n",
       "        <td id=\"T_bd01860c_522a_11e8_b64c_8c85905f408erow27_col1\" class=\"data row27 col1\" >4</td> \n",
       "        <td id=\"T_bd01860c_522a_11e8_b64c_8c85905f408erow27_col2\" class=\"data row27 col2\" >0.03%</td> \n",
       "    </tr>    <tr> \n",
       "        <th id=\"T_bd01860c_522a_11e8_b64c_8c85905f408elevel0_row28\" class=\"row_heading level0 row28\" >9</th> \n",
       "        <td id=\"T_bd01860c_522a_11e8_b64c_8c85905f408erow28_col0\" class=\"data row28 col0\" >DBC</td> \n",
       "        <td id=\"T_bd01860c_522a_11e8_b64c_8c85905f408erow28_col1\" class=\"data row28 col1\" >2</td> \n",
       "        <td id=\"T_bd01860c_522a_11e8_b64c_8c85905f408erow28_col2\" class=\"data row28 col2\" >0.02%</td> \n",
       "    </tr>    <tr> \n",
       "        <th id=\"T_bd01860c_522a_11e8_b64c_8c85905f408elevel0_row29\" class=\"row_heading level0 row29\" >2</th> \n",
       "        <td id=\"T_bd01860c_522a_11e8_b64c_8c85905f408erow29_col0\" class=\"data row29 col0\" >JAGDA</td> \n",
       "        <td id=\"T_bd01860c_522a_11e8_b64c_8c85905f408erow29_col1\" class=\"data row29 col1\" >1</td> \n",
       "        <td id=\"T_bd01860c_522a_11e8_b64c_8c85905f408erow29_col2\" class=\"data row29 col2\" >0.01%</td> \n",
       "    </tr></tbody> \n",
       "</table> "
      ],
      "text/plain": [
       "<pandas.io.formats.style.Styler at 0x1a150ed748>"
      ]
     },
     "metadata": {},
     "output_type": "display_data"
    },
    {
     "data": {
      "text/plain": [
       "\"V_33 : I'd like to get better at:\""
      ]
     },
     "metadata": {},
     "output_type": "display_data"
    },
    {
     "data": {
      "text/html": [
       "<style  type=\"text/css\" >\n",
       "</style>  \n",
       "<table id=\"T_bd0b88ac_522a_11e8_b109_8c85905f408e\" > \n",
       "<thead>    <tr> \n",
       "        <th class=\"blank level0\" ></th> \n",
       "        <th class=\"col_heading level0 col0\" >Options</th> \n",
       "        <th class=\"col_heading level0 col1\" >Count</th> \n",
       "        <th class=\"col_heading level0 col2\" >Percent</th> \n",
       "    </tr></thead> \n",
       "<tbody>    <tr> \n",
       "        <th id=\"T_bd0b88ac_522a_11e8_b109_8c85905f408elevel0_row0\" class=\"row_heading level0 row0\" >20</th> \n",
       "        <td id=\"T_bd0b88ac_522a_11e8_b109_8c85905f408erow0_col0\" class=\"data row0 col0\" >UX Design</td> \n",
       "        <td id=\"T_bd0b88ac_522a_11e8_b109_8c85905f408erow0_col1\" class=\"data row0 col1\" >5396</td> \n",
       "        <td id=\"T_bd0b88ac_522a_11e8_b109_8c85905f408erow0_col2\" class=\"data row0 col2\" >43.25%</td> \n",
       "    </tr>    <tr> \n",
       "        <th id=\"T_bd0b88ac_522a_11e8_b109_8c85905f408elevel0_row1\" class=\"row_heading level0 row1\" >11</th> \n",
       "        <td id=\"T_bd0b88ac_522a_11e8_b109_8c85905f408erow1_col0\" class=\"data row1 col0\" >Web Design</td> \n",
       "        <td id=\"T_bd0b88ac_522a_11e8_b109_8c85905f408erow1_col1\" class=\"data row1 col1\" >4818</td> \n",
       "        <td id=\"T_bd0b88ac_522a_11e8_b109_8c85905f408erow1_col2\" class=\"data row1 col2\" >38.62%</td> \n",
       "    </tr>    <tr> \n",
       "        <th id=\"T_bd0b88ac_522a_11e8_b109_8c85905f408elevel0_row2\" class=\"row_heading level0 row2\" >1</th> \n",
       "        <td id=\"T_bd0b88ac_522a_11e8_b109_8c85905f408erow2_col0\" class=\"data row2 col0\" >UI Design</td> \n",
       "        <td id=\"T_bd0b88ac_522a_11e8_b109_8c85905f408erow2_col1\" class=\"data row2 col1\" >4647</td> \n",
       "        <td id=\"T_bd0b88ac_522a_11e8_b109_8c85905f408erow2_col2\" class=\"data row2 col2\" >37.24%</td> \n",
       "    </tr>    <tr> \n",
       "        <th id=\"T_bd0b88ac_522a_11e8_b109_8c85905f408elevel0_row3\" class=\"row_heading level0 row3\" >23</th> \n",
       "        <td id=\"T_bd0b88ac_522a_11e8_b109_8c85905f408erow3_col0\" class=\"data row3 col0\" >Leadership</td> \n",
       "        <td id=\"T_bd0b88ac_522a_11e8_b109_8c85905f408erow3_col1\" class=\"data row3 col1\" >4488</td> \n",
       "        <td id=\"T_bd0b88ac_522a_11e8_b109_8c85905f408erow3_col2\" class=\"data row3 col2\" >35.97%</td> \n",
       "    </tr>    <tr> \n",
       "        <th id=\"T_bd0b88ac_522a_11e8_b109_8c85905f408elevel0_row4\" class=\"row_heading level0 row4\" >4</th> \n",
       "        <td id=\"T_bd0b88ac_522a_11e8_b109_8c85905f408erow4_col0\" class=\"data row4 col0\" >Motion Graphics</td> \n",
       "        <td id=\"T_bd0b88ac_522a_11e8_b109_8c85905f408erow4_col1\" class=\"data row4 col1\" >4460</td> \n",
       "        <td id=\"T_bd0b88ac_522a_11e8_b109_8c85905f408erow4_col2\" class=\"data row4 col2\" >35.75%</td> \n",
       "    </tr>    <tr> \n",
       "        <th id=\"T_bd0b88ac_522a_11e8_b109_8c85905f408elevel0_row5\" class=\"row_heading level0 row5\" >26</th> \n",
       "        <td id=\"T_bd0b88ac_522a_11e8_b109_8c85905f408erow5_col0\" class=\"data row5 col0\" >Public Speaking</td> \n",
       "        <td id=\"T_bd0b88ac_522a_11e8_b109_8c85905f408erow5_col1\" class=\"data row5 col1\" >4375</td> \n",
       "        <td id=\"T_bd0b88ac_522a_11e8_b109_8c85905f408erow5_col2\" class=\"data row5 col2\" >35.06%</td> \n",
       "    </tr>    <tr> \n",
       "        <th id=\"T_bd0b88ac_522a_11e8_b109_8c85905f408elevel0_row6\" class=\"row_heading level0 row6\" >18</th> \n",
       "        <td id=\"T_bd0b88ac_522a_11e8_b109_8c85905f408erow6_col0\" class=\"data row6 col0\" >Coding</td> \n",
       "        <td id=\"T_bd0b88ac_522a_11e8_b109_8c85905f408erow6_col1\" class=\"data row6 col1\" >4353</td> \n",
       "        <td id=\"T_bd0b88ac_522a_11e8_b109_8c85905f408erow6_col2\" class=\"data row6 col2\" >34.89%</td> \n",
       "    </tr>    <tr> \n",
       "        <th id=\"T_bd0b88ac_522a_11e8_b109_8c85905f408elevel0_row7\" class=\"row_heading level0 row7\" >6</th> \n",
       "        <td id=\"T_bd0b88ac_522a_11e8_b109_8c85905f408erow7_col0\" class=\"data row7 col0\" >Interaction Design</td> \n",
       "        <td id=\"T_bd0b88ac_522a_11e8_b109_8c85905f408erow7_col1\" class=\"data row7 col1\" >4117</td> \n",
       "        <td id=\"T_bd0b88ac_522a_11e8_b109_8c85905f408erow7_col2\" class=\"data row7 col2\" >33.00%</td> \n",
       "    </tr>    <tr> \n",
       "        <th id=\"T_bd0b88ac_522a_11e8_b109_8c85905f408elevel0_row8\" class=\"row_heading level0 row8\" >5</th> \n",
       "        <td id=\"T_bd0b88ac_522a_11e8_b109_8c85905f408erow8_col0\" class=\"data row8 col0\" >Writing</td> \n",
       "        <td id=\"T_bd0b88ac_522a_11e8_b109_8c85905f408erow8_col1\" class=\"data row8 col1\" >3686</td> \n",
       "        <td id=\"T_bd0b88ac_522a_11e8_b109_8c85905f408erow8_col2\" class=\"data row8 col2\" >29.54%</td> \n",
       "    </tr>    <tr> \n",
       "        <th id=\"T_bd0b88ac_522a_11e8_b109_8c85905f408elevel0_row9\" class=\"row_heading level0 row9\" >9</th> \n",
       "        <td id=\"T_bd0b88ac_522a_11e8_b109_8c85905f408erow9_col0\" class=\"data row9 col0\" >Photography</td> \n",
       "        <td id=\"T_bd0b88ac_522a_11e8_b109_8c85905f408erow9_col1\" class=\"data row9 col1\" >3661</td> \n",
       "        <td id=\"T_bd0b88ac_522a_11e8_b109_8c85905f408erow9_col2\" class=\"data row9 col2\" >29.34%</td> \n",
       "    </tr>    <tr> \n",
       "        <th id=\"T_bd0b88ac_522a_11e8_b109_8c85905f408elevel0_row10\" class=\"row_heading level0 row10\" >19</th> \n",
       "        <td id=\"T_bd0b88ac_522a_11e8_b109_8c85905f408erow10_col0\" class=\"data row10 col0\" >Animation</td> \n",
       "        <td id=\"T_bd0b88ac_522a_11e8_b109_8c85905f408erow10_col1\" class=\"data row10 col1\" >3617</td> \n",
       "        <td id=\"T_bd0b88ac_522a_11e8_b109_8c85905f408erow10_col2\" class=\"data row10 col2\" >28.99%</td> \n",
       "    </tr>    <tr> \n",
       "        <th id=\"T_bd0b88ac_522a_11e8_b109_8c85905f408elevel0_row11\" class=\"row_heading level0 row11\" >8</th> \n",
       "        <td id=\"T_bd0b88ac_522a_11e8_b109_8c85905f408erow11_col0\" class=\"data row11 col0\" >Strategy</td> \n",
       "        <td id=\"T_bd0b88ac_522a_11e8_b109_8c85905f408erow11_col1\" class=\"data row11 col1\" >3604</td> \n",
       "        <td id=\"T_bd0b88ac_522a_11e8_b109_8c85905f408erow11_col2\" class=\"data row11 col2\" >28.89%</td> \n",
       "    </tr>    <tr> \n",
       "        <th id=\"T_bd0b88ac_522a_11e8_b109_8c85905f408elevel0_row12\" class=\"row_heading level0 row12\" >14</th> \n",
       "        <td id=\"T_bd0b88ac_522a_11e8_b109_8c85905f408erow12_col0\" class=\"data row12 col0\" >Product Design</td> \n",
       "        <td id=\"T_bd0b88ac_522a_11e8_b109_8c85905f408erow12_col1\" class=\"data row12 col1\" >3576</td> \n",
       "        <td id=\"T_bd0b88ac_522a_11e8_b109_8c85905f408erow12_col2\" class=\"data row12 col2\" >28.66%</td> \n",
       "    </tr>    <tr> \n",
       "        <th id=\"T_bd0b88ac_522a_11e8_b109_8c85905f408elevel0_row13\" class=\"row_heading level0 row13\" >30</th> \n",
       "        <td id=\"T_bd0b88ac_522a_11e8_b109_8c85905f408erow13_col0\" class=\"data row13 col0\" >Business</td> \n",
       "        <td id=\"T_bd0b88ac_522a_11e8_b109_8c85905f408erow13_col1\" class=\"data row13 col1\" >3554</td> \n",
       "        <td id=\"T_bd0b88ac_522a_11e8_b109_8c85905f408erow13_col2\" class=\"data row13 col2\" >28.48%</td> \n",
       "    </tr>    <tr> \n",
       "        <th id=\"T_bd0b88ac_522a_11e8_b109_8c85905f408elevel0_row14\" class=\"row_heading level0 row14\" >7</th> \n",
       "        <td id=\"T_bd0b88ac_522a_11e8_b109_8c85905f408erow14_col0\" class=\"data row14 col0\" >Brainstorming and Ideation</td> \n",
       "        <td id=\"T_bd0b88ac_522a_11e8_b109_8c85905f408erow14_col1\" class=\"data row14 col1\" >3416</td> \n",
       "        <td id=\"T_bd0b88ac_522a_11e8_b109_8c85905f408erow14_col2\" class=\"data row14 col2\" >27.38%</td> \n",
       "    </tr>    <tr> \n",
       "        <th id=\"T_bd0b88ac_522a_11e8_b109_8c85905f408elevel0_row15\" class=\"row_heading level0 row15\" >27</th> \n",
       "        <td id=\"T_bd0b88ac_522a_11e8_b109_8c85905f408erow15_col0\" class=\"data row15 col0\" >Drawing or Painting</td> \n",
       "        <td id=\"T_bd0b88ac_522a_11e8_b109_8c85905f408erow15_col1\" class=\"data row15 col1\" >3395</td> \n",
       "        <td id=\"T_bd0b88ac_522a_11e8_b109_8c85905f408erow15_col2\" class=\"data row15 col2\" >27.21%</td> \n",
       "    </tr>    <tr> \n",
       "        <th id=\"T_bd0b88ac_522a_11e8_b109_8c85905f408elevel0_row16\" class=\"row_heading level0 row16\" >17</th> \n",
       "        <td id=\"T_bd0b88ac_522a_11e8_b109_8c85905f408erow16_col0\" class=\"data row16 col0\" >Project Management</td> \n",
       "        <td id=\"T_bd0b88ac_522a_11e8_b109_8c85905f408erow16_col1\" class=\"data row16 col1\" >3071</td> \n",
       "        <td id=\"T_bd0b88ac_522a_11e8_b109_8c85905f408erow16_col2\" class=\"data row16 col2\" >24.61%</td> \n",
       "    </tr>    <tr> \n",
       "        <th id=\"T_bd0b88ac_522a_11e8_b109_8c85905f408elevel0_row17\" class=\"row_heading level0 row17\" >0</th> \n",
       "        <td id=\"T_bd0b88ac_522a_11e8_b109_8c85905f408erow17_col0\" class=\"data row17 col0\" >Mentoring</td> \n",
       "        <td id=\"T_bd0b88ac_522a_11e8_b109_8c85905f408erow17_col1\" class=\"data row17 col1\" >2848</td> \n",
       "        <td id=\"T_bd0b88ac_522a_11e8_b109_8c85905f408erow17_col2\" class=\"data row17 col2\" >22.83%</td> \n",
       "    </tr>    <tr> \n",
       "        <th id=\"T_bd0b88ac_522a_11e8_b109_8c85905f408elevel0_row18\" class=\"row_heading level0 row18\" >3</th> \n",
       "        <td id=\"T_bd0b88ac_522a_11e8_b109_8c85905f408erow18_col0\" class=\"data row18 col0\" >Social Impact Design</td> \n",
       "        <td id=\"T_bd0b88ac_522a_11e8_b109_8c85905f408erow18_col1\" class=\"data row18 col1\" >2842</td> \n",
       "        <td id=\"T_bd0b88ac_522a_11e8_b109_8c85905f408erow18_col2\" class=\"data row18 col2\" >22.78%</td> \n",
       "    </tr>    <tr> \n",
       "        <th id=\"T_bd0b88ac_522a_11e8_b109_8c85905f408elevel0_row19\" class=\"row_heading level0 row19\" >29</th> \n",
       "        <td id=\"T_bd0b88ac_522a_11e8_b109_8c85905f408erow19_col0\" class=\"data row19 col0\" >Social Media</td> \n",
       "        <td id=\"T_bd0b88ac_522a_11e8_b109_8c85905f408erow19_col1\" class=\"data row19 col1\" >2292</td> \n",
       "        <td id=\"T_bd0b88ac_522a_11e8_b109_8c85905f408erow19_col2\" class=\"data row19 col2\" >18.37%</td> \n",
       "    </tr>    <tr> \n",
       "        <th id=\"T_bd0b88ac_522a_11e8_b109_8c85905f408elevel0_row20\" class=\"row_heading level0 row20\" >21</th> \n",
       "        <td id=\"T_bd0b88ac_522a_11e8_b109_8c85905f408erow20_col0\" class=\"data row20 col0\" >Research</td> \n",
       "        <td id=\"T_bd0b88ac_522a_11e8_b109_8c85905f408erow20_col1\" class=\"data row20 col1\" >2281</td> \n",
       "        <td id=\"T_bd0b88ac_522a_11e8_b109_8c85905f408erow20_col2\" class=\"data row20 col2\" >18.28%</td> \n",
       "    </tr>    <tr> \n",
       "        <th id=\"T_bd0b88ac_522a_11e8_b109_8c85905f408elevel0_row21\" class=\"row_heading level0 row21\" >16</th> \n",
       "        <td id=\"T_bd0b88ac_522a_11e8_b109_8c85905f408erow21_col0\" class=\"data row21 col0\" >VR or AR Design</td> \n",
       "        <td id=\"T_bd0b88ac_522a_11e8_b109_8c85905f408erow21_col1\" class=\"data row21 col1\" >2261</td> \n",
       "        <td id=\"T_bd0b88ac_522a_11e8_b109_8c85905f408erow21_col2\" class=\"data row21 col2\" >18.12%</td> \n",
       "    </tr>    <tr> \n",
       "        <th id=\"T_bd0b88ac_522a_11e8_b109_8c85905f408elevel0_row22\" class=\"row_heading level0 row22\" >10</th> \n",
       "        <td id=\"T_bd0b88ac_522a_11e8_b109_8c85905f408erow22_col0\" class=\"data row22 col0\" >Data Analysis</td> \n",
       "        <td id=\"T_bd0b88ac_522a_11e8_b109_8c85905f408erow22_col1\" class=\"data row22 col1\" >1981</td> \n",
       "        <td id=\"T_bd0b88ac_522a_11e8_b109_8c85905f408erow22_col2\" class=\"data row22 col2\" >15.88%</td> \n",
       "    </tr>    <tr> \n",
       "        <th id=\"T_bd0b88ac_522a_11e8_b109_8c85905f408elevel0_row23\" class=\"row_heading level0 row23\" >15</th> \n",
       "        <td id=\"T_bd0b88ac_522a_11e8_b109_8c85905f408erow23_col0\" class=\"data row23 col0\" >Relationship Management</td> \n",
       "        <td id=\"T_bd0b88ac_522a_11e8_b109_8c85905f408erow23_col1\" class=\"data row23 col1\" >1888</td> \n",
       "        <td id=\"T_bd0b88ac_522a_11e8_b109_8c85905f408erow23_col2\" class=\"data row23 col2\" >15.13%</td> \n",
       "    </tr>    <tr> \n",
       "        <th id=\"T_bd0b88ac_522a_11e8_b109_8c85905f408elevel0_row24\" class=\"row_heading level0 row24\" >28</th> \n",
       "        <td id=\"T_bd0b88ac_522a_11e8_b109_8c85905f408erow24_col0\" class=\"data row24 col0\" >Service Design</td> \n",
       "        <td id=\"T_bd0b88ac_522a_11e8_b109_8c85905f408erow24_col1\" class=\"data row24 col1\" >1667</td> \n",
       "        <td id=\"T_bd0b88ac_522a_11e8_b109_8c85905f408erow24_col2\" class=\"data row24 col2\" >13.36%</td> \n",
       "    </tr>    <tr> \n",
       "        <th id=\"T_bd0b88ac_522a_11e8_b109_8c85905f408elevel0_row25\" class=\"row_heading level0 row25\" >2</th> \n",
       "        <td id=\"T_bd0b88ac_522a_11e8_b109_8c85905f408erow25_col0\" class=\"data row25 col0\" >AI or Algorithm Design</td> \n",
       "        <td id=\"T_bd0b88ac_522a_11e8_b109_8c85905f408erow25_col1\" class=\"data row25 col1\" >1553</td> \n",
       "        <td id=\"T_bd0b88ac_522a_11e8_b109_8c85905f408erow25_col2\" class=\"data row25 col2\" >12.45%</td> \n",
       "    </tr>    <tr> \n",
       "        <th id=\"T_bd0b88ac_522a_11e8_b109_8c85905f408elevel0_row26\" class=\"row_heading level0 row26\" >25</th> \n",
       "        <td id=\"T_bd0b88ac_522a_11e8_b109_8c85905f408erow26_col0\" class=\"data row26 col0\" >Diversity and Inclusion</td> \n",
       "        <td id=\"T_bd0b88ac_522a_11e8_b109_8c85905f408erow26_col1\" class=\"data row26 col1\" >1539</td> \n",
       "        <td id=\"T_bd0b88ac_522a_11e8_b109_8c85905f408erow26_col2\" class=\"data row26 col2\" >12.33%</td> \n",
       "    </tr>    <tr> \n",
       "        <th id=\"T_bd0b88ac_522a_11e8_b109_8c85905f408elevel0_row27\" class=\"row_heading level0 row27\" >22</th> \n",
       "        <td id=\"T_bd0b88ac_522a_11e8_b109_8c85905f408erow27_col0\" class=\"data row27 col0\" >SEO/SEM</td> \n",
       "        <td id=\"T_bd0b88ac_522a_11e8_b109_8c85905f408erow27_col1\" class=\"data row27 col1\" >1289</td> \n",
       "        <td id=\"T_bd0b88ac_522a_11e8_b109_8c85905f408erow27_col2\" class=\"data row27 col2\" >10.33%</td> \n",
       "    </tr>    <tr> \n",
       "        <th id=\"T_bd0b88ac_522a_11e8_b109_8c85905f408elevel0_row28\" class=\"row_heading level0 row28\" >13</th> \n",
       "        <td id=\"T_bd0b88ac_522a_11e8_b109_8c85905f408erow28_col0\" class=\"data row28 col0\" >Facilitation</td> \n",
       "        <td id=\"T_bd0b88ac_522a_11e8_b109_8c85905f408erow28_col1\" class=\"data row28 col1\" >1138</td> \n",
       "        <td id=\"T_bd0b88ac_522a_11e8_b109_8c85905f408erow28_col2\" class=\"data row28 col2\" >9.12%</td> \n",
       "    </tr>    <tr> \n",
       "        <th id=\"T_bd0b88ac_522a_11e8_b109_8c85905f408elevel0_row29\" class=\"row_heading level0 row29\" >12</th> \n",
       "        <td id=\"T_bd0b88ac_522a_11e8_b109_8c85905f408erow29_col0\" class=\"data row29 col0\" >Sales</td> \n",
       "        <td id=\"T_bd0b88ac_522a_11e8_b109_8c85905f408erow29_col1\" class=\"data row29 col1\" >1020</td> \n",
       "        <td id=\"T_bd0b88ac_522a_11e8_b109_8c85905f408erow29_col2\" class=\"data row29 col2\" >8.18%</td> \n",
       "    </tr>    <tr> \n",
       "        <th id=\"T_bd0b88ac_522a_11e8_b109_8c85905f408elevel0_row30\" class=\"row_heading level0 row30\" >24</th> \n",
       "        <td id=\"T_bd0b88ac_522a_11e8_b109_8c85905f408erow30_col0\" class=\"data row30 col0\" >Engineering</td> \n",
       "        <td id=\"T_bd0b88ac_522a_11e8_b109_8c85905f408erow30_col1\" class=\"data row30 col1\" >582</td> \n",
       "        <td id=\"T_bd0b88ac_522a_11e8_b109_8c85905f408erow30_col2\" class=\"data row30 col2\" >4.66%</td> \n",
       "    </tr></tbody> \n",
       "</table> "
      ],
      "text/plain": [
       "<pandas.io.formats.style.Styler at 0x1a150f6240>"
      ]
     },
     "metadata": {},
     "output_type": "display_data"
    },
    {
     "data": {
      "text/plain": [
       "'V_34 : I am:'"
      ]
     },
     "metadata": {},
     "output_type": "display_data"
    },
    {
     "data": {
      "text/html": [
       "<style  type=\"text/css\" >\n",
       "</style>  \n",
       "<table id=\"T_bd0d1d02_522a_11e8_85e9_8c85905f408e\" > \n",
       "<thead>    <tr> \n",
       "        <th class=\"blank level0\" ></th> \n",
       "        <th class=\"col_heading level0 col0\" >Options</th> \n",
       "        <th class=\"col_heading level0 col1\" >Count</th> \n",
       "        <th class=\"col_heading level0 col2\" >Percent</th> \n",
       "    </tr></thead> \n",
       "<tbody>    <tr> \n",
       "        <th id=\"T_bd0d1d02_522a_11e8_85e9_8c85905f408elevel0_row0\" class=\"row_heading level0 row0\" >0</th> \n",
       "        <td id=\"T_bd0d1d02_522a_11e8_85e9_8c85905f408erow0_col0\" class=\"data row0 col0\" >Open to opportunities, but not actively looking</td> \n",
       "        <td id=\"T_bd0d1d02_522a_11e8_85e9_8c85905f408erow0_col1\" class=\"data row0 col1\" >5662</td> \n",
       "        <td id=\"T_bd0d1d02_522a_11e8_85e9_8c85905f408erow0_col2\" class=\"data row0 col2\" >45.38%</td> \n",
       "    </tr>    <tr> \n",
       "        <th id=\"T_bd0d1d02_522a_11e8_85e9_8c85905f408elevel0_row1\" class=\"row_heading level0 row1\" >1</th> \n",
       "        <td id=\"T_bd0d1d02_522a_11e8_85e9_8c85905f408erow1_col0\" class=\"data row1 col0\" >Not interested in a new job right now</td> \n",
       "        <td id=\"T_bd0d1d02_522a_11e8_85e9_8c85905f408erow1_col1\" class=\"data row1 col1\" >2851</td> \n",
       "        <td id=\"T_bd0d1d02_522a_11e8_85e9_8c85905f408erow1_col2\" class=\"data row1 col2\" >22.85%</td> \n",
       "    </tr>    <tr> \n",
       "        <th id=\"T_bd0d1d02_522a_11e8_85e9_8c85905f408elevel0_row2\" class=\"row_heading level0 row2\" >2</th> \n",
       "        <td id=\"T_bd0d1d02_522a_11e8_85e9_8c85905f408erow2_col0\" class=\"data row2 col0\" >Casually looking for the right opportunity</td> \n",
       "        <td id=\"T_bd0d1d02_522a_11e8_85e9_8c85905f408erow2_col1\" class=\"data row2 col1\" >2591</td> \n",
       "        <td id=\"T_bd0d1d02_522a_11e8_85e9_8c85905f408erow2_col2\" class=\"data row2 col2\" >20.77%</td> \n",
       "    </tr>    <tr> \n",
       "        <th id=\"T_bd0d1d02_522a_11e8_85e9_8c85905f408elevel0_row3\" class=\"row_heading level0 row3\" >3</th> \n",
       "        <td id=\"T_bd0d1d02_522a_11e8_85e9_8c85905f408erow3_col0\" class=\"data row3 col0\" >Working hard to find my next job</td> \n",
       "        <td id=\"T_bd0d1d02_522a_11e8_85e9_8c85905f408erow3_col1\" class=\"data row3 col1\" >1254</td> \n",
       "        <td id=\"T_bd0d1d02_522a_11e8_85e9_8c85905f408erow3_col2\" class=\"data row3 col2\" >10.05%</td> \n",
       "    </tr>    <tr> \n",
       "        <th id=\"T_bd0d1d02_522a_11e8_85e9_8c85905f408elevel0_row4\" class=\"row_heading level0 row4\" >4</th> \n",
       "        <td id=\"T_bd0d1d02_522a_11e8_85e9_8c85905f408erow4_col0\" class=\"data row4 col0\" >Not sure</td> \n",
       "        <td id=\"T_bd0d1d02_522a_11e8_85e9_8c85905f408erow4_col1\" class=\"data row4 col1\" >119</td> \n",
       "        <td id=\"T_bd0d1d02_522a_11e8_85e9_8c85905f408erow4_col2\" class=\"data row4 col2\" >0.95%</td> \n",
       "    </tr></tbody> \n",
       "</table> "
      ],
      "text/plain": [
       "<pandas.io.formats.style.Styler at 0x1a14abeda0>"
      ]
     },
     "metadata": {},
     "output_type": "display_data"
    },
    {
     "data": {
      "text/plain": [
       "'V_38 : I am:'"
      ]
     },
     "metadata": {},
     "output_type": "display_data"
    },
    {
     "data": {
      "text/html": [
       "<style  type=\"text/css\" >\n",
       "</style>  \n",
       "<table id=\"T_bd0e440c_522a_11e8_8a81_8c85905f408e\" > \n",
       "<thead>    <tr> \n",
       "        <th class=\"blank level0\" ></th> \n",
       "        <th class=\"col_heading level0 col0\" >Options</th> \n",
       "        <th class=\"col_heading level0 col1\" >Count</th> \n",
       "        <th class=\"col_heading level0 col2\" >Percent</th> \n",
       "    </tr></thead> \n",
       "<tbody>    <tr> \n",
       "        <th id=\"T_bd0e440c_522a_11e8_8a81_8c85905f408elevel0_row0\" class=\"row_heading level0 row0\" >0</th> \n",
       "        <td id=\"T_bd0e440c_522a_11e8_8a81_8c85905f408erow0_col0\" class=\"data row0 col0\" >Female</td> \n",
       "        <td id=\"T_bd0e440c_522a_11e8_8a81_8c85905f408erow0_col1\" class=\"data row0 col1\" >6718</td> \n",
       "        <td id=\"T_bd0e440c_522a_11e8_8a81_8c85905f408erow0_col2\" class=\"data row0 col2\" >53.84%</td> \n",
       "    </tr>    <tr> \n",
       "        <th id=\"T_bd0e440c_522a_11e8_8a81_8c85905f408elevel0_row1\" class=\"row_heading level0 row1\" >1</th> \n",
       "        <td id=\"T_bd0e440c_522a_11e8_8a81_8c85905f408erow1_col0\" class=\"data row1 col0\" >Male</td> \n",
       "        <td id=\"T_bd0e440c_522a_11e8_8a81_8c85905f408erow1_col1\" class=\"data row1 col1\" >5558</td> \n",
       "        <td id=\"T_bd0e440c_522a_11e8_8a81_8c85905f408erow1_col2\" class=\"data row1 col2\" >44.55%</td> \n",
       "    </tr>    <tr> \n",
       "        <th id=\"T_bd0e440c_522a_11e8_8a81_8c85905f408elevel0_row2\" class=\"row_heading level0 row2\" >2</th> \n",
       "        <td id=\"T_bd0e440c_522a_11e8_8a81_8c85905f408erow2_col0\" class=\"data row2 col0\" >Prefer not to say</td> \n",
       "        <td id=\"T_bd0e440c_522a_11e8_8a81_8c85905f408erow2_col1\" class=\"data row2 col1\" >98</td> \n",
       "        <td id=\"T_bd0e440c_522a_11e8_8a81_8c85905f408erow2_col2\" class=\"data row2 col2\" >0.79%</td> \n",
       "    </tr>    <tr> \n",
       "        <th id=\"T_bd0e440c_522a_11e8_8a81_8c85905f408elevel0_row3\" class=\"row_heading level0 row3\" >3</th> \n",
       "        <td id=\"T_bd0e440c_522a_11e8_8a81_8c85905f408erow3_col0\" class=\"data row3 col0\" >Non-binary or third gender</td> \n",
       "        <td id=\"T_bd0e440c_522a_11e8_8a81_8c85905f408erow3_col1\" class=\"data row3 col1\" >95</td> \n",
       "        <td id=\"T_bd0e440c_522a_11e8_8a81_8c85905f408erow3_col2\" class=\"data row3 col2\" >0.76%</td> \n",
       "    </tr>    <tr> \n",
       "        <th id=\"T_bd0e440c_522a_11e8_8a81_8c85905f408elevel0_row4\" class=\"row_heading level0 row4\" >4</th> \n",
       "        <td id=\"T_bd0e440c_522a_11e8_8a81_8c85905f408erow4_col0\" class=\"data row4 col0\" >Other</td> \n",
       "        <td id=\"T_bd0e440c_522a_11e8_8a81_8c85905f408erow4_col1\" class=\"data row4 col1\" >8</td> \n",
       "        <td id=\"T_bd0e440c_522a_11e8_8a81_8c85905f408erow4_col2\" class=\"data row4 col2\" >0.06%</td> \n",
       "    </tr></tbody> \n",
       "</table> "
      ],
      "text/plain": [
       "<pandas.io.formats.style.Styler at 0x1a150f6400>"
      ]
     },
     "metadata": {},
     "output_type": "display_data"
    },
    {
     "data": {
      "text/plain": [
       "'V_39 : I consider myself:'"
      ]
     },
     "metadata": {},
     "output_type": "display_data"
    },
    {
     "data": {
      "text/html": [
       "<style  type=\"text/css\" >\n",
       "</style>  \n",
       "<table id=\"T_bd0f8c2c_522a_11e8_97a0_8c85905f408e\" > \n",
       "<thead>    <tr> \n",
       "        <th class=\"blank level0\" ></th> \n",
       "        <th class=\"col_heading level0 col0\" >Options</th> \n",
       "        <th class=\"col_heading level0 col1\" >Count</th> \n",
       "        <th class=\"col_heading level0 col2\" >Percent</th> \n",
       "    </tr></thead> \n",
       "<tbody>    <tr> \n",
       "        <th id=\"T_bd0f8c2c_522a_11e8_97a0_8c85905f408elevel0_row0\" class=\"row_heading level0 row0\" >0</th> \n",
       "        <td id=\"T_bd0f8c2c_522a_11e8_97a0_8c85905f408erow0_col0\" class=\"data row0 col0\" >Not LGBTQ</td> \n",
       "        <td id=\"T_bd0f8c2c_522a_11e8_97a0_8c85905f408erow0_col1\" class=\"data row0 col1\" >10018</td> \n",
       "        <td id=\"T_bd0f8c2c_522a_11e8_97a0_8c85905f408erow0_col2\" class=\"data row0 col2\" >80.29%</td> \n",
       "    </tr>    <tr> \n",
       "        <th id=\"T_bd0f8c2c_522a_11e8_97a0_8c85905f408elevel0_row1\" class=\"row_heading level0 row1\" >1</th> \n",
       "        <td id=\"T_bd0f8c2c_522a_11e8_97a0_8c85905f408erow1_col0\" class=\"data row1 col0\" >LGBTQ</td> \n",
       "        <td id=\"T_bd0f8c2c_522a_11e8_97a0_8c85905f408erow1_col1\" class=\"data row1 col1\" >1418</td> \n",
       "        <td id=\"T_bd0f8c2c_522a_11e8_97a0_8c85905f408erow1_col2\" class=\"data row1 col2\" >11.36%</td> \n",
       "    </tr>    <tr> \n",
       "        <th id=\"T_bd0f8c2c_522a_11e8_97a0_8c85905f408elevel0_row2\" class=\"row_heading level0 row2\" >2</th> \n",
       "        <td id=\"T_bd0f8c2c_522a_11e8_97a0_8c85905f408erow2_col0\" class=\"data row2 col0\" >Prefer not to say</td> \n",
       "        <td id=\"T_bd0f8c2c_522a_11e8_97a0_8c85905f408erow2_col1\" class=\"data row2 col1\" >1041</td> \n",
       "        <td id=\"T_bd0f8c2c_522a_11e8_97a0_8c85905f408erow2_col2\" class=\"data row2 col2\" >8.34%</td> \n",
       "    </tr></tbody> \n",
       "</table> "
      ],
      "text/plain": [
       "<pandas.io.formats.style.Styler at 0x1a14ab4198>"
      ]
     },
     "metadata": {},
     "output_type": "display_data"
    },
    {
     "data": {
      "text/plain": [
       "'V_40 : My ethnicity is:'"
      ]
     },
     "metadata": {},
     "output_type": "display_data"
    },
    {
     "data": {
      "text/html": [
       "<style  type=\"text/css\" >\n",
       "</style>  \n",
       "<table id=\"T_bd13918c_522a_11e8_806a_8c85905f408e\" > \n",
       "<thead>    <tr> \n",
       "        <th class=\"blank level0\" ></th> \n",
       "        <th class=\"col_heading level0 col0\" >Options</th> \n",
       "        <th class=\"col_heading level0 col1\" >Count</th> \n",
       "        <th class=\"col_heading level0 col2\" >Percent</th> \n",
       "    </tr></thead> \n",
       "<tbody>    <tr> \n",
       "        <th id=\"T_bd13918c_522a_11e8_806a_8c85905f408elevel0_row0\" class=\"row_heading level0 row0\" >7</th> \n",
       "        <td id=\"T_bd13918c_522a_11e8_806a_8c85905f408erow0_col0\" class=\"data row0 col0\" >White or Caucasian</td> \n",
       "        <td id=\"T_bd13918c_522a_11e8_806a_8c85905f408erow0_col1\" class=\"data row0 col1\" >9215</td> \n",
       "        <td id=\"T_bd13918c_522a_11e8_806a_8c85905f408erow0_col2\" class=\"data row0 col2\" >73.86%</td> \n",
       "    </tr>    <tr> \n",
       "        <th id=\"T_bd13918c_522a_11e8_806a_8c85905f408elevel0_row1\" class=\"row_heading level0 row1\" >3</th> \n",
       "        <td id=\"T_bd13918c_522a_11e8_806a_8c85905f408erow1_col0\" class=\"data row1 col0\" >Asian</td> \n",
       "        <td id=\"T_bd13918c_522a_11e8_806a_8c85905f408erow1_col1\" class=\"data row1 col1\" >1517</td> \n",
       "        <td id=\"T_bd13918c_522a_11e8_806a_8c85905f408erow1_col2\" class=\"data row1 col2\" >12.16%</td> \n",
       "    </tr>    <tr> \n",
       "        <th id=\"T_bd13918c_522a_11e8_806a_8c85905f408elevel0_row2\" class=\"row_heading level0 row2\" >6</th> \n",
       "        <td id=\"T_bd13918c_522a_11e8_806a_8c85905f408erow2_col0\" class=\"data row2 col0\" >Latina, Latino, Latinx, or Hispanic</td> \n",
       "        <td id=\"T_bd13918c_522a_11e8_806a_8c85905f408erow2_col1\" class=\"data row2 col1\" >1222</td> \n",
       "        <td id=\"T_bd13918c_522a_11e8_806a_8c85905f408erow2_col2\" class=\"data row2 col2\" >9.79%</td> \n",
       "    </tr>    <tr> \n",
       "        <th id=\"T_bd13918c_522a_11e8_806a_8c85905f408elevel0_row3\" class=\"row_heading level0 row3\" >1</th> \n",
       "        <td id=\"T_bd13918c_522a_11e8_806a_8c85905f408erow3_col0\" class=\"data row3 col0\" >Black or African American</td> \n",
       "        <td id=\"T_bd13918c_522a_11e8_806a_8c85905f408erow3_col1\" class=\"data row3 col1\" >500</td> \n",
       "        <td id=\"T_bd13918c_522a_11e8_806a_8c85905f408erow3_col2\" class=\"data row3 col2\" >4.01%</td> \n",
       "    </tr>    <tr> \n",
       "        <th id=\"T_bd13918c_522a_11e8_806a_8c85905f408elevel0_row4\" class=\"row_heading level0 row4\" >0</th> \n",
       "        <td id=\"T_bd13918c_522a_11e8_806a_8c85905f408erow4_col0\" class=\"data row4 col0\" >Other</td> \n",
       "        <td id=\"T_bd13918c_522a_11e8_806a_8c85905f408erow4_col1\" class=\"data row4 col1\" >362</td> \n",
       "        <td id=\"T_bd13918c_522a_11e8_806a_8c85905f408erow4_col2\" class=\"data row4 col2\" >2.90%</td> \n",
       "    </tr>    <tr> \n",
       "        <th id=\"T_bd13918c_522a_11e8_806a_8c85905f408elevel0_row5\" class=\"row_heading level0 row5\" >5</th> \n",
       "        <td id=\"T_bd13918c_522a_11e8_806a_8c85905f408erow5_col0\" class=\"data row5 col0\" >Prefer not to say</td> \n",
       "        <td id=\"T_bd13918c_522a_11e8_806a_8c85905f408erow5_col1\" class=\"data row5 col1\" >317</td> \n",
       "        <td id=\"T_bd13918c_522a_11e8_806a_8c85905f408erow5_col2\" class=\"data row5 col2\" >2.54%</td> \n",
       "    </tr>    <tr> \n",
       "        <th id=\"T_bd13918c_522a_11e8_806a_8c85905f408elevel0_row6\" class=\"row_heading level0 row6\" >4</th> \n",
       "        <td id=\"T_bd13918c_522a_11e8_806a_8c85905f408erow6_col0\" class=\"data row6 col0\" >Native American, First Nations, or First People</td> \n",
       "        <td id=\"T_bd13918c_522a_11e8_806a_8c85905f408erow6_col1\" class=\"data row6 col1\" >147</td> \n",
       "        <td id=\"T_bd13918c_522a_11e8_806a_8c85905f408erow6_col2\" class=\"data row6 col2\" >1.18%</td> \n",
       "    </tr>    <tr> \n",
       "        <th id=\"T_bd13918c_522a_11e8_806a_8c85905f408elevel0_row7\" class=\"row_heading level0 row7\" >2</th> \n",
       "        <td id=\"T_bd13918c_522a_11e8_806a_8c85905f408erow7_col0\" class=\"data row7 col0\" >Native Hawaiian or Pacific Islander</td> \n",
       "        <td id=\"T_bd13918c_522a_11e8_806a_8c85905f408erow7_col1\" class=\"data row7 col1\" >123</td> \n",
       "        <td id=\"T_bd13918c_522a_11e8_806a_8c85905f408erow7_col2\" class=\"data row7 col2\" >0.99%</td> \n",
       "    </tr></tbody> \n",
       "</table> "
      ],
      "text/plain": [
       "<pandas.io.formats.style.Styler at 0x1a14aa45f8>"
      ]
     },
     "metadata": {},
     "output_type": "display_data"
    },
    {
     "data": {
      "text/plain": [
       "'V_41 : The most critical issues and challenges currently facing design are (answer optional):'"
      ]
     },
     "metadata": {},
     "output_type": "display_data"
    },
    {
     "data": {
      "text/html": [
       "<style  type=\"text/css\" >\n",
       "</style>  \n",
       "<table id=\"T_bd1a18fe_522a_11e8_9cd5_8c85905f408e\" > \n",
       "<thead>    <tr> \n",
       "        <th class=\"blank level0\" ></th> \n",
       "        <th class=\"col_heading level0 col0\" >Options</th> \n",
       "        <th class=\"col_heading level0 col1\" >Count</th> \n",
       "        <th class=\"col_heading level0 col2\" >Percent</th> \n",
       "    </tr></thead> \n",
       "<tbody>    <tr> \n",
       "        <th id=\"T_bd1a18fe_522a_11e8_9cd5_8c85905f408elevel0_row0\" class=\"row_heading level0 row0\" >6</th> \n",
       "        <td id=\"T_bd1a18fe_522a_11e8_9cd5_8c85905f408erow0_col0\" class=\"data row0 col0\" >Design not having a \"seat at the table\"</td> \n",
       "        <td id=\"T_bd1a18fe_522a_11e8_9cd5_8c85905f408erow0_col1\" class=\"data row0 col1\" >5803</td> \n",
       "        <td id=\"T_bd1a18fe_522a_11e8_9cd5_8c85905f408erow0_col2\" class=\"data row0 col2\" >46.51%</td> \n",
       "    </tr>    <tr> \n",
       "        <th id=\"T_bd1a18fe_522a_11e8_9cd5_8c85905f408elevel0_row1\" class=\"row_heading level0 row1\" >5</th> \n",
       "        <td id=\"T_bd1a18fe_522a_11e8_9cd5_8c85905f408erow1_col0\" class=\"data row1 col0\" >Diversity in design and tech</td> \n",
       "        <td id=\"T_bd1a18fe_522a_11e8_9cd5_8c85905f408erow1_col1\" class=\"data row1 col1\" >5301</td> \n",
       "        <td id=\"T_bd1a18fe_522a_11e8_9cd5_8c85905f408erow1_col2\" class=\"data row1 col2\" >42.49%</td> \n",
       "    </tr>    <tr> \n",
       "        <th id=\"T_bd1a18fe_522a_11e8_9cd5_8c85905f408elevel0_row2\" class=\"row_heading level0 row2\" >13</th> \n",
       "        <td id=\"T_bd1a18fe_522a_11e8_9cd5_8c85905f408erow2_col0\" class=\"data row2 col0\" >Ethics in design</td> \n",
       "        <td id=\"T_bd1a18fe_522a_11e8_9cd5_8c85905f408erow2_col1\" class=\"data row2 col1\" >4847</td> \n",
       "        <td id=\"T_bd1a18fe_522a_11e8_9cd5_8c85905f408erow2_col2\" class=\"data row2 col2\" >38.85%</td> \n",
       "    </tr>    <tr> \n",
       "        <th id=\"T_bd1a18fe_522a_11e8_9cd5_8c85905f408elevel0_row3\" class=\"row_heading level0 row3\" >0</th> \n",
       "        <td id=\"T_bd1a18fe_522a_11e8_9cd5_8c85905f408erow3_col0\" class=\"data row3 col0\" >Education cost and equity of access</td> \n",
       "        <td id=\"T_bd1a18fe_522a_11e8_9cd5_8c85905f408erow3_col1\" class=\"data row3 col1\" >4317</td> \n",
       "        <td id=\"T_bd1a18fe_522a_11e8_9cd5_8c85905f408erow3_col2\" class=\"data row3 col2\" >34.60%</td> \n",
       "    </tr>    <tr> \n",
       "        <th id=\"T_bd1a18fe_522a_11e8_9cd5_8c85905f408elevel0_row4\" class=\"row_heading level0 row4\" >4</th> \n",
       "        <td id=\"T_bd1a18fe_522a_11e8_9cd5_8c85905f408erow4_col0\" class=\"data row4 col0\" >Consumer vs. social impact focus</td> \n",
       "        <td id=\"T_bd1a18fe_522a_11e8_9cd5_8c85905f408erow4_col1\" class=\"data row4 col1\" >3727</td> \n",
       "        <td id=\"T_bd1a18fe_522a_11e8_9cd5_8c85905f408erow4_col2\" class=\"data row4 col2\" >29.87%</td> \n",
       "    </tr>    <tr> \n",
       "        <th id=\"T_bd1a18fe_522a_11e8_9cd5_8c85905f408elevel0_row5\" class=\"row_heading level0 row5\" >11</th> \n",
       "        <td id=\"T_bd1a18fe_522a_11e8_9cd5_8c85905f408erow5_col0\" class=\"data row5 col0\" >Generational differences in the workforce</td> \n",
       "        <td id=\"T_bd1a18fe_522a_11e8_9cd5_8c85905f408erow5_col1\" class=\"data row5 col1\" >3589</td> \n",
       "        <td id=\"T_bd1a18fe_522a_11e8_9cd5_8c85905f408erow5_col2\" class=\"data row5 col2\" >28.76%</td> \n",
       "    </tr>    <tr> \n",
       "        <th id=\"T_bd1a18fe_522a_11e8_9cd5_8c85905f408elevel0_row6\" class=\"row_heading level0 row6\" >1</th> \n",
       "        <td id=\"T_bd1a18fe_522a_11e8_9cd5_8c85905f408erow6_col0\" class=\"data row6 col0\" >Environmental impacts of design</td> \n",
       "        <td id=\"T_bd1a18fe_522a_11e8_9cd5_8c85905f408erow6_col1\" class=\"data row6 col1\" >3358</td> \n",
       "        <td id=\"T_bd1a18fe_522a_11e8_9cd5_8c85905f408erow6_col2\" class=\"data row6 col2\" >26.91%</td> \n",
       "    </tr>    <tr> \n",
       "        <th id=\"T_bd1a18fe_522a_11e8_9cd5_8c85905f408elevel0_row7\" class=\"row_heading level0 row7\" >9</th> \n",
       "        <td id=\"T_bd1a18fe_522a_11e8_9cd5_8c85905f408erow7_col0\" class=\"data row7 col0\" >Algorithm bias</td> \n",
       "        <td id=\"T_bd1a18fe_522a_11e8_9cd5_8c85905f408erow7_col1\" class=\"data row7 col1\" >1961</td> \n",
       "        <td id=\"T_bd1a18fe_522a_11e8_9cd5_8c85905f408erow7_col2\" class=\"data row7 col2\" >15.72%</td> \n",
       "    </tr>    <tr> \n",
       "        <th id=\"T_bd1a18fe_522a_11e8_9cd5_8c85905f408elevel0_row8\" class=\"row_heading level0 row8\" >12</th> \n",
       "        <td id=\"T_bd1a18fe_522a_11e8_9cd5_8c85905f408erow8_col0\" class=\"data row8 col0\" >Advertising supported content model</td> \n",
       "        <td id=\"T_bd1a18fe_522a_11e8_9cd5_8c85905f408erow8_col1\" class=\"data row8 col1\" >1826</td> \n",
       "        <td id=\"T_bd1a18fe_522a_11e8_9cd5_8c85905f408erow8_col2\" class=\"data row8 col2\" >14.63%</td> \n",
       "    </tr>    <tr> \n",
       "        <th id=\"T_bd1a18fe_522a_11e8_9cd5_8c85905f408elevel0_row9\" class=\"row_heading level0 row9\" >14</th> \n",
       "        <td id=\"T_bd1a18fe_522a_11e8_9cd5_8c85905f408erow9_col0\" class=\"data row9 col0\" >Dark UX patterns</td> \n",
       "        <td id=\"T_bd1a18fe_522a_11e8_9cd5_8c85905f408erow9_col1\" class=\"data row9 col1\" >1725</td> \n",
       "        <td id=\"T_bd1a18fe_522a_11e8_9cd5_8c85905f408erow9_col2\" class=\"data row9 col2\" >13.83%</td> \n",
       "    </tr>    <tr> \n",
       "        <th id=\"T_bd1a18fe_522a_11e8_9cd5_8c85905f408elevel0_row10\" class=\"row_heading level0 row10\" >3</th> \n",
       "        <td id=\"T_bd1a18fe_522a_11e8_9cd5_8c85905f408erow10_col0\" class=\"data row10 col0\" >Human-machine interface limitations</td> \n",
       "        <td id=\"T_bd1a18fe_522a_11e8_9cd5_8c85905f408erow10_col1\" class=\"data row10 col1\" >1476</td> \n",
       "        <td id=\"T_bd1a18fe_522a_11e8_9cd5_8c85905f408erow10_col2\" class=\"data row10 col2\" >11.83%</td> \n",
       "    </tr>    <tr> \n",
       "        <th id=\"T_bd1a18fe_522a_11e8_9cd5_8c85905f408elevel0_row11\" class=\"row_heading level0 row11\" >7</th> \n",
       "        <td id=\"T_bd1a18fe_522a_11e8_9cd5_8c85905f408erow11_col0\" class=\"data row11 col0\" >Machine ethics</td> \n",
       "        <td id=\"T_bd1a18fe_522a_11e8_9cd5_8c85905f408erow11_col1\" class=\"data row11 col1\" >1386</td> \n",
       "        <td id=\"T_bd1a18fe_522a_11e8_9cd5_8c85905f408erow11_col2\" class=\"data row11 col2\" >11.11%</td> \n",
       "    </tr>    <tr> \n",
       "        <th id=\"T_bd1a18fe_522a_11e8_9cd5_8c85905f408elevel0_row12\" class=\"row_heading level0 row12\" >8</th> \n",
       "        <td id=\"T_bd1a18fe_522a_11e8_9cd5_8c85905f408erow12_col0\" class=\"data row12 col0\" >Software complexity</td> \n",
       "        <td id=\"T_bd1a18fe_522a_11e8_9cd5_8c85905f408erow12_col1\" class=\"data row12 col1\" >1350</td> \n",
       "        <td id=\"T_bd1a18fe_522a_11e8_9cd5_8c85905f408erow12_col2\" class=\"data row12 col2\" >10.82%</td> \n",
       "    </tr>    <tr> \n",
       "        <th id=\"T_bd1a18fe_522a_11e8_9cd5_8c85905f408elevel0_row13\" class=\"row_heading level0 row13\" >10</th> \n",
       "        <td id=\"T_bd1a18fe_522a_11e8_9cd5_8c85905f408erow13_col0\" class=\"data row13 col0\" >Trademark and patent issues</td> \n",
       "        <td id=\"T_bd1a18fe_522a_11e8_9cd5_8c85905f408erow13_col1\" class=\"data row13 col1\" >1162</td> \n",
       "        <td id=\"T_bd1a18fe_522a_11e8_9cd5_8c85905f408erow13_col2\" class=\"data row13 col2\" >9.31%</td> \n",
       "    </tr>    <tr> \n",
       "        <th id=\"T_bd1a18fe_522a_11e8_9cd5_8c85905f408elevel0_row14\" class=\"row_heading level0 row14\" >2</th> \n",
       "        <td id=\"T_bd1a18fe_522a_11e8_9cd5_8c85905f408erow14_col0\" class=\"data row14 col0\" >None of these</td> \n",
       "        <td id=\"T_bd1a18fe_522a_11e8_9cd5_8c85905f408erow14_col1\" class=\"data row14 col1\" >617</td> \n",
       "        <td id=\"T_bd1a18fe_522a_11e8_9cd5_8c85905f408erow14_col2\" class=\"data row14 col2\" >4.95%</td> \n",
       "    </tr></tbody> \n",
       "</table> "
      ],
      "text/plain": [
       "<pandas.io.formats.style.Styler at 0x1a1510c400>"
      ]
     },
     "metadata": {},
     "output_type": "display_data"
    },
    {
     "data": {
      "text/plain": [
       "'V_42 : The emerging trends and technologies that will have the biggest impact on design are (answer optional):'"
      ]
     },
     "metadata": {},
     "output_type": "display_data"
    },
    {
     "data": {
      "text/html": [
       "<style  type=\"text/css\" >\n",
       "</style>  \n",
       "<table id=\"T_bd220f14_522a_11e8_8805_8c85905f408e\" > \n",
       "<thead>    <tr> \n",
       "        <th class=\"blank level0\" ></th> \n",
       "        <th class=\"col_heading level0 col0\" >Options</th> \n",
       "        <th class=\"col_heading level0 col1\" >Count</th> \n",
       "        <th class=\"col_heading level0 col2\" >Percent</th> \n",
       "    </tr></thead> \n",
       "<tbody>    <tr> \n",
       "        <th id=\"T_bd220f14_522a_11e8_8805_8c85905f408elevel0_row0\" class=\"row_heading level0 row0\" >1</th> \n",
       "        <td id=\"T_bd220f14_522a_11e8_8805_8c85905f408erow0_col0\" class=\"data row0 col0\" >AI and machine learning</td> \n",
       "        <td id=\"T_bd220f14_522a_11e8_8805_8c85905f408erow0_col1\" class=\"data row0 col1\" >6660</td> \n",
       "        <td id=\"T_bd220f14_522a_11e8_8805_8c85905f408erow0_col2\" class=\"data row0 col2\" >53.38%</td> \n",
       "    </tr>    <tr> \n",
       "        <th id=\"T_bd220f14_522a_11e8_8805_8c85905f408elevel0_row1\" class=\"row_heading level0 row1\" >2</th> \n",
       "        <td id=\"T_bd220f14_522a_11e8_8805_8c85905f408erow1_col0\" class=\"data row1 col0\" >Augmented Reality</td> \n",
       "        <td id=\"T_bd220f14_522a_11e8_8805_8c85905f408erow1_col1\" class=\"data row1 col1\" >5076</td> \n",
       "        <td id=\"T_bd220f14_522a_11e8_8805_8c85905f408erow1_col2\" class=\"data row1 col2\" >40.68%</td> \n",
       "    </tr>    <tr> \n",
       "        <th id=\"T_bd220f14_522a_11e8_8805_8c85905f408elevel0_row2\" class=\"row_heading level0 row2\" >11</th> \n",
       "        <td id=\"T_bd220f14_522a_11e8_8805_8c85905f408erow2_col0\" class=\"data row2 col0\" >Virtual Reality</td> \n",
       "        <td id=\"T_bd220f14_522a_11e8_8805_8c85905f408erow2_col1\" class=\"data row2 col1\" >4815</td> \n",
       "        <td id=\"T_bd220f14_522a_11e8_8805_8c85905f408erow2_col2\" class=\"data row2 col2\" >38.59%</td> \n",
       "    </tr>    <tr> \n",
       "        <th id=\"T_bd220f14_522a_11e8_8805_8c85905f408elevel0_row3\" class=\"row_heading level0 row3\" >14</th> \n",
       "        <td id=\"T_bd220f14_522a_11e8_8805_8c85905f408erow3_col0\" class=\"data row3 col0\" >Behavior tracking and modeling</td> \n",
       "        <td id=\"T_bd220f14_522a_11e8_8805_8c85905f408erow3_col1\" class=\"data row3 col1\" >4334</td> \n",
       "        <td id=\"T_bd220f14_522a_11e8_8805_8c85905f408erow3_col2\" class=\"data row3 col2\" >34.74%</td> \n",
       "    </tr>    <tr> \n",
       "        <th id=\"T_bd220f14_522a_11e8_8805_8c85905f408elevel0_row4\" class=\"row_heading level0 row4\" >0</th> \n",
       "        <td id=\"T_bd220f14_522a_11e8_8805_8c85905f408erow4_col0\" class=\"data row4 col0\" >Internet of Things</td> \n",
       "        <td id=\"T_bd220f14_522a_11e8_8805_8c85905f408erow4_col1\" class=\"data row4 col1\" >3629</td> \n",
       "        <td id=\"T_bd220f14_522a_11e8_8805_8c85905f408erow4_col2\" class=\"data row4 col2\" >29.09%</td> \n",
       "    </tr>    <tr> \n",
       "        <th id=\"T_bd220f14_522a_11e8_8805_8c85905f408elevel0_row5\" class=\"row_heading level0 row5\" >19</th> \n",
       "        <td id=\"T_bd220f14_522a_11e8_8805_8c85905f408erow5_col0\" class=\"data row5 col0\" >Distributed teams and virtual workplace</td> \n",
       "        <td id=\"T_bd220f14_522a_11e8_8805_8c85905f408erow5_col1\" class=\"data row5 col1\" >3373</td> \n",
       "        <td id=\"T_bd220f14_522a_11e8_8805_8c85905f408erow5_col2\" class=\"data row5 col2\" >27.03%</td> \n",
       "    </tr>    <tr> \n",
       "        <th id=\"T_bd220f14_522a_11e8_8805_8c85905f408elevel0_row6\" class=\"row_heading level0 row6\" >7</th> \n",
       "        <td id=\"T_bd220f14_522a_11e8_8805_8c85905f408erow6_col0\" class=\"data row6 col0\" >3D printing</td> \n",
       "        <td id=\"T_bd220f14_522a_11e8_8805_8c85905f408erow6_col1\" class=\"data row6 col1\" >3313</td> \n",
       "        <td id=\"T_bd220f14_522a_11e8_8805_8c85905f408erow6_col2\" class=\"data row6 col2\" >26.55%</td> \n",
       "    </tr>    <tr> \n",
       "        <th id=\"T_bd220f14_522a_11e8_8805_8c85905f408elevel0_row7\" class=\"row_heading level0 row7\" >15</th> \n",
       "        <td id=\"T_bd220f14_522a_11e8_8805_8c85905f408erow7_col0\" class=\"data row7 col0\" >Democratization of design</td> \n",
       "        <td id=\"T_bd220f14_522a_11e8_8805_8c85905f408erow7_col1\" class=\"data row7 col1\" >3275</td> \n",
       "        <td id=\"T_bd220f14_522a_11e8_8805_8c85905f408erow7_col2\" class=\"data row7 col2\" >26.25%</td> \n",
       "    </tr>    <tr> \n",
       "        <th id=\"T_bd220f14_522a_11e8_8805_8c85905f408elevel0_row8\" class=\"row_heading level0 row8\" >10</th> \n",
       "        <td id=\"T_bd220f14_522a_11e8_8805_8c85905f408erow8_col0\" class=\"data row8 col0\" >Algorithmic design</td> \n",
       "        <td id=\"T_bd220f14_522a_11e8_8805_8c85905f408erow8_col1\" class=\"data row8 col1\" >3100</td> \n",
       "        <td id=\"T_bd220f14_522a_11e8_8805_8c85905f408erow8_col2\" class=\"data row8 col2\" >24.85%</td> \n",
       "    </tr>    <tr> \n",
       "        <th id=\"T_bd220f14_522a_11e8_8805_8c85905f408elevel0_row9\" class=\"row_heading level0 row9\" >16</th> \n",
       "        <td id=\"T_bd220f14_522a_11e8_8805_8c85905f408erow9_col0\" class=\"data row9 col0\" >Crowdsourcing and open source</td> \n",
       "        <td id=\"T_bd220f14_522a_11e8_8805_8c85905f408erow9_col1\" class=\"data row9 col1\" >2818</td> \n",
       "        <td id=\"T_bd220f14_522a_11e8_8805_8c85905f408erow9_col2\" class=\"data row9 col2\" >22.59%</td> \n",
       "    </tr>    <tr> \n",
       "        <th id=\"T_bd220f14_522a_11e8_8805_8c85905f408elevel0_row10\" class=\"row_heading level0 row10\" >8</th> \n",
       "        <td id=\"T_bd220f14_522a_11e8_8805_8c85905f408erow10_col0\" class=\"data row10 col0\" >Facial and voice recognition</td> \n",
       "        <td id=\"T_bd220f14_522a_11e8_8805_8c85905f408erow10_col1\" class=\"data row10 col1\" >2792</td> \n",
       "        <td id=\"T_bd220f14_522a_11e8_8805_8c85905f408erow10_col2\" class=\"data row10 col2\" >22.38%</td> \n",
       "    </tr>    <tr> \n",
       "        <th id=\"T_bd220f14_522a_11e8_8805_8c85905f408elevel0_row11\" class=\"row_heading level0 row11\" >17</th> \n",
       "        <td id=\"T_bd220f14_522a_11e8_8805_8c85905f408erow11_col0\" class=\"data row11 col0\" >Conversational interfaces</td> \n",
       "        <td id=\"T_bd220f14_522a_11e8_8805_8c85905f408erow11_col1\" class=\"data row11 col1\" >2285</td> \n",
       "        <td id=\"T_bd220f14_522a_11e8_8805_8c85905f408erow11_col2\" class=\"data row11 col2\" >18.31%</td> \n",
       "    </tr>    <tr> \n",
       "        <th id=\"T_bd220f14_522a_11e8_8805_8c85905f408elevel0_row12\" class=\"row_heading level0 row12\" >9</th> \n",
       "        <td id=\"T_bd220f14_522a_11e8_8805_8c85905f408erow12_col0\" class=\"data row12 col0\" >Image recognition</td> \n",
       "        <td id=\"T_bd220f14_522a_11e8_8805_8c85905f408erow12_col1\" class=\"data row12 col1\" >2283</td> \n",
       "        <td id=\"T_bd220f14_522a_11e8_8805_8c85905f408erow12_col2\" class=\"data row12 col2\" >18.30%</td> \n",
       "    </tr>    <tr> \n",
       "        <th id=\"T_bd220f14_522a_11e8_8805_8c85905f408elevel0_row13\" class=\"row_heading level0 row13\" >6</th> \n",
       "        <td id=\"T_bd220f14_522a_11e8_8805_8c85905f408erow13_col0\" class=\"data row13 col0\" >Human augmentation</td> \n",
       "        <td id=\"T_bd220f14_522a_11e8_8805_8c85905f408erow13_col1\" class=\"data row13 col1\" >2114</td> \n",
       "        <td id=\"T_bd220f14_522a_11e8_8805_8c85905f408erow13_col2\" class=\"data row13 col2\" >16.94%</td> \n",
       "    </tr>    <tr> \n",
       "        <th id=\"T_bd220f14_522a_11e8_8805_8c85905f408elevel0_row14\" class=\"row_heading level0 row14\" >12</th> \n",
       "        <td id=\"T_bd220f14_522a_11e8_8805_8c85905f408erow14_col0\" class=\"data row14 col0\" >Biological or genetic design</td> \n",
       "        <td id=\"T_bd220f14_522a_11e8_8805_8c85905f408erow14_col1\" class=\"data row14 col1\" >1827</td> \n",
       "        <td id=\"T_bd220f14_522a_11e8_8805_8c85905f408erow14_col2\" class=\"data row14 col2\" >14.64%</td> \n",
       "    </tr>    <tr> \n",
       "        <th id=\"T_bd220f14_522a_11e8_8805_8c85905f408elevel0_row15\" class=\"row_heading level0 row15\" >4</th> \n",
       "        <td id=\"T_bd220f14_522a_11e8_8805_8c85905f408erow15_col0\" class=\"data row15 col0\" >Battery and energy technology</td> \n",
       "        <td id=\"T_bd220f14_522a_11e8_8805_8c85905f408erow15_col1\" class=\"data row15 col1\" >1197</td> \n",
       "        <td id=\"T_bd220f14_522a_11e8_8805_8c85905f408erow15_col2\" class=\"data row15 col2\" >9.59%</td> \n",
       "    </tr>    <tr> \n",
       "        <th id=\"T_bd220f14_522a_11e8_8805_8c85905f408elevel0_row16\" class=\"row_heading level0 row16\" >3</th> \n",
       "        <td id=\"T_bd220f14_522a_11e8_8805_8c85905f408erow16_col0\" class=\"data row16 col0\" >Quantum computing</td> \n",
       "        <td id=\"T_bd220f14_522a_11e8_8805_8c85905f408erow16_col1\" class=\"data row16 col1\" >1158</td> \n",
       "        <td id=\"T_bd220f14_522a_11e8_8805_8c85905f408erow16_col2\" class=\"data row16 col2\" >9.28%</td> \n",
       "    </tr>    <tr> \n",
       "        <th id=\"T_bd220f14_522a_11e8_8805_8c85905f408elevel0_row17\" class=\"row_heading level0 row17\" >13</th> \n",
       "        <td id=\"T_bd220f14_522a_11e8_8805_8c85905f408erow17_col0\" class=\"data row17 col0\" >Miniaturization and nanotechnology</td> \n",
       "        <td id=\"T_bd220f14_522a_11e8_8805_8c85905f408erow17_col1\" class=\"data row17 col1\" >1130</td> \n",
       "        <td id=\"T_bd220f14_522a_11e8_8805_8c85905f408erow17_col2\" class=\"data row17 col2\" >9.06%</td> \n",
       "    </tr>    <tr> \n",
       "        <th id=\"T_bd220f14_522a_11e8_8805_8c85905f408elevel0_row18\" class=\"row_heading level0 row18\" >18</th> \n",
       "        <td id=\"T_bd220f14_522a_11e8_8805_8c85905f408erow18_col0\" class=\"data row18 col0\" >Networked device ubiquity</td> \n",
       "        <td id=\"T_bd220f14_522a_11e8_8805_8c85905f408erow18_col1\" class=\"data row18 col1\" >899</td> \n",
       "        <td id=\"T_bd220f14_522a_11e8_8805_8c85905f408erow18_col2\" class=\"data row18 col2\" >7.21%</td> \n",
       "    </tr>    <tr> \n",
       "        <th id=\"T_bd220f14_522a_11e8_8805_8c85905f408elevel0_row19\" class=\"row_heading level0 row19\" >5</th> \n",
       "        <td id=\"T_bd220f14_522a_11e8_8805_8c85905f408erow19_col0\" class=\"data row19 col0\" >None of these</td> \n",
       "        <td id=\"T_bd220f14_522a_11e8_8805_8c85905f408erow19_col1\" class=\"data row19 col1\" >257</td> \n",
       "        <td id=\"T_bd220f14_522a_11e8_8805_8c85905f408erow19_col2\" class=\"data row19 col2\" >2.06%</td> \n",
       "    </tr></tbody> \n",
       "</table> "
      ],
      "text/plain": [
       "<pandas.io.formats.style.Styler at 0x1a1510cf98>"
      ]
     },
     "metadata": {},
     "output_type": "display_data"
    },
    {
     "data": {
      "text/plain": [
       "'V_43 : The most valuable design skills for the future will be (answer optional):'"
      ]
     },
     "metadata": {},
     "output_type": "display_data"
    },
    {
     "data": {
      "text/html": [
       "<style  type=\"text/css\" >\n",
       "</style>  \n",
       "<table id=\"T_bd2bc9a8_522a_11e8_bb10_8c85905f408e\" > \n",
       "<thead>    <tr> \n",
       "        <th class=\"blank level0\" ></th> \n",
       "        <th class=\"col_heading level0 col0\" >Options</th> \n",
       "        <th class=\"col_heading level0 col1\" >Count</th> \n",
       "        <th class=\"col_heading level0 col2\" >Percent</th> \n",
       "    </tr></thead> \n",
       "<tbody>    <tr> \n",
       "        <th id=\"T_bd2bc9a8_522a_11e8_bb10_8c85905f408elevel0_row0\" class=\"row_heading level0 row0\" >5</th> \n",
       "        <td id=\"T_bd2bc9a8_522a_11e8_bb10_8c85905f408erow0_col0\" class=\"data row0 col0\" >Adaptability to tech and social change</td> \n",
       "        <td id=\"T_bd2bc9a8_522a_11e8_bb10_8c85905f408erow0_col1\" class=\"data row0 col1\" >8726</td> \n",
       "        <td id=\"T_bd2bc9a8_522a_11e8_bb10_8c85905f408erow0_col2\" class=\"data row0 col2\" >69.94%</td> \n",
       "    </tr>    <tr> \n",
       "        <th id=\"T_bd2bc9a8_522a_11e8_bb10_8c85905f408elevel0_row1\" class=\"row_heading level0 row1\" >16</th> \n",
       "        <td id=\"T_bd2bc9a8_522a_11e8_bb10_8c85905f408erow1_col0\" class=\"data row1 col0\" >Communication skills</td> \n",
       "        <td id=\"T_bd2bc9a8_522a_11e8_bb10_8c85905f408erow1_col1\" class=\"data row1 col1\" >7286</td> \n",
       "        <td id=\"T_bd2bc9a8_522a_11e8_bb10_8c85905f408erow1_col2\" class=\"data row1 col2\" >58.40%</td> \n",
       "    </tr>    <tr> \n",
       "        <th id=\"T_bd2bc9a8_522a_11e8_bb10_8c85905f408elevel0_row2\" class=\"row_heading level0 row2\" >17</th> \n",
       "        <td id=\"T_bd2bc9a8_522a_11e8_bb10_8c85905f408erow2_col0\" class=\"data row2 col0\" >Empathy</td> \n",
       "        <td id=\"T_bd2bc9a8_522a_11e8_bb10_8c85905f408erow2_col1\" class=\"data row2 col1\" >5927</td> \n",
       "        <td id=\"T_bd2bc9a8_522a_11e8_bb10_8c85905f408erow2_col2\" class=\"data row2 col2\" >47.50%</td> \n",
       "    </tr>    <tr> \n",
       "        <th id=\"T_bd2bc9a8_522a_11e8_bb10_8c85905f408elevel0_row3\" class=\"row_heading level0 row3\" >2</th> \n",
       "        <td id=\"T_bd2bc9a8_522a_11e8_bb10_8c85905f408erow3_col0\" class=\"data row3 col0\" >Asking good questions</td> \n",
       "        <td id=\"T_bd2bc9a8_522a_11e8_bb10_8c85905f408erow3_col1\" class=\"data row3 col1\" >5440</td> \n",
       "        <td id=\"T_bd2bc9a8_522a_11e8_bb10_8c85905f408erow3_col2\" class=\"data row3 col2\" >43.60%</td> \n",
       "    </tr>    <tr> \n",
       "        <th id=\"T_bd2bc9a8_522a_11e8_bb10_8c85905f408elevel0_row4\" class=\"row_heading level0 row4\" >10</th> \n",
       "        <td id=\"T_bd2bc9a8_522a_11e8_bb10_8c85905f408erow4_col0\" class=\"data row4 col0\" >Cross-functional skills</td> \n",
       "        <td id=\"T_bd2bc9a8_522a_11e8_bb10_8c85905f408erow4_col1\" class=\"data row4 col1\" >5239</td> \n",
       "        <td id=\"T_bd2bc9a8_522a_11e8_bb10_8c85905f408erow4_col2\" class=\"data row4 col2\" >41.99%</td> \n",
       "    </tr>    <tr> \n",
       "        <th id=\"T_bd2bc9a8_522a_11e8_bb10_8c85905f408elevel0_row5\" class=\"row_heading level0 row5\" >13</th> \n",
       "        <td id=\"T_bd2bc9a8_522a_11e8_bb10_8c85905f408erow5_col0\" class=\"data row5 col0\" >Storytelling</td> \n",
       "        <td id=\"T_bd2bc9a8_522a_11e8_bb10_8c85905f408erow5_col1\" class=\"data row5 col1\" >5189</td> \n",
       "        <td id=\"T_bd2bc9a8_522a_11e8_bb10_8c85905f408erow5_col2\" class=\"data row5 col2\" >41.59%</td> \n",
       "    </tr>    <tr> \n",
       "        <th id=\"T_bd2bc9a8_522a_11e8_bb10_8c85905f408elevel0_row6\" class=\"row_heading level0 row6\" >3</th> \n",
       "        <td id=\"T_bd2bc9a8_522a_11e8_bb10_8c85905f408erow6_col0\" class=\"data row6 col0\" >Cross-cultural skills</td> \n",
       "        <td id=\"T_bd2bc9a8_522a_11e8_bb10_8c85905f408erow6_col1\" class=\"data row6 col1\" >4926</td> \n",
       "        <td id=\"T_bd2bc9a8_522a_11e8_bb10_8c85905f408erow6_col2\" class=\"data row6 col2\" >39.48%</td> \n",
       "    </tr>    <tr> \n",
       "        <th id=\"T_bd2bc9a8_522a_11e8_bb10_8c85905f408elevel0_row7\" class=\"row_heading level0 row7\" >0</th> \n",
       "        <td id=\"T_bd2bc9a8_522a_11e8_bb10_8c85905f408erow7_col0\" class=\"data row7 col0\" >Observation and listening</td> \n",
       "        <td id=\"T_bd2bc9a8_522a_11e8_bb10_8c85905f408erow7_col1\" class=\"data row7 col1\" >4829</td> \n",
       "        <td id=\"T_bd2bc9a8_522a_11e8_bb10_8c85905f408erow7_col2\" class=\"data row7 col2\" >38.70%</td> \n",
       "    </tr>    <tr> \n",
       "        <th id=\"T_bd2bc9a8_522a_11e8_bb10_8c85905f408elevel0_row8\" class=\"row_heading level0 row8\" >9</th> \n",
       "        <td id=\"T_bd2bc9a8_522a_11e8_bb10_8c85905f408erow8_col0\" class=\"data row8 col0\" >Psychology and human behavior</td> \n",
       "        <td id=\"T_bd2bc9a8_522a_11e8_bb10_8c85905f408erow8_col1\" class=\"data row8 col1\" >4682</td> \n",
       "        <td id=\"T_bd2bc9a8_522a_11e8_bb10_8c85905f408erow8_col2\" class=\"data row8 col2\" >37.53%</td> \n",
       "    </tr>    <tr> \n",
       "        <th id=\"T_bd2bc9a8_522a_11e8_bb10_8c85905f408elevel0_row9\" class=\"row_heading level0 row9\" >22</th> \n",
       "        <td id=\"T_bd2bc9a8_522a_11e8_bb10_8c85905f408erow9_col0\" class=\"data row9 col0\" >Interpersonal skills</td> \n",
       "        <td id=\"T_bd2bc9a8_522a_11e8_bb10_8c85905f408erow9_col1\" class=\"data row9 col1\" >4662</td> \n",
       "        <td id=\"T_bd2bc9a8_522a_11e8_bb10_8c85905f408erow9_col2\" class=\"data row9 col2\" >37.36%</td> \n",
       "    </tr>    <tr> \n",
       "        <th id=\"T_bd2bc9a8_522a_11e8_bb10_8c85905f408elevel0_row10\" class=\"row_heading level0 row10\" >23</th> \n",
       "        <td id=\"T_bd2bc9a8_522a_11e8_bb10_8c85905f408erow10_col0\" class=\"data row10 col0\" >Managing complexity</td> \n",
       "        <td id=\"T_bd2bc9a8_522a_11e8_bb10_8c85905f408erow10_col1\" class=\"data row10 col1\" >4655</td> \n",
       "        <td id=\"T_bd2bc9a8_522a_11e8_bb10_8c85905f408erow10_col2\" class=\"data row10 col2\" >37.31%</td> \n",
       "    </tr>    <tr> \n",
       "        <th id=\"T_bd2bc9a8_522a_11e8_bb10_8c85905f408elevel0_row11\" class=\"row_heading level0 row11\" >12</th> \n",
       "        <td id=\"T_bd2bc9a8_522a_11e8_bb10_8c85905f408erow11_col0\" class=\"data row11 col0\" >Leadership</td> \n",
       "        <td id=\"T_bd2bc9a8_522a_11e8_bb10_8c85905f408erow11_col1\" class=\"data row11 col1\" >3562</td> \n",
       "        <td id=\"T_bd2bc9a8_522a_11e8_bb10_8c85905f408erow11_col2\" class=\"data row11 col2\" >28.55%</td> \n",
       "    </tr>    <tr> \n",
       "        <th id=\"T_bd2bc9a8_522a_11e8_bb10_8c85905f408elevel0_row12\" class=\"row_heading level0 row12\" >15</th> \n",
       "        <td id=\"T_bd2bc9a8_522a_11e8_bb10_8c85905f408erow12_col0\" class=\"data row12 col0\" >Systems thinking</td> \n",
       "        <td id=\"T_bd2bc9a8_522a_11e8_bb10_8c85905f408erow12_col1\" class=\"data row12 col1\" >3327</td> \n",
       "        <td id=\"T_bd2bc9a8_522a_11e8_bb10_8c85905f408erow12_col2\" class=\"data row12 col2\" >26.67%</td> \n",
       "    </tr>    <tr> \n",
       "        <th id=\"T_bd2bc9a8_522a_11e8_bb10_8c85905f408elevel0_row13\" class=\"row_heading level0 row13\" >4</th> \n",
       "        <td id=\"T_bd2bc9a8_522a_11e8_bb10_8c85905f408erow13_col0\" class=\"data row13 col0\" >Improvisation</td> \n",
       "        <td id=\"T_bd2bc9a8_522a_11e8_bb10_8c85905f408erow13_col1\" class=\"data row13 col1\" >3022</td> \n",
       "        <td id=\"T_bd2bc9a8_522a_11e8_bb10_8c85905f408erow13_col2\" class=\"data row13 col2\" >24.22%</td> \n",
       "    </tr>    <tr> \n",
       "        <th id=\"T_bd2bc9a8_522a_11e8_bb10_8c85905f408elevel0_row14\" class=\"row_heading level0 row14\" >19</th> \n",
       "        <td id=\"T_bd2bc9a8_522a_11e8_bb10_8c85905f408erow14_col0\" class=\"data row14 col0\" >Play</td> \n",
       "        <td id=\"T_bd2bc9a8_522a_11e8_bb10_8c85905f408erow14_col1\" class=\"data row14 col1\" >2749</td> \n",
       "        <td id=\"T_bd2bc9a8_522a_11e8_bb10_8c85905f408erow14_col2\" class=\"data row14 col2\" >22.03%</td> \n",
       "    </tr>    <tr> \n",
       "        <th id=\"T_bd2bc9a8_522a_11e8_bb10_8c85905f408elevel0_row15\" class=\"row_heading level0 row15\" >20</th> \n",
       "        <td id=\"T_bd2bc9a8_522a_11e8_bb10_8c85905f408erow15_col0\" class=\"data row15 col0\" >DIY or maker mentality</td> \n",
       "        <td id=\"T_bd2bc9a8_522a_11e8_bb10_8c85905f408erow15_col1\" class=\"data row15 col1\" >2248</td> \n",
       "        <td id=\"T_bd2bc9a8_522a_11e8_bb10_8c85905f408erow15_col2\" class=\"data row15 col2\" >18.02%</td> \n",
       "    </tr>    <tr> \n",
       "        <th id=\"T_bd2bc9a8_522a_11e8_bb10_8c85905f408elevel0_row16\" class=\"row_heading level0 row16\" >8</th> \n",
       "        <td id=\"T_bd2bc9a8_522a_11e8_bb10_8c85905f408erow16_col0\" class=\"data row16 col0\" >Data analysis</td> \n",
       "        <td id=\"T_bd2bc9a8_522a_11e8_bb10_8c85905f408erow16_col1\" class=\"data row16 col1\" >2158</td> \n",
       "        <td id=\"T_bd2bc9a8_522a_11e8_bb10_8c85905f408erow16_col2\" class=\"data row16 col2\" >17.30%</td> \n",
       "    </tr>    <tr> \n",
       "        <th id=\"T_bd2bc9a8_522a_11e8_bb10_8c85905f408elevel0_row17\" class=\"row_heading level0 row17\" >14</th> \n",
       "        <td id=\"T_bd2bc9a8_522a_11e8_bb10_8c85905f408erow17_col0\" class=\"data row17 col0\" >Algorithm and data model design</td> \n",
       "        <td id=\"T_bd2bc9a8_522a_11e8_bb10_8c85905f408erow17_col1\" class=\"data row17 col1\" >1746</td> \n",
       "        <td id=\"T_bd2bc9a8_522a_11e8_bb10_8c85905f408erow17_col2\" class=\"data row17 col2\" >13.99%</td> \n",
       "    </tr>    <tr> \n",
       "        <th id=\"T_bd2bc9a8_522a_11e8_bb10_8c85905f408elevel0_row18\" class=\"row_heading level0 row18\" >11</th> \n",
       "        <td id=\"T_bd2bc9a8_522a_11e8_bb10_8c85905f408erow18_col0\" class=\"data row18 col0\" >Risk tolerance</td> \n",
       "        <td id=\"T_bd2bc9a8_522a_11e8_bb10_8c85905f408erow18_col1\" class=\"data row18 col1\" >1625</td> \n",
       "        <td id=\"T_bd2bc9a8_522a_11e8_bb10_8c85905f408erow18_col2\" class=\"data row18 col2\" >13.02%</td> \n",
       "    </tr>    <tr> \n",
       "        <th id=\"T_bd2bc9a8_522a_11e8_bb10_8c85905f408elevel0_row19\" class=\"row_heading level0 row19\" >6</th> \n",
       "        <td id=\"T_bd2bc9a8_522a_11e8_bb10_8c85905f408erow19_col0\" class=\"data row19 col0\" >Facilitation</td> \n",
       "        <td id=\"T_bd2bc9a8_522a_11e8_bb10_8c85905f408erow19_col1\" class=\"data row19 col1\" >1462</td> \n",
       "        <td id=\"T_bd2bc9a8_522a_11e8_bb10_8c85905f408erow19_col2\" class=\"data row19 col2\" >11.72%</td> \n",
       "    </tr>    <tr> \n",
       "        <th id=\"T_bd2bc9a8_522a_11e8_bb10_8c85905f408elevel0_row20\" class=\"row_heading level0 row20\" >1</th> \n",
       "        <td id=\"T_bd2bc9a8_522a_11e8_bb10_8c85905f408erow20_col0\" class=\"data row20 col0\" >Voice interface design</td> \n",
       "        <td id=\"T_bd2bc9a8_522a_11e8_bb10_8c85905f408erow20_col1\" class=\"data row20 col1\" >1301</td> \n",
       "        <td id=\"T_bd2bc9a8_522a_11e8_bb10_8c85905f408erow20_col2\" class=\"data row20 col2\" >10.43%</td> \n",
       "    </tr>    <tr> \n",
       "        <th id=\"T_bd2bc9a8_522a_11e8_bb10_8c85905f408elevel0_row21\" class=\"row_heading level0 row21\" >21</th> \n",
       "        <td id=\"T_bd2bc9a8_522a_11e8_bb10_8c85905f408erow21_col0\" class=\"data row21 col0\" >Architecture and environmental design</td> \n",
       "        <td id=\"T_bd2bc9a8_522a_11e8_bb10_8c85905f408erow21_col1\" class=\"data row21 col1\" >1117</td> \n",
       "        <td id=\"T_bd2bc9a8_522a_11e8_bb10_8c85905f408erow21_col2\" class=\"data row21 col2\" >8.95%</td> \n",
       "    </tr>    <tr> \n",
       "        <th id=\"T_bd2bc9a8_522a_11e8_bb10_8c85905f408elevel0_row22\" class=\"row_heading level0 row22\" >7</th> \n",
       "        <td id=\"T_bd2bc9a8_522a_11e8_bb10_8c85905f408erow22_col0\" class=\"data row22 col0\" >Scientific methods</td> \n",
       "        <td id=\"T_bd2bc9a8_522a_11e8_bb10_8c85905f408erow22_col1\" class=\"data row22 col1\" >1036</td> \n",
       "        <td id=\"T_bd2bc9a8_522a_11e8_bb10_8c85905f408erow22_col2\" class=\"data row22 col2\" >8.30%</td> \n",
       "    </tr>    <tr> \n",
       "        <th id=\"T_bd2bc9a8_522a_11e8_bb10_8c85905f408elevel0_row23\" class=\"row_heading level0 row23\" >18</th> \n",
       "        <td id=\"T_bd2bc9a8_522a_11e8_bb10_8c85905f408erow23_col0\" class=\"data row23 col0\" >None of these</td> \n",
       "        <td id=\"T_bd2bc9a8_522a_11e8_bb10_8c85905f408erow23_col1\" class=\"data row23 col1\" >89</td> \n",
       "        <td id=\"T_bd2bc9a8_522a_11e8_bb10_8c85905f408erow23_col2\" class=\"data row23 col2\" >0.71%</td> \n",
       "    </tr></tbody> \n",
       "</table> "
      ],
      "text/plain": [
       "<pandas.io.formats.style.Styler at 0x1a1510c7f0>"
      ]
     },
     "metadata": {},
     "output_type": "display_data"
    },
    {
     "data": {
      "text/plain": [
       "'V_37 : My age is:'"
      ]
     },
     "metadata": {},
     "output_type": "display_data"
    },
    {
     "data": {
      "text/html": [
       "<style  type=\"text/css\" >\n",
       "</style>  \n",
       "<table id=\"T_bd2d58f6_522a_11e8_bdf6_8c85905f408e\" > \n",
       "<thead>    <tr> \n",
       "        <th class=\"blank level0\" ></th> \n",
       "        <th class=\"col_heading level0 col0\" >Options</th> \n",
       "        <th class=\"col_heading level0 col1\" >Count</th> \n",
       "        <th class=\"col_heading level0 col2\" >Percent</th> \n",
       "    </tr></thead> \n",
       "<tbody>    <tr> \n",
       "        <th id=\"T_bd2d58f6_522a_11e8_bdf6_8c85905f408elevel0_row0\" class=\"row_heading level0 row0\" >0</th> \n",
       "        <td id=\"T_bd2d58f6_522a_11e8_bdf6_8c85905f408erow0_col0\" class=\"data row0 col0\" >25 to 30</td> \n",
       "        <td id=\"T_bd2d58f6_522a_11e8_bdf6_8c85905f408erow0_col1\" class=\"data row0 col1\" >3809</td> \n",
       "        <td id=\"T_bd2d58f6_522a_11e8_bdf6_8c85905f408erow0_col2\" class=\"data row0 col2\" >30.53%</td> \n",
       "    </tr>    <tr> \n",
       "        <th id=\"T_bd2d58f6_522a_11e8_bdf6_8c85905f408elevel0_row1\" class=\"row_heading level0 row1\" >1</th> \n",
       "        <td id=\"T_bd2d58f6_522a_11e8_bdf6_8c85905f408erow1_col0\" class=\"data row1 col0\" >20 to 25</td> \n",
       "        <td id=\"T_bd2d58f6_522a_11e8_bdf6_8c85905f408erow1_col1\" class=\"data row1 col1\" >2625</td> \n",
       "        <td id=\"T_bd2d58f6_522a_11e8_bdf6_8c85905f408erow1_col2\" class=\"data row1 col2\" >21.04%</td> \n",
       "    </tr>    <tr> \n",
       "        <th id=\"T_bd2d58f6_522a_11e8_bdf6_8c85905f408elevel0_row2\" class=\"row_heading level0 row2\" >2</th> \n",
       "        <td id=\"T_bd2d58f6_522a_11e8_bdf6_8c85905f408erow2_col0\" class=\"data row2 col0\" >30 to 35</td> \n",
       "        <td id=\"T_bd2d58f6_522a_11e8_bdf6_8c85905f408erow2_col1\" class=\"data row2 col1\" >2541</td> \n",
       "        <td id=\"T_bd2d58f6_522a_11e8_bdf6_8c85905f408erow2_col2\" class=\"data row2 col2\" >20.37%</td> \n",
       "    </tr>    <tr> \n",
       "        <th id=\"T_bd2d58f6_522a_11e8_bdf6_8c85905f408elevel0_row3\" class=\"row_heading level0 row3\" >3</th> \n",
       "        <td id=\"T_bd2d58f6_522a_11e8_bdf6_8c85905f408erow3_col0\" class=\"data row3 col0\" >35 to 40</td> \n",
       "        <td id=\"T_bd2d58f6_522a_11e8_bdf6_8c85905f408erow3_col1\" class=\"data row3 col1\" >1363</td> \n",
       "        <td id=\"T_bd2d58f6_522a_11e8_bdf6_8c85905f408erow3_col2\" class=\"data row3 col2\" >10.92%</td> \n",
       "    </tr>    <tr> \n",
       "        <th id=\"T_bd2d58f6_522a_11e8_bdf6_8c85905f408elevel0_row4\" class=\"row_heading level0 row4\" >4</th> \n",
       "        <td id=\"T_bd2d58f6_522a_11e8_bdf6_8c85905f408erow4_col0\" class=\"data row4 col0\" >40 to 45</td> \n",
       "        <td id=\"T_bd2d58f6_522a_11e8_bdf6_8c85905f408erow4_col1\" class=\"data row4 col1\" >845</td> \n",
       "        <td id=\"T_bd2d58f6_522a_11e8_bdf6_8c85905f408erow4_col2\" class=\"data row4 col2\" >6.77%</td> \n",
       "    </tr>    <tr> \n",
       "        <th id=\"T_bd2d58f6_522a_11e8_bdf6_8c85905f408elevel0_row5\" class=\"row_heading level0 row5\" >5</th> \n",
       "        <td id=\"T_bd2d58f6_522a_11e8_bdf6_8c85905f408erow5_col0\" class=\"data row5 col0\" >Older than 50</td> \n",
       "        <td id=\"T_bd2d58f6_522a_11e8_bdf6_8c85905f408erow5_col1\" class=\"data row5 col1\" >686</td> \n",
       "        <td id=\"T_bd2d58f6_522a_11e8_bdf6_8c85905f408erow5_col2\" class=\"data row5 col2\" >5.50%</td> \n",
       "    </tr>    <tr> \n",
       "        <th id=\"T_bd2d58f6_522a_11e8_bdf6_8c85905f408elevel0_row6\" class=\"row_heading level0 row6\" >6</th> \n",
       "        <td id=\"T_bd2d58f6_522a_11e8_bdf6_8c85905f408erow6_col0\" class=\"data row6 col0\" >45 to 50</td> \n",
       "        <td id=\"T_bd2d58f6_522a_11e8_bdf6_8c85905f408erow6_col1\" class=\"data row6 col1\" >563</td> \n",
       "        <td id=\"T_bd2d58f6_522a_11e8_bdf6_8c85905f408erow6_col2\" class=\"data row6 col2\" >4.51%</td> \n",
       "    </tr>    <tr> \n",
       "        <th id=\"T_bd2d58f6_522a_11e8_bdf6_8c85905f408elevel0_row7\" class=\"row_heading level0 row7\" >7</th> \n",
       "        <td id=\"T_bd2d58f6_522a_11e8_bdf6_8c85905f408erow7_col0\" class=\"data row7 col0\" >Younger than 20</td> \n",
       "        <td id=\"T_bd2d58f6_522a_11e8_bdf6_8c85905f408erow7_col1\" class=\"data row7 col1\" >45</td> \n",
       "        <td id=\"T_bd2d58f6_522a_11e8_bdf6_8c85905f408erow7_col2\" class=\"data row7 col2\" >0.36%</td> \n",
       "    </tr></tbody> \n",
       "</table> "
      ],
      "text/plain": [
       "<pandas.io.formats.style.Styler at 0x1a15112160>"
      ]
     },
     "metadata": {},
     "output_type": "display_data"
    }
   ],
   "source": [
    "for col in cate_cols:\n",
    "    if 'V_8' in col:\n",
    "        continue\n",
    "    if 'V_35' in col:\n",
    "        continue\n",
    "    if 'V_36' in col:\n",
    "        continue\n",
    "    display(str(col) + ' : ' + col_dict[col])\n",
    "    dff = summary_cate_col(col, 1000)\n",
    "    display_dff = dff.style.format({'Percent': '{:,.2%}'.format})\n",
    "    display(display_dff)"
   ]
  },
  {
   "cell_type": "markdown",
   "metadata": {},
   "source": [
    "<a id='2.2'></a>\n",
    "### Add plots for each column (All or AIGA-only)"
   ]
  },
  {
   "cell_type": "code",
   "execution_count": 5,
   "metadata": {},
   "outputs": [
    {
     "name": "stdout",
     "output_type": "stream",
     "text": [
      "The total numeber of AIGA members is: 4638\n"
     ]
    }
   ],
   "source": [
    "AIGA_col = pipe_col_dict['V_32']['AIGA']\n",
    "print('The total numeber of AIGA members is: ' + str(len(df[df[AIGA_col] == 1])))"
   ]
  },
  {
   "cell_type": "code",
   "execution_count": 6,
   "metadata": {
    "collapsed": true
   },
   "outputs": [],
   "source": [
    "def plot_single_column(dff, AllorAIGA):\n",
    "    # plot bar plot for each option\n",
    "    plt.figure(figsize=(15, 10))\n",
    "    sns.set_context(\"notebook\", font_scale=1.5)\n",
    "    g = sns.barplot(y='Options', x = 'Count',data=dff, color = 'blue', ci = None)\n",
    "    max_count = max(dff['Count'])\n",
    "    plt.xlim(0, max_count * 1.5)  \n",
    "\n",
    "    # add labels\n",
    "    ax = plt.gca()\n",
    "    for p,count, percent in zip(ax.patches,dff['Count'],dff['Percent']):\n",
    "        \n",
    "        ax.annotate(str('{:,}'.format(count)) +' (' + str('{:,.0%}'.format(percent)) +')', \n",
    "                    (p.get_x() + p.get_width()+max_count/50 ,p.get_y()+p.get_height()/2 ),# location\n",
    "                    xytext=(0, 0), textcoords='offset points',# offset\n",
    "                    va=\"center\",ha=\"left\", size = 12, rotation=0) #text align and font size\n",
    "     \n",
    "    # add info and save\n",
    "    plt.title(AllorAIGA + '_Distribution of \"' + col_dict[col] + '\"')\n",
    "    plt.ylabel(col_dict[col])\n",
    "    plt.xlabel('Count')\n",
    "    plt.tight_layout()\n",
    "    \n",
    "    plt.savefig('./fig/'+ AllorAIGA + '_Single_Column_' + str(col_dict[col]) + '_Plot.png',dpi=100,format='png')\n",
    "    plt.savefig('./svgfig/'+ AllorAIGA + '_Single_Column_' + str(col_dict[col]) + '_Plot.svg',dpi=100,format='svg')\n",
    "    plt.gcf().clear()"
   ]
  },
  {
   "cell_type": "code",
   "execution_count": null,
   "metadata": {
    "collapsed": true
   },
   "outputs": [],
   "source": [
    "for col in cate_cols:\n",
    "    if 'V_8' in col:\n",
    "        continue\n",
    "    if 'V_35' in col:\n",
    "        continue\n",
    "    if 'V_36' in col:\n",
    "        continue\n",
    "    \n",
    "    # get summary table each column (All)\n",
    "    dff = summary_cate_col(col, 1000, AllorAIGA = 'All')\n",
    "    plot_single_column(dff, AllorAIGA = 'All')\n",
    "    \n",
    "    # get summary table each column (AIGA-Only)\n",
    "    dff = summary_cate_col(col, 1000, AllorAIGA = 'AIGA-Only')\n",
    "    plot_single_column(dff, AllorAIGA = 'AIGA-Only')\n",
    "    \n",
    "    # get summary table each column (Not AIGA)\n",
    "    dff = summary_cate_col(col, 1000, AllorAIGA = 'NotAIGA')\n",
    "    plot_single_column(dff, AllorAIGA = 'NotAIGA')"
   ]
  },
  {
   "cell_type": "markdown",
   "metadata": {},
   "source": [
    "<a id='2.3'></a>\n",
    "### Plot `salary` vs. all columns (barplots)"
   ]
  },
  {
   "cell_type": "code",
   "execution_count": null,
   "metadata": {
    "collapsed": true
   },
   "outputs": [],
   "source": [
    "def percentile(n):\n",
    "    def percentile_(x):\n",
    "        return np.percentile(x, n)\n",
    "    percentile_.__name__ = 'percentile_%s' % n\n",
    "    return percentile_"
   ]
  },
  {
   "cell_type": "code",
   "execution_count": null,
   "metadata": {
    "collapsed": true
   },
   "outputs": [],
   "source": [
    "# All figs are saved under 'fig' folder\n",
    "sns.set_context(\"notebook\", font_scale=2)\n",
    "for col in cate_cols_v2:\n",
    "    groupedvalues = df.groupby(col, as_index = False).agg({'V_18': [np.mean, percentile(95), percentile(5),'count']})\n",
    "    groupedvalues.columns = [col, 'V_18_avg', 'V_18_max', 'V_18_min','V_18_count']\n",
    "    groupedvalues.sort_values(by = 'V_18_avg', inplace=True)\n",
    "    order = list(groupedvalues[col])\n",
    "    \n",
    "    plt.figure(figsize=(15,10))\n",
    "    colorPalette = sns.cubehelix_palette(len(order))\n",
    "    g=sns.barplot(x='V_18', y=col, data=df, estimator= np.mean, \\\n",
    "                order = order,  palette=colorPalette, ci = None)\n",
    "    plt.xlim(0,150000)\n",
    "    \n",
    "    # add data labels\n",
    "    ax = plt.gca()\n",
    "    for p,vmin,vavg,vmax,count in zip(ax.patches,groupedvalues['V_18_min'],groupedvalues['V_18_avg'],\n",
    "                                                 groupedvalues['V_18_max'],groupedvalues['V_18_count']):\n",
    "        ax.annotate('5%: ' + \"{0:n}\".format(int(vmin)) +  # value\n",
    "                    '\\nAvg: ' + \"{0:n}\".format(int(vavg)) +\n",
    "                    '\\n95%: ' + \"{0:n}\".format(int(vmax)) + \n",
    "                    '\\nCount: ' + \"{0:n}\".format(int(count)),\n",
    "                    (p.get_x() + p.get_width(),p.get_y()+0.5*p.get_height()),# location\n",
    "                    xytext=(5, 0), textcoords='offset points',# offset\n",
    "                    va=\"center\", size = 12) #text align and font size\n",
    "        \n",
    "    #plot axes and export\n",
    "    plt.xlabel('Salary')\n",
    "    plt.ylabel(col_dict[col])\n",
    "    plt.xticks(rotation=90)\n",
    "    plt.tight_layout()\n",
    "    plt.savefig('./fig/'+ 'Salary vs. ' + col_dict[col] + '_Plot.png',dpi=100)\n",
    "    plt.savefig('./svgfig/'+ 'Salary vs. ' + col_dict[col] + '_Plot.svg',dpi=100, format='svg')\n",
    "    plt.gcf().clear()"
   ]
  },
  {
   "cell_type": "code",
   "execution_count": null,
   "metadata": {
    "collapsed": true
   },
   "outputs": [],
   "source": [
    "# 2. For columns with pipes\n",
    "dff = pd.DataFrame(columns = ['Col', 'Option', 'Salary'])\n",
    "for col in pipe_col:\n",
    "    for option, sub_col in pipe_col_dict[col].items():\n",
    "        salary_avg = df.loc[df[sub_col] == 1, 'V_18'].mean()\n",
    "        salary_min = np.percentile(df.loc[df[sub_col] == 1, 'V_18'],5)\n",
    "        salary_max = np.percentile(df.loc[df[sub_col] == 1, 'V_18'],95)\n",
    "        count = len(df.loc[df[sub_col] == 1, 'V_18'])\n",
    "        dff = dff.append({'Col': col, 'Option' : option, 'Salary_min' : salary_min,\n",
    "                          'Salary_avg' : salary_avg, 'Salary_max' : salary_max, 'Count' :count }, \\\n",
    "                         ignore_index=True)"
   ]
  },
  {
   "cell_type": "code",
   "execution_count": null,
   "metadata": {
    "collapsed": true
   },
   "outputs": [],
   "source": [
    "# All figs are saved under 'fig' folder\n",
    "sns.set_context(\"notebook\", font_scale=1.5)\n",
    "for col in pipe_col:\n",
    "    dfff = dff[dff.Col == col].sort_values(by = 'Salary_avg')\n",
    "    order = list(dfff['Option'])\n",
    "    plt.figure(figsize=(15,10))\n",
    "    colorPalette = sns.cubehelix_palette(len(order), rot=-.75)\n",
    "    sns.barplot(x = 'Salary_avg', y = 'Option', data = dfff, estimator= np.mean, \\\n",
    "                order = order, palette=colorPalette)\n",
    "    plt.xlim(0, max(150000, max(dfff['Salary_avg']) + 120000)) \n",
    "    \n",
    "    # add data labels\n",
    "    ax = plt.gca()\n",
    "    for p,vmin,vavg,vmax,count in zip(ax.patches,dfff['Salary_min'], dfff['Salary_avg'],\n",
    "                                                 dfff['Salary_max'], dfff['Count']):\n",
    "        ax.annotate('5%: ' + \"{0:n}\".format(int(vmin)) +  # value\n",
    "                    '; Avg: ' + \"{0:n}\".format(int(vavg)) +\n",
    "                    '; 95%: ' + \"{0:n}\".format(int(vmax)) +\n",
    "                    '; Count: ' + \"{0:n}\".format(int(count)),\n",
    "                    (p.get_x() + p.get_width(),p.get_y()+0.5*p.get_height()),# location\n",
    "                    xytext=(5, 0), textcoords='offset points',# offset\n",
    "                    va=\"center\", size = 12) #text align and font size \n",
    "    #plot axes and export    \n",
    "    plt.xlabel('Salary')\n",
    "    plt.ylabel(col_dict[col])\n",
    "    plt.xticks(rotation=90)\n",
    "    plt.tight_layout()\n",
    "    plt.savefig('./fig/'+ 'Salary vs. ' + col_dict[col] + '_Plot.png',dpi=100)\n",
    "    plt.savefig('./svgfig/'+ 'Salary vs. ' + col_dict[col] + '_Plot.svg',dpi=100, format='svg')\n",
    "    plt.gcf().clear()"
   ]
  },
  {
   "cell_type": "markdown",
   "metadata": {},
   "source": [
    "<br>\n",
    "<br>\n",
    "<br>\n",
    "<a id='3.0'></a>\n",
    "# Part III, Heatmaps"
   ]
  },
  {
   "cell_type": "markdown",
   "metadata": {},
   "source": [
    "<a id='2.1'></a>\n",
    "### Read in processed data"
   ]
  },
  {
   "cell_type": "code",
   "execution_count": null,
   "metadata": {
    "collapsed": true
   },
   "outputs": [],
   "source": [
    "df = pd.read_csv('./export_csv/processed_output_without_column_names.csv', encoding = 'utf8')\n",
    "with open('SavedVariables.pckl', 'rb') as f:\n",
    "    continous_cols, cate_cols, cate_cols_v2, pipe_col, col_dict, pipe_col_dict = pickle.load(f)"
   ]
  },
  {
   "cell_type": "markdown",
   "metadata": {},
   "source": [
    "### Heatmap Analysis"
   ]
  },
  {
   "cell_type": "code",
   "execution_count": null,
   "metadata": {
    "collapsed": true
   },
   "outputs": [],
   "source": [
    "def plot_heatmap(raw_df, col_1, col_1_desc, col_2, col_2_desc, col_salary):\n",
    "    df = raw_df.copy()\n",
    "    sns.set(font_scale = 1)\n",
    "    df[col_salary] = df[col_salary].apply(lambda x : np.round_(x/1000))\n",
    "    pivot_table=pd.pivot_table(df, index=col_1, columns=col_2, \n",
    "                               values = col_salary, aggfunc=np.mean)\n",
    "    colorPalette = sns.cubehelix_palette()\n",
    "    sns.heatmap(pivot_table, annot=True, cmap=colorPalette)\n",
    "    plt.xlabel(col_2_desc)\n",
    "    plt.ylabel(col_1_desc)\n",
    "    plt.title('Average Salary Comparison (K)')\n",
    "    plt.savefig('./heatmaps/' + col_1_desc + ' vs. ' + col_2_desc + '.svg',format='svg')"
   ]
  },
  {
   "cell_type": "code",
   "execution_count": null,
   "metadata": {
    "collapsed": true
   },
   "outputs": [],
   "source": [
    "# 1. Gender and Orientation Combo\n",
    "plot_heatmap(df[df['V_38'] != 'Other'], # exclude GENDER == 'Other'\n",
    "             'V_38', 'Gender', \n",
    "             'V_39', 'Orientation',\n",
    "             'V_18') #salary"
   ]
  },
  {
   "cell_type": "code",
   "execution_count": null,
   "metadata": {
    "collapsed": true
   },
   "outputs": [],
   "source": [
    "# 2. Process RACE and combine with GENDER, ORIENTATION (duplicate rows)\n",
    "hm_heat = pd.DataFrame(columns=['index','Gender', 'Orientation','Race', 'Salary'])# v38, v39, v40, v18\n",
    "for index, row in df.iterrows():\n",
    "    for option, subcol in pipe_col_dict['V_40'].items(): #race\n",
    "        if row[subcol] == 1:\n",
    "            hm_heat = hm_heat.append({'index': index,\n",
    "                                      'Gender': row['V_38'],  #gender\n",
    "                                      'Orientation': row['V_39'], #orientation\n",
    "                                      'Race': option, \n",
    "                                      'Salary': row['V_18']}, ignore_index=True)"
   ]
  },
  {
   "cell_type": "code",
   "execution_count": null,
   "metadata": {
    "collapsed": true
   },
   "outputs": [],
   "source": [
    "# 2. Race and Gender Combo\n",
    "plot_heatmap(hm_heat[hm_heat['Gender'] != 'Other'], # exclude GENDER == 'Other'\n",
    "             'Race', 'Race',\n",
    "             'Gender', 'Gender', \n",
    "             'Salary') #salary"
   ]
  },
  {
   "cell_type": "code",
   "execution_count": null,
   "metadata": {
    "collapsed": true
   },
   "outputs": [],
   "source": [
    "# 3. Race and Orientation Combo\n",
    "plot_heatmap(hm_heat[hm_heat['Gender'] != 'Other'], # exclude GENDER == 'Other'\n",
    "             'Race', 'Race',\n",
    "             'Orientation', 'Orientation', \n",
    "             'Salary') #salary"
   ]
  },
  {
   "cell_type": "code",
   "execution_count": null,
   "metadata": {
    "collapsed": true
   },
   "outputs": [],
   "source": [
    "# 4. Gender and Education\n",
    "plot_heatmap(df[df['V_38'] != 'Other'], # exclude GENDER == 'Other'\n",
    "             'V_38', 'Gender', \n",
    "             'V_26', 'Higest Education',\n",
    "             'V_18') #salary"
   ]
  },
  {
   "cell_type": "code",
   "execution_count": null,
   "metadata": {
    "collapsed": true,
    "inputHidden": false,
    "outputHidden": false
   },
   "outputs": [],
   "source": [
    "# Grouped boxplot\n",
    "sns.boxplot(x=\"V_18\", y=\"V_26\", hue='V_38', data=df[df['V_38'] != 'Other'], orient=\"h\", palette=\"Set2\")\n",
    "ax = sns.stripplot(x='V_18', y='V_26', data=df[df['V_38'] != 'Other'], color=\"black\", jitter=0.4, size=1)\n",
    "\n",
    "# TRY VIOLIN PLOT TO VISUALIZE DISTRIBUTION... NEXT\n",
    "\n",
    "# How can I include the number of observations that go into each of the bars?\n",
    "# Just the number of rows that were used for any calculations...\n",
    "\n",
    "plt.savefig('./boxplot/EducationAndGender_Salary.svg',format='svg')"
   ]
  },
  {
   "cell_type": "markdown",
   "metadata": {},
   "source": [
    "<br>\n",
    "<br>\n",
    "<br>\n",
    "<a id='4.0'></a>\n",
    "# Part IV, Geo-data"
   ]
  },
  {
   "cell_type": "markdown",
   "metadata": {},
   "source": [
    "<a id='2.1'></a>\n",
    "### Read in processed data"
   ]
  },
  {
   "cell_type": "code",
   "execution_count": 241,
   "metadata": {
    "collapsed": true
   },
   "outputs": [],
   "source": [
    "df = pd.read_csv('./export_csv/processed_output_without_column_names.csv', encoding = 'utf8')\n",
    "with open('SavedVariables.pckl', 'rb') as f:\n",
    "    continous_cols, cate_cols, cate_cols_v2, pipe_col, col_dict, pipe_col_dict = pickle.load(f)"
   ]
  },
  {
   "cell_type": "markdown",
   "metadata": {},
   "source": [
    "<a id='2.1'></a>\n",
    "### Read in zip code data"
   ]
  },
  {
   "cell_type": "code",
   "execution_count": 242,
   "metadata": {},
   "outputs": [
    {
     "data": {
      "text/html": [
       "<div>\n",
       "<style>\n",
       "    .dataframe thead tr:only-child th {\n",
       "        text-align: right;\n",
       "    }\n",
       "\n",
       "    .dataframe thead th {\n",
       "        text-align: left;\n",
       "    }\n",
       "\n",
       "    .dataframe tbody tr th {\n",
       "        vertical-align: top;\n",
       "    }\n",
       "</style>\n",
       "<table border=\"1\" class=\"dataframe\">\n",
       "  <thead>\n",
       "    <tr style=\"text-align: right;\">\n",
       "      <th></th>\n",
       "      <th>ZIP</th>\n",
       "      <th>AREA_MILE</th>\n",
       "    </tr>\n",
       "  </thead>\n",
       "  <tbody>\n",
       "    <tr>\n",
       "      <th>0</th>\n",
       "      <td>00601</td>\n",
       "      <td>64.348</td>\n",
       "    </tr>\n",
       "  </tbody>\n",
       "</table>\n",
       "</div>"
      ],
      "text/plain": [
       "     ZIP  AREA_MILE\n",
       "0  00601     64.348"
      ]
     },
     "execution_count": 242,
     "metadata": {},
     "output_type": "execute_result"
    }
   ],
   "source": [
    "#Source: https://www.census.gov/geo/maps-data/data/gazetteer2017.html\n",
    "zip_area = pd.read_csv('./map/2017_Gaz_zcta_national.txt',\n",
    "                       sep = '\\t', dtype = {'GEOID':np.object})\n",
    "zip_area = zip_area[['GEOID', 'ALAND_SQMI']]\n",
    "zip_area.columns = ['ZIP', 'AREA_MILE']\n",
    "zip_area.head(1)"
   ]
  },
  {
   "cell_type": "code",
   "execution_count": 243,
   "metadata": {},
   "outputs": [
    {
     "data": {
      "text/html": [
       "<div>\n",
       "<style>\n",
       "    .dataframe thead tr:only-child th {\n",
       "        text-align: right;\n",
       "    }\n",
       "\n",
       "    .dataframe thead th {\n",
       "        text-align: left;\n",
       "    }\n",
       "\n",
       "    .dataframe tbody tr th {\n",
       "        vertical-align: top;\n",
       "    }\n",
       "</style>\n",
       "<table border=\"1\" class=\"dataframe\">\n",
       "  <thead>\n",
       "    <tr style=\"text-align: right;\">\n",
       "      <th></th>\n",
       "      <th>ZIP</th>\n",
       "      <th>POP</th>\n",
       "    </tr>\n",
       "  </thead>\n",
       "  <tbody>\n",
       "    <tr>\n",
       "      <th>0</th>\n",
       "      <td>00601</td>\n",
       "      <td>17800</td>\n",
       "    </tr>\n",
       "  </tbody>\n",
       "</table>\n",
       "</div>"
      ],
      "text/plain": [
       "     ZIP    POP\n",
       "0  00601  17800"
      ]
     },
     "execution_count": 243,
     "metadata": {},
     "output_type": "execute_result"
    }
   ],
   "source": [
    "#Source: https://factfinder.census.gov/faces/tableservices/jsf/pages/productview.xhtml?src=CF\n",
    "zip_pop = pd.read_csv('./map/ACS_16_5YR_B01003_with_ann.csv', skiprows=1)\n",
    "zip_pop = zip_pop[['Geography', 'Estimate; Total']]\n",
    "zip_pop['Geography'] = zip_pop.Geography.apply(lambda x: x[-5:])\n",
    "zip_pop.columns = ['ZIP', 'POP']\n",
    "zip_pop.head(1)"
   ]
  },
  {
   "cell_type": "code",
   "execution_count": 244,
   "metadata": {},
   "outputs": [
    {
     "data": {
      "text/html": [
       "<div>\n",
       "<style>\n",
       "    .dataframe thead tr:only-child th {\n",
       "        text-align: right;\n",
       "    }\n",
       "\n",
       "    .dataframe thead th {\n",
       "        text-align: left;\n",
       "    }\n",
       "\n",
       "    .dataframe tbody tr th {\n",
       "        vertical-align: top;\n",
       "    }\n",
       "</style>\n",
       "<table border=\"1\" class=\"dataframe\">\n",
       "  <thead>\n",
       "    <tr style=\"text-align: right;\">\n",
       "      <th></th>\n",
       "      <th>ZIP</th>\n",
       "      <th>POP</th>\n",
       "      <th>AREA_MILE</th>\n",
       "      <th>POP_DEN</th>\n",
       "      <th>Type</th>\n",
       "    </tr>\n",
       "  </thead>\n",
       "  <tbody>\n",
       "    <tr>\n",
       "      <th>0</th>\n",
       "      <td>00601</td>\n",
       "      <td>17800</td>\n",
       "      <td>64.348</td>\n",
       "      <td>276.620874</td>\n",
       "      <td>Rural</td>\n",
       "    </tr>\n",
       "    <tr>\n",
       "      <th>1</th>\n",
       "      <td>00602</td>\n",
       "      <td>39716</td>\n",
       "      <td>30.621</td>\n",
       "      <td>1297.018386</td>\n",
       "      <td>Suburban</td>\n",
       "    </tr>\n",
       "    <tr>\n",
       "      <th>2</th>\n",
       "      <td>00603</td>\n",
       "      <td>51565</td>\n",
       "      <td>31.616</td>\n",
       "      <td>1630.977986</td>\n",
       "      <td>Suburban</td>\n",
       "    </tr>\n",
       "  </tbody>\n",
       "</table>\n",
       "</div>"
      ],
      "text/plain": [
       "     ZIP    POP  AREA_MILE      POP_DEN      Type\n",
       "0  00601  17800     64.348   276.620874     Rural\n",
       "1  00602  39716     30.621  1297.018386  Suburban\n",
       "2  00603  51565     31.616  1630.977986  Suburban"
      ]
     },
     "execution_count": 244,
     "metadata": {},
     "output_type": "execute_result"
    }
   ],
   "source": [
    "# Join\n",
    "zip_data = pd.merge(zip_pop, zip_area, on='ZIP')\n",
    "\n",
    "# Classify: https://policy.tti.tamu.edu/theres-no-such-thing-as-the-suburbs/\n",
    "zip_data['POP_DEN'] = zip_data.POP / zip_data.AREA_MILE\n",
    "zip_data['Type'] = zip_data.POP_DEN.apply(\n",
    "                lambda x: 'Urban' if x >= 3000 else ('Suburban' if x>= 1000 else 'Rural'))\n",
    "zip_data.head(3)"
   ]
  },
  {
   "cell_type": "code",
   "execution_count": 245,
   "metadata": {},
   "outputs": [
    {
     "name": "stdout",
     "output_type": "stream",
     "text": [
      "There are 2224 records without zip codes\n"
     ]
    }
   ],
   "source": [
    "print('There are ' + str(sum(df['V_36'].isnull())) + ' records without zip codes')"
   ]
  },
  {
   "cell_type": "code",
   "execution_count": 246,
   "metadata": {},
   "outputs": [],
   "source": [
    "# exclude null and merge with zip data\n",
    "df = df[~df.V_36.isnull()]\n",
    "df['V_36'] = df['V_36'].apply(lambda x : str(int(x))) # Zipcode --> Convert from numeric to string\n",
    "df = pd.merge(df, zip_data, left_on = 'V_36', right_on = 'ZIP')"
   ]
  },
  {
   "cell_type": "code",
   "execution_count": 248,
   "metadata": {},
   "outputs": [
    {
     "data": {
      "text/plain": [
       "Text(0,0.5,'Salary')"
      ]
     },
     "execution_count": 248,
     "metadata": {},
     "output_type": "execute_result"
    },
    {
     "data": {
      "image/png": "[encoded data removed]",
      "text/plain": [
       "<matplotlib.figure.Figure at 0x1a1e35da20>"
      ]
     },
     "metadata": {},
     "output_type": "display_data"
    }
   ],
   "source": [
    "# Plot\n",
    "sns.set_context(\"notebook\", font_scale=1)\n",
    "order = ['Rural', 'Suburban', 'Urban']\n",
    "sns.barplot(x ='Type', # Urban, Suburban, Rual \n",
    "            y = 'V_18', # Salary\n",
    "            hue = 'V_38', # Gender\n",
    "            data=df[df.V_38 != 'Other'], # Exclude Gnder = 'Other'\n",
    "            estimator= np.mean, order = order, ci = None)\n",
    "\n",
    "plt.ylabel('Salary')"
   ]
  },
  {
   "cell_type": "code",
   "execution_count": 249,
   "metadata": {},
   "outputs": [
    {
     "data": {
      "text/html": [
       "<div>\n",
       "<style>\n",
       "    .dataframe thead tr:only-child th {\n",
       "        text-align: right;\n",
       "    }\n",
       "\n",
       "    .dataframe thead th {\n",
       "        text-align: left;\n",
       "    }\n",
       "\n",
       "    .dataframe tbody tr th {\n",
       "        vertical-align: top;\n",
       "    }\n",
       "</style>\n",
       "<table border=\"1\" class=\"dataframe\">\n",
       "  <thead>\n",
       "    <tr>\n",
       "      <th></th>\n",
       "      <th colspan=\"4\" halign=\"left\">count_nonzero</th>\n",
       "    </tr>\n",
       "    <tr>\n",
       "      <th>Type</th>\n",
       "      <th>Rural</th>\n",
       "      <th>Suburban</th>\n",
       "      <th>Urban</th>\n",
       "      <th>All</th>\n",
       "    </tr>\n",
       "    <tr>\n",
       "      <th>V_38</th>\n",
       "      <th></th>\n",
       "      <th></th>\n",
       "      <th></th>\n",
       "      <th></th>\n",
       "    </tr>\n",
       "  </thead>\n",
       "  <tbody>\n",
       "    <tr>\n",
       "      <th>Female</th>\n",
       "      <td>861.0</td>\n",
       "      <td>1125.0</td>\n",
       "      <td>3525.0</td>\n",
       "      <td>5511.0</td>\n",
       "    </tr>\n",
       "    <tr>\n",
       "      <th>Male</th>\n",
       "      <td>563.0</td>\n",
       "      <td>721.0</td>\n",
       "      <td>2523.0</td>\n",
       "      <td>3807.0</td>\n",
       "    </tr>\n",
       "    <tr>\n",
       "      <th>Non-binary or third gender</th>\n",
       "      <td>7.0</td>\n",
       "      <td>8.0</td>\n",
       "      <td>50.0</td>\n",
       "      <td>65.0</td>\n",
       "    </tr>\n",
       "    <tr>\n",
       "      <th>Prefer not to say</th>\n",
       "      <td>14.0</td>\n",
       "      <td>14.0</td>\n",
       "      <td>39.0</td>\n",
       "      <td>67.0</td>\n",
       "    </tr>\n",
       "    <tr>\n",
       "      <th>All</th>\n",
       "      <td>1445.0</td>\n",
       "      <td>1868.0</td>\n",
       "      <td>6137.0</td>\n",
       "      <td>9450.0</td>\n",
       "    </tr>\n",
       "  </tbody>\n",
       "</table>\n",
       "</div>"
      ],
      "text/plain": [
       "                           count_nonzero                         \n",
       "Type                               Rural Suburban   Urban     All\n",
       "V_38                                                             \n",
       "Female                             861.0   1125.0  3525.0  5511.0\n",
       "Male                               563.0    721.0  2523.0  3807.0\n",
       "Non-binary or third gender           7.0      8.0    50.0    65.0\n",
       "Prefer not to say                   14.0     14.0    39.0    67.0\n",
       "All                               1445.0   1868.0  6137.0  9450.0"
      ]
     },
     "execution_count": 249,
     "metadata": {},
     "output_type": "execute_result"
    }
   ],
   "source": [
    "# Summarize # of records\n",
    "pd.pivot_table(df[df.V_38 != 'Other'], values='V_18', index=['V_38'],columns=['Type'], \n",
    "               aggfunc=[np.count_nonzero], margins = True)"
   ]
  },
  {
   "cell_type": "markdown",
   "metadata": {},
   "source": [
    "# To do: Zipcode --> State --> Region"
   ]
  },
  {
   "cell_type": "markdown",
   "metadata": {},
   "source": [
    "<br>\n",
    "<br>\n",
    "<br>\n",
    "<a id='5.0'></a>\n",
    "# Part V, Comparison between AIGA and non-AIGA"
   ]
  },
  {
   "cell_type": "markdown",
   "metadata": {},
   "source": [
    "<a id='2.1'></a>\n",
    "### Read in processed data"
   ]
  },
  {
   "cell_type": "code",
   "execution_count": 241,
   "metadata": {
    "collapsed": true
   },
   "outputs": [],
   "source": [
    "df = pd.read_csv('./export_csv/processed_output_without_column_names.csv', encoding = 'utf8')\n",
    "with open('SavedVariables.pckl', 'rb') as f:\n",
    "    continous_cols, cate_cols, cate_cols_v2, pipe_col, col_dict, pipe_col_dict = pickle.load(f)"
   ]
  },
  {
   "cell_type": "code",
   "execution_count": 250,
   "metadata": {
    "collapsed": true
   },
   "outputs": [],
   "source": [
    "import scipy.stats as st"
   ]
  },
  {
   "cell_type": "code",
   "execution_count": 251,
   "metadata": {
    "collapsed": true
   },
   "outputs": [],
   "source": [
    "AIGA_col = pipe_col_dict['V_32']['AIGA']"
   ]
  },
  {
   "cell_type": "markdown",
   "metadata": {},
   "source": [
    "Run the `summary_cate_col` function in **Part II** before next steps [Link to function](#summary_f)"
   ]
  },
  {
   "cell_type": "code",
   "execution_count": 252,
   "metadata": {},
   "outputs": [],
   "source": [
    "def get_concat_df(col, Percent = False):\n",
    "    df_1 = summary_cate_col(col, 1000, AllorAIGA = 'AIGA-Only')\n",
    "    df_2 = summary_cate_col(col, 1000, AllorAIGA = 'NotAIGA')\n",
    "    df_1['AIGA'] = 'AIGA'\n",
    "    df_2['AIGA'] = 'Not_AIGA'\n",
    "    if Percent == True:\n",
    "        df_1['Count'] = df_1.Count / sum(df_1.Count) * 100\n",
    "        df_2['Count'] = df_2.Count / sum(df_2.Count) * 100\n",
    "    dff = pd.concat([df_1, df_2])\n",
    "    return(dff)"
   ]
  },
  {
   "cell_type": "code",
   "execution_count": 253,
   "metadata": {},
   "outputs": [],
   "source": [
    "def get_diff_sig(dff):\n",
    "    cross_df = pd.crosstab(dff.Options, dff.AIGA, values= dff.Count.astype(np.int32), aggfunc=np.mean)\n",
    "    cross_df.dropna(axis = 0, how = 'any', inplace=True)\n",
    "    p_value = st.chi2_contingency(cross_df)[1]\n",
    "    if(p_value < 0.05):\n",
    "        return 'Yes'\n",
    "    else:\n",
    "        return 'No'"
   ]
  },
  {
   "cell_type": "code",
   "execution_count": null,
   "metadata": {},
   "outputs": [],
   "source": [
    "for col in cate_cols:\n",
    "    if col in ['V_8', 'V_35', 'V_36']:\n",
    "        continue\n",
    "    Sig = get_diff_sig(get_concat_df(col))\n",
    "    sns.set_context(\"notebook\", font_scale=1)\n",
    "    plt.figure(figsize=(10,8))\n",
    "    g = sns.barplot(y ='Options', #\n",
    "            x = 'Count', # Salary\n",
    "            hue = 'AIGA', # AIGA\n",
    "            data = get_concat_df(col, Percent = True), # only plot percent\n",
    "            estimator= np.mean, ci = None)\n",
    "    plt.title('Significant Difference between AIGA and Non-AIGA: ' + Sig)\n",
    "    plt.xlabel(col_dict[col])\n",
    "    plt.tight_layout()\n",
    "    plt.savefig('./fig/'+ 'Compare_AIGA_for_' + col_dict[col] + '_Plot.png',dpi=100)\n",
    "    plt.gcf().clear()"
   ]
  },
  {
   "cell_type": "code",
   "execution_count": null,
   "metadata": {
    "collapsed": true
   },
   "outputs": [],
   "source": []
  },
  {
   "cell_type": "markdown",
   "metadata": {},
   "source": [
    "### (Not used now) Generate one-hot coded columns for categorical variables"
   ]
  },
  {
   "cell_type": "code",
   "execution_count": null,
   "metadata": {
    "collapsed": true
   },
   "outputs": [],
   "source": [
    "for col in cate_cols_v2:\n",
    "    df.replace(np.nan,'', regex=True, inplace=True)\n",
    "    label_encoder = LabelEncoder()\n",
    "    feature = label_encoder.fit_transform(df[col])\n",
    "    feature = feature.reshape(df.shape[0], 1)\n",
    "    onehot_encoder = OneHotEncoder(sparse=False)\n",
    "    feature = onehot_encoder.fit_transform(feature)\n",
    "    for i in range(feature.shape[1]):\n",
    "        df[col + '-' + str(i + 1)] = np.array(np.matrix(feature).transpose())[i]\n",
    "        col_dict[col + '-' + str(i + 1)] = col_dict[col] + '-' + label_encoder.classes_[i]\n",
    "    df.drop(col, axis = 1, inplace = True)\n",
    "\n",
    "for col in pipe_col:\n",
    "    df.drop(col, axis = 1, inplace = True)\n",
    "\n",
    "for col in ['V_8', 'V_35', 'V_36']:\n",
    "    df.drop(col, axis = 1, inplace = True)"
   ]
  },
  {
   "cell_type": "code",
   "execution_count": null,
   "metadata": {
    "collapsed": true
   },
   "outputs": [],
   "source": [
    "# output a csv with all columns converted to numeric\n",
    "df.to_csv('./export_csv/processed_output_all_numeric.csv', index = False, encoding='utf8')"
   ]
  }
 ],
 "metadata": {
  "kernel_info": {
   "name": "python2"
  },
  "kernelspec": {
   "display_name": "Python 3",
   "language": "python",
   "name": "python3"
  },
  "language_info": {
   "codemirror_mode": {
    "name": "ipython",
    "version": 3
   },
   "file_extension": ".py",
   "mimetype": "text/x-python",
   "name": "python",
   "nbconvert_exporter": "python",
   "pygments_lexer": "ipython3",
   "version": "3.6.3"
  },
  "nteract": {
   "version": "0.8.4"
  }
 },
 "nbformat": 4,
 "nbformat_minor": 2
}
